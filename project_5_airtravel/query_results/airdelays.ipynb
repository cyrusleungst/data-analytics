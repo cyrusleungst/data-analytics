{
 "cells": [
  {
   "cell_type": "code",
   "execution_count": null,
   "metadata": {},
   "outputs": [],
   "source": [
    "import pandas as pd\n",
    "import numpy as np\n",
    "import plotly.express as px\n",
    "import plotly.graph_objects as go\n",
    "from plotly.subplots import make_subplots"
   ]
  },
  {
   "cell_type": "markdown",
   "metadata": {},
   "source": [
    "## Departure and arrival delays for each airline (day of week)"
   ]
  },
  {
   "cell_type": "code",
   "execution_count": 99,
   "metadata": {},
   "outputs": [
    {
     "data": {
      "application/vnd.plotly.v1+json": {
       "config": {
        "plotlyServerURL": "https://plot.ly"
       },
       "data": [
        {
         "coloraxis": "coloraxis",
         "histfunc": "sum",
         "hovertemplate": "day_of_week=%{x}<br>carrier=%{y}<br>sum of avg_delay=%{z}<extra></extra>",
         "name": "",
         "nbinsx": 7,
         "type": "histogram2d",
         "x": [
          1,
          2,
          3,
          4,
          5,
          6,
          7,
          1,
          2,
          3,
          4,
          5,
          6,
          7,
          1,
          2,
          3,
          4,
          5,
          6,
          7,
          1,
          2,
          3,
          4,
          5,
          6,
          7,
          1,
          2,
          3,
          4,
          5,
          6,
          7,
          1,
          2,
          3,
          4,
          5,
          6,
          7,
          1,
          2,
          3,
          4,
          5,
          6,
          7,
          1,
          2,
          3,
          4,
          5,
          6,
          7,
          1,
          2,
          3,
          4,
          5,
          6,
          7,
          1,
          2,
          3,
          4,
          5,
          6,
          7,
          1,
          2,
          3,
          4,
          5,
          6,
          7,
          1,
          2,
          3,
          4,
          5,
          6,
          7,
          1,
          2,
          3,
          4,
          5,
          6,
          7,
          1,
          2,
          3,
          4,
          5,
          6,
          7,
          1,
          2,
          3,
          4,
          5,
          6,
          7,
          1,
          2,
          3,
          4,
          5,
          6,
          7,
          1,
          2,
          3,
          4,
          5,
          6,
          7
         ],
         "xaxis": "x",
         "xbingroup": "x",
         "y": [
          "Alaska Airlines Inc.",
          "Alaska Airlines Inc.",
          "Alaska Airlines Inc.",
          "Alaska Airlines Inc.",
          "Alaska Airlines Inc.",
          "Alaska Airlines Inc.",
          "Alaska Airlines Inc.",
          "Allegiant Air",
          "Allegiant Air",
          "Allegiant Air",
          "Allegiant Air",
          "Allegiant Air",
          "Allegiant Air",
          "Allegiant Air",
          "American Airlines Inc.",
          "American Airlines Inc.",
          "American Airlines Inc.",
          "American Airlines Inc.",
          "American Airlines Inc.",
          "American Airlines Inc.",
          "American Airlines Inc.",
          "American Eagle Airlines Inc.",
          "American Eagle Airlines Inc.",
          "American Eagle Airlines Inc.",
          "American Eagle Airlines Inc.",
          "American Eagle Airlines Inc.",
          "American Eagle Airlines Inc.",
          "American Eagle Airlines Inc.",
          "Atlantic Southeast Airlines",
          "Atlantic Southeast Airlines",
          "Atlantic Southeast Airlines",
          "Atlantic Southeast Airlines",
          "Atlantic Southeast Airlines",
          "Atlantic Southeast Airlines",
          "Atlantic Southeast Airlines",
          "Comair Inc.",
          "Comair Inc.",
          "Comair Inc.",
          "Comair Inc.",
          "Comair Inc.",
          "Comair Inc.",
          "Comair Inc.",
          "Delta Air Lines Inc.",
          "Delta Air Lines Inc.",
          "Delta Air Lines Inc.",
          "Delta Air Lines Inc.",
          "Delta Air Lines Inc.",
          "Delta Air Lines Inc.",
          "Delta Air Lines Inc.",
          "Frontier Airlines Inc.",
          "Frontier Airlines Inc.",
          "Frontier Airlines Inc.",
          "Frontier Airlines Inc.",
          "Frontier Airlines Inc.",
          "Frontier Airlines Inc.",
          "Frontier Airlines Inc.",
          "Hawaiian Airlines Inc.",
          "Hawaiian Airlines Inc.",
          "Hawaiian Airlines Inc.",
          "Hawaiian Airlines Inc.",
          "Hawaiian Airlines Inc.",
          "Hawaiian Airlines Inc.",
          "Hawaiian Airlines Inc.",
          "JetBlue Airways",
          "JetBlue Airways",
          "JetBlue Airways",
          "JetBlue Airways",
          "JetBlue Airways",
          "JetBlue Airways",
          "JetBlue Airways",
          "Mesa Airlines Inc.",
          "Mesa Airlines Inc.",
          "Mesa Airlines Inc.",
          "Mesa Airlines Inc.",
          "Mesa Airlines Inc.",
          "Mesa Airlines Inc.",
          "Mesa Airlines Inc.",
          "Midwest Airline, Inc.",
          "Midwest Airline, Inc.",
          "Midwest Airline, Inc.",
          "Midwest Airline, Inc.",
          "Midwest Airline, Inc.",
          "Midwest Airline, Inc.",
          "Midwest Airline, Inc.",
          "Pinnacle Airlines Inc.",
          "Pinnacle Airlines Inc.",
          "Pinnacle Airlines Inc.",
          "Pinnacle Airlines Inc.",
          "Pinnacle Airlines Inc.",
          "Pinnacle Airlines Inc.",
          "Pinnacle Airlines Inc.",
          "Skywest Airlines Inc.",
          "Skywest Airlines Inc.",
          "Skywest Airlines Inc.",
          "Skywest Airlines Inc.",
          "Skywest Airlines Inc.",
          "Skywest Airlines Inc.",
          "Skywest Airlines Inc.",
          "Southwest Airlines Co.",
          "Southwest Airlines Co.",
          "Southwest Airlines Co.",
          "Southwest Airlines Co.",
          "Southwest Airlines Co.",
          "Southwest Airlines Co.",
          "Southwest Airlines Co.",
          "Spirit Air Lines",
          "Spirit Air Lines",
          "Spirit Air Lines",
          "Spirit Air Lines",
          "Spirit Air Lines",
          "Spirit Air Lines",
          "Spirit Air Lines",
          "United Air Lines Inc.",
          "United Air Lines Inc.",
          "United Air Lines Inc.",
          "United Air Lines Inc.",
          "United Air Lines Inc.",
          "United Air Lines Inc.",
          "United Air Lines Inc."
         ],
         "yaxis": "y",
         "ybingroup": "y",
         "z": [
          21.884816103379727,
          6.261907562036928,
          3.2556329849012777,
          9.133740288568255,
          8.268509268509268,
          6.927887683471602,
          8.543205574912893,
          14.081238893120082,
          5.443257676902538,
          8.456187548039969,
          16.018311533888227,
          16.360753676470587,
          13.217744454857858,
          18.672774254169603,
          15.647604925536715,
          11.044982589427033,
          16.970231871578818,
          17.66177553846607,
          16.39265355979525,
          13.018724732250517,
          15.980066964984198,
          19.680731779285928,
          11.974220210567744,
          18.609464627151045,
          17.948357233617717,
          20.40146750524109,
          10.420340245871104,
          18.748527455823677,
          29.250414250207125,
          25.484935712914986,
          29.00707051404548,
          28.164332399626517,
          24.25059447594659,
          22.936608557844693,
          32.185067513899924,
          12.426110806363138,
          11.634758562008086,
          10.27488960256925,
          13.04345273047563,
          18.27785930926524,
          3.5027774494740576,
          17.219154628143393,
          10.209756704623237,
          4.071658273163036,
          12.696795495415818,
          11.909882543539894,
          5.939463114398822,
          1.353105675686321,
          5.877346925608103,
          21.508817427385893,
          9.99667221297837,
          16.277390577083914,
          25.681957909671322,
          21.60977881257276,
          21.21716913643332,
          17.272960372960373,
          2.4201228878648235,
          3.069742489270386,
          2.9501424501424505,
          6.350089126559714,
          10.664770826363332,
          4.902898550724638,
          1.445369406867846,
          44.98188030648168,
          35.89861706271913,
          24.469665071770333,
          32.39657419474958,
          31.530752130418676,
          16.84560890588103,
          29.10578842315369,
          18.39022025211248,
          14.58866200967222,
          20.851787620064034,
          24.72119669000637,
          20.937697859946816,
          18.53612454655381,
          18.248122282250627,
          12.791094268119375,
          2.445367412140575,
          10.21029927204098,
          16.49086956521739,
          25.923382568886584,
          4.617149615612063,
          11.401468545346301,
          13.6003175683339,
          2.131236203090508,
          13.04690786705932,
          23.212967735285023,
          23.774302707136997,
          4.3985198889916735,
          8.176806083650192,
          30.00212668995898,
          22.922176409954353,
          32.7001466813348,
          27.3595370403143,
          26.73525249387318,
          23.26533149784626,
          28.15160761279988,
          9.713976485599707,
          8.285150247567014,
          10.655206370953929,
          17.444435038411886,
          16.28247662097995,
          11.371581036838442,
          12.567962703118635,
          13.024115500555293,
          8.747344337310018,
          9.113612004287246,
          13.139076742134664,
          9.689376443418015,
          10.710667245621654,
          14.41081398765795,
          22.354197537172347,
          12.190314440993788,
          21.567177943888947,
          19.924720624678546,
          19.051573547760988,
          18.68159067158022,
          19.42233175540481
         ]
        }
       ],
       "layout": {
        "coloraxis": {
         "colorbar": {
          "title": {
           "text": "sum of avg_delay"
          }
         },
         "colorscale": [
          [
           0,
           "rgb(255,245,240)"
          ],
          [
           0.125,
           "rgb(254,224,210)"
          ],
          [
           0.25,
           "rgb(252,187,161)"
          ],
          [
           0.375,
           "rgb(252,146,114)"
          ],
          [
           0.5,
           "rgb(251,106,74)"
          ],
          [
           0.625,
           "rgb(239,59,44)"
          ],
          [
           0.75,
           "rgb(203,24,29)"
          ],
          [
           0.875,
           "rgb(165,15,21)"
          ],
          [
           1,
           "rgb(103,0,13)"
          ]
         ]
        },
        "legend": {
         "tracegroupgap": 0
        },
        "template": {
         "data": {
          "bar": [
           {
            "error_x": {
             "color": "#2a3f5f"
            },
            "error_y": {
             "color": "#2a3f5f"
            },
            "marker": {
             "line": {
              "color": "#E5ECF6",
              "width": 0.5
             }
            },
            "type": "bar"
           }
          ],
          "barpolar": [
           {
            "marker": {
             "line": {
              "color": "#E5ECF6",
              "width": 0.5
             }
            },
            "type": "barpolar"
           }
          ],
          "carpet": [
           {
            "aaxis": {
             "endlinecolor": "#2a3f5f",
             "gridcolor": "white",
             "linecolor": "white",
             "minorgridcolor": "white",
             "startlinecolor": "#2a3f5f"
            },
            "baxis": {
             "endlinecolor": "#2a3f5f",
             "gridcolor": "white",
             "linecolor": "white",
             "minorgridcolor": "white",
             "startlinecolor": "#2a3f5f"
            },
            "type": "carpet"
           }
          ],
          "choropleth": [
           {
            "colorbar": {
             "outlinewidth": 0,
             "ticks": ""
            },
            "type": "choropleth"
           }
          ],
          "contour": [
           {
            "colorbar": {
             "outlinewidth": 0,
             "ticks": ""
            },
            "colorscale": [
             [
              0,
              "#0d0887"
             ],
             [
              0.1111111111111111,
              "#46039f"
             ],
             [
              0.2222222222222222,
              "#7201a8"
             ],
             [
              0.3333333333333333,
              "#9c179e"
             ],
             [
              0.4444444444444444,
              "#bd3786"
             ],
             [
              0.5555555555555556,
              "#d8576b"
             ],
             [
              0.6666666666666666,
              "#ed7953"
             ],
             [
              0.7777777777777778,
              "#fb9f3a"
             ],
             [
              0.8888888888888888,
              "#fdca26"
             ],
             [
              1,
              "#f0f921"
             ]
            ],
            "type": "contour"
           }
          ],
          "contourcarpet": [
           {
            "colorbar": {
             "outlinewidth": 0,
             "ticks": ""
            },
            "type": "contourcarpet"
           }
          ],
          "heatmap": [
           {
            "colorbar": {
             "outlinewidth": 0,
             "ticks": ""
            },
            "colorscale": [
             [
              0,
              "#0d0887"
             ],
             [
              0.1111111111111111,
              "#46039f"
             ],
             [
              0.2222222222222222,
              "#7201a8"
             ],
             [
              0.3333333333333333,
              "#9c179e"
             ],
             [
              0.4444444444444444,
              "#bd3786"
             ],
             [
              0.5555555555555556,
              "#d8576b"
             ],
             [
              0.6666666666666666,
              "#ed7953"
             ],
             [
              0.7777777777777778,
              "#fb9f3a"
             ],
             [
              0.8888888888888888,
              "#fdca26"
             ],
             [
              1,
              "#f0f921"
             ]
            ],
            "type": "heatmap"
           }
          ],
          "heatmapgl": [
           {
            "colorbar": {
             "outlinewidth": 0,
             "ticks": ""
            },
            "colorscale": [
             [
              0,
              "#0d0887"
             ],
             [
              0.1111111111111111,
              "#46039f"
             ],
             [
              0.2222222222222222,
              "#7201a8"
             ],
             [
              0.3333333333333333,
              "#9c179e"
             ],
             [
              0.4444444444444444,
              "#bd3786"
             ],
             [
              0.5555555555555556,
              "#d8576b"
             ],
             [
              0.6666666666666666,
              "#ed7953"
             ],
             [
              0.7777777777777778,
              "#fb9f3a"
             ],
             [
              0.8888888888888888,
              "#fdca26"
             ],
             [
              1,
              "#f0f921"
             ]
            ],
            "type": "heatmapgl"
           }
          ],
          "histogram": [
           {
            "marker": {
             "colorbar": {
              "outlinewidth": 0,
              "ticks": ""
             }
            },
            "type": "histogram"
           }
          ],
          "histogram2d": [
           {
            "colorbar": {
             "outlinewidth": 0,
             "ticks": ""
            },
            "colorscale": [
             [
              0,
              "#0d0887"
             ],
             [
              0.1111111111111111,
              "#46039f"
             ],
             [
              0.2222222222222222,
              "#7201a8"
             ],
             [
              0.3333333333333333,
              "#9c179e"
             ],
             [
              0.4444444444444444,
              "#bd3786"
             ],
             [
              0.5555555555555556,
              "#d8576b"
             ],
             [
              0.6666666666666666,
              "#ed7953"
             ],
             [
              0.7777777777777778,
              "#fb9f3a"
             ],
             [
              0.8888888888888888,
              "#fdca26"
             ],
             [
              1,
              "#f0f921"
             ]
            ],
            "type": "histogram2d"
           }
          ],
          "histogram2dcontour": [
           {
            "colorbar": {
             "outlinewidth": 0,
             "ticks": ""
            },
            "colorscale": [
             [
              0,
              "#0d0887"
             ],
             [
              0.1111111111111111,
              "#46039f"
             ],
             [
              0.2222222222222222,
              "#7201a8"
             ],
             [
              0.3333333333333333,
              "#9c179e"
             ],
             [
              0.4444444444444444,
              "#bd3786"
             ],
             [
              0.5555555555555556,
              "#d8576b"
             ],
             [
              0.6666666666666666,
              "#ed7953"
             ],
             [
              0.7777777777777778,
              "#fb9f3a"
             ],
             [
              0.8888888888888888,
              "#fdca26"
             ],
             [
              1,
              "#f0f921"
             ]
            ],
            "type": "histogram2dcontour"
           }
          ],
          "mesh3d": [
           {
            "colorbar": {
             "outlinewidth": 0,
             "ticks": ""
            },
            "type": "mesh3d"
           }
          ],
          "parcoords": [
           {
            "line": {
             "colorbar": {
              "outlinewidth": 0,
              "ticks": ""
             }
            },
            "type": "parcoords"
           }
          ],
          "pie": [
           {
            "automargin": true,
            "type": "pie"
           }
          ],
          "scatter": [
           {
            "marker": {
             "colorbar": {
              "outlinewidth": 0,
              "ticks": ""
             }
            },
            "type": "scatter"
           }
          ],
          "scatter3d": [
           {
            "line": {
             "colorbar": {
              "outlinewidth": 0,
              "ticks": ""
             }
            },
            "marker": {
             "colorbar": {
              "outlinewidth": 0,
              "ticks": ""
             }
            },
            "type": "scatter3d"
           }
          ],
          "scattercarpet": [
           {
            "marker": {
             "colorbar": {
              "outlinewidth": 0,
              "ticks": ""
             }
            },
            "type": "scattercarpet"
           }
          ],
          "scattergeo": [
           {
            "marker": {
             "colorbar": {
              "outlinewidth": 0,
              "ticks": ""
             }
            },
            "type": "scattergeo"
           }
          ],
          "scattergl": [
           {
            "marker": {
             "colorbar": {
              "outlinewidth": 0,
              "ticks": ""
             }
            },
            "type": "scattergl"
           }
          ],
          "scattermapbox": [
           {
            "marker": {
             "colorbar": {
              "outlinewidth": 0,
              "ticks": ""
             }
            },
            "type": "scattermapbox"
           }
          ],
          "scatterpolar": [
           {
            "marker": {
             "colorbar": {
              "outlinewidth": 0,
              "ticks": ""
             }
            },
            "type": "scatterpolar"
           }
          ],
          "scatterpolargl": [
           {
            "marker": {
             "colorbar": {
              "outlinewidth": 0,
              "ticks": ""
             }
            },
            "type": "scatterpolargl"
           }
          ],
          "scatterternary": [
           {
            "marker": {
             "colorbar": {
              "outlinewidth": 0,
              "ticks": ""
             }
            },
            "type": "scatterternary"
           }
          ],
          "surface": [
           {
            "colorbar": {
             "outlinewidth": 0,
             "ticks": ""
            },
            "colorscale": [
             [
              0,
              "#0d0887"
             ],
             [
              0.1111111111111111,
              "#46039f"
             ],
             [
              0.2222222222222222,
              "#7201a8"
             ],
             [
              0.3333333333333333,
              "#9c179e"
             ],
             [
              0.4444444444444444,
              "#bd3786"
             ],
             [
              0.5555555555555556,
              "#d8576b"
             ],
             [
              0.6666666666666666,
              "#ed7953"
             ],
             [
              0.7777777777777778,
              "#fb9f3a"
             ],
             [
              0.8888888888888888,
              "#fdca26"
             ],
             [
              1,
              "#f0f921"
             ]
            ],
            "type": "surface"
           }
          ],
          "table": [
           {
            "cells": {
             "fill": {
              "color": "#EBF0F8"
             },
             "line": {
              "color": "white"
             }
            },
            "header": {
             "fill": {
              "color": "#C8D4E3"
             },
             "line": {
              "color": "white"
             }
            },
            "type": "table"
           }
          ]
         },
         "layout": {
          "annotationdefaults": {
           "arrowcolor": "#2a3f5f",
           "arrowhead": 0,
           "arrowwidth": 1
          },
          "autotypenumbers": "strict",
          "coloraxis": {
           "colorbar": {
            "outlinewidth": 0,
            "ticks": ""
           }
          },
          "colorscale": {
           "diverging": [
            [
             0,
             "#8e0152"
            ],
            [
             0.1,
             "#c51b7d"
            ],
            [
             0.2,
             "#de77ae"
            ],
            [
             0.3,
             "#f1b6da"
            ],
            [
             0.4,
             "#fde0ef"
            ],
            [
             0.5,
             "#f7f7f7"
            ],
            [
             0.6,
             "#e6f5d0"
            ],
            [
             0.7,
             "#b8e186"
            ],
            [
             0.8,
             "#7fbc41"
            ],
            [
             0.9,
             "#4d9221"
            ],
            [
             1,
             "#276419"
            ]
           ],
           "sequential": [
            [
             0,
             "#0d0887"
            ],
            [
             0.1111111111111111,
             "#46039f"
            ],
            [
             0.2222222222222222,
             "#7201a8"
            ],
            [
             0.3333333333333333,
             "#9c179e"
            ],
            [
             0.4444444444444444,
             "#bd3786"
            ],
            [
             0.5555555555555556,
             "#d8576b"
            ],
            [
             0.6666666666666666,
             "#ed7953"
            ],
            [
             0.7777777777777778,
             "#fb9f3a"
            ],
            [
             0.8888888888888888,
             "#fdca26"
            ],
            [
             1,
             "#f0f921"
            ]
           ],
           "sequentialminus": [
            [
             0,
             "#0d0887"
            ],
            [
             0.1111111111111111,
             "#46039f"
            ],
            [
             0.2222222222222222,
             "#7201a8"
            ],
            [
             0.3333333333333333,
             "#9c179e"
            ],
            [
             0.4444444444444444,
             "#bd3786"
            ],
            [
             0.5555555555555556,
             "#d8576b"
            ],
            [
             0.6666666666666666,
             "#ed7953"
            ],
            [
             0.7777777777777778,
             "#fb9f3a"
            ],
            [
             0.8888888888888888,
             "#fdca26"
            ],
            [
             1,
             "#f0f921"
            ]
           ]
          },
          "colorway": [
           "#636efa",
           "#EF553B",
           "#00cc96",
           "#ab63fa",
           "#FFA15A",
           "#19d3f3",
           "#FF6692",
           "#B6E880",
           "#FF97FF",
           "#FECB52"
          ],
          "font": {
           "color": "#2a3f5f"
          },
          "geo": {
           "bgcolor": "white",
           "lakecolor": "white",
           "landcolor": "#E5ECF6",
           "showlakes": true,
           "showland": true,
           "subunitcolor": "white"
          },
          "hoverlabel": {
           "align": "left"
          },
          "hovermode": "closest",
          "mapbox": {
           "style": "light"
          },
          "paper_bgcolor": "white",
          "plot_bgcolor": "#E5ECF6",
          "polar": {
           "angularaxis": {
            "gridcolor": "white",
            "linecolor": "white",
            "ticks": ""
           },
           "bgcolor": "#E5ECF6",
           "radialaxis": {
            "gridcolor": "white",
            "linecolor": "white",
            "ticks": ""
           }
          },
          "scene": {
           "xaxis": {
            "backgroundcolor": "#E5ECF6",
            "gridcolor": "white",
            "gridwidth": 2,
            "linecolor": "white",
            "showbackground": true,
            "ticks": "",
            "zerolinecolor": "white"
           },
           "yaxis": {
            "backgroundcolor": "#E5ECF6",
            "gridcolor": "white",
            "gridwidth": 2,
            "linecolor": "white",
            "showbackground": true,
            "ticks": "",
            "zerolinecolor": "white"
           },
           "zaxis": {
            "backgroundcolor": "#E5ECF6",
            "gridcolor": "white",
            "gridwidth": 2,
            "linecolor": "white",
            "showbackground": true,
            "ticks": "",
            "zerolinecolor": "white"
           }
          },
          "shapedefaults": {
           "line": {
            "color": "#2a3f5f"
           }
          },
          "ternary": {
           "aaxis": {
            "gridcolor": "white",
            "linecolor": "white",
            "ticks": ""
           },
           "baxis": {
            "gridcolor": "white",
            "linecolor": "white",
            "ticks": ""
           },
           "bgcolor": "#E5ECF6",
           "caxis": {
            "gridcolor": "white",
            "linecolor": "white",
            "ticks": ""
           }
          },
          "title": {
           "x": 0.05
          },
          "xaxis": {
           "automargin": true,
           "gridcolor": "white",
           "linecolor": "white",
           "ticks": "",
           "title": {
            "standoff": 15
           },
           "zerolinecolor": "white",
           "zerolinewidth": 2
          },
          "yaxis": {
           "automargin": true,
           "gridcolor": "white",
           "linecolor": "white",
           "ticks": "",
           "title": {
            "standoff": 15
           },
           "zerolinecolor": "white",
           "zerolinewidth": 2
          }
         }
        },
        "title": {
         "text": "Average delay for each airline"
        },
        "xaxis": {
         "anchor": "y",
         "domain": [
          0,
          1
         ],
         "title": {
          "text": "day_of_week"
         }
        },
        "yaxis": {
         "anchor": "x",
         "categoryorder": "category descending",
         "domain": [
          0,
          1
         ],
         "title": {
          "text": "carrier"
         },
         "type": "category"
        }
       }
      },
      "text/html": [
       "<div>                            <div id=\"57618d91-2cfc-45de-aefa-27f7c0bd2906\" class=\"plotly-graph-div\" style=\"height:525px; width:100%;\"></div>            <script type=\"text/javascript\">                require([\"plotly\"], function(Plotly) {                    window.PLOTLYENV=window.PLOTLYENV || {};                                    if (document.getElementById(\"57618d91-2cfc-45de-aefa-27f7c0bd2906\")) {                    Plotly.newPlot(                        \"57618d91-2cfc-45de-aefa-27f7c0bd2906\",                        [{\"coloraxis\": \"coloraxis\", \"histfunc\": \"sum\", \"hovertemplate\": \"day_of_week=%{x}<br>carrier=%{y}<br>sum of avg_delay=%{z}<extra></extra>\", \"name\": \"\", \"nbinsx\": 7, \"type\": \"histogram2d\", \"x\": [1, 2, 3, 4, 5, 6, 7, 1, 2, 3, 4, 5, 6, 7, 1, 2, 3, 4, 5, 6, 7, 1, 2, 3, 4, 5, 6, 7, 1, 2, 3, 4, 5, 6, 7, 1, 2, 3, 4, 5, 6, 7, 1, 2, 3, 4, 5, 6, 7, 1, 2, 3, 4, 5, 6, 7, 1, 2, 3, 4, 5, 6, 7, 1, 2, 3, 4, 5, 6, 7, 1, 2, 3, 4, 5, 6, 7, 1, 2, 3, 4, 5, 6, 7, 1, 2, 3, 4, 5, 6, 7, 1, 2, 3, 4, 5, 6, 7, 1, 2, 3, 4, 5, 6, 7, 1, 2, 3, 4, 5, 6, 7, 1, 2, 3, 4, 5, 6, 7], \"xaxis\": \"x\", \"xbingroup\": \"x\", \"y\": [\"Alaska Airlines Inc.\", \"Alaska Airlines Inc.\", \"Alaska Airlines Inc.\", \"Alaska Airlines Inc.\", \"Alaska Airlines Inc.\", \"Alaska Airlines Inc.\", \"Alaska Airlines Inc.\", \"Allegiant Air\", \"Allegiant Air\", \"Allegiant Air\", \"Allegiant Air\", \"Allegiant Air\", \"Allegiant Air\", \"Allegiant Air\", \"American Airlines Inc.\", \"American Airlines Inc.\", \"American Airlines Inc.\", \"American Airlines Inc.\", \"American Airlines Inc.\", \"American Airlines Inc.\", \"American Airlines Inc.\", \"American Eagle Airlines Inc.\", \"American Eagle Airlines Inc.\", \"American Eagle Airlines Inc.\", \"American Eagle Airlines Inc.\", \"American Eagle Airlines Inc.\", \"American Eagle Airlines Inc.\", \"American Eagle Airlines Inc.\", \"Atlantic Southeast Airlines\", \"Atlantic Southeast Airlines\", \"Atlantic Southeast Airlines\", \"Atlantic Southeast Airlines\", \"Atlantic Southeast Airlines\", \"Atlantic Southeast Airlines\", \"Atlantic Southeast Airlines\", \"Comair Inc.\", \"Comair Inc.\", \"Comair Inc.\", \"Comair Inc.\", \"Comair Inc.\", \"Comair Inc.\", \"Comair Inc.\", \"Delta Air Lines Inc.\", \"Delta Air Lines Inc.\", \"Delta Air Lines Inc.\", \"Delta Air Lines Inc.\", \"Delta Air Lines Inc.\", \"Delta Air Lines Inc.\", \"Delta Air Lines Inc.\", \"Frontier Airlines Inc.\", \"Frontier Airlines Inc.\", \"Frontier Airlines Inc.\", \"Frontier Airlines Inc.\", \"Frontier Airlines Inc.\", \"Frontier Airlines Inc.\", \"Frontier Airlines Inc.\", \"Hawaiian Airlines Inc.\", \"Hawaiian Airlines Inc.\", \"Hawaiian Airlines Inc.\", \"Hawaiian Airlines Inc.\", \"Hawaiian Airlines Inc.\", \"Hawaiian Airlines Inc.\", \"Hawaiian Airlines Inc.\", \"JetBlue Airways\", \"JetBlue Airways\", \"JetBlue Airways\", \"JetBlue Airways\", \"JetBlue Airways\", \"JetBlue Airways\", \"JetBlue Airways\", \"Mesa Airlines Inc.\", \"Mesa Airlines Inc.\", \"Mesa Airlines Inc.\", \"Mesa Airlines Inc.\", \"Mesa Airlines Inc.\", \"Mesa Airlines Inc.\", \"Mesa Airlines Inc.\", \"Midwest Airline, Inc.\", \"Midwest Airline, Inc.\", \"Midwest Airline, Inc.\", \"Midwest Airline, Inc.\", \"Midwest Airline, Inc.\", \"Midwest Airline, Inc.\", \"Midwest Airline, Inc.\", \"Pinnacle Airlines Inc.\", \"Pinnacle Airlines Inc.\", \"Pinnacle Airlines Inc.\", \"Pinnacle Airlines Inc.\", \"Pinnacle Airlines Inc.\", \"Pinnacle Airlines Inc.\", \"Pinnacle Airlines Inc.\", \"Skywest Airlines Inc.\", \"Skywest Airlines Inc.\", \"Skywest Airlines Inc.\", \"Skywest Airlines Inc.\", \"Skywest Airlines Inc.\", \"Skywest Airlines Inc.\", \"Skywest Airlines Inc.\", \"Southwest Airlines Co.\", \"Southwest Airlines Co.\", \"Southwest Airlines Co.\", \"Southwest Airlines Co.\", \"Southwest Airlines Co.\", \"Southwest Airlines Co.\", \"Southwest Airlines Co.\", \"Spirit Air Lines\", \"Spirit Air Lines\", \"Spirit Air Lines\", \"Spirit Air Lines\", \"Spirit Air Lines\", \"Spirit Air Lines\", \"Spirit Air Lines\", \"United Air Lines Inc.\", \"United Air Lines Inc.\", \"United Air Lines Inc.\", \"United Air Lines Inc.\", \"United Air Lines Inc.\", \"United Air Lines Inc.\", \"United Air Lines Inc.\"], \"yaxis\": \"y\", \"ybingroup\": \"y\", \"z\": [21.884816103379727, 6.261907562036928, 3.2556329849012777, 9.133740288568255, 8.268509268509268, 6.927887683471602, 8.543205574912893, 14.081238893120082, 5.443257676902538, 8.456187548039969, 16.018311533888227, 16.360753676470587, 13.217744454857858, 18.672774254169603, 15.647604925536715, 11.044982589427033, 16.970231871578818, 17.66177553846607, 16.39265355979525, 13.018724732250517, 15.980066964984198, 19.680731779285928, 11.974220210567744, 18.609464627151045, 17.948357233617717, 20.40146750524109, 10.420340245871104, 18.748527455823677, 29.250414250207125, 25.484935712914986, 29.00707051404548, 28.164332399626517, 24.25059447594659, 22.936608557844693, 32.185067513899924, 12.426110806363138, 11.634758562008086, 10.27488960256925, 13.04345273047563, 18.27785930926524, 3.5027774494740576, 17.219154628143393, 10.209756704623237, 4.071658273163036, 12.696795495415818, 11.909882543539894, 5.939463114398822, 1.353105675686321, 5.877346925608103, 21.508817427385893, 9.99667221297837, 16.277390577083914, 25.681957909671322, 21.60977881257276, 21.21716913643332, 17.272960372960373, 2.4201228878648235, 3.069742489270386, 2.9501424501424505, 6.350089126559714, 10.664770826363332, 4.902898550724638, 1.445369406867846, 44.98188030648168, 35.89861706271913, 24.469665071770333, 32.39657419474958, 31.530752130418676, 16.84560890588103, 29.10578842315369, 18.39022025211248, 14.58866200967222, 20.851787620064034, 24.72119669000637, 20.937697859946816, 18.53612454655381, 18.248122282250627, 12.791094268119375, 2.445367412140575, 10.21029927204098, 16.49086956521739, 25.923382568886584, 4.617149615612063, 11.401468545346301, 13.6003175683339, 2.131236203090508, 13.04690786705932, 23.212967735285023, 23.774302707136997, 4.3985198889916735, 8.176806083650192, 30.00212668995898, 22.922176409954353, 32.7001466813348, 27.3595370403143, 26.73525249387318, 23.26533149784626, 28.15160761279988, 9.713976485599707, 8.285150247567014, 10.655206370953929, 17.444435038411886, 16.28247662097995, 11.371581036838442, 12.567962703118635, 13.024115500555293, 8.747344337310018, 9.113612004287246, 13.139076742134664, 9.689376443418015, 10.710667245621654, 14.41081398765795, 22.354197537172347, 12.190314440993788, 21.567177943888947, 19.924720624678546, 19.051573547760988, 18.68159067158022, 19.42233175540481]}],                        {\"coloraxis\": {\"colorbar\": {\"title\": {\"text\": \"sum of avg_delay\"}}, \"colorscale\": [[0.0, \"rgb(255,245,240)\"], [0.125, \"rgb(254,224,210)\"], [0.25, \"rgb(252,187,161)\"], [0.375, \"rgb(252,146,114)\"], [0.5, \"rgb(251,106,74)\"], [0.625, \"rgb(239,59,44)\"], [0.75, \"rgb(203,24,29)\"], [0.875, \"rgb(165,15,21)\"], [1.0, \"rgb(103,0,13)\"]]}, \"legend\": {\"tracegroupgap\": 0}, \"template\": {\"data\": {\"bar\": [{\"error_x\": {\"color\": \"#2a3f5f\"}, \"error_y\": {\"color\": \"#2a3f5f\"}, \"marker\": {\"line\": {\"color\": \"#E5ECF6\", \"width\": 0.5}}, \"type\": \"bar\"}], \"barpolar\": [{\"marker\": {\"line\": {\"color\": \"#E5ECF6\", \"width\": 0.5}}, \"type\": \"barpolar\"}], \"carpet\": [{\"aaxis\": {\"endlinecolor\": \"#2a3f5f\", \"gridcolor\": \"white\", \"linecolor\": \"white\", \"minorgridcolor\": \"white\", \"startlinecolor\": \"#2a3f5f\"}, \"baxis\": {\"endlinecolor\": \"#2a3f5f\", \"gridcolor\": \"white\", \"linecolor\": \"white\", \"minorgridcolor\": \"white\", \"startlinecolor\": \"#2a3f5f\"}, \"type\": \"carpet\"}], \"choropleth\": [{\"colorbar\": {\"outlinewidth\": 0, \"ticks\": \"\"}, \"type\": \"choropleth\"}], \"contour\": [{\"colorbar\": {\"outlinewidth\": 0, \"ticks\": \"\"}, \"colorscale\": [[0.0, \"#0d0887\"], [0.1111111111111111, \"#46039f\"], [0.2222222222222222, \"#7201a8\"], [0.3333333333333333, \"#9c179e\"], [0.4444444444444444, \"#bd3786\"], [0.5555555555555556, \"#d8576b\"], [0.6666666666666666, \"#ed7953\"], [0.7777777777777778, \"#fb9f3a\"], [0.8888888888888888, \"#fdca26\"], [1.0, \"#f0f921\"]], \"type\": \"contour\"}], \"contourcarpet\": [{\"colorbar\": {\"outlinewidth\": 0, \"ticks\": \"\"}, \"type\": \"contourcarpet\"}], \"heatmap\": [{\"colorbar\": {\"outlinewidth\": 0, \"ticks\": \"\"}, \"colorscale\": [[0.0, \"#0d0887\"], [0.1111111111111111, \"#46039f\"], [0.2222222222222222, \"#7201a8\"], [0.3333333333333333, \"#9c179e\"], [0.4444444444444444, \"#bd3786\"], [0.5555555555555556, \"#d8576b\"], [0.6666666666666666, \"#ed7953\"], [0.7777777777777778, \"#fb9f3a\"], [0.8888888888888888, \"#fdca26\"], [1.0, \"#f0f921\"]], \"type\": \"heatmap\"}], \"heatmapgl\": [{\"colorbar\": {\"outlinewidth\": 0, \"ticks\": \"\"}, \"colorscale\": [[0.0, \"#0d0887\"], [0.1111111111111111, \"#46039f\"], [0.2222222222222222, \"#7201a8\"], [0.3333333333333333, \"#9c179e\"], [0.4444444444444444, \"#bd3786\"], [0.5555555555555556, \"#d8576b\"], [0.6666666666666666, \"#ed7953\"], [0.7777777777777778, \"#fb9f3a\"], [0.8888888888888888, \"#fdca26\"], [1.0, \"#f0f921\"]], \"type\": \"heatmapgl\"}], \"histogram\": [{\"marker\": {\"colorbar\": {\"outlinewidth\": 0, \"ticks\": \"\"}}, \"type\": \"histogram\"}], \"histogram2d\": [{\"colorbar\": {\"outlinewidth\": 0, \"ticks\": \"\"}, \"colorscale\": [[0.0, \"#0d0887\"], [0.1111111111111111, \"#46039f\"], [0.2222222222222222, \"#7201a8\"], [0.3333333333333333, \"#9c179e\"], [0.4444444444444444, \"#bd3786\"], [0.5555555555555556, \"#d8576b\"], [0.6666666666666666, \"#ed7953\"], [0.7777777777777778, \"#fb9f3a\"], [0.8888888888888888, \"#fdca26\"], [1.0, \"#f0f921\"]], \"type\": \"histogram2d\"}], \"histogram2dcontour\": [{\"colorbar\": {\"outlinewidth\": 0, \"ticks\": \"\"}, \"colorscale\": [[0.0, \"#0d0887\"], [0.1111111111111111, \"#46039f\"], [0.2222222222222222, \"#7201a8\"], [0.3333333333333333, \"#9c179e\"], [0.4444444444444444, \"#bd3786\"], [0.5555555555555556, \"#d8576b\"], [0.6666666666666666, \"#ed7953\"], [0.7777777777777778, \"#fb9f3a\"], [0.8888888888888888, \"#fdca26\"], [1.0, \"#f0f921\"]], \"type\": \"histogram2dcontour\"}], \"mesh3d\": [{\"colorbar\": {\"outlinewidth\": 0, \"ticks\": \"\"}, \"type\": \"mesh3d\"}], \"parcoords\": [{\"line\": {\"colorbar\": {\"outlinewidth\": 0, \"ticks\": \"\"}}, \"type\": \"parcoords\"}], \"pie\": [{\"automargin\": true, \"type\": \"pie\"}], \"scatter\": [{\"marker\": {\"colorbar\": {\"outlinewidth\": 0, \"ticks\": \"\"}}, \"type\": \"scatter\"}], \"scatter3d\": [{\"line\": {\"colorbar\": {\"outlinewidth\": 0, \"ticks\": \"\"}}, \"marker\": {\"colorbar\": {\"outlinewidth\": 0, \"ticks\": \"\"}}, \"type\": \"scatter3d\"}], \"scattercarpet\": [{\"marker\": {\"colorbar\": {\"outlinewidth\": 0, \"ticks\": \"\"}}, \"type\": \"scattercarpet\"}], \"scattergeo\": [{\"marker\": {\"colorbar\": {\"outlinewidth\": 0, \"ticks\": \"\"}}, \"type\": \"scattergeo\"}], \"scattergl\": [{\"marker\": {\"colorbar\": {\"outlinewidth\": 0, \"ticks\": \"\"}}, \"type\": \"scattergl\"}], \"scattermapbox\": [{\"marker\": {\"colorbar\": {\"outlinewidth\": 0, \"ticks\": \"\"}}, \"type\": \"scattermapbox\"}], \"scatterpolar\": [{\"marker\": {\"colorbar\": {\"outlinewidth\": 0, \"ticks\": \"\"}}, \"type\": \"scatterpolar\"}], \"scatterpolargl\": [{\"marker\": {\"colorbar\": {\"outlinewidth\": 0, \"ticks\": \"\"}}, \"type\": \"scatterpolargl\"}], \"scatterternary\": [{\"marker\": {\"colorbar\": {\"outlinewidth\": 0, \"ticks\": \"\"}}, \"type\": \"scatterternary\"}], \"surface\": [{\"colorbar\": {\"outlinewidth\": 0, \"ticks\": \"\"}, \"colorscale\": [[0.0, \"#0d0887\"], [0.1111111111111111, \"#46039f\"], [0.2222222222222222, \"#7201a8\"], [0.3333333333333333, \"#9c179e\"], [0.4444444444444444, \"#bd3786\"], [0.5555555555555556, \"#d8576b\"], [0.6666666666666666, \"#ed7953\"], [0.7777777777777778, \"#fb9f3a\"], [0.8888888888888888, \"#fdca26\"], [1.0, \"#f0f921\"]], \"type\": \"surface\"}], \"table\": [{\"cells\": {\"fill\": {\"color\": \"#EBF0F8\"}, \"line\": {\"color\": \"white\"}}, \"header\": {\"fill\": {\"color\": \"#C8D4E3\"}, \"line\": {\"color\": \"white\"}}, \"type\": \"table\"}]}, \"layout\": {\"annotationdefaults\": {\"arrowcolor\": \"#2a3f5f\", \"arrowhead\": 0, \"arrowwidth\": 1}, \"autotypenumbers\": \"strict\", \"coloraxis\": {\"colorbar\": {\"outlinewidth\": 0, \"ticks\": \"\"}}, \"colorscale\": {\"diverging\": [[0, \"#8e0152\"], [0.1, \"#c51b7d\"], [0.2, \"#de77ae\"], [0.3, \"#f1b6da\"], [0.4, \"#fde0ef\"], [0.5, \"#f7f7f7\"], [0.6, \"#e6f5d0\"], [0.7, \"#b8e186\"], [0.8, \"#7fbc41\"], [0.9, \"#4d9221\"], [1, \"#276419\"]], \"sequential\": [[0.0, \"#0d0887\"], [0.1111111111111111, \"#46039f\"], [0.2222222222222222, \"#7201a8\"], [0.3333333333333333, \"#9c179e\"], [0.4444444444444444, \"#bd3786\"], [0.5555555555555556, \"#d8576b\"], [0.6666666666666666, \"#ed7953\"], [0.7777777777777778, \"#fb9f3a\"], [0.8888888888888888, \"#fdca26\"], [1.0, \"#f0f921\"]], \"sequentialminus\": [[0.0, \"#0d0887\"], [0.1111111111111111, \"#46039f\"], [0.2222222222222222, \"#7201a8\"], [0.3333333333333333, \"#9c179e\"], [0.4444444444444444, \"#bd3786\"], [0.5555555555555556, \"#d8576b\"], [0.6666666666666666, \"#ed7953\"], [0.7777777777777778, \"#fb9f3a\"], [0.8888888888888888, \"#fdca26\"], [1.0, \"#f0f921\"]]}, \"colorway\": [\"#636efa\", \"#EF553B\", \"#00cc96\", \"#ab63fa\", \"#FFA15A\", \"#19d3f3\", \"#FF6692\", \"#B6E880\", \"#FF97FF\", \"#FECB52\"], \"font\": {\"color\": \"#2a3f5f\"}, \"geo\": {\"bgcolor\": \"white\", \"lakecolor\": \"white\", \"landcolor\": \"#E5ECF6\", \"showlakes\": true, \"showland\": true, \"subunitcolor\": \"white\"}, \"hoverlabel\": {\"align\": \"left\"}, \"hovermode\": \"closest\", \"mapbox\": {\"style\": \"light\"}, \"paper_bgcolor\": \"white\", \"plot_bgcolor\": \"#E5ECF6\", \"polar\": {\"angularaxis\": {\"gridcolor\": \"white\", \"linecolor\": \"white\", \"ticks\": \"\"}, \"bgcolor\": \"#E5ECF6\", \"radialaxis\": {\"gridcolor\": \"white\", \"linecolor\": \"white\", \"ticks\": \"\"}}, \"scene\": {\"xaxis\": {\"backgroundcolor\": \"#E5ECF6\", \"gridcolor\": \"white\", \"gridwidth\": 2, \"linecolor\": \"white\", \"showbackground\": true, \"ticks\": \"\", \"zerolinecolor\": \"white\"}, \"yaxis\": {\"backgroundcolor\": \"#E5ECF6\", \"gridcolor\": \"white\", \"gridwidth\": 2, \"linecolor\": \"white\", \"showbackground\": true, \"ticks\": \"\", \"zerolinecolor\": \"white\"}, \"zaxis\": {\"backgroundcolor\": \"#E5ECF6\", \"gridcolor\": \"white\", \"gridwidth\": 2, \"linecolor\": \"white\", \"showbackground\": true, \"ticks\": \"\", \"zerolinecolor\": \"white\"}}, \"shapedefaults\": {\"line\": {\"color\": \"#2a3f5f\"}}, \"ternary\": {\"aaxis\": {\"gridcolor\": \"white\", \"linecolor\": \"white\", \"ticks\": \"\"}, \"baxis\": {\"gridcolor\": \"white\", \"linecolor\": \"white\", \"ticks\": \"\"}, \"bgcolor\": \"#E5ECF6\", \"caxis\": {\"gridcolor\": \"white\", \"linecolor\": \"white\", \"ticks\": \"\"}}, \"title\": {\"x\": 0.05}, \"xaxis\": {\"automargin\": true, \"gridcolor\": \"white\", \"linecolor\": \"white\", \"ticks\": \"\", \"title\": {\"standoff\": 15}, \"zerolinecolor\": \"white\", \"zerolinewidth\": 2}, \"yaxis\": {\"automargin\": true, \"gridcolor\": \"white\", \"linecolor\": \"white\", \"ticks\": \"\", \"title\": {\"standoff\": 15}, \"zerolinecolor\": \"white\", \"zerolinewidth\": 2}}}, \"title\": {\"text\": \"Average delay for each airline\"}, \"xaxis\": {\"anchor\": \"y\", \"domain\": [0.0, 1.0], \"title\": {\"text\": \"day_of_week\"}}, \"yaxis\": {\"anchor\": \"x\", \"categoryorder\": \"category descending\", \"domain\": [0.0, 1.0], \"title\": {\"text\": \"carrier\"}, \"type\": \"category\"}},                        {\"responsive\": true}                    ).then(function(){\n",
       "                            \n",
       "var gd = document.getElementById('57618d91-2cfc-45de-aefa-27f7c0bd2906');\n",
       "var x = new MutationObserver(function (mutations, observer) {{\n",
       "        var display = window.getComputedStyle(gd).display;\n",
       "        if (!display || display === 'none') {{\n",
       "            console.log([gd, 'removed!']);\n",
       "            Plotly.purge(gd);\n",
       "            observer.disconnect();\n",
       "        }}\n",
       "}});\n",
       "\n",
       "// Listen for the removal of the full notebook cells\n",
       "var notebookContainer = gd.closest('#notebook-container');\n",
       "if (notebookContainer) {{\n",
       "    x.observe(notebookContainer, {childList: true});\n",
       "}}\n",
       "\n",
       "// Listen for the clearing of the current output cell\n",
       "var outputEl = gd.closest('.output');\n",
       "if (outputEl) {{\n",
       "    x.observe(outputEl, {childList: true});\n",
       "}}\n",
       "\n",
       "                        })                };                });            </script>        </div>"
      ]
     },
     "metadata": {},
     "output_type": "display_data"
    }
   ],
   "source": [
    "df = pd.read_csv('airlineDelayDayWeek.csv')\n",
    "\n",
    "fig = px.density_heatmap(df, x='day_of_week', y='carrier', z='avg_delay',\n",
    "                         nbinsx=7, \n",
    "                         color_continuous_scale=\"reds\", \n",
    "                         title=\"Average delay for each airline\"\n",
    "                        )\n",
    "fig.update_yaxes(type='category', categoryorder='category descending')\n",
    "fig.show()"
   ]
  },
  {
   "cell_type": "markdown",
   "metadata": {},
   "source": [
    "#### Can't gain much insight from looking at days of week, Monday and Friday have long delays across most airlines. JetBlue Airways seem have long delays across all days compared to others. Day of month might be give us more information. "
   ]
  },
  {
   "cell_type": "markdown",
   "metadata": {},
   "source": [
    "## Departure and arrival delays for each airline (day of month)"
   ]
  },
  {
   "cell_type": "code",
   "execution_count": 62,
   "metadata": {},
   "outputs": [
    {
     "data": {
      "application/vnd.plotly.v1+json": {
       "config": {
        "plotlyServerURL": "https://plot.ly"
       },
       "data": [
        {
         "coloraxis": "coloraxis",
         "histfunc": "sum",
         "hovertemplate": "day_of_month=%{x}<br>carrier=%{y}<br>sum of avg_delay=%{z}<extra></extra>",
         "name": "",
         "nbinsx": 31,
         "type": "histogram2d",
         "x": [
          1,
          2,
          3,
          4,
          5,
          6,
          7,
          8,
          9,
          10,
          11,
          12,
          13,
          14,
          15,
          16,
          17,
          18,
          19,
          20,
          21,
          22,
          23,
          24,
          25,
          26,
          27,
          28,
          29,
          30,
          31,
          1,
          2,
          3,
          4,
          5,
          6,
          7,
          8,
          9,
          10,
          11,
          12,
          13,
          14,
          15,
          16,
          17,
          18,
          19,
          20,
          21,
          22,
          23,
          24,
          25,
          26,
          27,
          28,
          29,
          30,
          31,
          1,
          2,
          3,
          4,
          5,
          6,
          7,
          8,
          9,
          10,
          11,
          12,
          13,
          14,
          15,
          16,
          17,
          18,
          19,
          20,
          21,
          22,
          23,
          24,
          25,
          26,
          27,
          28,
          29,
          30,
          31,
          1,
          2,
          3,
          4,
          5,
          6,
          7,
          8,
          9,
          10,
          11,
          12,
          13,
          14,
          15,
          16,
          17,
          18,
          19,
          20,
          21,
          22,
          23,
          24,
          25,
          26,
          27,
          28,
          29,
          30,
          31,
          1,
          2,
          3,
          4,
          5,
          6,
          7,
          8,
          9,
          10,
          11,
          12,
          13,
          14,
          15,
          16,
          17,
          18,
          19,
          20,
          21,
          22,
          23,
          24,
          25,
          26,
          27,
          28,
          29,
          30,
          31,
          1,
          2,
          3,
          4,
          5,
          6,
          7,
          8,
          9,
          10,
          11,
          12,
          13,
          14,
          15,
          16,
          17,
          18,
          19,
          20,
          21,
          22,
          23,
          24,
          25,
          26,
          27,
          28,
          29,
          30,
          31,
          1,
          2,
          3,
          4,
          5,
          6,
          7,
          8,
          9,
          10,
          11,
          12,
          13,
          14,
          15,
          16,
          17,
          18,
          19,
          20,
          21,
          22,
          23,
          24,
          25,
          26,
          27,
          28,
          29,
          30,
          31,
          1,
          2,
          3,
          4,
          5,
          6,
          7,
          8,
          9,
          10,
          11,
          12,
          13,
          14,
          15,
          16,
          17,
          18,
          19,
          20,
          21,
          22,
          23,
          24,
          25,
          26,
          27,
          28,
          29,
          30,
          31,
          1,
          2,
          3,
          4,
          5,
          6,
          7,
          8,
          9,
          10,
          11,
          12,
          13,
          14,
          15,
          16,
          17,
          18,
          19,
          20,
          21,
          22,
          23,
          24,
          25,
          26,
          27,
          28,
          29,
          30,
          31,
          1,
          2,
          3,
          4,
          5,
          6,
          7,
          8,
          9,
          10,
          11,
          12,
          13,
          14,
          15,
          16,
          17,
          18,
          19,
          20,
          21,
          22,
          23,
          24,
          25,
          26,
          27,
          28,
          29,
          30,
          31,
          1,
          2,
          3,
          4,
          5,
          6,
          7,
          8,
          9,
          10,
          11,
          12,
          13,
          14,
          15,
          16,
          17,
          18,
          19,
          20,
          21,
          22,
          23,
          24,
          25,
          26,
          27,
          28,
          29,
          30,
          31,
          1,
          2,
          3,
          4,
          5,
          6,
          7,
          8,
          9,
          10,
          11,
          12,
          13,
          14,
          15,
          16,
          17,
          18,
          19,
          20,
          21,
          22,
          23,
          24,
          25,
          26,
          27,
          28,
          29,
          30,
          31,
          1,
          2,
          3,
          4,
          5,
          6,
          7,
          8,
          9,
          10,
          11,
          12,
          13,
          14,
          15,
          16,
          17,
          18,
          19,
          20,
          21,
          22,
          23,
          24,
          25,
          26,
          27,
          28,
          29,
          30,
          31,
          1,
          2,
          3,
          4,
          5,
          6,
          7,
          8,
          9,
          10,
          11,
          12,
          13,
          14,
          15,
          16,
          17,
          18,
          19,
          20,
          21,
          22,
          23,
          24,
          25,
          26,
          27,
          28,
          29,
          30,
          31,
          1,
          2,
          3,
          4,
          5,
          6,
          7,
          8,
          9,
          10,
          11,
          12,
          13,
          14,
          15,
          16,
          17,
          18,
          19,
          20,
          21,
          22,
          23,
          24,
          25,
          26,
          27,
          28,
          29,
          30,
          31,
          1,
          2,
          3,
          4,
          5,
          6,
          7,
          8,
          9,
          10,
          11,
          12,
          13,
          14,
          15,
          16,
          17,
          18,
          19,
          20,
          21,
          22,
          23,
          24,
          25,
          26,
          27,
          28,
          29,
          30,
          31,
          1,
          2,
          3,
          4,
          5,
          6,
          7,
          8,
          9,
          10,
          11,
          12,
          13,
          14,
          15,
          16,
          17,
          18,
          19,
          20,
          21,
          22,
          23,
          24,
          25,
          26,
          27,
          28,
          29,
          30,
          31
         ],
         "xaxis": "x",
         "xbingroup": "x",
         "y": [
          "Alaska Airlines Inc.",
          "Alaska Airlines Inc.",
          "Alaska Airlines Inc.",
          "Alaska Airlines Inc.",
          "Alaska Airlines Inc.",
          "Alaska Airlines Inc.",
          "Alaska Airlines Inc.",
          "Alaska Airlines Inc.",
          "Alaska Airlines Inc.",
          "Alaska Airlines Inc.",
          "Alaska Airlines Inc.",
          "Alaska Airlines Inc.",
          "Alaska Airlines Inc.",
          "Alaska Airlines Inc.",
          "Alaska Airlines Inc.",
          "Alaska Airlines Inc.",
          "Alaska Airlines Inc.",
          "Alaska Airlines Inc.",
          "Alaska Airlines Inc.",
          "Alaska Airlines Inc.",
          "Alaska Airlines Inc.",
          "Alaska Airlines Inc.",
          "Alaska Airlines Inc.",
          "Alaska Airlines Inc.",
          "Alaska Airlines Inc.",
          "Alaska Airlines Inc.",
          "Alaska Airlines Inc.",
          "Alaska Airlines Inc.",
          "Alaska Airlines Inc.",
          "Alaska Airlines Inc.",
          "Alaska Airlines Inc.",
          "Allegiant Air",
          "Allegiant Air",
          "Allegiant Air",
          "Allegiant Air",
          "Allegiant Air",
          "Allegiant Air",
          "Allegiant Air",
          "Allegiant Air",
          "Allegiant Air",
          "Allegiant Air",
          "Allegiant Air",
          "Allegiant Air",
          "Allegiant Air",
          "Allegiant Air",
          "Allegiant Air",
          "Allegiant Air",
          "Allegiant Air",
          "Allegiant Air",
          "Allegiant Air",
          "Allegiant Air",
          "Allegiant Air",
          "Allegiant Air",
          "Allegiant Air",
          "Allegiant Air",
          "Allegiant Air",
          "Allegiant Air",
          "Allegiant Air",
          "Allegiant Air",
          "Allegiant Air",
          "Allegiant Air",
          "Allegiant Air",
          "American Airlines Inc.",
          "American Airlines Inc.",
          "American Airlines Inc.",
          "American Airlines Inc.",
          "American Airlines Inc.",
          "American Airlines Inc.",
          "American Airlines Inc.",
          "American Airlines Inc.",
          "American Airlines Inc.",
          "American Airlines Inc.",
          "American Airlines Inc.",
          "American Airlines Inc.",
          "American Airlines Inc.",
          "American Airlines Inc.",
          "American Airlines Inc.",
          "American Airlines Inc.",
          "American Airlines Inc.",
          "American Airlines Inc.",
          "American Airlines Inc.",
          "American Airlines Inc.",
          "American Airlines Inc.",
          "American Airlines Inc.",
          "American Airlines Inc.",
          "American Airlines Inc.",
          "American Airlines Inc.",
          "American Airlines Inc.",
          "American Airlines Inc.",
          "American Airlines Inc.",
          "American Airlines Inc.",
          "American Airlines Inc.",
          "American Airlines Inc.",
          "American Eagle Airlines Inc.",
          "American Eagle Airlines Inc.",
          "American Eagle Airlines Inc.",
          "American Eagle Airlines Inc.",
          "American Eagle Airlines Inc.",
          "American Eagle Airlines Inc.",
          "American Eagle Airlines Inc.",
          "American Eagle Airlines Inc.",
          "American Eagle Airlines Inc.",
          "American Eagle Airlines Inc.",
          "American Eagle Airlines Inc.",
          "American Eagle Airlines Inc.",
          "American Eagle Airlines Inc.",
          "American Eagle Airlines Inc.",
          "American Eagle Airlines Inc.",
          "American Eagle Airlines Inc.",
          "American Eagle Airlines Inc.",
          "American Eagle Airlines Inc.",
          "American Eagle Airlines Inc.",
          "American Eagle Airlines Inc.",
          "American Eagle Airlines Inc.",
          "American Eagle Airlines Inc.",
          "American Eagle Airlines Inc.",
          "American Eagle Airlines Inc.",
          "American Eagle Airlines Inc.",
          "American Eagle Airlines Inc.",
          "American Eagle Airlines Inc.",
          "American Eagle Airlines Inc.",
          "American Eagle Airlines Inc.",
          "American Eagle Airlines Inc.",
          "American Eagle Airlines Inc.",
          "Atlantic Southeast Airlines",
          "Atlantic Southeast Airlines",
          "Atlantic Southeast Airlines",
          "Atlantic Southeast Airlines",
          "Atlantic Southeast Airlines",
          "Atlantic Southeast Airlines",
          "Atlantic Southeast Airlines",
          "Atlantic Southeast Airlines",
          "Atlantic Southeast Airlines",
          "Atlantic Southeast Airlines",
          "Atlantic Southeast Airlines",
          "Atlantic Southeast Airlines",
          "Atlantic Southeast Airlines",
          "Atlantic Southeast Airlines",
          "Atlantic Southeast Airlines",
          "Atlantic Southeast Airlines",
          "Atlantic Southeast Airlines",
          "Atlantic Southeast Airlines",
          "Atlantic Southeast Airlines",
          "Atlantic Southeast Airlines",
          "Atlantic Southeast Airlines",
          "Atlantic Southeast Airlines",
          "Atlantic Southeast Airlines",
          "Atlantic Southeast Airlines",
          "Atlantic Southeast Airlines",
          "Atlantic Southeast Airlines",
          "Atlantic Southeast Airlines",
          "Atlantic Southeast Airlines",
          "Atlantic Southeast Airlines",
          "Atlantic Southeast Airlines",
          "Atlantic Southeast Airlines",
          "Comair Inc.",
          "Comair Inc.",
          "Comair Inc.",
          "Comair Inc.",
          "Comair Inc.",
          "Comair Inc.",
          "Comair Inc.",
          "Comair Inc.",
          "Comair Inc.",
          "Comair Inc.",
          "Comair Inc.",
          "Comair Inc.",
          "Comair Inc.",
          "Comair Inc.",
          "Comair Inc.",
          "Comair Inc.",
          "Comair Inc.",
          "Comair Inc.",
          "Comair Inc.",
          "Comair Inc.",
          "Comair Inc.",
          "Comair Inc.",
          "Comair Inc.",
          "Comair Inc.",
          "Comair Inc.",
          "Comair Inc.",
          "Comair Inc.",
          "Comair Inc.",
          "Comair Inc.",
          "Comair Inc.",
          "Comair Inc.",
          "Delta Air Lines Inc.",
          "Delta Air Lines Inc.",
          "Delta Air Lines Inc.",
          "Delta Air Lines Inc.",
          "Delta Air Lines Inc.",
          "Delta Air Lines Inc.",
          "Delta Air Lines Inc.",
          "Delta Air Lines Inc.",
          "Delta Air Lines Inc.",
          "Delta Air Lines Inc.",
          "Delta Air Lines Inc.",
          "Delta Air Lines Inc.",
          "Delta Air Lines Inc.",
          "Delta Air Lines Inc.",
          "Delta Air Lines Inc.",
          "Delta Air Lines Inc.",
          "Delta Air Lines Inc.",
          "Delta Air Lines Inc.",
          "Delta Air Lines Inc.",
          "Delta Air Lines Inc.",
          "Delta Air Lines Inc.",
          "Delta Air Lines Inc.",
          "Delta Air Lines Inc.",
          "Delta Air Lines Inc.",
          "Delta Air Lines Inc.",
          "Delta Air Lines Inc.",
          "Delta Air Lines Inc.",
          "Delta Air Lines Inc.",
          "Delta Air Lines Inc.",
          "Delta Air Lines Inc.",
          "Delta Air Lines Inc.",
          "Frontier Airlines Inc.",
          "Frontier Airlines Inc.",
          "Frontier Airlines Inc.",
          "Frontier Airlines Inc.",
          "Frontier Airlines Inc.",
          "Frontier Airlines Inc.",
          "Frontier Airlines Inc.",
          "Frontier Airlines Inc.",
          "Frontier Airlines Inc.",
          "Frontier Airlines Inc.",
          "Frontier Airlines Inc.",
          "Frontier Airlines Inc.",
          "Frontier Airlines Inc.",
          "Frontier Airlines Inc.",
          "Frontier Airlines Inc.",
          "Frontier Airlines Inc.",
          "Frontier Airlines Inc.",
          "Frontier Airlines Inc.",
          "Frontier Airlines Inc.",
          "Frontier Airlines Inc.",
          "Frontier Airlines Inc.",
          "Frontier Airlines Inc.",
          "Frontier Airlines Inc.",
          "Frontier Airlines Inc.",
          "Frontier Airlines Inc.",
          "Frontier Airlines Inc.",
          "Frontier Airlines Inc.",
          "Frontier Airlines Inc.",
          "Frontier Airlines Inc.",
          "Frontier Airlines Inc.",
          "Frontier Airlines Inc.",
          "Hawaiian Airlines Inc.",
          "Hawaiian Airlines Inc.",
          "Hawaiian Airlines Inc.",
          "Hawaiian Airlines Inc.",
          "Hawaiian Airlines Inc.",
          "Hawaiian Airlines Inc.",
          "Hawaiian Airlines Inc.",
          "Hawaiian Airlines Inc.",
          "Hawaiian Airlines Inc.",
          "Hawaiian Airlines Inc.",
          "Hawaiian Airlines Inc.",
          "Hawaiian Airlines Inc.",
          "Hawaiian Airlines Inc.",
          "Hawaiian Airlines Inc.",
          "Hawaiian Airlines Inc.",
          "Hawaiian Airlines Inc.",
          "Hawaiian Airlines Inc.",
          "Hawaiian Airlines Inc.",
          "Hawaiian Airlines Inc.",
          "Hawaiian Airlines Inc.",
          "Hawaiian Airlines Inc.",
          "Hawaiian Airlines Inc.",
          "Hawaiian Airlines Inc.",
          "Hawaiian Airlines Inc.",
          "Hawaiian Airlines Inc.",
          "Hawaiian Airlines Inc.",
          "Hawaiian Airlines Inc.",
          "Hawaiian Airlines Inc.",
          "Hawaiian Airlines Inc.",
          "Hawaiian Airlines Inc.",
          "Hawaiian Airlines Inc.",
          "JetBlue Airways",
          "JetBlue Airways",
          "JetBlue Airways",
          "JetBlue Airways",
          "JetBlue Airways",
          "JetBlue Airways",
          "JetBlue Airways",
          "JetBlue Airways",
          "JetBlue Airways",
          "JetBlue Airways",
          "JetBlue Airways",
          "JetBlue Airways",
          "JetBlue Airways",
          "JetBlue Airways",
          "JetBlue Airways",
          "JetBlue Airways",
          "JetBlue Airways",
          "JetBlue Airways",
          "JetBlue Airways",
          "JetBlue Airways",
          "JetBlue Airways",
          "JetBlue Airways",
          "JetBlue Airways",
          "JetBlue Airways",
          "JetBlue Airways",
          "JetBlue Airways",
          "JetBlue Airways",
          "JetBlue Airways",
          "JetBlue Airways",
          "JetBlue Airways",
          "JetBlue Airways",
          "Mesa Airlines Inc.",
          "Mesa Airlines Inc.",
          "Mesa Airlines Inc.",
          "Mesa Airlines Inc.",
          "Mesa Airlines Inc.",
          "Mesa Airlines Inc.",
          "Mesa Airlines Inc.",
          "Mesa Airlines Inc.",
          "Mesa Airlines Inc.",
          "Mesa Airlines Inc.",
          "Mesa Airlines Inc.",
          "Mesa Airlines Inc.",
          "Mesa Airlines Inc.",
          "Mesa Airlines Inc.",
          "Mesa Airlines Inc.",
          "Mesa Airlines Inc.",
          "Mesa Airlines Inc.",
          "Mesa Airlines Inc.",
          "Mesa Airlines Inc.",
          "Mesa Airlines Inc.",
          "Mesa Airlines Inc.",
          "Mesa Airlines Inc.",
          "Mesa Airlines Inc.",
          "Mesa Airlines Inc.",
          "Mesa Airlines Inc.",
          "Mesa Airlines Inc.",
          "Mesa Airlines Inc.",
          "Mesa Airlines Inc.",
          "Mesa Airlines Inc.",
          "Mesa Airlines Inc.",
          "Mesa Airlines Inc.",
          "Midwest Airline, Inc.",
          "Midwest Airline, Inc.",
          "Midwest Airline, Inc.",
          "Midwest Airline, Inc.",
          "Midwest Airline, Inc.",
          "Midwest Airline, Inc.",
          "Midwest Airline, Inc.",
          "Midwest Airline, Inc.",
          "Midwest Airline, Inc.",
          "Midwest Airline, Inc.",
          "Midwest Airline, Inc.",
          "Midwest Airline, Inc.",
          "Midwest Airline, Inc.",
          "Midwest Airline, Inc.",
          "Midwest Airline, Inc.",
          "Midwest Airline, Inc.",
          "Midwest Airline, Inc.",
          "Midwest Airline, Inc.",
          "Midwest Airline, Inc.",
          "Midwest Airline, Inc.",
          "Midwest Airline, Inc.",
          "Midwest Airline, Inc.",
          "Midwest Airline, Inc.",
          "Midwest Airline, Inc.",
          "Midwest Airline, Inc.",
          "Midwest Airline, Inc.",
          "Midwest Airline, Inc.",
          "Midwest Airline, Inc.",
          "Midwest Airline, Inc.",
          "Midwest Airline, Inc.",
          "Midwest Airline, Inc.",
          "Pinnacle Airlines Inc.",
          "Pinnacle Airlines Inc.",
          "Pinnacle Airlines Inc.",
          "Pinnacle Airlines Inc.",
          "Pinnacle Airlines Inc.",
          "Pinnacle Airlines Inc.",
          "Pinnacle Airlines Inc.",
          "Pinnacle Airlines Inc.",
          "Pinnacle Airlines Inc.",
          "Pinnacle Airlines Inc.",
          "Pinnacle Airlines Inc.",
          "Pinnacle Airlines Inc.",
          "Pinnacle Airlines Inc.",
          "Pinnacle Airlines Inc.",
          "Pinnacle Airlines Inc.",
          "Pinnacle Airlines Inc.",
          "Pinnacle Airlines Inc.",
          "Pinnacle Airlines Inc.",
          "Pinnacle Airlines Inc.",
          "Pinnacle Airlines Inc.",
          "Pinnacle Airlines Inc.",
          "Pinnacle Airlines Inc.",
          "Pinnacle Airlines Inc.",
          "Pinnacle Airlines Inc.",
          "Pinnacle Airlines Inc.",
          "Pinnacle Airlines Inc.",
          "Pinnacle Airlines Inc.",
          "Pinnacle Airlines Inc.",
          "Pinnacle Airlines Inc.",
          "Pinnacle Airlines Inc.",
          "Pinnacle Airlines Inc.",
          "Skywest Airlines Inc.",
          "Skywest Airlines Inc.",
          "Skywest Airlines Inc.",
          "Skywest Airlines Inc.",
          "Skywest Airlines Inc.",
          "Skywest Airlines Inc.",
          "Skywest Airlines Inc.",
          "Skywest Airlines Inc.",
          "Skywest Airlines Inc.",
          "Skywest Airlines Inc.",
          "Skywest Airlines Inc.",
          "Skywest Airlines Inc.",
          "Skywest Airlines Inc.",
          "Skywest Airlines Inc.",
          "Skywest Airlines Inc.",
          "Skywest Airlines Inc.",
          "Skywest Airlines Inc.",
          "Skywest Airlines Inc.",
          "Skywest Airlines Inc.",
          "Skywest Airlines Inc.",
          "Skywest Airlines Inc.",
          "Skywest Airlines Inc.",
          "Skywest Airlines Inc.",
          "Skywest Airlines Inc.",
          "Skywest Airlines Inc.",
          "Skywest Airlines Inc.",
          "Skywest Airlines Inc.",
          "Skywest Airlines Inc.",
          "Skywest Airlines Inc.",
          "Skywest Airlines Inc.",
          "Skywest Airlines Inc.",
          "Southwest Airlines Co.",
          "Southwest Airlines Co.",
          "Southwest Airlines Co.",
          "Southwest Airlines Co.",
          "Southwest Airlines Co.",
          "Southwest Airlines Co.",
          "Southwest Airlines Co.",
          "Southwest Airlines Co.",
          "Southwest Airlines Co.",
          "Southwest Airlines Co.",
          "Southwest Airlines Co.",
          "Southwest Airlines Co.",
          "Southwest Airlines Co.",
          "Southwest Airlines Co.",
          "Southwest Airlines Co.",
          "Southwest Airlines Co.",
          "Southwest Airlines Co.",
          "Southwest Airlines Co.",
          "Southwest Airlines Co.",
          "Southwest Airlines Co.",
          "Southwest Airlines Co.",
          "Southwest Airlines Co.",
          "Southwest Airlines Co.",
          "Southwest Airlines Co.",
          "Southwest Airlines Co.",
          "Southwest Airlines Co.",
          "Southwest Airlines Co.",
          "Southwest Airlines Co.",
          "Southwest Airlines Co.",
          "Southwest Airlines Co.",
          "Southwest Airlines Co.",
          "Spirit Air Lines",
          "Spirit Air Lines",
          "Spirit Air Lines",
          "Spirit Air Lines",
          "Spirit Air Lines",
          "Spirit Air Lines",
          "Spirit Air Lines",
          "Spirit Air Lines",
          "Spirit Air Lines",
          "Spirit Air Lines",
          "Spirit Air Lines",
          "Spirit Air Lines",
          "Spirit Air Lines",
          "Spirit Air Lines",
          "Spirit Air Lines",
          "Spirit Air Lines",
          "Spirit Air Lines",
          "Spirit Air Lines",
          "Spirit Air Lines",
          "Spirit Air Lines",
          "Spirit Air Lines",
          "Spirit Air Lines",
          "Spirit Air Lines",
          "Spirit Air Lines",
          "Spirit Air Lines",
          "Spirit Air Lines",
          "Spirit Air Lines",
          "Spirit Air Lines",
          "Spirit Air Lines",
          "Spirit Air Lines",
          "Spirit Air Lines",
          "United Air Lines Inc.",
          "United Air Lines Inc.",
          "United Air Lines Inc.",
          "United Air Lines Inc.",
          "United Air Lines Inc.",
          "United Air Lines Inc.",
          "United Air Lines Inc.",
          "United Air Lines Inc.",
          "United Air Lines Inc.",
          "United Air Lines Inc.",
          "United Air Lines Inc.",
          "United Air Lines Inc.",
          "United Air Lines Inc.",
          "United Air Lines Inc.",
          "United Air Lines Inc.",
          "United Air Lines Inc.",
          "United Air Lines Inc.",
          "United Air Lines Inc.",
          "United Air Lines Inc.",
          "United Air Lines Inc.",
          "United Air Lines Inc.",
          "United Air Lines Inc.",
          "United Air Lines Inc.",
          "United Air Lines Inc.",
          "United Air Lines Inc.",
          "United Air Lines Inc.",
          "United Air Lines Inc.",
          "United Air Lines Inc.",
          "United Air Lines Inc.",
          "United Air Lines Inc.",
          "United Air Lines Inc."
         ],
         "yaxis": "y",
         "ybingroup": "y",
         "z": [
          4.36468330134357,
          4.748152059134108,
          6.861425061425061,
          43.31305201177625,
          29.123469387755105,
          20.427254098360656,
          20.875242718446604,
          19.175959079283892,
          25.82359614293817,
          24.185786802030453,
          23.210445468509985,
          13.534127843987,
          4.846311475409836,
          16.472646623952684,
          8.327398615232443,
          4.363733333333333,
          5.948428290766207,
          3.1476510067114094,
          -4.616219008264463,
          0.11901159858799798,
          9.142651986596457,
          9.38149430974765,
          -3.0573986308583465,
          -2.256198347107438,
          4.5321411309811515,
          -3.1530506721820064,
          2.9965,
          -3.953333333333333,
          -10.55157278712509,
          -10.763341067285383,
          1.9378200438917337,
          22.472189349112426,
          25.88227513227513,
          17.583333333333332,
          24.54666666666667,
          14.43400447427293,
          17.717299578059073,
          13.971727748691098,
          7.048433048433049,
          7.865248226950356,
          10.46284501061571,
          13.281997918834548,
          -0.381489841986456,
          8.378345498783455,
          7.296523517382412,
          27.581208053691274,
          15.685847589424572,
          16.27327935222672,
          18.841222879684423,
          10.228519195612432,
          15.256020278833967,
          21.67608476286579,
          5.938088829071332,
          12.809597523219814,
          15.74747474747475,
          9.63573543928924,
          1.1516666666666666,
          19.491186839012926,
          15.206030150753767,
          -3.9655172413793114,
          3.7707808564231735,
          20.518968133535658,
          21.80257566001288,
          16.174175035868007,
          13.683618063832604,
          10.644364845848793,
          7.737162629757784,
          4.590191953720748,
          7.7813882918194475,
          8.91810570381999,
          18.124134884405827,
          18.874589625738675,
          9.627753023551877,
          13.882825040128413,
          30.285871206920234,
          18.214958025947595,
          14.548403841162731,
          7.968045649072753,
          19.540928050052138,
          16.484507398507652,
          17.830866503808018,
          20.304722222222217,
          18.602683178534573,
          24.9611869121738,
          17.209412780656304,
          23.18674540682415,
          20.31382636655949,
          8.094178561432969,
          9.025587193281721,
          20.12052706368686,
          4.557965139845967,
          8.418867072895509,
          18.20875076671437,
          29.3262987012987,
          24.73734939759036,
          10.199188640973633,
          5.744761904761906,
          0.5744590581247349,
          5.165682802046439,
          14.957175925925926,
          14.21727343144849,
          12.936776061776063,
          24.12084473992961,
          14.65188897455667,
          18.439764936336925,
          19.37682926829268,
          14.050058662495113,
          20.681344148319816,
          0.35443037974683544,
          34.13109381401065,
          36.61662817551964,
          20.900980392156864,
          32.411029728565275,
          10.128885519332828,
          13.462809917355372,
          27.17244748412311,
          29.088732975650018,
          28.674330946098763,
          16.529718004338395,
          1.8619740464018877,
          16.888043937473594,
          5.21981981981982,
          11.28595178719867,
          7.058663028649386,
          45.36854838709678,
          30.945105215004567,
          22.096694214876038,
          11.610492845786965,
          11.540111199364574,
          8.686737184703011,
          19.704545454545453,
          14.363418530351439,
          20.742314647377942,
          31.428934010152282,
          28.563847429519072,
          36.39483747609943,
          34.012798634812285,
          25.9144,
          20.620634920634924,
          16.114889705882348,
          20.549779735682822,
          32.486042692939236,
          26.1,
          41.64627659574468,
          43.0625507717303,
          33.427493713327735,
          47.7689497716895,
          41.58892617449664,
          32.02627388535032,
          21.582482993197278,
          19.367346938775512,
          26.90573770491803,
          21.746987951807228,
          29.305832147937412,
          41.34207077326344,
          35.479802513464996,
          4.502865329512893,
          10.179646017699117,
          0.9661160525201186,
          7.187073281747838,
          5.7633986928104575,
          5.186780383795308,
          12.443312666076176,
          6.5606936416184976,
          16.013626373626373,
          17.080445014976466,
          8.781390695347675,
          19.367633302151546,
          14.934014474244359,
          9.749673487157162,
          0.8036127836961556,
          18.380402225074878,
          13.107640354579992,
          21.411010915994307,
          25.09163346613546,
          24.431345980126466,
          17.868244752121484,
          12.169820475497332,
          27.699322799097065,
          15.908333333333333,
          7.0503929727230705,
          4.2860858257477235,
          0.7245943637916311,
          6.982911825017087,
          3.149645390070922,
          10.820479585223591,
          7.162639536526778,
          4.604027909927053,
          10.070958083832336,
          16.34322257383966,
          0.239909998593728,
          4.382904435536014,
          13.134025717111768,
          4.759021101261081,
          1.2690332326283988,
          5.966968911917099,
          2.9434078833559867,
          17.200846262341326,
          7.4200728976828945,
          7.542129972819373,
          5.609443129438146,
          -3.2812212335072113,
          0.8157418995967182,
          4.319750778816199,
          7.519571428571428,
          41.12984469007976,
          24.073727544910177,
          10.000377073906488,
          14.111009732360095,
          12.369236729949632,
          8.693968175650673,
          -5.272879932829555,
          -0.7960051546391752,
          5.011870903919872,
          -5.651039697542533,
          8.002525252525253,
          1.9579988799701324,
          28.44012944983819,
          28.807017543859647,
          17.895266868076533,
          26.280612244897963,
          14.093714285714285,
          13.11560044893378,
          22.746680286006132,
          9.311758360302047,
          23.991869918699194,
          19.43584521384929,
          11.936983471074381,
          6.660756501182032,
          14.4825,
          36.08271474019088,
          11.552492046659596,
          16.61768082663605,
          14.588588588588589,
          22.82032854209445,
          4.787283236994218,
          17.614285714285714,
          20.7584789311408,
          22.696256684491978,
          19.79770114942529,
          21.004069175991866,
          16.282497441146365,
          14.497716894977168,
          30.27735644637053,
          25.123076923076926,
          24.73970345963756,
          21.119217081850525,
          19.61846153846154,
          9.351632047477743,
          6.069551777434312,
          -0.9377845220030347,
          3.1612426035502965,
          -0.5377643504531722,
          3.5224550898203595,
          10.621283255086073,
          2.136363636363636,
          7.558917197452228,
          6.2086553323029365,
          0.6467889908256881,
          1.5497630331753554,
          3.5808936825885977,
          5.811232449297973,
          10.629793510324484,
          6.122102009273571,
          6.027190332326285,
          10.909620991253645,
          16.412673879443584,
          5.0795107033639155,
          6.554198473282442,
          10.136498516320474,
          -0.08641975308641975,
          1.5610119047619049,
          4.820089955022488,
          3.888364779874214,
          -1.2102009273570324,
          4.775700934579438,
          -4.979638009049773,
          -2.9832935560859193,
          -1.9074074074074077,
          55.832252836304704,
          34.477038425492026,
          30.712809917355372,
          72.39915966386555,
          31.83890317052271,
          16.91031941031941,
          12.881018702745724,
          28.98058653448988,
          6.495154591601293,
          32.88977035490605,
          7.001214083367058,
          25.943494776828107,
          25.391489361702128,
          13.961290322580645,
          32.210398050365555,
          19.078912757562478,
          16.440422936152903,
          33.28605865809562,
          14.320952380952379,
          35.281312127236575,
          79.45186136071888,
          65.83897950648264,
          28.542343132953054,
          47.68969849246231,
          34.15375302663439,
          17.466552315608922,
          21.50224032586559,
          35.58041401273885,
          5.7901159243441125,
          27.48772395487724,
          40.46523076923077,
          24.590273896031302,
          23.01885606536769,
          33.50694830461367,
          26.232162458836445,
          9.646341463414632,
          8.081552305961754,
          11.821760524876984,
          10.172625698324023,
          26.438321853475266,
          23.22265193370166,
          21.97161936560935,
          20.191677175283736,
          31.450668364099304,
          24.00453257790368,
          18.43441226575809,
          9.802671523983001,
          15.373251259093454,
          18.92888643880926,
          19.420595533498762,
          19.10287081339713,
          20.533003300330037,
          23.23037831733484,
          19.657265481299817,
          15.049052396878484,
          15.804986149584488,
          16.32129963898917,
          24.944729344729343,
          31.40931780366057,
          11.381355932203391,
          8.473867595818815,
          17.239669421487605,
          39.24154987633965,
          18.72431668237512,
          2.8898267436694804,
          -1.1293747542272905,
          -5.975809758097581,
          -4.451124903025602,
          3.4613106256941872,
          7.608053195419282,
          7.6960651289009485,
          28.877904686884605,
          8.205947136563879,
          4.099618684461392,
          1.3485784919653894,
          4.151795631247686,
          12.4375,
          -1.7611336032388665,
          14.010187449062755,
          19.485408200960478,
          1.9039862837548218,
          27.35488185465893,
          31.671320754716984,
          22.754359363153906,
          21.908310749774166,
          35.18089430894309,
          36.070400622325934,
          0.34055600981193784,
          0.10094517958412097,
          10.99813988095238,
          1.939965694682676,
          25.164926931106468,
          10.078947368421053,
          25.385692068429236,
          8.704234527687296,
          3.3210425937698664,
          13.736242884250474,
          -4.7347689075630255,
          -4.486676016830295,
          9.219673577415088,
          4.22961657117673,
          1.1945645460160592,
          23.05406721870434,
          8.339191564147628,
          17.806134969325157,
          11.676835081029553,
          8.221297107800176,
          20.66370106761566,
          -1.1445012787723785,
          4.517786561264822,
          16.451888489208635,
          3.7957631721890284,
          35.29757785467128,
          42.201546860782535,
          25.332281334535622,
          36.33839342188489,
          43.65702688990361,
          39.390987710514345,
          2.1331578947368417,
          -6.239515377446412,
          -0.5884955752212391,
          -7.1152291105121295,
          22.16666666666667,
          9.985127478753538,
          40.216269193074154,
          32.74197080291971,
          26.183146449201487,
          30.48095310365761,
          32.23904777649198,
          43.55873925501432,
          34.04479456286685,
          24.228043378646714,
          25.397150489759568,
          42.28385986862684,
          23.51914380464275,
          30.90946221919673,
          22.012306668884086,
          34.333072590738425,
          26.946754412204605,
          11.202810887742395,
          24.393191909225454,
          17.901668653158524,
          9.742498728598068,
          39.2052052052052,
          20.898647644523702,
          30.81842269326683,
          37.09281277728483,
          34.5035084983627,
          35.19024611203382,
          15.831479329237922,
          19.781269160024525,
          21.34704721420981,
          18.025171624713963,
          17.342753435312414,
          15.881093935790725,
          20.83339359971072,
          26.023622047244096,
          12.200082253752827,
          3.7234294026729695,
          1.5905112393077383,
          11.867470989132435,
          16.899181581077436,
          8.075858397657706,
          11.349345417925479,
          17.205766710353867,
          9.660295316604763,
          14.336346478593425,
          16.32610387084225,
          21.540009144947415,
          16.650488953277794,
          6.821198063735378,
          10.410117096018736,
          12.302591049103098,
          11.47343671835918,
          13.617790335151989,
          21.473107292150488,
          28.30295543965596,
          8.384035837914885,
          10.915426634017706,
          10.622082018927443,
          3.9230769230769234,
          8.472170339932761,
          7.410090556274255,
          2.0074423930156,
          1.0802047781569966,
          9.161710037174721,
          17.644570707070702,
          22.934877896055106,
          7.064249363867685,
          5.306174411203055,
          -0.26399447131997233,
          -1.1778846153846154,
          5.81951530612245,
          4.639846743295019,
          13.255154639175258,
          14.389928986442866,
          5.363174603174604,
          10.039188243526944,
          9.250176180408738,
          12.838627700127065,
          6.740943267259056,
          -0.28040540540540543,
          8.887761572606212,
          10.441323345817727,
          9.295103092783503,
          16.972295514511877,
          32.689320388349515,
          33.53984753984754,
          23.70095367847411,
          15.220050441361913,
          7.584423676012461,
          1.737171464330413,
          26.46485473289597,
          16.9127432517263,
          -6.300534759358289,
          0.08775731310942579,
          14.638176638176637,
          17.809016393442622,
          18.847266154541348,
          14.82664695945946,
          6.712796402289452,
          15.19711641919518,
          24.79326823187201,
          11.824066390041494,
          14.185838870431896,
          17.352256863657516,
          22.194467905405407,
          9.892018779342724,
          16.41917626217892,
          14.62927927927928,
          32.214052953156816,
          18.803676025045444,
          14.579374014861516,
          25.691491574786767,
          12.007187063286086,
          15.800525509086928,
          35.31806722689076,
          21.655227454110136,
          43.53429383116883,
          18.61402329749104,
          19.819450143619203,
          32.797049441786285,
          8.688807418589604,
          13.113654946852007,
          27.853076768891558,
          6.2924961715160785,
          15.371467953135767,
          11.923788265306122
         ]
        }
       ],
       "layout": {
        "coloraxis": {
         "colorbar": {
          "title": {
           "text": "sum of avg_delay"
          }
         },
         "colorscale": [
          [
           0,
           "rgb(255,245,240)"
          ],
          [
           0.125,
           "rgb(254,224,210)"
          ],
          [
           0.25,
           "rgb(252,187,161)"
          ],
          [
           0.375,
           "rgb(252,146,114)"
          ],
          [
           0.5,
           "rgb(251,106,74)"
          ],
          [
           0.625,
           "rgb(239,59,44)"
          ],
          [
           0.75,
           "rgb(203,24,29)"
          ],
          [
           0.875,
           "rgb(165,15,21)"
          ],
          [
           1,
           "rgb(103,0,13)"
          ]
         ]
        },
        "legend": {
         "tracegroupgap": 0
        },
        "template": {
         "data": {
          "bar": [
           {
            "error_x": {
             "color": "#2a3f5f"
            },
            "error_y": {
             "color": "#2a3f5f"
            },
            "marker": {
             "line": {
              "color": "#E5ECF6",
              "width": 0.5
             }
            },
            "type": "bar"
           }
          ],
          "barpolar": [
           {
            "marker": {
             "line": {
              "color": "#E5ECF6",
              "width": 0.5
             }
            },
            "type": "barpolar"
           }
          ],
          "carpet": [
           {
            "aaxis": {
             "endlinecolor": "#2a3f5f",
             "gridcolor": "white",
             "linecolor": "white",
             "minorgridcolor": "white",
             "startlinecolor": "#2a3f5f"
            },
            "baxis": {
             "endlinecolor": "#2a3f5f",
             "gridcolor": "white",
             "linecolor": "white",
             "minorgridcolor": "white",
             "startlinecolor": "#2a3f5f"
            },
            "type": "carpet"
           }
          ],
          "choropleth": [
           {
            "colorbar": {
             "outlinewidth": 0,
             "ticks": ""
            },
            "type": "choropleth"
           }
          ],
          "contour": [
           {
            "colorbar": {
             "outlinewidth": 0,
             "ticks": ""
            },
            "colorscale": [
             [
              0,
              "#0d0887"
             ],
             [
              0.1111111111111111,
              "#46039f"
             ],
             [
              0.2222222222222222,
              "#7201a8"
             ],
             [
              0.3333333333333333,
              "#9c179e"
             ],
             [
              0.4444444444444444,
              "#bd3786"
             ],
             [
              0.5555555555555556,
              "#d8576b"
             ],
             [
              0.6666666666666666,
              "#ed7953"
             ],
             [
              0.7777777777777778,
              "#fb9f3a"
             ],
             [
              0.8888888888888888,
              "#fdca26"
             ],
             [
              1,
              "#f0f921"
             ]
            ],
            "type": "contour"
           }
          ],
          "contourcarpet": [
           {
            "colorbar": {
             "outlinewidth": 0,
             "ticks": ""
            },
            "type": "contourcarpet"
           }
          ],
          "heatmap": [
           {
            "colorbar": {
             "outlinewidth": 0,
             "ticks": ""
            },
            "colorscale": [
             [
              0,
              "#0d0887"
             ],
             [
              0.1111111111111111,
              "#46039f"
             ],
             [
              0.2222222222222222,
              "#7201a8"
             ],
             [
              0.3333333333333333,
              "#9c179e"
             ],
             [
              0.4444444444444444,
              "#bd3786"
             ],
             [
              0.5555555555555556,
              "#d8576b"
             ],
             [
              0.6666666666666666,
              "#ed7953"
             ],
             [
              0.7777777777777778,
              "#fb9f3a"
             ],
             [
              0.8888888888888888,
              "#fdca26"
             ],
             [
              1,
              "#f0f921"
             ]
            ],
            "type": "heatmap"
           }
          ],
          "heatmapgl": [
           {
            "colorbar": {
             "outlinewidth": 0,
             "ticks": ""
            },
            "colorscale": [
             [
              0,
              "#0d0887"
             ],
             [
              0.1111111111111111,
              "#46039f"
             ],
             [
              0.2222222222222222,
              "#7201a8"
             ],
             [
              0.3333333333333333,
              "#9c179e"
             ],
             [
              0.4444444444444444,
              "#bd3786"
             ],
             [
              0.5555555555555556,
              "#d8576b"
             ],
             [
              0.6666666666666666,
              "#ed7953"
             ],
             [
              0.7777777777777778,
              "#fb9f3a"
             ],
             [
              0.8888888888888888,
              "#fdca26"
             ],
             [
              1,
              "#f0f921"
             ]
            ],
            "type": "heatmapgl"
           }
          ],
          "histogram": [
           {
            "marker": {
             "colorbar": {
              "outlinewidth": 0,
              "ticks": ""
             }
            },
            "type": "histogram"
           }
          ],
          "histogram2d": [
           {
            "colorbar": {
             "outlinewidth": 0,
             "ticks": ""
            },
            "colorscale": [
             [
              0,
              "#0d0887"
             ],
             [
              0.1111111111111111,
              "#46039f"
             ],
             [
              0.2222222222222222,
              "#7201a8"
             ],
             [
              0.3333333333333333,
              "#9c179e"
             ],
             [
              0.4444444444444444,
              "#bd3786"
             ],
             [
              0.5555555555555556,
              "#d8576b"
             ],
             [
              0.6666666666666666,
              "#ed7953"
             ],
             [
              0.7777777777777778,
              "#fb9f3a"
             ],
             [
              0.8888888888888888,
              "#fdca26"
             ],
             [
              1,
              "#f0f921"
             ]
            ],
            "type": "histogram2d"
           }
          ],
          "histogram2dcontour": [
           {
            "colorbar": {
             "outlinewidth": 0,
             "ticks": ""
            },
            "colorscale": [
             [
              0,
              "#0d0887"
             ],
             [
              0.1111111111111111,
              "#46039f"
             ],
             [
              0.2222222222222222,
              "#7201a8"
             ],
             [
              0.3333333333333333,
              "#9c179e"
             ],
             [
              0.4444444444444444,
              "#bd3786"
             ],
             [
              0.5555555555555556,
              "#d8576b"
             ],
             [
              0.6666666666666666,
              "#ed7953"
             ],
             [
              0.7777777777777778,
              "#fb9f3a"
             ],
             [
              0.8888888888888888,
              "#fdca26"
             ],
             [
              1,
              "#f0f921"
             ]
            ],
            "type": "histogram2dcontour"
           }
          ],
          "mesh3d": [
           {
            "colorbar": {
             "outlinewidth": 0,
             "ticks": ""
            },
            "type": "mesh3d"
           }
          ],
          "parcoords": [
           {
            "line": {
             "colorbar": {
              "outlinewidth": 0,
              "ticks": ""
             }
            },
            "type": "parcoords"
           }
          ],
          "pie": [
           {
            "automargin": true,
            "type": "pie"
           }
          ],
          "scatter": [
           {
            "marker": {
             "colorbar": {
              "outlinewidth": 0,
              "ticks": ""
             }
            },
            "type": "scatter"
           }
          ],
          "scatter3d": [
           {
            "line": {
             "colorbar": {
              "outlinewidth": 0,
              "ticks": ""
             }
            },
            "marker": {
             "colorbar": {
              "outlinewidth": 0,
              "ticks": ""
             }
            },
            "type": "scatter3d"
           }
          ],
          "scattercarpet": [
           {
            "marker": {
             "colorbar": {
              "outlinewidth": 0,
              "ticks": ""
             }
            },
            "type": "scattercarpet"
           }
          ],
          "scattergeo": [
           {
            "marker": {
             "colorbar": {
              "outlinewidth": 0,
              "ticks": ""
             }
            },
            "type": "scattergeo"
           }
          ],
          "scattergl": [
           {
            "marker": {
             "colorbar": {
              "outlinewidth": 0,
              "ticks": ""
             }
            },
            "type": "scattergl"
           }
          ],
          "scattermapbox": [
           {
            "marker": {
             "colorbar": {
              "outlinewidth": 0,
              "ticks": ""
             }
            },
            "type": "scattermapbox"
           }
          ],
          "scatterpolar": [
           {
            "marker": {
             "colorbar": {
              "outlinewidth": 0,
              "ticks": ""
             }
            },
            "type": "scatterpolar"
           }
          ],
          "scatterpolargl": [
           {
            "marker": {
             "colorbar": {
              "outlinewidth": 0,
              "ticks": ""
             }
            },
            "type": "scatterpolargl"
           }
          ],
          "scatterternary": [
           {
            "marker": {
             "colorbar": {
              "outlinewidth": 0,
              "ticks": ""
             }
            },
            "type": "scatterternary"
           }
          ],
          "surface": [
           {
            "colorbar": {
             "outlinewidth": 0,
             "ticks": ""
            },
            "colorscale": [
             [
              0,
              "#0d0887"
             ],
             [
              0.1111111111111111,
              "#46039f"
             ],
             [
              0.2222222222222222,
              "#7201a8"
             ],
             [
              0.3333333333333333,
              "#9c179e"
             ],
             [
              0.4444444444444444,
              "#bd3786"
             ],
             [
              0.5555555555555556,
              "#d8576b"
             ],
             [
              0.6666666666666666,
              "#ed7953"
             ],
             [
              0.7777777777777778,
              "#fb9f3a"
             ],
             [
              0.8888888888888888,
              "#fdca26"
             ],
             [
              1,
              "#f0f921"
             ]
            ],
            "type": "surface"
           }
          ],
          "table": [
           {
            "cells": {
             "fill": {
              "color": "#EBF0F8"
             },
             "line": {
              "color": "white"
             }
            },
            "header": {
             "fill": {
              "color": "#C8D4E3"
             },
             "line": {
              "color": "white"
             }
            },
            "type": "table"
           }
          ]
         },
         "layout": {
          "annotationdefaults": {
           "arrowcolor": "#2a3f5f",
           "arrowhead": 0,
           "arrowwidth": 1
          },
          "autotypenumbers": "strict",
          "coloraxis": {
           "colorbar": {
            "outlinewidth": 0,
            "ticks": ""
           }
          },
          "colorscale": {
           "diverging": [
            [
             0,
             "#8e0152"
            ],
            [
             0.1,
             "#c51b7d"
            ],
            [
             0.2,
             "#de77ae"
            ],
            [
             0.3,
             "#f1b6da"
            ],
            [
             0.4,
             "#fde0ef"
            ],
            [
             0.5,
             "#f7f7f7"
            ],
            [
             0.6,
             "#e6f5d0"
            ],
            [
             0.7,
             "#b8e186"
            ],
            [
             0.8,
             "#7fbc41"
            ],
            [
             0.9,
             "#4d9221"
            ],
            [
             1,
             "#276419"
            ]
           ],
           "sequential": [
            [
             0,
             "#0d0887"
            ],
            [
             0.1111111111111111,
             "#46039f"
            ],
            [
             0.2222222222222222,
             "#7201a8"
            ],
            [
             0.3333333333333333,
             "#9c179e"
            ],
            [
             0.4444444444444444,
             "#bd3786"
            ],
            [
             0.5555555555555556,
             "#d8576b"
            ],
            [
             0.6666666666666666,
             "#ed7953"
            ],
            [
             0.7777777777777778,
             "#fb9f3a"
            ],
            [
             0.8888888888888888,
             "#fdca26"
            ],
            [
             1,
             "#f0f921"
            ]
           ],
           "sequentialminus": [
            [
             0,
             "#0d0887"
            ],
            [
             0.1111111111111111,
             "#46039f"
            ],
            [
             0.2222222222222222,
             "#7201a8"
            ],
            [
             0.3333333333333333,
             "#9c179e"
            ],
            [
             0.4444444444444444,
             "#bd3786"
            ],
            [
             0.5555555555555556,
             "#d8576b"
            ],
            [
             0.6666666666666666,
             "#ed7953"
            ],
            [
             0.7777777777777778,
             "#fb9f3a"
            ],
            [
             0.8888888888888888,
             "#fdca26"
            ],
            [
             1,
             "#f0f921"
            ]
           ]
          },
          "colorway": [
           "#636efa",
           "#EF553B",
           "#00cc96",
           "#ab63fa",
           "#FFA15A",
           "#19d3f3",
           "#FF6692",
           "#B6E880",
           "#FF97FF",
           "#FECB52"
          ],
          "font": {
           "color": "#2a3f5f"
          },
          "geo": {
           "bgcolor": "white",
           "lakecolor": "white",
           "landcolor": "#E5ECF6",
           "showlakes": true,
           "showland": true,
           "subunitcolor": "white"
          },
          "hoverlabel": {
           "align": "left"
          },
          "hovermode": "closest",
          "mapbox": {
           "style": "light"
          },
          "paper_bgcolor": "white",
          "plot_bgcolor": "#E5ECF6",
          "polar": {
           "angularaxis": {
            "gridcolor": "white",
            "linecolor": "white",
            "ticks": ""
           },
           "bgcolor": "#E5ECF6",
           "radialaxis": {
            "gridcolor": "white",
            "linecolor": "white",
            "ticks": ""
           }
          },
          "scene": {
           "xaxis": {
            "backgroundcolor": "#E5ECF6",
            "gridcolor": "white",
            "gridwidth": 2,
            "linecolor": "white",
            "showbackground": true,
            "ticks": "",
            "zerolinecolor": "white"
           },
           "yaxis": {
            "backgroundcolor": "#E5ECF6",
            "gridcolor": "white",
            "gridwidth": 2,
            "linecolor": "white",
            "showbackground": true,
            "ticks": "",
            "zerolinecolor": "white"
           },
           "zaxis": {
            "backgroundcolor": "#E5ECF6",
            "gridcolor": "white",
            "gridwidth": 2,
            "linecolor": "white",
            "showbackground": true,
            "ticks": "",
            "zerolinecolor": "white"
           }
          },
          "shapedefaults": {
           "line": {
            "color": "#2a3f5f"
           }
          },
          "ternary": {
           "aaxis": {
            "gridcolor": "white",
            "linecolor": "white",
            "ticks": ""
           },
           "baxis": {
            "gridcolor": "white",
            "linecolor": "white",
            "ticks": ""
           },
           "bgcolor": "#E5ECF6",
           "caxis": {
            "gridcolor": "white",
            "linecolor": "white",
            "ticks": ""
           }
          },
          "title": {
           "x": 0.05
          },
          "xaxis": {
           "automargin": true,
           "gridcolor": "white",
           "linecolor": "white",
           "ticks": "",
           "title": {
            "standoff": 15
           },
           "zerolinecolor": "white",
           "zerolinewidth": 2
          },
          "yaxis": {
           "automargin": true,
           "gridcolor": "white",
           "linecolor": "white",
           "ticks": "",
           "title": {
            "standoff": 15
           },
           "zerolinecolor": "white",
           "zerolinewidth": 2
          }
         }
        },
        "title": {
         "text": "Average departure delays for each carrier"
        },
        "xaxis": {
         "anchor": "y",
         "domain": [
          0,
          1
         ],
         "title": {
          "text": "day_of_month"
         }
        },
        "yaxis": {
         "anchor": "x",
         "categoryorder": "category descending",
         "domain": [
          0,
          1
         ],
         "title": {
          "text": "carrier"
         },
         "type": "category"
        }
       }
      },
      "text/html": [
       "<div>                            <div id=\"a70c33d8-d121-42e4-af9f-6d09bdc6fefe\" class=\"plotly-graph-div\" style=\"height:525px; width:100%;\"></div>            <script type=\"text/javascript\">                require([\"plotly\"], function(Plotly) {                    window.PLOTLYENV=window.PLOTLYENV || {};                                    if (document.getElementById(\"a70c33d8-d121-42e4-af9f-6d09bdc6fefe\")) {                    Plotly.newPlot(                        \"a70c33d8-d121-42e4-af9f-6d09bdc6fefe\",                        [{\"coloraxis\": \"coloraxis\", \"histfunc\": \"sum\", \"hovertemplate\": \"day_of_month=%{x}<br>carrier=%{y}<br>sum of avg_delay=%{z}<extra></extra>\", \"name\": \"\", \"nbinsx\": 31, \"type\": \"histogram2d\", \"x\": [1, 2, 3, 4, 5, 6, 7, 8, 9, 10, 11, 12, 13, 14, 15, 16, 17, 18, 19, 20, 21, 22, 23, 24, 25, 26, 27, 28, 29, 30, 31, 1, 2, 3, 4, 5, 6, 7, 8, 9, 10, 11, 12, 13, 14, 15, 16, 17, 18, 19, 20, 21, 22, 23, 24, 25, 26, 27, 28, 29, 30, 31, 1, 2, 3, 4, 5, 6, 7, 8, 9, 10, 11, 12, 13, 14, 15, 16, 17, 18, 19, 20, 21, 22, 23, 24, 25, 26, 27, 28, 29, 30, 31, 1, 2, 3, 4, 5, 6, 7, 8, 9, 10, 11, 12, 13, 14, 15, 16, 17, 18, 19, 20, 21, 22, 23, 24, 25, 26, 27, 28, 29, 30, 31, 1, 2, 3, 4, 5, 6, 7, 8, 9, 10, 11, 12, 13, 14, 15, 16, 17, 18, 19, 20, 21, 22, 23, 24, 25, 26, 27, 28, 29, 30, 31, 1, 2, 3, 4, 5, 6, 7, 8, 9, 10, 11, 12, 13, 14, 15, 16, 17, 18, 19, 20, 21, 22, 23, 24, 25, 26, 27, 28, 29, 30, 31, 1, 2, 3, 4, 5, 6, 7, 8, 9, 10, 11, 12, 13, 14, 15, 16, 17, 18, 19, 20, 21, 22, 23, 24, 25, 26, 27, 28, 29, 30, 31, 1, 2, 3, 4, 5, 6, 7, 8, 9, 10, 11, 12, 13, 14, 15, 16, 17, 18, 19, 20, 21, 22, 23, 24, 25, 26, 27, 28, 29, 30, 31, 1, 2, 3, 4, 5, 6, 7, 8, 9, 10, 11, 12, 13, 14, 15, 16, 17, 18, 19, 20, 21, 22, 23, 24, 25, 26, 27, 28, 29, 30, 31, 1, 2, 3, 4, 5, 6, 7, 8, 9, 10, 11, 12, 13, 14, 15, 16, 17, 18, 19, 20, 21, 22, 23, 24, 25, 26, 27, 28, 29, 30, 31, 1, 2, 3, 4, 5, 6, 7, 8, 9, 10, 11, 12, 13, 14, 15, 16, 17, 18, 19, 20, 21, 22, 23, 24, 25, 26, 27, 28, 29, 30, 31, 1, 2, 3, 4, 5, 6, 7, 8, 9, 10, 11, 12, 13, 14, 15, 16, 17, 18, 19, 20, 21, 22, 23, 24, 25, 26, 27, 28, 29, 30, 31, 1, 2, 3, 4, 5, 6, 7, 8, 9, 10, 11, 12, 13, 14, 15, 16, 17, 18, 19, 20, 21, 22, 23, 24, 25, 26, 27, 28, 29, 30, 31, 1, 2, 3, 4, 5, 6, 7, 8, 9, 10, 11, 12, 13, 14, 15, 16, 17, 18, 19, 20, 21, 22, 23, 24, 25, 26, 27, 28, 29, 30, 31, 1, 2, 3, 4, 5, 6, 7, 8, 9, 10, 11, 12, 13, 14, 15, 16, 17, 18, 19, 20, 21, 22, 23, 24, 25, 26, 27, 28, 29, 30, 31, 1, 2, 3, 4, 5, 6, 7, 8, 9, 10, 11, 12, 13, 14, 15, 16, 17, 18, 19, 20, 21, 22, 23, 24, 25, 26, 27, 28, 29, 30, 31, 1, 2, 3, 4, 5, 6, 7, 8, 9, 10, 11, 12, 13, 14, 15, 16, 17, 18, 19, 20, 21, 22, 23, 24, 25, 26, 27, 28, 29, 30, 31], \"xaxis\": \"x\", \"xbingroup\": \"x\", \"y\": [\"Alaska Airlines Inc.\", \"Alaska Airlines Inc.\", \"Alaska Airlines Inc.\", \"Alaska Airlines Inc.\", \"Alaska Airlines Inc.\", \"Alaska Airlines Inc.\", \"Alaska Airlines Inc.\", \"Alaska Airlines Inc.\", \"Alaska Airlines Inc.\", \"Alaska Airlines Inc.\", \"Alaska Airlines Inc.\", \"Alaska Airlines Inc.\", \"Alaska Airlines Inc.\", \"Alaska Airlines Inc.\", \"Alaska Airlines Inc.\", \"Alaska Airlines Inc.\", \"Alaska Airlines Inc.\", \"Alaska Airlines Inc.\", \"Alaska Airlines Inc.\", \"Alaska Airlines Inc.\", \"Alaska Airlines Inc.\", \"Alaska Airlines Inc.\", \"Alaska Airlines Inc.\", \"Alaska Airlines Inc.\", \"Alaska Airlines Inc.\", \"Alaska Airlines Inc.\", \"Alaska Airlines Inc.\", \"Alaska Airlines Inc.\", \"Alaska Airlines Inc.\", \"Alaska Airlines Inc.\", \"Alaska Airlines Inc.\", \"Allegiant Air\", \"Allegiant Air\", \"Allegiant Air\", \"Allegiant Air\", \"Allegiant Air\", \"Allegiant Air\", \"Allegiant Air\", \"Allegiant Air\", \"Allegiant Air\", \"Allegiant Air\", \"Allegiant Air\", \"Allegiant Air\", \"Allegiant Air\", \"Allegiant Air\", \"Allegiant Air\", \"Allegiant Air\", \"Allegiant Air\", \"Allegiant Air\", \"Allegiant Air\", \"Allegiant Air\", \"Allegiant Air\", \"Allegiant Air\", \"Allegiant Air\", \"Allegiant Air\", \"Allegiant Air\", \"Allegiant Air\", \"Allegiant Air\", \"Allegiant Air\", \"Allegiant Air\", \"Allegiant Air\", \"Allegiant Air\", \"American Airlines Inc.\", \"American Airlines Inc.\", \"American Airlines Inc.\", \"American Airlines Inc.\", \"American Airlines Inc.\", \"American Airlines Inc.\", \"American Airlines Inc.\", \"American Airlines Inc.\", \"American Airlines Inc.\", \"American Airlines Inc.\", \"American Airlines Inc.\", \"American Airlines Inc.\", \"American Airlines Inc.\", \"American Airlines Inc.\", \"American Airlines Inc.\", \"American Airlines Inc.\", \"American Airlines Inc.\", \"American Airlines Inc.\", \"American Airlines Inc.\", \"American Airlines Inc.\", \"American Airlines Inc.\", \"American Airlines Inc.\", \"American Airlines Inc.\", \"American Airlines Inc.\", \"American Airlines Inc.\", \"American Airlines Inc.\", \"American Airlines Inc.\", \"American Airlines Inc.\", \"American Airlines Inc.\", \"American Airlines Inc.\", \"American Airlines Inc.\", \"American Eagle Airlines Inc.\", \"American Eagle Airlines Inc.\", \"American Eagle Airlines Inc.\", \"American Eagle Airlines Inc.\", \"American Eagle Airlines Inc.\", \"American Eagle Airlines Inc.\", \"American Eagle Airlines Inc.\", \"American Eagle Airlines Inc.\", \"American Eagle Airlines Inc.\", \"American Eagle Airlines Inc.\", \"American Eagle Airlines Inc.\", \"American Eagle Airlines Inc.\", \"American Eagle Airlines Inc.\", \"American Eagle Airlines Inc.\", \"American Eagle Airlines Inc.\", \"American Eagle Airlines Inc.\", \"American Eagle Airlines Inc.\", \"American Eagle Airlines Inc.\", \"American Eagle Airlines Inc.\", \"American Eagle Airlines Inc.\", \"American Eagle Airlines Inc.\", \"American Eagle Airlines Inc.\", \"American Eagle Airlines Inc.\", \"American Eagle Airlines Inc.\", \"American Eagle Airlines Inc.\", \"American Eagle Airlines Inc.\", \"American Eagle Airlines Inc.\", \"American Eagle Airlines Inc.\", \"American Eagle Airlines Inc.\", \"American Eagle Airlines Inc.\", \"American Eagle Airlines Inc.\", \"Atlantic Southeast Airlines\", \"Atlantic Southeast Airlines\", \"Atlantic Southeast Airlines\", \"Atlantic Southeast Airlines\", \"Atlantic Southeast Airlines\", \"Atlantic Southeast Airlines\", \"Atlantic Southeast Airlines\", \"Atlantic Southeast Airlines\", \"Atlantic Southeast Airlines\", \"Atlantic Southeast Airlines\", \"Atlantic Southeast Airlines\", \"Atlantic Southeast Airlines\", \"Atlantic Southeast Airlines\", \"Atlantic Southeast Airlines\", \"Atlantic Southeast Airlines\", \"Atlantic Southeast Airlines\", \"Atlantic Southeast Airlines\", \"Atlantic Southeast Airlines\", \"Atlantic Southeast Airlines\", \"Atlantic Southeast Airlines\", \"Atlantic Southeast Airlines\", \"Atlantic Southeast Airlines\", \"Atlantic Southeast Airlines\", \"Atlantic Southeast Airlines\", \"Atlantic Southeast Airlines\", \"Atlantic Southeast Airlines\", \"Atlantic Southeast Airlines\", \"Atlantic Southeast Airlines\", \"Atlantic Southeast Airlines\", \"Atlantic Southeast Airlines\", \"Atlantic Southeast Airlines\", \"Comair Inc.\", \"Comair Inc.\", \"Comair Inc.\", \"Comair Inc.\", \"Comair Inc.\", \"Comair Inc.\", \"Comair Inc.\", \"Comair Inc.\", \"Comair Inc.\", \"Comair Inc.\", \"Comair Inc.\", \"Comair Inc.\", \"Comair Inc.\", \"Comair Inc.\", \"Comair Inc.\", \"Comair Inc.\", \"Comair Inc.\", \"Comair Inc.\", \"Comair Inc.\", \"Comair Inc.\", \"Comair Inc.\", \"Comair Inc.\", \"Comair Inc.\", \"Comair Inc.\", \"Comair Inc.\", \"Comair Inc.\", \"Comair Inc.\", \"Comair Inc.\", \"Comair Inc.\", \"Comair Inc.\", \"Comair Inc.\", \"Delta Air Lines Inc.\", \"Delta Air Lines Inc.\", \"Delta Air Lines Inc.\", \"Delta Air Lines Inc.\", \"Delta Air Lines Inc.\", \"Delta Air Lines Inc.\", \"Delta Air Lines Inc.\", \"Delta Air Lines Inc.\", \"Delta Air Lines Inc.\", \"Delta Air Lines Inc.\", \"Delta Air Lines Inc.\", \"Delta Air Lines Inc.\", \"Delta Air Lines Inc.\", \"Delta Air Lines Inc.\", \"Delta Air Lines Inc.\", \"Delta Air Lines Inc.\", \"Delta Air Lines Inc.\", \"Delta Air Lines Inc.\", \"Delta Air Lines Inc.\", \"Delta Air Lines Inc.\", \"Delta Air Lines Inc.\", \"Delta Air Lines Inc.\", \"Delta Air Lines Inc.\", \"Delta Air Lines Inc.\", \"Delta Air Lines Inc.\", \"Delta Air Lines Inc.\", \"Delta Air Lines Inc.\", \"Delta Air Lines Inc.\", \"Delta Air Lines Inc.\", \"Delta Air Lines Inc.\", \"Delta Air Lines Inc.\", \"Frontier Airlines Inc.\", \"Frontier Airlines Inc.\", \"Frontier Airlines Inc.\", \"Frontier Airlines Inc.\", \"Frontier Airlines Inc.\", \"Frontier Airlines Inc.\", \"Frontier Airlines Inc.\", \"Frontier Airlines Inc.\", \"Frontier Airlines Inc.\", \"Frontier Airlines Inc.\", \"Frontier Airlines Inc.\", \"Frontier Airlines Inc.\", \"Frontier Airlines Inc.\", \"Frontier Airlines Inc.\", \"Frontier Airlines Inc.\", \"Frontier Airlines Inc.\", \"Frontier Airlines Inc.\", \"Frontier Airlines Inc.\", \"Frontier Airlines Inc.\", \"Frontier Airlines Inc.\", \"Frontier Airlines Inc.\", \"Frontier Airlines Inc.\", \"Frontier Airlines Inc.\", \"Frontier Airlines Inc.\", \"Frontier Airlines Inc.\", \"Frontier Airlines Inc.\", \"Frontier Airlines Inc.\", \"Frontier Airlines Inc.\", \"Frontier Airlines Inc.\", \"Frontier Airlines Inc.\", \"Frontier Airlines Inc.\", \"Hawaiian Airlines Inc.\", \"Hawaiian Airlines Inc.\", \"Hawaiian Airlines Inc.\", \"Hawaiian Airlines Inc.\", \"Hawaiian Airlines Inc.\", \"Hawaiian Airlines Inc.\", \"Hawaiian Airlines Inc.\", \"Hawaiian Airlines Inc.\", \"Hawaiian Airlines Inc.\", \"Hawaiian Airlines Inc.\", \"Hawaiian Airlines Inc.\", \"Hawaiian Airlines Inc.\", \"Hawaiian Airlines Inc.\", \"Hawaiian Airlines Inc.\", \"Hawaiian Airlines Inc.\", \"Hawaiian Airlines Inc.\", \"Hawaiian Airlines Inc.\", \"Hawaiian Airlines Inc.\", \"Hawaiian Airlines Inc.\", \"Hawaiian Airlines Inc.\", \"Hawaiian Airlines Inc.\", \"Hawaiian Airlines Inc.\", \"Hawaiian Airlines Inc.\", \"Hawaiian Airlines Inc.\", \"Hawaiian Airlines Inc.\", \"Hawaiian Airlines Inc.\", \"Hawaiian Airlines Inc.\", \"Hawaiian Airlines Inc.\", \"Hawaiian Airlines Inc.\", \"Hawaiian Airlines Inc.\", \"Hawaiian Airlines Inc.\", \"JetBlue Airways\", \"JetBlue Airways\", \"JetBlue Airways\", \"JetBlue Airways\", \"JetBlue Airways\", \"JetBlue Airways\", \"JetBlue Airways\", \"JetBlue Airways\", \"JetBlue Airways\", \"JetBlue Airways\", \"JetBlue Airways\", \"JetBlue Airways\", \"JetBlue Airways\", \"JetBlue Airways\", \"JetBlue Airways\", \"JetBlue Airways\", \"JetBlue Airways\", \"JetBlue Airways\", \"JetBlue Airways\", \"JetBlue Airways\", \"JetBlue Airways\", \"JetBlue Airways\", \"JetBlue Airways\", \"JetBlue Airways\", \"JetBlue Airways\", \"JetBlue Airways\", \"JetBlue Airways\", \"JetBlue Airways\", \"JetBlue Airways\", \"JetBlue Airways\", \"JetBlue Airways\", \"Mesa Airlines Inc.\", \"Mesa Airlines Inc.\", \"Mesa Airlines Inc.\", \"Mesa Airlines Inc.\", \"Mesa Airlines Inc.\", \"Mesa Airlines Inc.\", \"Mesa Airlines Inc.\", \"Mesa Airlines Inc.\", \"Mesa Airlines Inc.\", \"Mesa Airlines Inc.\", \"Mesa Airlines Inc.\", \"Mesa Airlines Inc.\", \"Mesa Airlines Inc.\", \"Mesa Airlines Inc.\", \"Mesa Airlines Inc.\", \"Mesa Airlines Inc.\", \"Mesa Airlines Inc.\", \"Mesa Airlines Inc.\", \"Mesa Airlines Inc.\", \"Mesa Airlines Inc.\", \"Mesa Airlines Inc.\", \"Mesa Airlines Inc.\", \"Mesa Airlines Inc.\", \"Mesa Airlines Inc.\", \"Mesa Airlines Inc.\", \"Mesa Airlines Inc.\", \"Mesa Airlines Inc.\", \"Mesa Airlines Inc.\", \"Mesa Airlines Inc.\", \"Mesa Airlines Inc.\", \"Mesa Airlines Inc.\", \"Midwest Airline, Inc.\", \"Midwest Airline, Inc.\", \"Midwest Airline, Inc.\", \"Midwest Airline, Inc.\", \"Midwest Airline, Inc.\", \"Midwest Airline, Inc.\", \"Midwest Airline, Inc.\", \"Midwest Airline, Inc.\", \"Midwest Airline, Inc.\", \"Midwest Airline, Inc.\", \"Midwest Airline, Inc.\", \"Midwest Airline, Inc.\", \"Midwest Airline, Inc.\", \"Midwest Airline, Inc.\", \"Midwest Airline, Inc.\", \"Midwest Airline, Inc.\", \"Midwest Airline, Inc.\", \"Midwest Airline, Inc.\", \"Midwest Airline, Inc.\", \"Midwest Airline, Inc.\", \"Midwest Airline, Inc.\", \"Midwest Airline, Inc.\", \"Midwest Airline, Inc.\", \"Midwest Airline, Inc.\", \"Midwest Airline, Inc.\", \"Midwest Airline, Inc.\", \"Midwest Airline, Inc.\", \"Midwest Airline, Inc.\", \"Midwest Airline, Inc.\", \"Midwest Airline, Inc.\", \"Midwest Airline, Inc.\", \"Pinnacle Airlines Inc.\", \"Pinnacle Airlines Inc.\", \"Pinnacle Airlines Inc.\", \"Pinnacle Airlines Inc.\", \"Pinnacle Airlines Inc.\", \"Pinnacle Airlines Inc.\", \"Pinnacle Airlines Inc.\", \"Pinnacle Airlines Inc.\", \"Pinnacle Airlines Inc.\", \"Pinnacle Airlines Inc.\", \"Pinnacle Airlines Inc.\", \"Pinnacle Airlines Inc.\", \"Pinnacle Airlines Inc.\", \"Pinnacle Airlines Inc.\", \"Pinnacle Airlines Inc.\", \"Pinnacle Airlines Inc.\", \"Pinnacle Airlines Inc.\", \"Pinnacle Airlines Inc.\", \"Pinnacle Airlines Inc.\", \"Pinnacle Airlines Inc.\", \"Pinnacle Airlines Inc.\", \"Pinnacle Airlines Inc.\", \"Pinnacle Airlines Inc.\", \"Pinnacle Airlines Inc.\", \"Pinnacle Airlines Inc.\", \"Pinnacle Airlines Inc.\", \"Pinnacle Airlines Inc.\", \"Pinnacle Airlines Inc.\", \"Pinnacle Airlines Inc.\", \"Pinnacle Airlines Inc.\", \"Pinnacle Airlines Inc.\", \"Skywest Airlines Inc.\", \"Skywest Airlines Inc.\", \"Skywest Airlines Inc.\", \"Skywest Airlines Inc.\", \"Skywest Airlines Inc.\", \"Skywest Airlines Inc.\", \"Skywest Airlines Inc.\", \"Skywest Airlines Inc.\", \"Skywest Airlines Inc.\", \"Skywest Airlines Inc.\", \"Skywest Airlines Inc.\", \"Skywest Airlines Inc.\", \"Skywest Airlines Inc.\", \"Skywest Airlines Inc.\", \"Skywest Airlines Inc.\", \"Skywest Airlines Inc.\", \"Skywest Airlines Inc.\", \"Skywest Airlines Inc.\", \"Skywest Airlines Inc.\", \"Skywest Airlines Inc.\", \"Skywest Airlines Inc.\", \"Skywest Airlines Inc.\", \"Skywest Airlines Inc.\", \"Skywest Airlines Inc.\", \"Skywest Airlines Inc.\", \"Skywest Airlines Inc.\", \"Skywest Airlines Inc.\", \"Skywest Airlines Inc.\", \"Skywest Airlines Inc.\", \"Skywest Airlines Inc.\", \"Skywest Airlines Inc.\", \"Southwest Airlines Co.\", \"Southwest Airlines Co.\", \"Southwest Airlines Co.\", \"Southwest Airlines Co.\", \"Southwest Airlines Co.\", \"Southwest Airlines Co.\", \"Southwest Airlines Co.\", \"Southwest Airlines Co.\", \"Southwest Airlines Co.\", \"Southwest Airlines Co.\", \"Southwest Airlines Co.\", \"Southwest Airlines Co.\", \"Southwest Airlines Co.\", \"Southwest Airlines Co.\", \"Southwest Airlines Co.\", \"Southwest Airlines Co.\", \"Southwest Airlines Co.\", \"Southwest Airlines Co.\", \"Southwest Airlines Co.\", \"Southwest Airlines Co.\", \"Southwest Airlines Co.\", \"Southwest Airlines Co.\", \"Southwest Airlines Co.\", \"Southwest Airlines Co.\", \"Southwest Airlines Co.\", \"Southwest Airlines Co.\", \"Southwest Airlines Co.\", \"Southwest Airlines Co.\", \"Southwest Airlines Co.\", \"Southwest Airlines Co.\", \"Southwest Airlines Co.\", \"Spirit Air Lines\", \"Spirit Air Lines\", \"Spirit Air Lines\", \"Spirit Air Lines\", \"Spirit Air Lines\", \"Spirit Air Lines\", \"Spirit Air Lines\", \"Spirit Air Lines\", \"Spirit Air Lines\", \"Spirit Air Lines\", \"Spirit Air Lines\", \"Spirit Air Lines\", \"Spirit Air Lines\", \"Spirit Air Lines\", \"Spirit Air Lines\", \"Spirit Air Lines\", \"Spirit Air Lines\", \"Spirit Air Lines\", \"Spirit Air Lines\", \"Spirit Air Lines\", \"Spirit Air Lines\", \"Spirit Air Lines\", \"Spirit Air Lines\", \"Spirit Air Lines\", \"Spirit Air Lines\", \"Spirit Air Lines\", \"Spirit Air Lines\", \"Spirit Air Lines\", \"Spirit Air Lines\", \"Spirit Air Lines\", \"Spirit Air Lines\", \"United Air Lines Inc.\", \"United Air Lines Inc.\", \"United Air Lines Inc.\", \"United Air Lines Inc.\", \"United Air Lines Inc.\", \"United Air Lines Inc.\", \"United Air Lines Inc.\", \"United Air Lines Inc.\", \"United Air Lines Inc.\", \"United Air Lines Inc.\", \"United Air Lines Inc.\", \"United Air Lines Inc.\", \"United Air Lines Inc.\", \"United Air Lines Inc.\", \"United Air Lines Inc.\", \"United Air Lines Inc.\", \"United Air Lines Inc.\", \"United Air Lines Inc.\", \"United Air Lines Inc.\", \"United Air Lines Inc.\", \"United Air Lines Inc.\", \"United Air Lines Inc.\", \"United Air Lines Inc.\", \"United Air Lines Inc.\", \"United Air Lines Inc.\", \"United Air Lines Inc.\", \"United Air Lines Inc.\", \"United Air Lines Inc.\", \"United Air Lines Inc.\", \"United Air Lines Inc.\", \"United Air Lines Inc.\"], \"yaxis\": \"y\", \"ybingroup\": \"y\", \"z\": [4.36468330134357, 4.748152059134108, 6.861425061425061, 43.31305201177625, 29.123469387755105, 20.427254098360656, 20.875242718446604, 19.175959079283892, 25.82359614293817, 24.185786802030453, 23.210445468509985, 13.534127843987, 4.846311475409836, 16.472646623952684, 8.327398615232443, 4.363733333333333, 5.948428290766207, 3.1476510067114094, -4.616219008264463, 0.11901159858799798, 9.142651986596457, 9.38149430974765, -3.0573986308583465, -2.256198347107438, 4.5321411309811515, -3.1530506721820064, 2.9965, -3.953333333333333, -10.55157278712509, -10.763341067285383, 1.9378200438917337, 22.472189349112426, 25.88227513227513, 17.583333333333332, 24.54666666666667, 14.43400447427293, 17.717299578059073, 13.971727748691098, 7.048433048433049, 7.865248226950356, 10.46284501061571, 13.281997918834548, -0.381489841986456, 8.378345498783455, 7.296523517382412, 27.581208053691274, 15.685847589424572, 16.27327935222672, 18.841222879684423, 10.228519195612432, 15.256020278833967, 21.67608476286579, 5.938088829071332, 12.809597523219814, 15.74747474747475, 9.63573543928924, 1.1516666666666666, 19.491186839012926, 15.206030150753767, -3.9655172413793114, 3.7707808564231735, 20.518968133535658, 21.80257566001288, 16.174175035868007, 13.683618063832604, 10.644364845848793, 7.737162629757784, 4.590191953720748, 7.7813882918194475, 8.91810570381999, 18.124134884405827, 18.874589625738675, 9.627753023551877, 13.882825040128413, 30.285871206920234, 18.214958025947595, 14.548403841162731, 7.968045649072753, 19.540928050052138, 16.484507398507652, 17.830866503808018, 20.304722222222217, 18.602683178534573, 24.9611869121738, 17.209412780656304, 23.18674540682415, 20.31382636655949, 8.094178561432969, 9.025587193281721, 20.12052706368686, 4.557965139845967, 8.418867072895509, 18.20875076671437, 29.3262987012987, 24.73734939759036, 10.199188640973633, 5.744761904761906, 0.5744590581247349, 5.165682802046439, 14.957175925925926, 14.21727343144849, 12.936776061776063, 24.12084473992961, 14.65188897455667, 18.439764936336925, 19.37682926829268, 14.050058662495113, 20.681344148319816, 0.35443037974683544, 34.13109381401065, 36.61662817551964, 20.900980392156864, 32.411029728565275, 10.128885519332828, 13.462809917355372, 27.17244748412311, 29.088732975650018, 28.674330946098763, 16.529718004338395, 1.8619740464018877, 16.888043937473594, 5.21981981981982, 11.28595178719867, 7.058663028649386, 45.36854838709678, 30.945105215004567, 22.096694214876038, 11.610492845786965, 11.540111199364574, 8.686737184703011, 19.704545454545453, 14.363418530351439, 20.742314647377942, 31.428934010152282, 28.563847429519072, 36.39483747609943, 34.012798634812285, 25.9144, 20.620634920634924, 16.114889705882348, 20.549779735682822, 32.486042692939236, 26.1, 41.64627659574468, 43.0625507717303, 33.427493713327735, 47.7689497716895, 41.58892617449664, 32.02627388535032, 21.582482993197278, 19.367346938775512, 26.90573770491803, 21.746987951807228, 29.305832147937412, 41.34207077326344, 35.479802513464996, 4.502865329512893, 10.179646017699117, 0.9661160525201186, 7.187073281747838, 5.7633986928104575, 5.186780383795308, 12.443312666076176, 6.5606936416184976, 16.013626373626373, 17.080445014976466, 8.781390695347675, 19.367633302151546, 14.934014474244359, 9.749673487157162, 0.8036127836961556, 18.380402225074878, 13.107640354579992, 21.411010915994307, 25.09163346613546, 24.431345980126466, 17.868244752121484, 12.169820475497332, 27.699322799097065, 15.908333333333333, 7.0503929727230705, 4.2860858257477235, 0.7245943637916311, 6.982911825017087, 3.149645390070922, 10.820479585223591, 7.162639536526778, 4.604027909927053, 10.070958083832336, 16.34322257383966, 0.239909998593728, 4.382904435536014, 13.134025717111768, 4.759021101261081, 1.2690332326283988, 5.966968911917099, 2.9434078833559867, 17.200846262341326, 7.4200728976828945, 7.542129972819373, 5.609443129438146, -3.2812212335072113, 0.8157418995967182, 4.319750778816199, 7.519571428571428, 41.12984469007976, 24.073727544910177, 10.000377073906488, 14.111009732360095, 12.369236729949632, 8.693968175650673, -5.272879932829555, -0.7960051546391752, 5.011870903919872, -5.651039697542533, 8.002525252525253, 1.9579988799701324, 28.44012944983819, 28.807017543859647, 17.895266868076533, 26.280612244897963, 14.093714285714285, 13.11560044893378, 22.746680286006132, 9.311758360302047, 23.991869918699194, 19.43584521384929, 11.936983471074381, 6.660756501182032, 14.4825, 36.08271474019088, 11.552492046659596, 16.61768082663605, 14.588588588588589, 22.82032854209445, 4.787283236994218, 17.614285714285714, 20.7584789311408, 22.696256684491978, 19.79770114942529, 21.004069175991866, 16.282497441146365, 14.497716894977168, 30.27735644637053, 25.123076923076926, 24.73970345963756, 21.119217081850525, 19.61846153846154, 9.351632047477743, 6.069551777434312, -0.9377845220030347, 3.1612426035502965, -0.5377643504531722, 3.5224550898203595, 10.621283255086073, 2.136363636363636, 7.558917197452228, 6.2086553323029365, 0.6467889908256881, 1.5497630331753554, 3.5808936825885977, 5.811232449297973, 10.629793510324484, 6.122102009273571, 6.027190332326285, 10.909620991253645, 16.412673879443584, 5.0795107033639155, 6.554198473282442, 10.136498516320474, -0.08641975308641975, 1.5610119047619049, 4.820089955022488, 3.888364779874214, -1.2102009273570324, 4.775700934579438, -4.979638009049773, -2.9832935560859193, -1.9074074074074077, 55.832252836304704, 34.477038425492026, 30.712809917355372, 72.39915966386555, 31.83890317052271, 16.91031941031941, 12.881018702745724, 28.98058653448988, 6.495154591601293, 32.88977035490605, 7.001214083367058, 25.943494776828107, 25.391489361702128, 13.961290322580645, 32.210398050365555, 19.078912757562478, 16.440422936152903, 33.28605865809562, 14.320952380952379, 35.281312127236575, 79.45186136071888, 65.83897950648264, 28.542343132953054, 47.68969849246231, 34.15375302663439, 17.466552315608922, 21.50224032586559, 35.58041401273885, 5.7901159243441125, 27.48772395487724, 40.46523076923077, 24.590273896031302, 23.01885606536769, 33.50694830461367, 26.232162458836445, 9.646341463414632, 8.081552305961754, 11.821760524876984, 10.172625698324023, 26.438321853475266, 23.22265193370166, 21.97161936560935, 20.191677175283736, 31.450668364099304, 24.00453257790368, 18.43441226575809, 9.802671523983001, 15.373251259093454, 18.92888643880926, 19.420595533498762, 19.10287081339713, 20.533003300330037, 23.23037831733484, 19.657265481299817, 15.049052396878484, 15.804986149584488, 16.32129963898917, 24.944729344729343, 31.40931780366057, 11.381355932203391, 8.473867595818815, 17.239669421487605, 39.24154987633965, 18.72431668237512, 2.8898267436694804, -1.1293747542272905, -5.975809758097581, -4.451124903025602, 3.4613106256941872, 7.608053195419282, 7.6960651289009485, 28.877904686884605, 8.205947136563879, 4.099618684461392, 1.3485784919653894, 4.151795631247686, 12.4375, -1.7611336032388665, 14.010187449062755, 19.485408200960478, 1.9039862837548218, 27.35488185465893, 31.671320754716984, 22.754359363153906, 21.908310749774166, 35.18089430894309, 36.070400622325934, 0.34055600981193784, 0.10094517958412097, 10.99813988095238, 1.939965694682676, 25.164926931106468, 10.078947368421053, 25.385692068429236, 8.704234527687296, 3.3210425937698664, 13.736242884250474, -4.7347689075630255, -4.486676016830295, 9.219673577415088, 4.22961657117673, 1.1945645460160592, 23.05406721870434, 8.339191564147628, 17.806134969325157, 11.676835081029553, 8.221297107800176, 20.66370106761566, -1.1445012787723785, 4.517786561264822, 16.451888489208635, 3.7957631721890284, 35.29757785467128, 42.201546860782535, 25.332281334535622, 36.33839342188489, 43.65702688990361, 39.390987710514345, 2.1331578947368417, -6.239515377446412, -0.5884955752212391, -7.1152291105121295, 22.16666666666667, 9.985127478753538, 40.216269193074154, 32.74197080291971, 26.183146449201487, 30.48095310365761, 32.23904777649198, 43.55873925501432, 34.04479456286685, 24.228043378646714, 25.397150489759568, 42.28385986862684, 23.51914380464275, 30.90946221919673, 22.012306668884086, 34.333072590738425, 26.946754412204605, 11.202810887742395, 24.393191909225454, 17.901668653158524, 9.742498728598068, 39.2052052052052, 20.898647644523702, 30.81842269326683, 37.09281277728483, 34.5035084983627, 35.19024611203382, 15.831479329237922, 19.781269160024525, 21.34704721420981, 18.025171624713963, 17.342753435312414, 15.881093935790725, 20.83339359971072, 26.023622047244096, 12.200082253752827, 3.7234294026729695, 1.5905112393077383, 11.867470989132435, 16.899181581077436, 8.075858397657706, 11.349345417925479, 17.205766710353867, 9.660295316604763, 14.336346478593425, 16.32610387084225, 21.540009144947415, 16.650488953277794, 6.821198063735378, 10.410117096018736, 12.302591049103098, 11.47343671835918, 13.617790335151989, 21.473107292150488, 28.30295543965596, 8.384035837914885, 10.915426634017706, 10.622082018927443, 3.9230769230769234, 8.472170339932761, 7.410090556274255, 2.0074423930156, 1.0802047781569966, 9.161710037174721, 17.644570707070702, 22.934877896055106, 7.064249363867685, 5.306174411203055, -0.26399447131997233, -1.1778846153846154, 5.81951530612245, 4.639846743295019, 13.255154639175258, 14.389928986442866, 5.363174603174604, 10.039188243526944, 9.250176180408738, 12.838627700127065, 6.740943267259056, -0.28040540540540543, 8.887761572606212, 10.441323345817727, 9.295103092783503, 16.972295514511877, 32.689320388349515, 33.53984753984754, 23.70095367847411, 15.220050441361913, 7.584423676012461, 1.737171464330413, 26.46485473289597, 16.9127432517263, -6.300534759358289, 0.08775731310942579, 14.638176638176637, 17.809016393442622, 18.847266154541348, 14.82664695945946, 6.712796402289452, 15.19711641919518, 24.79326823187201, 11.824066390041494, 14.185838870431896, 17.352256863657516, 22.194467905405407, 9.892018779342724, 16.41917626217892, 14.62927927927928, 32.214052953156816, 18.803676025045444, 14.579374014861516, 25.691491574786767, 12.007187063286086, 15.800525509086928, 35.31806722689076, 21.655227454110136, 43.53429383116883, 18.61402329749104, 19.819450143619203, 32.797049441786285, 8.688807418589604, 13.113654946852007, 27.853076768891558, 6.2924961715160785, 15.371467953135767, 11.923788265306122]}],                        {\"coloraxis\": {\"colorbar\": {\"title\": {\"text\": \"sum of avg_delay\"}}, \"colorscale\": [[0.0, \"rgb(255,245,240)\"], [0.125, \"rgb(254,224,210)\"], [0.25, \"rgb(252,187,161)\"], [0.375, \"rgb(252,146,114)\"], [0.5, \"rgb(251,106,74)\"], [0.625, \"rgb(239,59,44)\"], [0.75, \"rgb(203,24,29)\"], [0.875, \"rgb(165,15,21)\"], [1.0, \"rgb(103,0,13)\"]]}, \"legend\": {\"tracegroupgap\": 0}, \"template\": {\"data\": {\"bar\": [{\"error_x\": {\"color\": \"#2a3f5f\"}, \"error_y\": {\"color\": \"#2a3f5f\"}, \"marker\": {\"line\": {\"color\": \"#E5ECF6\", \"width\": 0.5}}, \"type\": \"bar\"}], \"barpolar\": [{\"marker\": {\"line\": {\"color\": \"#E5ECF6\", \"width\": 0.5}}, \"type\": \"barpolar\"}], \"carpet\": [{\"aaxis\": {\"endlinecolor\": \"#2a3f5f\", \"gridcolor\": \"white\", \"linecolor\": \"white\", \"minorgridcolor\": \"white\", \"startlinecolor\": \"#2a3f5f\"}, \"baxis\": {\"endlinecolor\": \"#2a3f5f\", \"gridcolor\": \"white\", \"linecolor\": \"white\", \"minorgridcolor\": \"white\", \"startlinecolor\": \"#2a3f5f\"}, \"type\": \"carpet\"}], \"choropleth\": [{\"colorbar\": {\"outlinewidth\": 0, \"ticks\": \"\"}, \"type\": \"choropleth\"}], \"contour\": [{\"colorbar\": {\"outlinewidth\": 0, \"ticks\": \"\"}, \"colorscale\": [[0.0, \"#0d0887\"], [0.1111111111111111, \"#46039f\"], [0.2222222222222222, \"#7201a8\"], [0.3333333333333333, \"#9c179e\"], [0.4444444444444444, \"#bd3786\"], [0.5555555555555556, \"#d8576b\"], [0.6666666666666666, \"#ed7953\"], [0.7777777777777778, \"#fb9f3a\"], [0.8888888888888888, \"#fdca26\"], [1.0, \"#f0f921\"]], \"type\": \"contour\"}], \"contourcarpet\": [{\"colorbar\": {\"outlinewidth\": 0, \"ticks\": \"\"}, \"type\": \"contourcarpet\"}], \"heatmap\": [{\"colorbar\": {\"outlinewidth\": 0, \"ticks\": \"\"}, \"colorscale\": [[0.0, \"#0d0887\"], [0.1111111111111111, \"#46039f\"], [0.2222222222222222, \"#7201a8\"], [0.3333333333333333, \"#9c179e\"], [0.4444444444444444, \"#bd3786\"], [0.5555555555555556, \"#d8576b\"], [0.6666666666666666, \"#ed7953\"], [0.7777777777777778, \"#fb9f3a\"], [0.8888888888888888, \"#fdca26\"], [1.0, \"#f0f921\"]], \"type\": \"heatmap\"}], \"heatmapgl\": [{\"colorbar\": {\"outlinewidth\": 0, \"ticks\": \"\"}, \"colorscale\": [[0.0, \"#0d0887\"], [0.1111111111111111, \"#46039f\"], [0.2222222222222222, \"#7201a8\"], [0.3333333333333333, \"#9c179e\"], [0.4444444444444444, \"#bd3786\"], [0.5555555555555556, \"#d8576b\"], [0.6666666666666666, \"#ed7953\"], [0.7777777777777778, \"#fb9f3a\"], [0.8888888888888888, \"#fdca26\"], [1.0, \"#f0f921\"]], \"type\": \"heatmapgl\"}], \"histogram\": [{\"marker\": {\"colorbar\": {\"outlinewidth\": 0, \"ticks\": \"\"}}, \"type\": \"histogram\"}], \"histogram2d\": [{\"colorbar\": {\"outlinewidth\": 0, \"ticks\": \"\"}, \"colorscale\": [[0.0, \"#0d0887\"], [0.1111111111111111, \"#46039f\"], [0.2222222222222222, \"#7201a8\"], [0.3333333333333333, \"#9c179e\"], [0.4444444444444444, \"#bd3786\"], [0.5555555555555556, \"#d8576b\"], [0.6666666666666666, \"#ed7953\"], [0.7777777777777778, \"#fb9f3a\"], [0.8888888888888888, \"#fdca26\"], [1.0, \"#f0f921\"]], \"type\": \"histogram2d\"}], \"histogram2dcontour\": [{\"colorbar\": {\"outlinewidth\": 0, \"ticks\": \"\"}, \"colorscale\": [[0.0, \"#0d0887\"], [0.1111111111111111, \"#46039f\"], [0.2222222222222222, \"#7201a8\"], [0.3333333333333333, \"#9c179e\"], [0.4444444444444444, \"#bd3786\"], [0.5555555555555556, \"#d8576b\"], [0.6666666666666666, \"#ed7953\"], [0.7777777777777778, \"#fb9f3a\"], [0.8888888888888888, \"#fdca26\"], [1.0, \"#f0f921\"]], \"type\": \"histogram2dcontour\"}], \"mesh3d\": [{\"colorbar\": {\"outlinewidth\": 0, \"ticks\": \"\"}, \"type\": \"mesh3d\"}], \"parcoords\": [{\"line\": {\"colorbar\": {\"outlinewidth\": 0, \"ticks\": \"\"}}, \"type\": \"parcoords\"}], \"pie\": [{\"automargin\": true, \"type\": \"pie\"}], \"scatter\": [{\"marker\": {\"colorbar\": {\"outlinewidth\": 0, \"ticks\": \"\"}}, \"type\": \"scatter\"}], \"scatter3d\": [{\"line\": {\"colorbar\": {\"outlinewidth\": 0, \"ticks\": \"\"}}, \"marker\": {\"colorbar\": {\"outlinewidth\": 0, \"ticks\": \"\"}}, \"type\": \"scatter3d\"}], \"scattercarpet\": [{\"marker\": {\"colorbar\": {\"outlinewidth\": 0, \"ticks\": \"\"}}, \"type\": \"scattercarpet\"}], \"scattergeo\": [{\"marker\": {\"colorbar\": {\"outlinewidth\": 0, \"ticks\": \"\"}}, \"type\": \"scattergeo\"}], \"scattergl\": [{\"marker\": {\"colorbar\": {\"outlinewidth\": 0, \"ticks\": \"\"}}, \"type\": \"scattergl\"}], \"scattermapbox\": [{\"marker\": {\"colorbar\": {\"outlinewidth\": 0, \"ticks\": \"\"}}, \"type\": \"scattermapbox\"}], \"scatterpolar\": [{\"marker\": {\"colorbar\": {\"outlinewidth\": 0, \"ticks\": \"\"}}, \"type\": \"scatterpolar\"}], \"scatterpolargl\": [{\"marker\": {\"colorbar\": {\"outlinewidth\": 0, \"ticks\": \"\"}}, \"type\": \"scatterpolargl\"}], \"scatterternary\": [{\"marker\": {\"colorbar\": {\"outlinewidth\": 0, \"ticks\": \"\"}}, \"type\": \"scatterternary\"}], \"surface\": [{\"colorbar\": {\"outlinewidth\": 0, \"ticks\": \"\"}, \"colorscale\": [[0.0, \"#0d0887\"], [0.1111111111111111, \"#46039f\"], [0.2222222222222222, \"#7201a8\"], [0.3333333333333333, \"#9c179e\"], [0.4444444444444444, \"#bd3786\"], [0.5555555555555556, \"#d8576b\"], [0.6666666666666666, \"#ed7953\"], [0.7777777777777778, \"#fb9f3a\"], [0.8888888888888888, \"#fdca26\"], [1.0, \"#f0f921\"]], \"type\": \"surface\"}], \"table\": [{\"cells\": {\"fill\": {\"color\": \"#EBF0F8\"}, \"line\": {\"color\": \"white\"}}, \"header\": {\"fill\": {\"color\": \"#C8D4E3\"}, \"line\": {\"color\": \"white\"}}, \"type\": \"table\"}]}, \"layout\": {\"annotationdefaults\": {\"arrowcolor\": \"#2a3f5f\", \"arrowhead\": 0, \"arrowwidth\": 1}, \"autotypenumbers\": \"strict\", \"coloraxis\": {\"colorbar\": {\"outlinewidth\": 0, \"ticks\": \"\"}}, \"colorscale\": {\"diverging\": [[0, \"#8e0152\"], [0.1, \"#c51b7d\"], [0.2, \"#de77ae\"], [0.3, \"#f1b6da\"], [0.4, \"#fde0ef\"], [0.5, \"#f7f7f7\"], [0.6, \"#e6f5d0\"], [0.7, \"#b8e186\"], [0.8, \"#7fbc41\"], [0.9, \"#4d9221\"], [1, \"#276419\"]], \"sequential\": [[0.0, \"#0d0887\"], [0.1111111111111111, \"#46039f\"], [0.2222222222222222, \"#7201a8\"], [0.3333333333333333, \"#9c179e\"], [0.4444444444444444, \"#bd3786\"], [0.5555555555555556, \"#d8576b\"], [0.6666666666666666, \"#ed7953\"], [0.7777777777777778, \"#fb9f3a\"], [0.8888888888888888, \"#fdca26\"], [1.0, \"#f0f921\"]], \"sequentialminus\": [[0.0, \"#0d0887\"], [0.1111111111111111, \"#46039f\"], [0.2222222222222222, \"#7201a8\"], [0.3333333333333333, \"#9c179e\"], [0.4444444444444444, \"#bd3786\"], [0.5555555555555556, \"#d8576b\"], [0.6666666666666666, \"#ed7953\"], [0.7777777777777778, \"#fb9f3a\"], [0.8888888888888888, \"#fdca26\"], [1.0, \"#f0f921\"]]}, \"colorway\": [\"#636efa\", \"#EF553B\", \"#00cc96\", \"#ab63fa\", \"#FFA15A\", \"#19d3f3\", \"#FF6692\", \"#B6E880\", \"#FF97FF\", \"#FECB52\"], \"font\": {\"color\": \"#2a3f5f\"}, \"geo\": {\"bgcolor\": \"white\", \"lakecolor\": \"white\", \"landcolor\": \"#E5ECF6\", \"showlakes\": true, \"showland\": true, \"subunitcolor\": \"white\"}, \"hoverlabel\": {\"align\": \"left\"}, \"hovermode\": \"closest\", \"mapbox\": {\"style\": \"light\"}, \"paper_bgcolor\": \"white\", \"plot_bgcolor\": \"#E5ECF6\", \"polar\": {\"angularaxis\": {\"gridcolor\": \"white\", \"linecolor\": \"white\", \"ticks\": \"\"}, \"bgcolor\": \"#E5ECF6\", \"radialaxis\": {\"gridcolor\": \"white\", \"linecolor\": \"white\", \"ticks\": \"\"}}, \"scene\": {\"xaxis\": {\"backgroundcolor\": \"#E5ECF6\", \"gridcolor\": \"white\", \"gridwidth\": 2, \"linecolor\": \"white\", \"showbackground\": true, \"ticks\": \"\", \"zerolinecolor\": \"white\"}, \"yaxis\": {\"backgroundcolor\": \"#E5ECF6\", \"gridcolor\": \"white\", \"gridwidth\": 2, \"linecolor\": \"white\", \"showbackground\": true, \"ticks\": \"\", \"zerolinecolor\": \"white\"}, \"zaxis\": {\"backgroundcolor\": \"#E5ECF6\", \"gridcolor\": \"white\", \"gridwidth\": 2, \"linecolor\": \"white\", \"showbackground\": true, \"ticks\": \"\", \"zerolinecolor\": \"white\"}}, \"shapedefaults\": {\"line\": {\"color\": \"#2a3f5f\"}}, \"ternary\": {\"aaxis\": {\"gridcolor\": \"white\", \"linecolor\": \"white\", \"ticks\": \"\"}, \"baxis\": {\"gridcolor\": \"white\", \"linecolor\": \"white\", \"ticks\": \"\"}, \"bgcolor\": \"#E5ECF6\", \"caxis\": {\"gridcolor\": \"white\", \"linecolor\": \"white\", \"ticks\": \"\"}}, \"title\": {\"x\": 0.05}, \"xaxis\": {\"automargin\": true, \"gridcolor\": \"white\", \"linecolor\": \"white\", \"ticks\": \"\", \"title\": {\"standoff\": 15}, \"zerolinecolor\": \"white\", \"zerolinewidth\": 2}, \"yaxis\": {\"automargin\": true, \"gridcolor\": \"white\", \"linecolor\": \"white\", \"ticks\": \"\", \"title\": {\"standoff\": 15}, \"zerolinecolor\": \"white\", \"zerolinewidth\": 2}}}, \"title\": {\"text\": \"Average departure delays for each carrier\"}, \"xaxis\": {\"anchor\": \"y\", \"domain\": [0.0, 1.0], \"title\": {\"text\": \"day_of_month\"}}, \"yaxis\": {\"anchor\": \"x\", \"categoryorder\": \"category descending\", \"domain\": [0.0, 1.0], \"title\": {\"text\": \"carrier\"}, \"type\": \"category\"}},                        {\"responsive\": true}                    ).then(function(){\n",
       "                            \n",
       "var gd = document.getElementById('a70c33d8-d121-42e4-af9f-6d09bdc6fefe');\n",
       "var x = new MutationObserver(function (mutations, observer) {{\n",
       "        var display = window.getComputedStyle(gd).display;\n",
       "        if (!display || display === 'none') {{\n",
       "            console.log([gd, 'removed!']);\n",
       "            Plotly.purge(gd);\n",
       "            observer.disconnect();\n",
       "        }}\n",
       "}});\n",
       "\n",
       "// Listen for the removal of the full notebook cells\n",
       "var notebookContainer = gd.closest('#notebook-container');\n",
       "if (notebookContainer) {{\n",
       "    x.observe(notebookContainer, {childList: true});\n",
       "}}\n",
       "\n",
       "// Listen for the clearing of the current output cell\n",
       "var outputEl = gd.closest('.output');\n",
       "if (outputEl) {{\n",
       "    x.observe(outputEl, {childList: true});\n",
       "}}\n",
       "\n",
       "                        })                };                });            </script>        </div>"
      ]
     },
     "metadata": {},
     "output_type": "display_data"
    }
   ],
   "source": [
    "df = pd.read_csv('airlineDelayDayMonth.csv')\n",
    "\n",
    "fig = px.density_heatmap(df, x='day_of_month', y='carrier', z='avg_delay',\n",
    "                         nbinsx=31, \n",
    "                         color_continuous_scale=\"reds\", \n",
    "                         title=\"Average departure delays for each carrier\"\n",
    "                        )\n",
    "\n",
    "fig.update_yaxes(type='category', categoryorder='category descending')\n",
    "fig.show()"
   ]
  },
  {
   "cell_type": "markdown",
   "metadata": {},
   "source": [
    "## Does departure delay affect arrival delay?"
   ]
  },
  {
   "cell_type": "code",
   "execution_count": 63,
   "metadata": {},
   "outputs": [
    {
     "data": {
      "application/vnd.plotly.v1+json": {
       "config": {
        "plotlyServerURL": "https://plot.ly"
       },
       "data": [
        {
         "hovertemplate": "avg_dep_delay=%{x}<br>avg_arr_delay=%{y}<extra></extra>",
         "legendgroup": "",
         "marker": {
          "color": "#636efa",
          "symbol": "circle"
         },
         "mode": "markers",
         "name": "",
         "orientation": "v",
         "showlegend": false,
         "type": "scatter",
         "x": [
          16.540330920372284,
          16.742179072276162,
          19.658717105263158,
          13.779031966769008,
          12.868525896414342,
          30.21491935483871,
          19.355169340463462,
          14.950403225806454,
          11.108085977482087,
          3.5133843212237093,
          13.644927536231885,
          22.63342536949813,
          23.71451483560545,
          10.558990536277603,
          5.27299703264095,
          7.984756527875795,
          12.027186761229315,
          3.74806800618238,
          16.94633077765608,
          12.537577788415511,
          18.130592284006518,
          11.796713615023474,
          13.675427069645204,
          14.103318722604886,
          4.604210526315789,
          19.87803738317757,
          5.968095238095237,
          9.39155844155844,
          16.28787878787879,
          10.672776743519977,
          12.199250468457215,
          11.588063063063064,
          6.560253365003959,
          16.466787989080984,
          6.618170266836088,
          4.69656862745098,
          6.687121517965281,
          9.780197206244864,
          16.789036544850497,
          7.695191883546538,
          4.135338345864661,
          18.845585215605745,
          5.836294416243656,
          9.041358350951374,
          9.43372216330859,
          9.70240101095198,
          0.19393939393939394,
          12.031218529707955,
          9.07473841554559,
          15.366683510190333,
          11.618930041152264,
          13.490778688524589,
          2.010355029585799,
          2.7544134954884267,
          7.832672482157017,
          3.432615124630334,
          39.27882599580713,
          14.650767543859649,
          11.463507109004741,
          5.306347396427214,
          5.767811704834607,
          12.547251878212734,
          17.8438302371243,
          6.087944035613702,
          8.357845014681477,
          6.583605220228384,
          17.267820773930758,
          21.51540342298289,
          4.624473166619837,
          6.847727272727273,
          0.15356265356265356,
          17.827280197206246,
          6.510440835266821,
          2.665399239543726,
          6.62106135986733,
          15.48680203045685,
          4.992147897823278,
          2.9557705597788533,
          11.20342857142857,
          2.327034120734908,
          0.10725075528700906,
          8.389064976228209,
          10.186546314205886,
          9.020044543429844,
          19.810175288584865,
          2.4100274725274726,
          11.580645161290322,
          1.8454715219421105,
          4.749047931713723,
          6.260431468802481,
          4.130145041160328,
          5.936197916666668,
          9.405329593267883,
          9.340198602427364,
          6.4027552674230135,
          23.148808584503712,
          9.955207166853306,
          1.5404191616766467,
          14.33063847429519,
          5.5339696799550815,
          0.16769945778466305,
          11.355949367088606,
          7.0240043644298975,
          7.800834202294056,
          3.7115952732644018,
          8.024193548387098,
          9.901945216355696,
          19.0371843917368,
          10.222705314009662,
          5.165605095541402,
          6.1644146988256106,
          10.826671601283,
          11.085158150851582,
          8.332850041425019,
          5.147104851330203,
          14.2986748216106,
          12.092050959985645,
          5.9126275510204085,
          8.48792270531401,
          7.892394965431661,
          8.488794435857805,
          17.245081967213114,
          9.664943123061011,
          8.216108452950559,
          8.137782561894513,
          8.311894273127754,
          1.9561270801815431,
          5.203176948651644,
          4.595170454545454,
          6.886061080657791,
          9.154352226720649,
          14.421587976316989,
          5.6224489795918355,
          6.046848856664808,
          5.589010989010989,
          6.600099787950605,
          5.769716088328075,
          5.038800705467372,
          11.521325915623553,
          4.696196800482946,
          9.474979903536976,
          7.6940047961630675,
          14.201869158878505,
          3.8576709796672835,
          11.557155715571554,
          14.466619569056869,
          3.5748407643312103,
          15.465816917728851,
          13.001695873374786,
          11.09114966186416,
          9.882466281310213,
          7.091620626151012,
          5.950961538461539,
          12.384015594541909,
          10.170100832967996,
          22.468279820071356,
          19.073180873180874,
          13.300507614213195,
          11.63409836065574,
          15.651199370821864,
          6.156118143459915,
          13.45475638051044,
          6.8312645461598125,
          10.01224226804124,
          16.57455770850885,
          3.2080123266563945,
          11.955298844801607,
          14.230320699708455,
          12.289744068746495,
          12.955470038482682,
          5.3953045685279175,
          8.139187116564418,
          8.547123733719248,
          8.661506707946337,
          7.707456140350878,
          5.745712523133867,
          6.821555668530757,
          14.21042413381123,
          7.806853582554518,
          7.607579462102691,
          16.07944307944308,
          5.452947638227755,
          7.214632174616005,
          11.853474320241695,
          0.7206106870229008,
          12.027731558513588,
          11.007246376811592,
          8.448566855812599,
          9.863837312113175,
          10.491033389477854,
          7.579426172148357,
          16.865911396685828,
          10.378683385579935,
          8.336739659367398,
          11.050795593635248,
          11.585945186226285,
          6.807270916334661,
          15.932355723746452,
          0.9842519685039369,
          6.5147579693034245,
          7.590542718968298,
          0.4256756756756757,
          17.719431279620853,
          2.923918212077984,
          10.285010082903877,
          13.629507656841758,
          11.91153697251258,
          2.897992625972962,
          17.96943972835314,
          16.39490532624983,
          7.263157894736842,
          9.78341232227488,
          12.031133828996284,
          7.942690058479532,
          10.860088960776386,
          5.580801944106926,
          2.3266563944530048,
          10.906716417910447,
          4.268056968463887,
          16.710858585858585,
          15.928783382789318,
          13.299661399548533,
          8.508963707914297,
          8.077340569877883,
          9.817258883248732,
          18.229314901402727,
          11.496770107663078,
          14.59771897810219,
          4.936605316973415,
          19.145632576935032,
          8.322278579789309,
          4.493530499075786,
          14.480509148766904,
          3.032710280373832,
          9.179824561403509,
          22.07513227513228,
          10.970659163987136,
          10.060220525869381,
          11.471423091676257,
          6.5105112576191075,
          11.870075894470544,
          18.48139158576052,
          15.013404825737267,
          11.262243285939968,
          7.261605206073753,
          11.874372867750349,
          10.476163450624293,
          7.720577350111028,
          9.6339632410044,
          13.784010600706713,
          15.398183983328373,
          5.402061855670104,
          9.369703389830509,
          5.3584070796460175,
          6.334699453551912,
          3.2932432432432432,
          7.540793714746172,
          10.172856178257934,
          4.203833865814697,
          9.510108864696734,
          9.975229357798163,
          8.407792665726376,
          2.7395993836671804,
          2.2064455861746852,
          6.309134906231095,
          4.583200425305688,
          1.9276079136690647,
          3.3054141601110603,
          11.851428571428572,
          2.7373427431727517,
          13.35188431200701,
          6.740450399087798,
          7.788703778951645,
          11.753652597402596,
          17.077393075356415,
          8.672250139586824,
          8.692314892820367,
          4.8866634098681,
          3.0891238670694863,
          14.91043225270158,
          10.962063086104006,
          8.913306451612904,
          5.4825056433408585,
          10.609306409130816,
          10.672,
          6.900569981000634,
          3.9146510981373366,
          14.148505146217936,
          11.994273070415204,
          10.434543454345434,
          18.47113071371291,
          8.457211250748054,
          10.375679433699911,
          2.975771971496437,
          8.735492010092514,
          5.701166180758017,
          11.426812991250186,
          18.62279355333845,
          10.703740157480317,
          6.19051176690325,
          14.27282051282051,
          16.55327868852459,
          7.882719900187149,
          10.879209699146834,
          9.968498234814883,
          10.401473296500921,
          7.360180412371133,
          12.52596789423985,
          10.186691312384474,
          11.093606651376147,
          10.808460076045627,
          5.28470715835141,
          12.884360189573462,
          7.723037469725032,
          2.864876385336744,
          -0.8011334363730036,
          10.636204634892872,
          7.5369230769230775,
          6.359489051094892,
          9.700539568345324,
          7.46801687763713,
          5.767898383371826,
          11.610029211295036,
          19.627011494252876,
          11.899681308022725,
          10.52136752136752,
          10.480750534707367,
          19.83226125680356,
          2.440366972477064,
          21.806814422758848,
          16.310567010309278,
          1.448136958710977,
          14.653617443012884,
          11.826373626373627,
          19.44411826378696,
          10.899940440738538,
          8.265664160401004,
          23.16968514906659,
          20.938992042440322,
          13.97158081705151,
          11.52523821787278,
          24.053992740471873,
          14.817363922627079,
          21.847087378640776,
          11.629032258064516,
          16.61468926553672,
          14.706302131603337,
          15.954902205057929,
          19.1248382923674,
          13.414755732801595,
          5.634192932187202,
          13.831449126413155,
          11.089912280701757,
          41.259227831989826,
          6.172596517789552,
          3.5594512195121952,
          13.126054150022194,
          7.492592592592592,
          16.27105734767025,
          23.26086956521739,
          14.439931425557168,
          12.350422535211267,
          17.700546448087433,
          11.571365051133835,
          36.07586494372655,
          19.64507236388697,
          17.314522821576762,
          14.084221748400855,
          9.380577427821523,
          5.586732186732186,
          4.768817204301075,
          12.199473089951072,
          5.108148148148149,
          17.257557063541025,
          10.181648477886274,
          20.637757800105764,
          12.652213188798553,
          21.21766561514196,
          24.071883530482253,
          8.359227249618709,
          10.34476423759951,
          11.840599150458305,
          17.357456140350877,
          0.39814814814814814,
          8.31533269045323,
          8.316358024691358,
          13.210781932977175,
          13.882893226176806,
          10.478967350037967,
          15.4421768707483,
          0.7867647058823529,
          8.866062437059416,
          24.57503789792825,
          10.219005663939585,
          9.385396109388216,
          18.641440712262238,
          1.2030038759689925,
          12.498463429625074,
          15.41674127126231,
          10.402707930367505,
          21.589807852965752,
          9.171016102165463,
          25.788837984173263,
          19.396749226006197,
          13.367704789322168,
          1.298662704309064,
          13.575050709939148,
          14.473770491803279,
          14.962391876645356,
          23.21879255560599,
          6.963930348258708,
          8.513536795471326,
          9.460714607146073,
          10.598951507208387,
          3.1085383502170765,
          18.5458341618612,
          19.155011655011656,
          9.059148700939746,
          16.284578696343402,
          19.44117647058824,
          20.374455950772926,
          5.869094488188976,
          2.197604790419162,
          11.408766564729866,
          12.593368461637322,
          6.307407407407408,
          1.8,
          3.799123904881101,
          8.822587624405019,
          5.230283911671925,
          11.222410865874364,
          12.896404109589039,
          7.073244291253769,
          2.160881992650061,
          9.521608643457382,
          10.514800727633537,
          2.2547169811320757,
          6.393548387096773,
          6.905114589155952,
          0.6095925734914904,
          10.855022831050226,
          1.6561320095091596,
          14.979420018709073,
          1.3830382106244177,
          8.062330876178034,
          2.3492373875635506,
          6.492594049023462,
          5.109476417135438,
          14.034521788341822,
          -0.2797527047913447,
          8.702857142857143,
          10.382329945269742,
          12.613587786259544,
          12.226422764227642,
          2.782414307004471,
          2.3119335347432024,
          3.7830844490216267,
          17.84864864864865,
          10.47719298245614,
          7.969350073855244,
          16.345207124274562,
          7.707172054998143,
          3.3340443686006824,
          12.330716767468795,
          8.992964824120602,
          16.200614124872054,
          11.67398119122257,
          20.818362480127185,
          9.4953897736798,
          13.628946970841515,
          7.1887421306011605,
          -0.20247148288973385,
          4.019460415745246,
          14.284665579119089,
          1.9672897196261685,
          16.796788482834994,
          5.526872498570612,
          -0.5098522167487685,
          5.4026342451874365,
          6.907230559345157,
          0.9278975741239892,
          11.271634615384615,
          6.532562385879488,
          0.7190170940170941,
          3.42,
          4.291192330736968,
          2.1512001512001517,
          -2.7058823529411766,
          11.633378932968535,
          6.351466992665037,
          15.931147540983607,
          7.072033898305085,
          -2.926169590643275,
          7.2013452914798215,
          15.796699669966994,
          3.799566630552546,
          4.540636042402827,
          11.971295577967416,
          7.339653751030504,
          5.142702200185932,
          5.68668407310705,
          11.449828178694158,
          13.614864864864865,
          4.510050251256281,
          15.948863636363635,
          13.426287744227354,
          -1.9722650231124808,
          14.217602217602217,
          8.161764705882353,
          -1.4749403341288785,
          6.516207951070338,
          11.398484848484847,
          10.873219373219372,
          11.650877909350756,
          10.029411764705884,
          7.893203883495145,
          8.60508644092013,
          4.6800818553888135,
          8.891089108910892,
          9.197963080840227,
          21.134993446920053,
          22.802825552825556,
          9.913366336633665,
          -0.8449074074074074,
          5.523418548236611,
          3.3668854850474106,
          13.64516129032258
         ],
         "xaxis": "x",
         "y": [
          8.881804043545879,
          11.697950377562027,
          19.611294311624068,
          7.080365214246973,
          8.963811976819061,
          25.81037277147488,
          16.15798922800718,
          14.422483766233766,
          6.724385245901638,
          0.9428982725527832,
          11.263275572945778,
          17.919470761189153,
          21.695967741935483,
          7.078914141414142,
          4.078635014836795,
          -0.7637416984597993,
          10.450887573964495,
          2.321483771251932,
          11.842105263157894,
          12.1744578313253,
          14.832846715328467,
          6.967483506126295,
          12.095238095238097,
          8.831559173450222,
          0.19640971488912354,
          14.720243673851922,
          -1.4245463228271251,
          0.6469055374592834,
          9.674540682414698,
          5.666427546628407,
          10.776241357636707,
          7.595345684591052,
          -1.8796384395813508,
          14.516010978957,
          0.450381679389313,
          2.303194103194103,
          3.5464503042596345,
          2.4289533209952703,
          16.685936631461924,
          2.476991150442478,
          -1.199022656597068,
          11.994214876033055,
          -2.1487603305785123,
          4.675539663620713,
          8.346153846153848,
          5.171663851351352,
          -1.1305007587253415,
          5.864048338368581,
          0.9965568862275448,
          10.904009514101258,
          10.444628099173556,
          11.031794871794872,
          1.150887573964497,
          -3.8545025560361776,
          3.914149443561208,
          -2.4752223634053365,
          33.33655462184874,
          11.562019758507136,
          2.256641366223909,
          0.44799999999999995,
          -0.4678548695098663,
          3.8080168776371313,
          12.625132797086053,
          -2.346940630966452,
          2.2900089548420106,
          0.22363041700735892,
          9.079591836734695,
          21.938174681059863,
          -4.281254394599916,
          0.3932635411925353,
          -6.133661336613367,
          14.440072739295749,
          3.1300813008130084,
          -2.097581671616461,
          1.1367474048442907,
          13.85408163265306,
          -3.377660632584046,
          -3.2197650310988255,
          2.890285714285714,
          -7.052521008403361,
          -0.6450151057401813,
          3.1405877680698966,
          5.051646223369916,
          5.353467561521253,
          12.020994001713795,
          -3.587912087912088,
          5.422604422604421,
          -6.34315100514259,
          -0.15316855114383382,
          -1.8665459718091295,
          1.1668634395907125,
          -0.14030501089324618,
          8.275668073136428,
          2.5547062074046787,
          2.2660699755899105,
          20.561604584527217,
          3.3883277216610552,
          1.9820359281437123,
          10.640349054643671,
          2.537682789651293,
          -4.589604344453066,
          9.402663934426231,
          4.810825587752871,
          6.156020942408378,
          -0.17178822658274714,
          7.175154320987653,
          2.9454834858734578,
          15.101019462465244,
          10.955339805825243,
          0.009381663113006396,
          1.6290302187381465,
          2.3621414441147377,
          8.73538961038961,
          3.570539419087137,
          5.474178403755869,
          8.440245148110318,
          4.789999100638545,
          -0.0931122448979592,
          0.9700044111160124,
          0.19527992192352053,
          5.77420604182804,
          12.078479966955804,
          4.754568106312292,
          6.126996805111821,
          1.1348435814455229,
          4.142604074402127,
          0.1712121212121212,
          2.4048762467676394,
          2.433048433048433,
          2.078231292517007,
          10.579539641943734,
          10.00748434397434,
          -0.698595146871009,
          4.119553072625698,
          -1.365799911855443,
          -1.832813085279061,
          1.9317051108095884,
          2.7624113475177303,
          5.889250814332248,
          -3.373716012084592,
          1.89214501510574,
          5.629343629343629,
          12.432060112711332,
          -2.686226065472514,
          9.132007233273058,
          10.978450578806768,
          3.9840764331210186,
          8.952380952380953,
          12.903006239364721,
          7.126196436460019,
          3.428479381443299,
          -0.6206737425011537,
          0.6271676300578035,
          11.759092686742274,
          5.836923076923077,
          19.831091648420394,
          13.858872651356993,
          6.3024439918533615,
          7.283650689428758,
          13.215045293422609,
          4.3439490445859885,
          8.77195945945946,
          -0.8563471502590674,
          4.4054228534538415,
          14.848561759729273,
          2.998454404945904,
          12.265482233502539,
          8.888455918168534,
          4.924639580602883,
          10.32707182320442,
          -0.037460317460317465,
          6.5188897455666925,
          1.146118307817737,
          3.4121900826446283,
          0.6137961335676626,
          -2.7061658223155813,
          2.8063653723742843,
          9.86584262888152,
          5.597294484911551,
          2.356807511737089,
          12.663349917081261,
          2.780102790014684,
          -0.18292189397005265,
          11.706605222734256,
          -0.0856269113149847,
          9.930439621591539,
          6.172443303380402,
          5.449292280752955,
          6.615589016829053,
          3.904340915863713,
          2.4597620713785866,
          14.28012253233492,
          9.853720050441362,
          10.161606268364347,
          6.74601226993865,
          5.6693935119887175,
          2.11455727863932,
          10.380816714150047,
          0.5545023696682464,
          0.31560283687943264,
          6.19501625135428,
          -0.7968397291196389,
          18.752390057361374,
          1.2416587225929456,
          4.353828828828829,
          8.420089805421586,
          4.435129352266096,
          -1.2983106716110424,
          15.974402730375429,
          13.928600851297544,
          1.976744186046512,
          1.8946615824594848,
          7.674929840972871,
          -0.5128872689403801,
          8.66219512195122,
          2.815085158150852,
          1.2542372881355932,
          3.505,
          0.8242827868852459,
          14.804583068109483,
          9.543829787234042,
          10.678753541076489,
          -0.24057843996494305,
          -0.4945638744749197,
          3.062261753494282,
          14.00753564154786,
          6.9164334774866445,
          6.9830818472793785,
          2.3599182004089982,
          15.354349186483107,
          5.723113023073915,
          -0.3291373565346168,
          11.6136,
          2.7722308892355696,
          7.422375554460325,
          13.958642629904562,
          3.0766129032258065,
          5.02085994040017,
          9.524526844341445,
          -0.8264606951538558,
          4.791561028612821,
          13.762794476035745,
          12.555704697986574,
          9.59920634920635,
          2.501088376142795,
          7.150272672187438,
          7.986371379897785,
          4.917038690476192,
          4.985855177783544,
          7.375444839857651,
          11.723152856715526,
          5.228613569321534,
          2.2036055143160134,
          3.119188921859545,
          0.4319890635680109,
          -3.5736486486486485,
          -0.7101653892698668,
          4.400585453726638,
          -5.262787723785166,
          6.1757387247278395,
          6.398897058823528,
          3.00106742572496,
          3.9211746522411133,
          -1.7740271917487107,
          3.578627808136005,
          0.13066666666666665,
          -3.6905083220872696,
          -2.506252894858731,
          4.803673938002296,
          -6.018563976679963,
          5.718544498027182,
          1.2326676176890157,
          6.297881010594947,
          4.72143147620984,
          17.55264235968865,
          6.674874090654728,
          1.7274941451990633,
          1.112966601178782,
          2.9380664652567976,
          10.793218223424173,
          7.432178005990586,
          7.3117408906882595,
          -0.9610389610389609,
          9.987665198237886,
          3.9519519519519513,
          1.999365884590996,
          -3.1013767209011265,
          10.407827659924353,
          7.726929092805006,
          8.4696802646086,
          14.788268380875854,
          3.577760031942504,
          6.107373213608196,
          0.3413231064237776,
          4.439425918108907,
          5.208454810495627,
          6.571662693682955,
          17.949191685912236,
          8.627218934911243,
          -1.8549532710280372,
          8.5564681724846,
          15.955665024630544,
          2.566167290886392,
          5.551708633093525,
          2.341003805037144,
          9.068710749907646,
          1.9349226804123711,
          9.02515424774561,
          9.379032258064516,
          6.84293720362121,
          3.5752380952380958,
          -1.4785442694187942,
          13.489523809523812,
          0.007285714285714286,
          -0.7222460351478782,
          -3.790805785123967,
          5.383840595576965,
          8.836166924265841,
          3.829981718464351,
          1.7706853426713356,
          2.431090015256823,
          -0.8069364161849711,
          9.776960784313726,
          16.17243367935409,
          8.432361111111113,
          6.447889182058049,
          3.1612431800467653,
          15.79075546719682,
          2.63914373088685,
          17.769602936269607,
          16.156828953037483,
          -1.3388804841149773,
          10.764940239043824,
          5.787912087912088,
          16.03298319327731,
          8.198564593301437,
          7.012674271229403,
          18.29173079613824,
          20.734042553191486,
          13.408827463218904,
          7.1990454076367385,
          18.130118289353963,
          9.897018970189704,
          21.203899268887085,
          10.036326942482342,
          15.091698113207547,
          6.844403158383651,
          8.240893213572853,
          13.54757281553398,
          8.228651237031125,
          3.5591191957874577,
          6.927029804727646,
          9.471947194719473,
          38.92426187419769,
          3.965883244882487,
          3.0671755725190843,
          7.837865953336307,
          6.031404958677687,
          9.235347159603247,
          20.46063311688312,
          10.528811763147436,
          10.863918690005647,
          10.68496660261689,
          6.271103171058508,
          29.987871183605183,
          13.774081774081775,
          16.391450125733446,
          8.73048128342246,
          0.8141025641025641,
          3.982187036120732,
          1.1978465679676986,
          10.567854435178166,
          5.043026706231454,
          13.64479426433915,
          7.083333333333332,
          16.465128660159714,
          9.25609756097561,
          15.197975964579381,
          23.73150684931507,
          0.028405620036652413,
          9.360515021459227,
          6.880824372759856,
          11.197893813075911,
          -0.4845679012345679,
          3.8694808345463367,
          4.441176470588236,
          13.985344406448462,
          5.968965517241379,
          3.6230231143552314,
          8.472070844686648,
          -3.802527646129542,
          7.006060606060606,
          19.07052257737189,
          4.994955863808324,
          1.5267470333396118,
          16.73008130081301,
          -3.4404472532814783,
          7.3336068937217895,
          12.201805869074493,
          1.976882345344182,
          20.072147651006716,
          6.028985507246378,
          21.983668341708547,
          15.031342585373462,
          9.834514435695539,
          0.25,
          7.50762970498474,
          14.682212133718533,
          13.692423671315492,
          16.292216659080566,
          0.7202492211838006,
          0.17725422474404834,
          1.187111311401532,
          5.377631578947367,
          1.4958917351377476,
          14.313397129186606,
          16.933488914819137,
          6.749030470914128,
          15.74124203821656,
          14.718724778046813,
          14.876038049222407,
          3.7551826258637715,
          2.625187406296852,
          4.861821903787103,
          7.726945337620577,
          -2.3498633346349083,
          -0.6483333333333333,
          -2.061952440550688,
          7.816052060737528,
          -3.1036842105263163,
          10.33673469387755,
          5.334905660377358,
          1.656890230752642,
          -1.8262469337694196,
          6.7791817087845985,
          5.45160219159887,
          1.6336477987421385,
          0.6994914470642626,
          1.2045899804086202,
          -3.7125129265770425,
          3.6426940639269407,
          -6.828715365239295,
          11.638238050609186,
          -7.622553588070829,
          0.4057713858797161,
          -0.4522217852929611,
          2.532344836635612,
          -0.8387516254876463,
          11.07920227920228,
          -0.9304482225656878,
          4.474039247751431,
          8.974882260596548,
          7.209993868792153,
          9.253360488798373,
          0.647,
          -2.220793950850662,
          -4.576417525773196,
          12.7204767063922,
          9.54994124559342,
          -0.5583995564590649,
          11.714371617558626,
          3.2857142857142856,
          -2.5926558497011096,
          8.028549283038368,
          6.213065326633166,
          8.872820512820512,
          5.293785310734464,
          14.730891719745223,
          7.7089142374313475,
          7.986943980567785,
          -2.0776554964758254,
          -3.7147619047619047,
          -4.611946902654867,
          12.826229508196723,
          2.808411214953271,
          14.653355518580144,
          -3.5264061829111206,
          -3.455665024630542,
          -0.8455614106201864,
          0.7388926862611073,
          -8.04312668463612,
          10.46987951807229,
          -0.6967663209273948,
          -7.029946524064171,
          -1.385934819897084,
          1.0066066066066066,
          -7.8035916824196585,
          -2.2737556561085968,
          6.435926773455378,
          -0.08177641653905053,
          9.209225700164744,
          4.309322033898305,
          -7.623994147768839,
          1.6822387722861656,
          11.752488387524883,
          -3.71180931744312,
          -1.4113475177304964,
          5.411459683691988,
          4.182044887780549,
          -4.057244802978591,
          2.776132404181185,
          3.904893177119228,
          8.533163265306122,
          -0.7682619647355163,
          13.480796586059745,
          7.916370106761565,
          -8.59860788863109,
          11.178148921363952,
          -0.11658249158249158,
          -1.5083532219570406,
          3.555079559363525,
          9.089529590288317,
          4.988347205707491,
          6.5434471478225325,
          4.5906932573599235,
          2.935191186001296,
          0.5488990563340006,
          2.378581173260573,
          1.1890934844192635,
          2.821428571428572,
          20.20707732634338,
          17.635692307692302,
          7.339669421487603,
          -1.0625,
          -3.5562815008400226,
          -1.3606437454279443,
          5.952307692307693
         ],
         "yaxis": "y"
        },
        {
         "hovertemplate": "<b>OLS trendline</b><br>avg_arr_delay = 1.01553 * avg_dep_delay + -4.51044<br>R<sup>2</sup>=0.848259<br><br>avg_dep_delay=%{x}<br>avg_arr_delay=%{y} <b>(trend)</b><extra></extra>",
         "legendgroup": "",
         "marker": {
          "color": "#636efa",
          "symbol": "circle"
         },
         "mode": "lines",
         "name": "",
         "showlegend": false,
         "type": "scatter",
         "x": [
          -2.926169590643275,
          -2.7058823529411766,
          -1.9722650231124808,
          -1.4749403341288785,
          -0.8449074074074074,
          -0.8011334363730036,
          -0.5098522167487685,
          -0.2797527047913447,
          -0.20247148288973385,
          0.10725075528700906,
          0.15356265356265356,
          0.16769945778466305,
          0.19393939393939394,
          0.39814814814814814,
          0.4256756756756757,
          0.6095925734914904,
          0.7190170940170941,
          0.7206106870229008,
          0.7867647058823529,
          0.9278975741239892,
          0.9842519685039369,
          1.2030038759689925,
          1.298662704309064,
          1.3830382106244177,
          1.448136958710977,
          1.5404191616766467,
          1.6561320095091596,
          1.8,
          1.8454715219421105,
          1.9276079136690647,
          1.9561270801815431,
          1.9672897196261685,
          2.010355029585799,
          2.1512001512001517,
          2.160881992650061,
          2.197604790419162,
          2.2064455861746852,
          2.2547169811320757,
          2.3119335347432024,
          2.3266563944530048,
          2.327034120734908,
          2.3492373875635506,
          2.4100274725274726,
          2.440366972477064,
          2.665399239543726,
          2.7373427431727517,
          2.7395993836671804,
          2.7544134954884267,
          2.782414307004471,
          2.864876385336744,
          2.897992625972962,
          2.923918212077984,
          2.9557705597788533,
          2.975771971496437,
          3.032710280373832,
          3.0891238670694863,
          3.1085383502170765,
          3.2080123266563945,
          3.2932432432432432,
          3.3054141601110603,
          3.3340443686006824,
          3.3668854850474106,
          3.42,
          3.432615124630334,
          3.5133843212237093,
          3.5594512195121952,
          3.5748407643312103,
          3.7115952732644018,
          3.74806800618238,
          3.7830844490216267,
          3.799123904881101,
          3.799566630552546,
          3.8576709796672835,
          3.9146510981373366,
          4.019460415745246,
          4.130145041160328,
          4.135338345864661,
          4.203833865814697,
          4.268056968463887,
          4.291192330736968,
          4.493530499075786,
          4.510050251256281,
          4.540636042402827,
          4.583200425305688,
          4.595170454545454,
          4.604210526315789,
          4.624473166619837,
          4.6800818553888135,
          4.696196800482946,
          4.69656862745098,
          4.749047931713723,
          4.768817204301075,
          4.8866634098681,
          4.936605316973415,
          4.992147897823278,
          5.038800705467372,
          5.108148148148149,
          5.109476417135438,
          5.142702200185932,
          5.147104851330203,
          5.165605095541402,
          5.203176948651644,
          5.230283911671925,
          5.27299703264095,
          5.28470715835141,
          5.306347396427214,
          5.3584070796460175,
          5.3953045685279175,
          5.402061855670104,
          5.4026342451874365,
          5.452947638227755,
          5.4825056433408585,
          5.523418548236611,
          5.526872498570612,
          5.5339696799550815,
          5.580801944106926,
          5.586732186732186,
          5.589010989010989,
          5.6224489795918355,
          5.634192932187202,
          5.68668407310705,
          5.701166180758017,
          5.745712523133867,
          5.767811704834607,
          5.767898383371826,
          5.769716088328075,
          5.836294416243656,
          5.869094488188976,
          5.9126275510204085,
          5.936197916666668,
          5.950961538461539,
          5.968095238095237,
          6.046848856664808,
          6.087944035613702,
          6.156118143459915,
          6.1644146988256106,
          6.172596517789552,
          6.19051176690325,
          6.260431468802481,
          6.307407407407408,
          6.309134906231095,
          6.334699453551912,
          6.351466992665037,
          6.359489051094892,
          6.393548387096773,
          6.4027552674230135,
          6.492594049023462,
          6.510440835266821,
          6.5105112576191075,
          6.5147579693034245,
          6.516207951070338,
          6.532562385879488,
          6.560253365003959,
          6.583605220228384,
          6.600099787950605,
          6.618170266836088,
          6.62106135986733,
          6.687121517965281,
          6.740450399087798,
          6.807270916334661,
          6.821555668530757,
          6.8312645461598125,
          6.847727272727273,
          6.886061080657791,
          6.900569981000634,
          6.905114589155952,
          6.907230559345157,
          6.963930348258708,
          7.0240043644298975,
          7.072033898305085,
          7.073244291253769,
          7.091620626151012,
          7.1887421306011605,
          7.2013452914798215,
          7.214632174616005,
          7.261605206073753,
          7.263157894736842,
          7.339653751030504,
          7.360180412371133,
          7.46801687763713,
          7.492592592592592,
          7.5369230769230775,
          7.540793714746172,
          7.579426172148357,
          7.590542718968298,
          7.607579462102691,
          7.6940047961630675,
          7.695191883546538,
          7.707172054998143,
          7.707456140350878,
          7.720577350111028,
          7.723037469725032,
          7.788703778951645,
          7.800834202294056,
          7.806853582554518,
          7.832672482157017,
          7.882719900187149,
          7.892394965431661,
          7.893203883495145,
          7.942690058479532,
          7.969350073855244,
          7.984756527875795,
          8.024193548387098,
          8.062330876178034,
          8.077340569877883,
          8.137782561894513,
          8.139187116564418,
          8.161764705882353,
          8.216108452950559,
          8.265664160401004,
          8.311894273127754,
          8.31533269045323,
          8.316358024691358,
          8.322278579789309,
          8.332850041425019,
          8.336739659367398,
          8.357845014681477,
          8.359227249618709,
          8.389064976228209,
          8.407792665726376,
          8.448566855812599,
          8.457211250748054,
          8.48792270531401,
          8.488794435857805,
          8.508963707914297,
          8.513536795471326,
          8.547123733719248,
          8.60508644092013,
          8.661506707946337,
          8.672250139586824,
          8.692314892820367,
          8.702857142857143,
          8.735492010092514,
          8.822587624405019,
          8.866062437059416,
          8.891089108910892,
          8.913306451612904,
          8.992964824120602,
          9.020044543429844,
          9.041358350951374,
          9.059148700939746,
          9.07473841554559,
          9.154352226720649,
          9.171016102165463,
          9.179824561403509,
          9.197963080840227,
          9.340198602427364,
          9.369703389830509,
          9.380577427821523,
          9.385396109388216,
          9.39155844155844,
          9.405329593267883,
          9.43372216330859,
          9.460714607146073,
          9.474979903536976,
          9.4953897736798,
          9.510108864696734,
          9.521608643457382,
          9.6339632410044,
          9.664943123061011,
          9.700539568345324,
          9.70240101095198,
          9.780197206244864,
          9.78341232227488,
          9.817258883248732,
          9.863837312113175,
          9.882466281310213,
          9.901945216355696,
          9.913366336633665,
          9.955207166853306,
          9.968498234814883,
          9.975229357798163,
          10.01224226804124,
          10.029411764705884,
          10.060220525869381,
          10.170100832967996,
          10.172856178257934,
          10.181648477886274,
          10.186546314205886,
          10.186691312384474,
          10.219005663939585,
          10.222705314009662,
          10.285010082903877,
          10.34476423759951,
          10.375679433699911,
          10.378683385579935,
          10.382329945269742,
          10.401473296500921,
          10.402707930367505,
          10.434543454345434,
          10.476163450624293,
          10.47719298245614,
          10.478967350037967,
          10.480750534707367,
          10.491033389477854,
          10.514800727633537,
          10.52136752136752,
          10.558990536277603,
          10.598951507208387,
          10.609306409130816,
          10.636204634892872,
          10.672,
          10.672776743519977,
          10.703740157480317,
          10.808460076045627,
          10.826671601283,
          10.855022831050226,
          10.860088960776386,
          10.873219373219372,
          10.879209699146834,
          10.899940440738538,
          10.906716417910447,
          10.962063086104006,
          10.970659163987136,
          11.007246376811592,
          11.050795593635248,
          11.085158150851582,
          11.089912280701757,
          11.09114966186416,
          11.093606651376147,
          11.108085977482087,
          11.20342857142857,
          11.222410865874364,
          11.262243285939968,
          11.271634615384615,
          11.355949367088606,
          11.398484848484847,
          11.408766564729866,
          11.426812991250186,
          11.449828178694158,
          11.463507109004741,
          11.471423091676257,
          11.496770107663078,
          11.521325915623553,
          11.52523821787278,
          11.557155715571554,
          11.571365051133835,
          11.580645161290322,
          11.585945186226285,
          11.588063063063064,
          11.610029211295036,
          11.618930041152264,
          11.629032258064516,
          11.633378932968535,
          11.63409836065574,
          11.650877909350756,
          11.67398119122257,
          11.753652597402596,
          11.796713615023474,
          11.826373626373627,
          11.840599150458305,
          11.851428571428572,
          11.853474320241695,
          11.870075894470544,
          11.874372867750349,
          11.899681308022725,
          11.91153697251258,
          11.955298844801607,
          11.971295577967416,
          11.994273070415204,
          12.027186761229315,
          12.027731558513588,
          12.031133828996284,
          12.031218529707955,
          12.092050959985645,
          12.199250468457215,
          12.199473089951072,
          12.226422764227642,
          12.289744068746495,
          12.330716767468795,
          12.350422535211267,
          12.384015594541909,
          12.498463429625074,
          12.52596789423985,
          12.537577788415511,
          12.547251878212734,
          12.593368461637322,
          12.613587786259544,
          12.652213188798553,
          12.868525896414342,
          12.884360189573462,
          12.896404109589039,
          12.955470038482682,
          13.001695873374786,
          13.126054150022194,
          13.210781932977175,
          13.299661399548533,
          13.300507614213195,
          13.35188431200701,
          13.367704789322168,
          13.414755732801595,
          13.426287744227354,
          13.45475638051044,
          13.490778688524589,
          13.575050709939148,
          13.614864864864865,
          13.628946970841515,
          13.629507656841758,
          13.644927536231885,
          13.64516129032258,
          13.675427069645204,
          13.779031966769008,
          13.784010600706713,
          13.831449126413155,
          13.882893226176806,
          13.97158081705151,
          14.034521788341822,
          14.084221748400855,
          14.103318722604886,
          14.148505146217936,
          14.201869158878505,
          14.21042413381123,
          14.217602217602217,
          14.230320699708455,
          14.27282051282051,
          14.284665579119089,
          14.2986748216106,
          14.33063847429519,
          14.421587976316989,
          14.439931425557168,
          14.466619569056869,
          14.473770491803279,
          14.480509148766904,
          14.59771897810219,
          14.650767543859649,
          14.653617443012884,
          14.706302131603337,
          14.817363922627079,
          14.91043225270158,
          14.950403225806454,
          14.962391876645356,
          14.979420018709073,
          15.013404825737267,
          15.366683510190333,
          15.398183983328373,
          15.41674127126231,
          15.4421768707483,
          15.465816917728851,
          15.48680203045685,
          15.651199370821864,
          15.796699669966994,
          15.928783382789318,
          15.931147540983607,
          15.932355723746452,
          15.948863636363635,
          15.954902205057929,
          16.07944307944308,
          16.200614124872054,
          16.27105734767025,
          16.284578696343402,
          16.28787878787879,
          16.310567010309278,
          16.345207124274562,
          16.39490532624983,
          16.466787989080984,
          16.540330920372284,
          16.55327868852459,
          16.57455770850885,
          16.61468926553672,
          16.710858585858585,
          16.742179072276162,
          16.789036544850497,
          16.796788482834994,
          16.865911396685828,
          16.94633077765608,
          17.077393075356415,
          17.245081967213114,
          17.257557063541025,
          17.267820773930758,
          17.314522821576762,
          17.357456140350877,
          17.700546448087433,
          17.719431279620853,
          17.827280197206246,
          17.8438302371243,
          17.84864864864865,
          17.96943972835314,
          18.130592284006518,
          18.229314901402727,
          18.47113071371291,
          18.48139158576052,
          18.5458341618612,
          18.62279355333845,
          18.641440712262238,
          18.845585215605745,
          19.0371843917368,
          19.073180873180874,
          19.1248382923674,
          19.145632576935032,
          19.155011655011656,
          19.355169340463462,
          19.396749226006197,
          19.44117647058824,
          19.44411826378696,
          19.627011494252876,
          19.64507236388697,
          19.658717105263158,
          19.810175288584865,
          19.83226125680356,
          19.87803738317757,
          20.374455950772926,
          20.637757800105764,
          20.818362480127185,
          20.938992042440322,
          21.134993446920053,
          21.21766561514196,
          21.51540342298289,
          21.589807852965752,
          21.806814422758848,
          21.847087378640776,
          22.07513227513228,
          22.468279820071356,
          22.63342536949813,
          22.802825552825556,
          23.148808584503712,
          23.16968514906659,
          23.21879255560599,
          23.26086956521739,
          23.71451483560545,
          24.053992740471873,
          24.071883530482253,
          24.57503789792825,
          25.788837984173263,
          30.21491935483871,
          36.07586494372655,
          39.27882599580713,
          41.259227831989826
         ],
         "xaxis": "x",
         "y": [
          -7.482048301091881,
          -7.258340586671009,
          -6.513332124866883,
          -6.008285302099753,
          -5.368469634533233,
          -5.324015969793587,
          -5.028211925149012,
          -4.79453957787048,
          -4.716058383500785,
          -4.401526980181201,
          -4.354495980919468,
          -4.340139669611059,
          -4.313492296821979,
          -4.106112722111652,
          -4.0781577650697525,
          -3.8913851254791068,
          -3.7802615322844506,
          -3.7786431950046113,
          -3.711461979636989,
          -3.5681376921596772,
          -3.5109082634564164,
          -3.2887597188803026,
          -3.1916155625716414,
          -3.1059299283614674,
          -3.0398203693238335,
          -2.946105268428652,
          -2.8285957068772567,
          -2.6824938279542776,
          -2.636316253842315,
          -2.5529045017331766,
          -2.523942508182181,
          -2.51260654254427,
          -2.468872542506902,
          -2.3258404695990462,
          -2.3160082948224328,
          -2.2787152893729976,
          -2.2697372195004046,
          -2.220716297768986,
          -2.1626113227876664,
          -2.1476598561036404,
          -2.147276264734105,
          -2.124728240042682,
          -2.0629942462417326,
          -2.0321836543018867,
          -1.8036572327916738,
          -1.7305966373065922,
          -1.7283049571686768,
          -1.7132608214698672,
          -1.684825231594003,
          -1.60108273583011,
          -1.5674522877831905,
          -1.5411241460666045,
          -1.5087772158611585,
          -1.4884652352525385,
          -1.4306428254079107,
          -1.3733532852892263,
          -1.3536373466950744,
          -1.2526188031528966,
          -1.1660644764177976,
          -1.1537045774817196,
          -1.1246298177660985,
          -1.0912787658578504,
          -1.0373395233190448,
          -1.0245285192516969,
          -0.9425051911914988,
          -0.8957229961171187,
          -0.8800944924718226,
          -0.7412165486139726,
          -0.7041774908597609,
          -0.6686173355079088,
          -0.6523288294269078,
          -0.6518792293996545,
          -0.5928726738045076,
          -0.5350078051751042,
          -0.4285710767624291,
          -0.31616781259047766,
          -0.31089386963392496,
          -0.2413347958721781,
          -0.17611447872381625,
          -0.15261988561711615,
          0.05286005798449711,
          0.06963631811489801,
          0.10069702550095627,
          0.14392232041255149,
          0.15607821246836018,
          0.16525865258390304,
          0.18583591796629761,
          0.24230806222765722,
          0.2586732296909737,
          0.2590508301459371,
          0.3123449988571183,
          0.33242123583032157,
          0.45209728050533293,
          0.5028146530090378,
          0.559219662870583,
          0.6065968649193492,
          0.6770210895130067,
          0.6783699829958163,
          0.7121116743602585,
          0.7165826870033483,
          0.7353701909544945,
          0.7735254353232834,
          0.8010532976062477,
          0.8444296400918008,
          0.8563215930056183,
          0.8782978466005202,
          0.9311658786655572,
          0.9686362877175876,
          0.975498497612417,
          0.9760797748212857,
          1.0271744014515853,
          1.057191364012235,
          1.098739537842098,
          1.1022471188667762,
          1.1094545006602559,
          1.1570139457005162,
          1.1630362692699459,
          1.1653504553059868,
          1.1993076492210681,
          1.2112339542616235,
          1.2645401434218098,
          1.2792471198058717,
          1.3244851487659854,
          1.346927472163447,
          1.347015496588524,
          1.3488614256831735,
          1.4164735385015277,
          1.449782908596088,
          1.4939919244671298,
          1.5179282753959997,
          1.5329211370921962,
          1.5503208776518909,
          1.6302973311057993,
          1.672030609221557,
          1.7412632802017205,
          1.7496886590742626,
          1.7579975199929505,
          1.7761909454238225,
          1.8471963149042745,
          1.8949016652809263,
          1.8966559875809512,
          1.9226174845382937,
          1.9396453790753903,
          1.9477919988024954,
          1.9823801859855283,
          1.991730024751563,
          2.0829637644263546,
          2.1010876639400378,
          2.101159179764733,
          2.1054718316215224,
          2.106944327760708,
          2.1235527035793185,
          2.1516736501880764,
          2.175388097807634,
          2.1921387824318987,
          2.210489847941325,
          2.213425831981726,
          2.2805117291790884,
          2.334668666426058,
          2.4025267291338546,
          2.4170332856561103,
          2.4268929164120463,
          2.4436112654728426,
          2.482540295799974,
          2.497274480895376,
          2.5018896547655007,
          2.5040384803613343,
          2.5616186666595055,
          2.622625473017999,
          2.671400778205893,
          2.6726299653477623,
          2.6912916360018464,
          2.789921179902348,
          2.8027200344526815,
          2.816213227654334,
          2.8639156257435197,
          2.865492423544654,
          2.9431760576608745,
          2.9640214436265078,
          3.0735323232740397,
          3.0984896339212415,
          3.1435084531328856,
          3.147439191698533,
          3.1866715087317674,
          3.197960666048747,
          3.215261944631778,
          3.303029234976819,
          3.3042347546798405,
          3.3164009464291464,
          3.3166894428741687,
          3.3300143902315344,
          3.3325127089802358,
          3.3991986418775637,
          3.4115174185311536,
          3.417630263806916,
          3.4438500624624693,
          3.494674584195894,
          3.504499877550608,
          3.5053213559668057,
          3.555575920038099,
          3.5826498947646384,
          3.5982955701665356,
          3.6383449430407078,
          3.677074442412649,
          3.692317196858057,
          3.7536976927511967,
          3.755124056431007,
          3.77805221584748,
          3.833239777217398,
          3.883564953409585,
          3.9305128972096997,
          3.934004704039416,
          3.935045958999628,
          3.941058444620137,
          3.951794053025245,
          3.9557440664211034,
          3.9771771319432103,
          3.978580829324078,
          4.008881856714292,
          4.0279003375746525,
          4.06930764272179,
          4.078086262190328,
          4.109274584215508,
          4.1101598504232895,
          4.130642297796807,
          4.13528639327824,
          4.169394847622736,
          4.228257561980665,
          4.2855538861577225,
          4.296464134805809,
          4.3168404404561835,
          4.327546383683679,
          4.36068798387718,
          4.449135962149444,
          4.493285823372648,
          4.518701093080765,
          4.54126341220655,
          4.622158668028324,
          4.6496588635776535,
          4.6713036180172915,
          4.689370204970586,
          4.705201986508759,
          4.786051989078552,
          4.802974610325429,
          4.811919841580166,
          4.830340004130183,
          4.97478406623581,
          5.0047469847565695,
          5.01578986772551,
          5.020683370640394,
          5.026941387490045,
          5.040926368671882,
          5.069759800043564,
          5.097171364964468,
          5.111658163584463,
          5.132384944894656,
          5.147332584368006,
          5.159010924201605,
          5.273110090744837,
          5.304571008227877,
          5.3407201719249136,
          5.342610517799712,
          5.421614681732016,
          5.424879719989227,
          5.459251828312209,
          5.506553496676088,
          5.525471724370795,
          5.545253115629921,
          5.556851575623168,
          5.599342082996842,
          5.612839526003131,
          5.61967516547904,
          5.65726278807995,
          5.674698881503569,
          5.705986021039744,
          5.817572477964393,
          5.820370606460995,
          5.829299427190134,
          5.834273313921375,
          5.834420563537219,
          5.867236671291779,
          5.870993767117972,
          5.934265963874528,
          5.9949479421568475,
          6.026343169282291,
          6.0293937645701545,
          6.033096945663238,
          6.052537542381212,
          6.053791346838163,
          6.086121192092858,
          6.1283874365601845,
          6.129432954291617,
          6.131234873097326,
          6.1330457458966,
          6.143488266137097,
          6.167624648036198,
          6.174293406665279,
          6.212500607241007,
          6.253082066095442,
          6.2635977521891215,
          6.290913636077698,
          6.327264808294971,
          6.328053612582308,
          6.3594978062632075,
          6.4658437475031905,
          6.484338049440372,
          6.513129498633741,
          6.518274291921908,
          6.531608584855374,
          6.537691924661382,
          6.558744559703279,
          6.565625749834436,
          6.621831805035579,
          6.63056135721608,
          6.667716672446178,
          6.711942093138112,
          6.746838209757077,
          6.751666158638442,
          6.75292275304943,
          6.75541789309393,
          6.770122044742945,
          6.866945056376369,
          6.886222095524116,
          6.926673007459281,
          6.936210159349472,
          7.021834095590257,
          7.065030040231465,
          7.075471404268213,
          7.09379804394302,
          7.117170596224155,
          7.131061924053328,
          7.139100820946823,
          7.164841408885327,
          7.189778503434693,
          7.193751553364536,
          7.226164645174614,
          7.240594614042696,
          7.250018819704075,
          7.255401139974491,
          7.2575519018230805,
          7.279859126094736,
          7.288898162239456,
          7.2991572397947335,
          7.303571407034979,
          7.304302005526632,
          7.321342096122584,
          7.3448041107044455,
          7.425712602576922,
          7.469442243626898,
          7.499562796310992,
          7.514009205066302,
          7.5250067782304635,
          7.527084292098434,
          7.543943644756651,
          7.5483073386382395,
          7.574008751883736,
          7.5860485034083025,
          7.630489881541135,
          7.646735001558315,
          7.67006927353992,
          7.703494026703049,
          7.7040472832446385,
          7.707502381966948,
          7.70758839785609,
          7.769365394481254,
          7.878229427084208,
          7.878455505299592,
          7.905823636561702,
          7.9701281530458425,
          8.01173704914184,
          8.031748795208301,
          8.065863465679705,
          8.182088372187884,
          8.210019908211148,
          8.22181007326019,
          8.231634376021503,
          8.278467027710413,
          8.299000304833292,
          8.338225457460034,
          8.557896927880659,
          8.573977085628552,
          8.586208015788,
          8.64619108194643,
          8.69313468148847,
          8.819423912441248,
          8.905467293213217,
          8.995726822240101,
          8.996586176374802,
          9.048760618062108,
          9.064826745442613,
          9.112608265320592,
          9.124319338307128,
          9.15323001702825,
          9.189811655974157,
          9.275392198437412,
          9.315824561623497,
          9.330125325367828,
          9.330694717335021,
          9.346354026566885,
          9.346591410238819,
          9.37732713686583,
          9.48254074333775,
          9.487596682259863,
          9.535771802489183,
          9.588014692720208,
          9.67807936672962,
          9.741997644418618,
          9.792469313079927,
          9.811862812658486,
          9.857750861620264,
          9.911943475904923,
          9.920631286915182,
          9.927920827315042,
          9.940836793725847,
          9.98399651624899,
          9.996025505020466,
          10.010252273902928,
          10.042712237363371,
          10.135073944002627,
          10.15370221837259,
          10.180804757978304,
          10.18806671559458,
          10.194910006033574,
          10.313939793241293,
          10.36781206256883,
          10.370706213099524,
          10.424208955212453,
          10.536995241374928,
          10.631508675848558,
          10.672100292184325,
          10.684275094983327,
          10.701567638943864,
          10.736080139915856,
          11.094844305634272,
          11.126833897597912,
          11.14567933100956,
          11.1715098779141,
          11.195516992143627,
          11.21682794803111,
          11.383777943199064,
          11.531537476201734,
          11.665672098869543,
          11.668072966172119,
          11.669299908809823,
          11.686064145539884,
          11.69219647719498,
          11.818671141144218,
          11.941723651628557,
          12.013260670899442,
          12.026991970266174,
          12.030343303473046,
          12.053383813840973,
          12.08856179692927,
          12.139031680208433,
          12.212030490199368,
          12.286715348217502,
          12.299864160878727,
          12.321473587622876,
          12.362228281324185,
          12.459890856201568,
          12.4916976667282,
          12.539282711610912,
          12.547155016638357,
          12.617351226064674,
          12.699019306792643,
          12.832116654469857,
          13.002409310196747,
          13.015078111693416,
          13.025501190291685,
          13.072928396909035,
          13.116528356287745,
          13.464945946813312,
          13.484124009708076,
          13.59364753502651,
          13.610454553182727,
          13.615347781862223,
          13.738014426761843,
          13.901669254315003,
          14.001924772200333,
          14.247495342910803,
          14.257915539095023,
          14.323358737535653,
          14.401513104307817,
          14.4204498041675,
          14.627764130366998,
          14.82233833368587,
          14.858893745043549,
          14.911353266982477,
          14.932470431654234,
          14.941995141945139,
          15.145260745541968,
          15.187486256459792,
          15.232603338353144,
          15.235590809800193,
          15.421323887201208,
          15.439665194253053,
          15.453521802284328,
          15.60733172960775,
          15.629760634352824,
          15.676247542595867,
          16.180374174312135,
          16.447764403230863,
          16.631173395066977,
          16.753676014638412,
          16.95272080123988,
          17.03667664903235,
          17.339037535589238,
          17.414597269089388,
          17.63497337552719,
          17.675871663631842,
          17.907457492714,
          18.30670957661109,
          18.47441939854369,
          18.646449917560428,
          18.997805148360467,
          19.019005870617637,
          19.06887578497428,
          19.11160613897945,
          19.57229531759447,
          19.917044414211475,
          19.935213000754008,
          20.446180021432895,
          21.67882720467524,
          26.17363388345059,
          32.12558441727263,
          35.37827896196977,
          37.38943118771265
         ],
         "yaxis": "y"
        }
       ],
       "layout": {
        "legend": {
         "tracegroupgap": 0
        },
        "margin": {
         "t": 60
        },
        "template": {
         "data": {
          "bar": [
           {
            "error_x": {
             "color": "#2a3f5f"
            },
            "error_y": {
             "color": "#2a3f5f"
            },
            "marker": {
             "line": {
              "color": "#E5ECF6",
              "width": 0.5
             }
            },
            "type": "bar"
           }
          ],
          "barpolar": [
           {
            "marker": {
             "line": {
              "color": "#E5ECF6",
              "width": 0.5
             }
            },
            "type": "barpolar"
           }
          ],
          "carpet": [
           {
            "aaxis": {
             "endlinecolor": "#2a3f5f",
             "gridcolor": "white",
             "linecolor": "white",
             "minorgridcolor": "white",
             "startlinecolor": "#2a3f5f"
            },
            "baxis": {
             "endlinecolor": "#2a3f5f",
             "gridcolor": "white",
             "linecolor": "white",
             "minorgridcolor": "white",
             "startlinecolor": "#2a3f5f"
            },
            "type": "carpet"
           }
          ],
          "choropleth": [
           {
            "colorbar": {
             "outlinewidth": 0,
             "ticks": ""
            },
            "type": "choropleth"
           }
          ],
          "contour": [
           {
            "colorbar": {
             "outlinewidth": 0,
             "ticks": ""
            },
            "colorscale": [
             [
              0,
              "#0d0887"
             ],
             [
              0.1111111111111111,
              "#46039f"
             ],
             [
              0.2222222222222222,
              "#7201a8"
             ],
             [
              0.3333333333333333,
              "#9c179e"
             ],
             [
              0.4444444444444444,
              "#bd3786"
             ],
             [
              0.5555555555555556,
              "#d8576b"
             ],
             [
              0.6666666666666666,
              "#ed7953"
             ],
             [
              0.7777777777777778,
              "#fb9f3a"
             ],
             [
              0.8888888888888888,
              "#fdca26"
             ],
             [
              1,
              "#f0f921"
             ]
            ],
            "type": "contour"
           }
          ],
          "contourcarpet": [
           {
            "colorbar": {
             "outlinewidth": 0,
             "ticks": ""
            },
            "type": "contourcarpet"
           }
          ],
          "heatmap": [
           {
            "colorbar": {
             "outlinewidth": 0,
             "ticks": ""
            },
            "colorscale": [
             [
              0,
              "#0d0887"
             ],
             [
              0.1111111111111111,
              "#46039f"
             ],
             [
              0.2222222222222222,
              "#7201a8"
             ],
             [
              0.3333333333333333,
              "#9c179e"
             ],
             [
              0.4444444444444444,
              "#bd3786"
             ],
             [
              0.5555555555555556,
              "#d8576b"
             ],
             [
              0.6666666666666666,
              "#ed7953"
             ],
             [
              0.7777777777777778,
              "#fb9f3a"
             ],
             [
              0.8888888888888888,
              "#fdca26"
             ],
             [
              1,
              "#f0f921"
             ]
            ],
            "type": "heatmap"
           }
          ],
          "heatmapgl": [
           {
            "colorbar": {
             "outlinewidth": 0,
             "ticks": ""
            },
            "colorscale": [
             [
              0,
              "#0d0887"
             ],
             [
              0.1111111111111111,
              "#46039f"
             ],
             [
              0.2222222222222222,
              "#7201a8"
             ],
             [
              0.3333333333333333,
              "#9c179e"
             ],
             [
              0.4444444444444444,
              "#bd3786"
             ],
             [
              0.5555555555555556,
              "#d8576b"
             ],
             [
              0.6666666666666666,
              "#ed7953"
             ],
             [
              0.7777777777777778,
              "#fb9f3a"
             ],
             [
              0.8888888888888888,
              "#fdca26"
             ],
             [
              1,
              "#f0f921"
             ]
            ],
            "type": "heatmapgl"
           }
          ],
          "histogram": [
           {
            "marker": {
             "colorbar": {
              "outlinewidth": 0,
              "ticks": ""
             }
            },
            "type": "histogram"
           }
          ],
          "histogram2d": [
           {
            "colorbar": {
             "outlinewidth": 0,
             "ticks": ""
            },
            "colorscale": [
             [
              0,
              "#0d0887"
             ],
             [
              0.1111111111111111,
              "#46039f"
             ],
             [
              0.2222222222222222,
              "#7201a8"
             ],
             [
              0.3333333333333333,
              "#9c179e"
             ],
             [
              0.4444444444444444,
              "#bd3786"
             ],
             [
              0.5555555555555556,
              "#d8576b"
             ],
             [
              0.6666666666666666,
              "#ed7953"
             ],
             [
              0.7777777777777778,
              "#fb9f3a"
             ],
             [
              0.8888888888888888,
              "#fdca26"
             ],
             [
              1,
              "#f0f921"
             ]
            ],
            "type": "histogram2d"
           }
          ],
          "histogram2dcontour": [
           {
            "colorbar": {
             "outlinewidth": 0,
             "ticks": ""
            },
            "colorscale": [
             [
              0,
              "#0d0887"
             ],
             [
              0.1111111111111111,
              "#46039f"
             ],
             [
              0.2222222222222222,
              "#7201a8"
             ],
             [
              0.3333333333333333,
              "#9c179e"
             ],
             [
              0.4444444444444444,
              "#bd3786"
             ],
             [
              0.5555555555555556,
              "#d8576b"
             ],
             [
              0.6666666666666666,
              "#ed7953"
             ],
             [
              0.7777777777777778,
              "#fb9f3a"
             ],
             [
              0.8888888888888888,
              "#fdca26"
             ],
             [
              1,
              "#f0f921"
             ]
            ],
            "type": "histogram2dcontour"
           }
          ],
          "mesh3d": [
           {
            "colorbar": {
             "outlinewidth": 0,
             "ticks": ""
            },
            "type": "mesh3d"
           }
          ],
          "parcoords": [
           {
            "line": {
             "colorbar": {
              "outlinewidth": 0,
              "ticks": ""
             }
            },
            "type": "parcoords"
           }
          ],
          "pie": [
           {
            "automargin": true,
            "type": "pie"
           }
          ],
          "scatter": [
           {
            "marker": {
             "colorbar": {
              "outlinewidth": 0,
              "ticks": ""
             }
            },
            "type": "scatter"
           }
          ],
          "scatter3d": [
           {
            "line": {
             "colorbar": {
              "outlinewidth": 0,
              "ticks": ""
             }
            },
            "marker": {
             "colorbar": {
              "outlinewidth": 0,
              "ticks": ""
             }
            },
            "type": "scatter3d"
           }
          ],
          "scattercarpet": [
           {
            "marker": {
             "colorbar": {
              "outlinewidth": 0,
              "ticks": ""
             }
            },
            "type": "scattercarpet"
           }
          ],
          "scattergeo": [
           {
            "marker": {
             "colorbar": {
              "outlinewidth": 0,
              "ticks": ""
             }
            },
            "type": "scattergeo"
           }
          ],
          "scattergl": [
           {
            "marker": {
             "colorbar": {
              "outlinewidth": 0,
              "ticks": ""
             }
            },
            "type": "scattergl"
           }
          ],
          "scattermapbox": [
           {
            "marker": {
             "colorbar": {
              "outlinewidth": 0,
              "ticks": ""
             }
            },
            "type": "scattermapbox"
           }
          ],
          "scatterpolar": [
           {
            "marker": {
             "colorbar": {
              "outlinewidth": 0,
              "ticks": ""
             }
            },
            "type": "scatterpolar"
           }
          ],
          "scatterpolargl": [
           {
            "marker": {
             "colorbar": {
              "outlinewidth": 0,
              "ticks": ""
             }
            },
            "type": "scatterpolargl"
           }
          ],
          "scatterternary": [
           {
            "marker": {
             "colorbar": {
              "outlinewidth": 0,
              "ticks": ""
             }
            },
            "type": "scatterternary"
           }
          ],
          "surface": [
           {
            "colorbar": {
             "outlinewidth": 0,
             "ticks": ""
            },
            "colorscale": [
             [
              0,
              "#0d0887"
             ],
             [
              0.1111111111111111,
              "#46039f"
             ],
             [
              0.2222222222222222,
              "#7201a8"
             ],
             [
              0.3333333333333333,
              "#9c179e"
             ],
             [
              0.4444444444444444,
              "#bd3786"
             ],
             [
              0.5555555555555556,
              "#d8576b"
             ],
             [
              0.6666666666666666,
              "#ed7953"
             ],
             [
              0.7777777777777778,
              "#fb9f3a"
             ],
             [
              0.8888888888888888,
              "#fdca26"
             ],
             [
              1,
              "#f0f921"
             ]
            ],
            "type": "surface"
           }
          ],
          "table": [
           {
            "cells": {
             "fill": {
              "color": "#EBF0F8"
             },
             "line": {
              "color": "white"
             }
            },
            "header": {
             "fill": {
              "color": "#C8D4E3"
             },
             "line": {
              "color": "white"
             }
            },
            "type": "table"
           }
          ]
         },
         "layout": {
          "annotationdefaults": {
           "arrowcolor": "#2a3f5f",
           "arrowhead": 0,
           "arrowwidth": 1
          },
          "autotypenumbers": "strict",
          "coloraxis": {
           "colorbar": {
            "outlinewidth": 0,
            "ticks": ""
           }
          },
          "colorscale": {
           "diverging": [
            [
             0,
             "#8e0152"
            ],
            [
             0.1,
             "#c51b7d"
            ],
            [
             0.2,
             "#de77ae"
            ],
            [
             0.3,
             "#f1b6da"
            ],
            [
             0.4,
             "#fde0ef"
            ],
            [
             0.5,
             "#f7f7f7"
            ],
            [
             0.6,
             "#e6f5d0"
            ],
            [
             0.7,
             "#b8e186"
            ],
            [
             0.8,
             "#7fbc41"
            ],
            [
             0.9,
             "#4d9221"
            ],
            [
             1,
             "#276419"
            ]
           ],
           "sequential": [
            [
             0,
             "#0d0887"
            ],
            [
             0.1111111111111111,
             "#46039f"
            ],
            [
             0.2222222222222222,
             "#7201a8"
            ],
            [
             0.3333333333333333,
             "#9c179e"
            ],
            [
             0.4444444444444444,
             "#bd3786"
            ],
            [
             0.5555555555555556,
             "#d8576b"
            ],
            [
             0.6666666666666666,
             "#ed7953"
            ],
            [
             0.7777777777777778,
             "#fb9f3a"
            ],
            [
             0.8888888888888888,
             "#fdca26"
            ],
            [
             1,
             "#f0f921"
            ]
           ],
           "sequentialminus": [
            [
             0,
             "#0d0887"
            ],
            [
             0.1111111111111111,
             "#46039f"
            ],
            [
             0.2222222222222222,
             "#7201a8"
            ],
            [
             0.3333333333333333,
             "#9c179e"
            ],
            [
             0.4444444444444444,
             "#bd3786"
            ],
            [
             0.5555555555555556,
             "#d8576b"
            ],
            [
             0.6666666666666666,
             "#ed7953"
            ],
            [
             0.7777777777777778,
             "#fb9f3a"
            ],
            [
             0.8888888888888888,
             "#fdca26"
            ],
            [
             1,
             "#f0f921"
            ]
           ]
          },
          "colorway": [
           "#636efa",
           "#EF553B",
           "#00cc96",
           "#ab63fa",
           "#FFA15A",
           "#19d3f3",
           "#FF6692",
           "#B6E880",
           "#FF97FF",
           "#FECB52"
          ],
          "font": {
           "color": "#2a3f5f"
          },
          "geo": {
           "bgcolor": "white",
           "lakecolor": "white",
           "landcolor": "#E5ECF6",
           "showlakes": true,
           "showland": true,
           "subunitcolor": "white"
          },
          "hoverlabel": {
           "align": "left"
          },
          "hovermode": "closest",
          "mapbox": {
           "style": "light"
          },
          "paper_bgcolor": "white",
          "plot_bgcolor": "#E5ECF6",
          "polar": {
           "angularaxis": {
            "gridcolor": "white",
            "linecolor": "white",
            "ticks": ""
           },
           "bgcolor": "#E5ECF6",
           "radialaxis": {
            "gridcolor": "white",
            "linecolor": "white",
            "ticks": ""
           }
          },
          "scene": {
           "xaxis": {
            "backgroundcolor": "#E5ECF6",
            "gridcolor": "white",
            "gridwidth": 2,
            "linecolor": "white",
            "showbackground": true,
            "ticks": "",
            "zerolinecolor": "white"
           },
           "yaxis": {
            "backgroundcolor": "#E5ECF6",
            "gridcolor": "white",
            "gridwidth": 2,
            "linecolor": "white",
            "showbackground": true,
            "ticks": "",
            "zerolinecolor": "white"
           },
           "zaxis": {
            "backgroundcolor": "#E5ECF6",
            "gridcolor": "white",
            "gridwidth": 2,
            "linecolor": "white",
            "showbackground": true,
            "ticks": "",
            "zerolinecolor": "white"
           }
          },
          "shapedefaults": {
           "line": {
            "color": "#2a3f5f"
           }
          },
          "ternary": {
           "aaxis": {
            "gridcolor": "white",
            "linecolor": "white",
            "ticks": ""
           },
           "baxis": {
            "gridcolor": "white",
            "linecolor": "white",
            "ticks": ""
           },
           "bgcolor": "#E5ECF6",
           "caxis": {
            "gridcolor": "white",
            "linecolor": "white",
            "ticks": ""
           }
          },
          "title": {
           "x": 0.05
          },
          "xaxis": {
           "automargin": true,
           "gridcolor": "white",
           "linecolor": "white",
           "ticks": "",
           "title": {
            "standoff": 15
           },
           "zerolinecolor": "white",
           "zerolinewidth": 2
          },
          "yaxis": {
           "automargin": true,
           "gridcolor": "white",
           "linecolor": "white",
           "ticks": "",
           "title": {
            "standoff": 15
           },
           "zerolinecolor": "white",
           "zerolinewidth": 2
          }
         }
        },
        "xaxis": {
         "anchor": "y",
         "domain": [
          0,
          1
         ],
         "title": {
          "text": "avg_dep_delay"
         }
        },
        "yaxis": {
         "anchor": "x",
         "domain": [
          0,
          1
         ],
         "title": {
          "text": "avg_arr_delay"
         }
        }
       }
      },
      "text/html": [
       "<div>                            <div id=\"37bf1067-412e-48ed-a2c9-7c1bf87d7735\" class=\"plotly-graph-div\" style=\"height:525px; width:100%;\"></div>            <script type=\"text/javascript\">                require([\"plotly\"], function(Plotly) {                    window.PLOTLYENV=window.PLOTLYENV || {};                                    if (document.getElementById(\"37bf1067-412e-48ed-a2c9-7c1bf87d7735\")) {                    Plotly.newPlot(                        \"37bf1067-412e-48ed-a2c9-7c1bf87d7735\",                        [{\"hovertemplate\": \"avg_dep_delay=%{x}<br>avg_arr_delay=%{y}<extra></extra>\", \"legendgroup\": \"\", \"marker\": {\"color\": \"#636efa\", \"symbol\": \"circle\"}, \"mode\": \"markers\", \"name\": \"\", \"orientation\": \"v\", \"showlegend\": false, \"type\": \"scatter\", \"x\": [16.540330920372284, 16.742179072276162, 19.658717105263158, 13.779031966769008, 12.868525896414342, 30.21491935483871, 19.355169340463462, 14.950403225806454, 11.108085977482087, 3.5133843212237093, 13.644927536231885, 22.63342536949813, 23.71451483560545, 10.558990536277603, 5.27299703264095, 7.984756527875795, 12.027186761229315, 3.74806800618238, 16.94633077765608, 12.537577788415511, 18.130592284006518, 11.796713615023474, 13.675427069645204, 14.103318722604886, 4.604210526315789, 19.87803738317757, 5.968095238095237, 9.39155844155844, 16.28787878787879, 10.672776743519977, 12.199250468457215, 11.588063063063064, 6.560253365003959, 16.466787989080984, 6.618170266836088, 4.69656862745098, 6.687121517965281, 9.780197206244864, 16.789036544850497, 7.695191883546538, 4.135338345864661, 18.845585215605745, 5.836294416243656, 9.041358350951374, 9.43372216330859, 9.70240101095198, 0.19393939393939394, 12.031218529707955, 9.07473841554559, 15.366683510190333, 11.618930041152264, 13.490778688524589, 2.010355029585799, 2.7544134954884267, 7.832672482157017, 3.432615124630334, 39.27882599580713, 14.650767543859649, 11.463507109004741, 5.306347396427214, 5.767811704834607, 12.547251878212734, 17.8438302371243, 6.087944035613702, 8.357845014681477, 6.583605220228384, 17.267820773930758, 21.51540342298289, 4.624473166619837, 6.847727272727273, 0.15356265356265356, 17.827280197206246, 6.510440835266821, 2.665399239543726, 6.62106135986733, 15.48680203045685, 4.992147897823278, 2.9557705597788533, 11.20342857142857, 2.327034120734908, 0.10725075528700906, 8.389064976228209, 10.186546314205886, 9.020044543429844, 19.810175288584865, 2.4100274725274726, 11.580645161290322, 1.8454715219421105, 4.749047931713723, 6.260431468802481, 4.130145041160328, 5.936197916666668, 9.405329593267883, 9.340198602427364, 6.4027552674230135, 23.148808584503712, 9.955207166853306, 1.5404191616766467, 14.33063847429519, 5.5339696799550815, 0.16769945778466305, 11.355949367088606, 7.0240043644298975, 7.800834202294056, 3.7115952732644018, 8.024193548387098, 9.901945216355696, 19.0371843917368, 10.222705314009662, 5.165605095541402, 6.1644146988256106, 10.826671601283, 11.085158150851582, 8.332850041425019, 5.147104851330203, 14.2986748216106, 12.092050959985645, 5.9126275510204085, 8.48792270531401, 7.892394965431661, 8.488794435857805, 17.245081967213114, 9.664943123061011, 8.216108452950559, 8.137782561894513, 8.311894273127754, 1.9561270801815431, 5.203176948651644, 4.595170454545454, 6.886061080657791, 9.154352226720649, 14.421587976316989, 5.6224489795918355, 6.046848856664808, 5.589010989010989, 6.600099787950605, 5.769716088328075, 5.038800705467372, 11.521325915623553, 4.696196800482946, 9.474979903536976, 7.6940047961630675, 14.201869158878505, 3.8576709796672835, 11.557155715571554, 14.466619569056869, 3.5748407643312103, 15.465816917728851, 13.001695873374786, 11.09114966186416, 9.882466281310213, 7.091620626151012, 5.950961538461539, 12.384015594541909, 10.170100832967996, 22.468279820071356, 19.073180873180874, 13.300507614213195, 11.63409836065574, 15.651199370821864, 6.156118143459915, 13.45475638051044, 6.8312645461598125, 10.01224226804124, 16.57455770850885, 3.2080123266563945, 11.955298844801607, 14.230320699708455, 12.289744068746495, 12.955470038482682, 5.3953045685279175, 8.139187116564418, 8.547123733719248, 8.661506707946337, 7.707456140350878, 5.745712523133867, 6.821555668530757, 14.21042413381123, 7.806853582554518, 7.607579462102691, 16.07944307944308, 5.452947638227755, 7.214632174616005, 11.853474320241695, 0.7206106870229008, 12.027731558513588, 11.007246376811592, 8.448566855812599, 9.863837312113175, 10.491033389477854, 7.579426172148357, 16.865911396685828, 10.378683385579935, 8.336739659367398, 11.050795593635248, 11.585945186226285, 6.807270916334661, 15.932355723746452, 0.9842519685039369, 6.5147579693034245, 7.590542718968298, 0.4256756756756757, 17.719431279620853, 2.923918212077984, 10.285010082903877, 13.629507656841758, 11.91153697251258, 2.897992625972962, 17.96943972835314, 16.39490532624983, 7.263157894736842, 9.78341232227488, 12.031133828996284, 7.942690058479532, 10.860088960776386, 5.580801944106926, 2.3266563944530048, 10.906716417910447, 4.268056968463887, 16.710858585858585, 15.928783382789318, 13.299661399548533, 8.508963707914297, 8.077340569877883, 9.817258883248732, 18.229314901402727, 11.496770107663078, 14.59771897810219, 4.936605316973415, 19.145632576935032, 8.322278579789309, 4.493530499075786, 14.480509148766904, 3.032710280373832, 9.179824561403509, 22.07513227513228, 10.970659163987136, 10.060220525869381, 11.471423091676257, 6.5105112576191075, 11.870075894470544, 18.48139158576052, 15.013404825737267, 11.262243285939968, 7.261605206073753, 11.874372867750349, 10.476163450624293, 7.720577350111028, 9.6339632410044, 13.784010600706713, 15.398183983328373, 5.402061855670104, 9.369703389830509, 5.3584070796460175, 6.334699453551912, 3.2932432432432432, 7.540793714746172, 10.172856178257934, 4.203833865814697, 9.510108864696734, 9.975229357798163, 8.407792665726376, 2.7395993836671804, 2.2064455861746852, 6.309134906231095, 4.583200425305688, 1.9276079136690647, 3.3054141601110603, 11.851428571428572, 2.7373427431727517, 13.35188431200701, 6.740450399087798, 7.788703778951645, 11.753652597402596, 17.077393075356415, 8.672250139586824, 8.692314892820367, 4.8866634098681, 3.0891238670694863, 14.91043225270158, 10.962063086104006, 8.913306451612904, 5.4825056433408585, 10.609306409130816, 10.672, 6.900569981000634, 3.9146510981373366, 14.148505146217936, 11.994273070415204, 10.434543454345434, 18.47113071371291, 8.457211250748054, 10.375679433699911, 2.975771971496437, 8.735492010092514, 5.701166180758017, 11.426812991250186, 18.62279355333845, 10.703740157480317, 6.19051176690325, 14.27282051282051, 16.55327868852459, 7.882719900187149, 10.879209699146834, 9.968498234814883, 10.401473296500921, 7.360180412371133, 12.52596789423985, 10.186691312384474, 11.093606651376147, 10.808460076045627, 5.28470715835141, 12.884360189573462, 7.723037469725032, 2.864876385336744, -0.8011334363730036, 10.636204634892872, 7.5369230769230775, 6.359489051094892, 9.700539568345324, 7.46801687763713, 5.767898383371826, 11.610029211295036, 19.627011494252876, 11.899681308022725, 10.52136752136752, 10.480750534707367, 19.83226125680356, 2.440366972477064, 21.806814422758848, 16.310567010309278, 1.448136958710977, 14.653617443012884, 11.826373626373627, 19.44411826378696, 10.899940440738538, 8.265664160401004, 23.16968514906659, 20.938992042440322, 13.97158081705151, 11.52523821787278, 24.053992740471873, 14.817363922627079, 21.847087378640776, 11.629032258064516, 16.61468926553672, 14.706302131603337, 15.954902205057929, 19.1248382923674, 13.414755732801595, 5.634192932187202, 13.831449126413155, 11.089912280701757, 41.259227831989826, 6.172596517789552, 3.5594512195121952, 13.126054150022194, 7.492592592592592, 16.27105734767025, 23.26086956521739, 14.439931425557168, 12.350422535211267, 17.700546448087433, 11.571365051133835, 36.07586494372655, 19.64507236388697, 17.314522821576762, 14.084221748400855, 9.380577427821523, 5.586732186732186, 4.768817204301075, 12.199473089951072, 5.108148148148149, 17.257557063541025, 10.181648477886274, 20.637757800105764, 12.652213188798553, 21.21766561514196, 24.071883530482253, 8.359227249618709, 10.34476423759951, 11.840599150458305, 17.357456140350877, 0.39814814814814814, 8.31533269045323, 8.316358024691358, 13.210781932977175, 13.882893226176806, 10.478967350037967, 15.4421768707483, 0.7867647058823529, 8.866062437059416, 24.57503789792825, 10.219005663939585, 9.385396109388216, 18.641440712262238, 1.2030038759689925, 12.498463429625074, 15.41674127126231, 10.402707930367505, 21.589807852965752, 9.171016102165463, 25.788837984173263, 19.396749226006197, 13.367704789322168, 1.298662704309064, 13.575050709939148, 14.473770491803279, 14.962391876645356, 23.21879255560599, 6.963930348258708, 8.513536795471326, 9.460714607146073, 10.598951507208387, 3.1085383502170765, 18.5458341618612, 19.155011655011656, 9.059148700939746, 16.284578696343402, 19.44117647058824, 20.374455950772926, 5.869094488188976, 2.197604790419162, 11.408766564729866, 12.593368461637322, 6.307407407407408, 1.8, 3.799123904881101, 8.822587624405019, 5.230283911671925, 11.222410865874364, 12.896404109589039, 7.073244291253769, 2.160881992650061, 9.521608643457382, 10.514800727633537, 2.2547169811320757, 6.393548387096773, 6.905114589155952, 0.6095925734914904, 10.855022831050226, 1.6561320095091596, 14.979420018709073, 1.3830382106244177, 8.062330876178034, 2.3492373875635506, 6.492594049023462, 5.109476417135438, 14.034521788341822, -0.2797527047913447, 8.702857142857143, 10.382329945269742, 12.613587786259544, 12.226422764227642, 2.782414307004471, 2.3119335347432024, 3.7830844490216267, 17.84864864864865, 10.47719298245614, 7.969350073855244, 16.345207124274562, 7.707172054998143, 3.3340443686006824, 12.330716767468795, 8.992964824120602, 16.200614124872054, 11.67398119122257, 20.818362480127185, 9.4953897736798, 13.628946970841515, 7.1887421306011605, -0.20247148288973385, 4.019460415745246, 14.284665579119089, 1.9672897196261685, 16.796788482834994, 5.526872498570612, -0.5098522167487685, 5.4026342451874365, 6.907230559345157, 0.9278975741239892, 11.271634615384615, 6.532562385879488, 0.7190170940170941, 3.42, 4.291192330736968, 2.1512001512001517, -2.7058823529411766, 11.633378932968535, 6.351466992665037, 15.931147540983607, 7.072033898305085, -2.926169590643275, 7.2013452914798215, 15.796699669966994, 3.799566630552546, 4.540636042402827, 11.971295577967416, 7.339653751030504, 5.142702200185932, 5.68668407310705, 11.449828178694158, 13.614864864864865, 4.510050251256281, 15.948863636363635, 13.426287744227354, -1.9722650231124808, 14.217602217602217, 8.161764705882353, -1.4749403341288785, 6.516207951070338, 11.398484848484847, 10.873219373219372, 11.650877909350756, 10.029411764705884, 7.893203883495145, 8.60508644092013, 4.6800818553888135, 8.891089108910892, 9.197963080840227, 21.134993446920053, 22.802825552825556, 9.913366336633665, -0.8449074074074074, 5.523418548236611, 3.3668854850474106, 13.64516129032258], \"xaxis\": \"x\", \"y\": [8.881804043545879, 11.697950377562027, 19.611294311624068, 7.080365214246973, 8.963811976819061, 25.81037277147488, 16.15798922800718, 14.422483766233766, 6.724385245901638, 0.9428982725527832, 11.263275572945778, 17.919470761189153, 21.695967741935483, 7.078914141414142, 4.078635014836795, -0.7637416984597993, 10.450887573964495, 2.321483771251932, 11.842105263157894, 12.1744578313253, 14.832846715328467, 6.967483506126295, 12.095238095238097, 8.831559173450222, 0.19640971488912354, 14.720243673851922, -1.4245463228271251, 0.6469055374592834, 9.674540682414698, 5.666427546628407, 10.776241357636707, 7.595345684591052, -1.8796384395813508, 14.516010978957, 0.450381679389313, 2.303194103194103, 3.5464503042596345, 2.4289533209952703, 16.685936631461924, 2.476991150442478, -1.199022656597068, 11.994214876033055, -2.1487603305785123, 4.675539663620713, 8.346153846153848, 5.171663851351352, -1.1305007587253415, 5.864048338368581, 0.9965568862275448, 10.904009514101258, 10.444628099173556, 11.031794871794872, 1.150887573964497, -3.8545025560361776, 3.914149443561208, -2.4752223634053365, 33.33655462184874, 11.562019758507136, 2.256641366223909, 0.44799999999999995, -0.4678548695098663, 3.8080168776371313, 12.625132797086053, -2.346940630966452, 2.2900089548420106, 0.22363041700735892, 9.079591836734695, 21.938174681059863, -4.281254394599916, 0.3932635411925353, -6.133661336613367, 14.440072739295749, 3.1300813008130084, -2.097581671616461, 1.1367474048442907, 13.85408163265306, -3.377660632584046, -3.2197650310988255, 2.890285714285714, -7.052521008403361, -0.6450151057401813, 3.1405877680698966, 5.051646223369916, 5.353467561521253, 12.020994001713795, -3.587912087912088, 5.422604422604421, -6.34315100514259, -0.15316855114383382, -1.8665459718091295, 1.1668634395907125, -0.14030501089324618, 8.275668073136428, 2.5547062074046787, 2.2660699755899105, 20.561604584527217, 3.3883277216610552, 1.9820359281437123, 10.640349054643671, 2.537682789651293, -4.589604344453066, 9.402663934426231, 4.810825587752871, 6.156020942408378, -0.17178822658274714, 7.175154320987653, 2.9454834858734578, 15.101019462465244, 10.955339805825243, 0.009381663113006396, 1.6290302187381465, 2.3621414441147377, 8.73538961038961, 3.570539419087137, 5.474178403755869, 8.440245148110318, 4.789999100638545, -0.0931122448979592, 0.9700044111160124, 0.19527992192352053, 5.77420604182804, 12.078479966955804, 4.754568106312292, 6.126996805111821, 1.1348435814455229, 4.142604074402127, 0.1712121212121212, 2.4048762467676394, 2.433048433048433, 2.078231292517007, 10.579539641943734, 10.00748434397434, -0.698595146871009, 4.119553072625698, -1.365799911855443, -1.832813085279061, 1.9317051108095884, 2.7624113475177303, 5.889250814332248, -3.373716012084592, 1.89214501510574, 5.629343629343629, 12.432060112711332, -2.686226065472514, 9.132007233273058, 10.978450578806768, 3.9840764331210186, 8.952380952380953, 12.903006239364721, 7.126196436460019, 3.428479381443299, -0.6206737425011537, 0.6271676300578035, 11.759092686742274, 5.836923076923077, 19.831091648420394, 13.858872651356993, 6.3024439918533615, 7.283650689428758, 13.215045293422609, 4.3439490445859885, 8.77195945945946, -0.8563471502590674, 4.4054228534538415, 14.848561759729273, 2.998454404945904, 12.265482233502539, 8.888455918168534, 4.924639580602883, 10.32707182320442, -0.037460317460317465, 6.5188897455666925, 1.146118307817737, 3.4121900826446283, 0.6137961335676626, -2.7061658223155813, 2.8063653723742843, 9.86584262888152, 5.597294484911551, 2.356807511737089, 12.663349917081261, 2.780102790014684, -0.18292189397005265, 11.706605222734256, -0.0856269113149847, 9.930439621591539, 6.172443303380402, 5.449292280752955, 6.615589016829053, 3.904340915863713, 2.4597620713785866, 14.28012253233492, 9.853720050441362, 10.161606268364347, 6.74601226993865, 5.6693935119887175, 2.11455727863932, 10.380816714150047, 0.5545023696682464, 0.31560283687943264, 6.19501625135428, -0.7968397291196389, 18.752390057361374, 1.2416587225929456, 4.353828828828829, 8.420089805421586, 4.435129352266096, -1.2983106716110424, 15.974402730375429, 13.928600851297544, 1.976744186046512, 1.8946615824594848, 7.674929840972871, -0.5128872689403801, 8.66219512195122, 2.815085158150852, 1.2542372881355932, 3.505, 0.8242827868852459, 14.804583068109483, 9.543829787234042, 10.678753541076489, -0.24057843996494305, -0.4945638744749197, 3.062261753494282, 14.00753564154786, 6.9164334774866445, 6.9830818472793785, 2.3599182004089982, 15.354349186483107, 5.723113023073915, -0.3291373565346168, 11.6136, 2.7722308892355696, 7.422375554460325, 13.958642629904562, 3.0766129032258065, 5.02085994040017, 9.524526844341445, -0.8264606951538558, 4.791561028612821, 13.762794476035745, 12.555704697986574, 9.59920634920635, 2.501088376142795, 7.150272672187438, 7.986371379897785, 4.917038690476192, 4.985855177783544, 7.375444839857651, 11.723152856715526, 5.228613569321534, 2.2036055143160134, 3.119188921859545, 0.4319890635680109, -3.5736486486486485, -0.7101653892698668, 4.400585453726638, -5.262787723785166, 6.1757387247278395, 6.398897058823528, 3.00106742572496, 3.9211746522411133, -1.7740271917487107, 3.578627808136005, 0.13066666666666665, -3.6905083220872696, -2.506252894858731, 4.803673938002296, -6.018563976679963, 5.718544498027182, 1.2326676176890157, 6.297881010594947, 4.72143147620984, 17.55264235968865, 6.674874090654728, 1.7274941451990633, 1.112966601178782, 2.9380664652567976, 10.793218223424173, 7.432178005990586, 7.3117408906882595, -0.9610389610389609, 9.987665198237886, 3.9519519519519513, 1.999365884590996, -3.1013767209011265, 10.407827659924353, 7.726929092805006, 8.4696802646086, 14.788268380875854, 3.577760031942504, 6.107373213608196, 0.3413231064237776, 4.439425918108907, 5.208454810495627, 6.571662693682955, 17.949191685912236, 8.627218934911243, -1.8549532710280372, 8.5564681724846, 15.955665024630544, 2.566167290886392, 5.551708633093525, 2.341003805037144, 9.068710749907646, 1.9349226804123711, 9.02515424774561, 9.379032258064516, 6.84293720362121, 3.5752380952380958, -1.4785442694187942, 13.489523809523812, 0.007285714285714286, -0.7222460351478782, -3.790805785123967, 5.383840595576965, 8.836166924265841, 3.829981718464351, 1.7706853426713356, 2.431090015256823, -0.8069364161849711, 9.776960784313726, 16.17243367935409, 8.432361111111113, 6.447889182058049, 3.1612431800467653, 15.79075546719682, 2.63914373088685, 17.769602936269607, 16.156828953037483, -1.3388804841149773, 10.764940239043824, 5.787912087912088, 16.03298319327731, 8.198564593301437, 7.012674271229403, 18.29173079613824, 20.734042553191486, 13.408827463218904, 7.1990454076367385, 18.130118289353963, 9.897018970189704, 21.203899268887085, 10.036326942482342, 15.091698113207547, 6.844403158383651, 8.240893213572853, 13.54757281553398, 8.228651237031125, 3.5591191957874577, 6.927029804727646, 9.471947194719473, 38.92426187419769, 3.965883244882487, 3.0671755725190843, 7.837865953336307, 6.031404958677687, 9.235347159603247, 20.46063311688312, 10.528811763147436, 10.863918690005647, 10.68496660261689, 6.271103171058508, 29.987871183605183, 13.774081774081775, 16.391450125733446, 8.73048128342246, 0.8141025641025641, 3.982187036120732, 1.1978465679676986, 10.567854435178166, 5.043026706231454, 13.64479426433915, 7.083333333333332, 16.465128660159714, 9.25609756097561, 15.197975964579381, 23.73150684931507, 0.028405620036652413, 9.360515021459227, 6.880824372759856, 11.197893813075911, -0.4845679012345679, 3.8694808345463367, 4.441176470588236, 13.985344406448462, 5.968965517241379, 3.6230231143552314, 8.472070844686648, -3.802527646129542, 7.006060606060606, 19.07052257737189, 4.994955863808324, 1.5267470333396118, 16.73008130081301, -3.4404472532814783, 7.3336068937217895, 12.201805869074493, 1.976882345344182, 20.072147651006716, 6.028985507246378, 21.983668341708547, 15.031342585373462, 9.834514435695539, 0.25, 7.50762970498474, 14.682212133718533, 13.692423671315492, 16.292216659080566, 0.7202492211838006, 0.17725422474404834, 1.187111311401532, 5.377631578947367, 1.4958917351377476, 14.313397129186606, 16.933488914819137, 6.749030470914128, 15.74124203821656, 14.718724778046813, 14.876038049222407, 3.7551826258637715, 2.625187406296852, 4.861821903787103, 7.726945337620577, -2.3498633346349083, -0.6483333333333333, -2.061952440550688, 7.816052060737528, -3.1036842105263163, 10.33673469387755, 5.334905660377358, 1.656890230752642, -1.8262469337694196, 6.7791817087845985, 5.45160219159887, 1.6336477987421385, 0.6994914470642626, 1.2045899804086202, -3.7125129265770425, 3.6426940639269407, -6.828715365239295, 11.638238050609186, -7.622553588070829, 0.4057713858797161, -0.4522217852929611, 2.532344836635612, -0.8387516254876463, 11.07920227920228, -0.9304482225656878, 4.474039247751431, 8.974882260596548, 7.209993868792153, 9.253360488798373, 0.647, -2.220793950850662, -4.576417525773196, 12.7204767063922, 9.54994124559342, -0.5583995564590649, 11.714371617558626, 3.2857142857142856, -2.5926558497011096, 8.028549283038368, 6.213065326633166, 8.872820512820512, 5.293785310734464, 14.730891719745223, 7.7089142374313475, 7.986943980567785, -2.0776554964758254, -3.7147619047619047, -4.611946902654867, 12.826229508196723, 2.808411214953271, 14.653355518580144, -3.5264061829111206, -3.455665024630542, -0.8455614106201864, 0.7388926862611073, -8.04312668463612, 10.46987951807229, -0.6967663209273948, -7.029946524064171, -1.385934819897084, 1.0066066066066066, -7.8035916824196585, -2.2737556561085968, 6.435926773455378, -0.08177641653905053, 9.209225700164744, 4.309322033898305, -7.623994147768839, 1.6822387722861656, 11.752488387524883, -3.71180931744312, -1.4113475177304964, 5.411459683691988, 4.182044887780549, -4.057244802978591, 2.776132404181185, 3.904893177119228, 8.533163265306122, -0.7682619647355163, 13.480796586059745, 7.916370106761565, -8.59860788863109, 11.178148921363952, -0.11658249158249158, -1.5083532219570406, 3.555079559363525, 9.089529590288317, 4.988347205707491, 6.5434471478225325, 4.5906932573599235, 2.935191186001296, 0.5488990563340006, 2.378581173260573, 1.1890934844192635, 2.821428571428572, 20.20707732634338, 17.635692307692302, 7.339669421487603, -1.0625, -3.5562815008400226, -1.3606437454279443, 5.952307692307693], \"yaxis\": \"y\"}, {\"hovertemplate\": \"<b>OLS trendline</b><br>avg_arr_delay = 1.01553 * avg_dep_delay + -4.51044<br>R<sup>2</sup>=0.848259<br><br>avg_dep_delay=%{x}<br>avg_arr_delay=%{y} <b>(trend)</b><extra></extra>\", \"legendgroup\": \"\", \"marker\": {\"color\": \"#636efa\", \"symbol\": \"circle\"}, \"mode\": \"lines\", \"name\": \"\", \"showlegend\": false, \"type\": \"scatter\", \"x\": [-2.926169590643275, -2.7058823529411766, -1.9722650231124808, -1.4749403341288785, -0.8449074074074074, -0.8011334363730036, -0.5098522167487685, -0.2797527047913447, -0.20247148288973385, 0.10725075528700906, 0.15356265356265356, 0.16769945778466305, 0.19393939393939394, 0.39814814814814814, 0.4256756756756757, 0.6095925734914904, 0.7190170940170941, 0.7206106870229008, 0.7867647058823529, 0.9278975741239892, 0.9842519685039369, 1.2030038759689925, 1.298662704309064, 1.3830382106244177, 1.448136958710977, 1.5404191616766467, 1.6561320095091596, 1.8, 1.8454715219421105, 1.9276079136690647, 1.9561270801815431, 1.9672897196261685, 2.010355029585799, 2.1512001512001517, 2.160881992650061, 2.197604790419162, 2.2064455861746852, 2.2547169811320757, 2.3119335347432024, 2.3266563944530048, 2.327034120734908, 2.3492373875635506, 2.4100274725274726, 2.440366972477064, 2.665399239543726, 2.7373427431727517, 2.7395993836671804, 2.7544134954884267, 2.782414307004471, 2.864876385336744, 2.897992625972962, 2.923918212077984, 2.9557705597788533, 2.975771971496437, 3.032710280373832, 3.0891238670694863, 3.1085383502170765, 3.2080123266563945, 3.2932432432432432, 3.3054141601110603, 3.3340443686006824, 3.3668854850474106, 3.42, 3.432615124630334, 3.5133843212237093, 3.5594512195121952, 3.5748407643312103, 3.7115952732644018, 3.74806800618238, 3.7830844490216267, 3.799123904881101, 3.799566630552546, 3.8576709796672835, 3.9146510981373366, 4.019460415745246, 4.130145041160328, 4.135338345864661, 4.203833865814697, 4.268056968463887, 4.291192330736968, 4.493530499075786, 4.510050251256281, 4.540636042402827, 4.583200425305688, 4.595170454545454, 4.604210526315789, 4.624473166619837, 4.6800818553888135, 4.696196800482946, 4.69656862745098, 4.749047931713723, 4.768817204301075, 4.8866634098681, 4.936605316973415, 4.992147897823278, 5.038800705467372, 5.108148148148149, 5.109476417135438, 5.142702200185932, 5.147104851330203, 5.165605095541402, 5.203176948651644, 5.230283911671925, 5.27299703264095, 5.28470715835141, 5.306347396427214, 5.3584070796460175, 5.3953045685279175, 5.402061855670104, 5.4026342451874365, 5.452947638227755, 5.4825056433408585, 5.523418548236611, 5.526872498570612, 5.5339696799550815, 5.580801944106926, 5.586732186732186, 5.589010989010989, 5.6224489795918355, 5.634192932187202, 5.68668407310705, 5.701166180758017, 5.745712523133867, 5.767811704834607, 5.767898383371826, 5.769716088328075, 5.836294416243656, 5.869094488188976, 5.9126275510204085, 5.936197916666668, 5.950961538461539, 5.968095238095237, 6.046848856664808, 6.087944035613702, 6.156118143459915, 6.1644146988256106, 6.172596517789552, 6.19051176690325, 6.260431468802481, 6.307407407407408, 6.309134906231095, 6.334699453551912, 6.351466992665037, 6.359489051094892, 6.393548387096773, 6.4027552674230135, 6.492594049023462, 6.510440835266821, 6.5105112576191075, 6.5147579693034245, 6.516207951070338, 6.532562385879488, 6.560253365003959, 6.583605220228384, 6.600099787950605, 6.618170266836088, 6.62106135986733, 6.687121517965281, 6.740450399087798, 6.807270916334661, 6.821555668530757, 6.8312645461598125, 6.847727272727273, 6.886061080657791, 6.900569981000634, 6.905114589155952, 6.907230559345157, 6.963930348258708, 7.0240043644298975, 7.072033898305085, 7.073244291253769, 7.091620626151012, 7.1887421306011605, 7.2013452914798215, 7.214632174616005, 7.261605206073753, 7.263157894736842, 7.339653751030504, 7.360180412371133, 7.46801687763713, 7.492592592592592, 7.5369230769230775, 7.540793714746172, 7.579426172148357, 7.590542718968298, 7.607579462102691, 7.6940047961630675, 7.695191883546538, 7.707172054998143, 7.707456140350878, 7.720577350111028, 7.723037469725032, 7.788703778951645, 7.800834202294056, 7.806853582554518, 7.832672482157017, 7.882719900187149, 7.892394965431661, 7.893203883495145, 7.942690058479532, 7.969350073855244, 7.984756527875795, 8.024193548387098, 8.062330876178034, 8.077340569877883, 8.137782561894513, 8.139187116564418, 8.161764705882353, 8.216108452950559, 8.265664160401004, 8.311894273127754, 8.31533269045323, 8.316358024691358, 8.322278579789309, 8.332850041425019, 8.336739659367398, 8.357845014681477, 8.359227249618709, 8.389064976228209, 8.407792665726376, 8.448566855812599, 8.457211250748054, 8.48792270531401, 8.488794435857805, 8.508963707914297, 8.513536795471326, 8.547123733719248, 8.60508644092013, 8.661506707946337, 8.672250139586824, 8.692314892820367, 8.702857142857143, 8.735492010092514, 8.822587624405019, 8.866062437059416, 8.891089108910892, 8.913306451612904, 8.992964824120602, 9.020044543429844, 9.041358350951374, 9.059148700939746, 9.07473841554559, 9.154352226720649, 9.171016102165463, 9.179824561403509, 9.197963080840227, 9.340198602427364, 9.369703389830509, 9.380577427821523, 9.385396109388216, 9.39155844155844, 9.405329593267883, 9.43372216330859, 9.460714607146073, 9.474979903536976, 9.4953897736798, 9.510108864696734, 9.521608643457382, 9.6339632410044, 9.664943123061011, 9.700539568345324, 9.70240101095198, 9.780197206244864, 9.78341232227488, 9.817258883248732, 9.863837312113175, 9.882466281310213, 9.901945216355696, 9.913366336633665, 9.955207166853306, 9.968498234814883, 9.975229357798163, 10.01224226804124, 10.029411764705884, 10.060220525869381, 10.170100832967996, 10.172856178257934, 10.181648477886274, 10.186546314205886, 10.186691312384474, 10.219005663939585, 10.222705314009662, 10.285010082903877, 10.34476423759951, 10.375679433699911, 10.378683385579935, 10.382329945269742, 10.401473296500921, 10.402707930367505, 10.434543454345434, 10.476163450624293, 10.47719298245614, 10.478967350037967, 10.480750534707367, 10.491033389477854, 10.514800727633537, 10.52136752136752, 10.558990536277603, 10.598951507208387, 10.609306409130816, 10.636204634892872, 10.672, 10.672776743519977, 10.703740157480317, 10.808460076045627, 10.826671601283, 10.855022831050226, 10.860088960776386, 10.873219373219372, 10.879209699146834, 10.899940440738538, 10.906716417910447, 10.962063086104006, 10.970659163987136, 11.007246376811592, 11.050795593635248, 11.085158150851582, 11.089912280701757, 11.09114966186416, 11.093606651376147, 11.108085977482087, 11.20342857142857, 11.222410865874364, 11.262243285939968, 11.271634615384615, 11.355949367088606, 11.398484848484847, 11.408766564729866, 11.426812991250186, 11.449828178694158, 11.463507109004741, 11.471423091676257, 11.496770107663078, 11.521325915623553, 11.52523821787278, 11.557155715571554, 11.571365051133835, 11.580645161290322, 11.585945186226285, 11.588063063063064, 11.610029211295036, 11.618930041152264, 11.629032258064516, 11.633378932968535, 11.63409836065574, 11.650877909350756, 11.67398119122257, 11.753652597402596, 11.796713615023474, 11.826373626373627, 11.840599150458305, 11.851428571428572, 11.853474320241695, 11.870075894470544, 11.874372867750349, 11.899681308022725, 11.91153697251258, 11.955298844801607, 11.971295577967416, 11.994273070415204, 12.027186761229315, 12.027731558513588, 12.031133828996284, 12.031218529707955, 12.092050959985645, 12.199250468457215, 12.199473089951072, 12.226422764227642, 12.289744068746495, 12.330716767468795, 12.350422535211267, 12.384015594541909, 12.498463429625074, 12.52596789423985, 12.537577788415511, 12.547251878212734, 12.593368461637322, 12.613587786259544, 12.652213188798553, 12.868525896414342, 12.884360189573462, 12.896404109589039, 12.955470038482682, 13.001695873374786, 13.126054150022194, 13.210781932977175, 13.299661399548533, 13.300507614213195, 13.35188431200701, 13.367704789322168, 13.414755732801595, 13.426287744227354, 13.45475638051044, 13.490778688524589, 13.575050709939148, 13.614864864864865, 13.628946970841515, 13.629507656841758, 13.644927536231885, 13.64516129032258, 13.675427069645204, 13.779031966769008, 13.784010600706713, 13.831449126413155, 13.882893226176806, 13.97158081705151, 14.034521788341822, 14.084221748400855, 14.103318722604886, 14.148505146217936, 14.201869158878505, 14.21042413381123, 14.217602217602217, 14.230320699708455, 14.27282051282051, 14.284665579119089, 14.2986748216106, 14.33063847429519, 14.421587976316989, 14.439931425557168, 14.466619569056869, 14.473770491803279, 14.480509148766904, 14.59771897810219, 14.650767543859649, 14.653617443012884, 14.706302131603337, 14.817363922627079, 14.91043225270158, 14.950403225806454, 14.962391876645356, 14.979420018709073, 15.013404825737267, 15.366683510190333, 15.398183983328373, 15.41674127126231, 15.4421768707483, 15.465816917728851, 15.48680203045685, 15.651199370821864, 15.796699669966994, 15.928783382789318, 15.931147540983607, 15.932355723746452, 15.948863636363635, 15.954902205057929, 16.07944307944308, 16.200614124872054, 16.27105734767025, 16.284578696343402, 16.28787878787879, 16.310567010309278, 16.345207124274562, 16.39490532624983, 16.466787989080984, 16.540330920372284, 16.55327868852459, 16.57455770850885, 16.61468926553672, 16.710858585858585, 16.742179072276162, 16.789036544850497, 16.796788482834994, 16.865911396685828, 16.94633077765608, 17.077393075356415, 17.245081967213114, 17.257557063541025, 17.267820773930758, 17.314522821576762, 17.357456140350877, 17.700546448087433, 17.719431279620853, 17.827280197206246, 17.8438302371243, 17.84864864864865, 17.96943972835314, 18.130592284006518, 18.229314901402727, 18.47113071371291, 18.48139158576052, 18.5458341618612, 18.62279355333845, 18.641440712262238, 18.845585215605745, 19.0371843917368, 19.073180873180874, 19.1248382923674, 19.145632576935032, 19.155011655011656, 19.355169340463462, 19.396749226006197, 19.44117647058824, 19.44411826378696, 19.627011494252876, 19.64507236388697, 19.658717105263158, 19.810175288584865, 19.83226125680356, 19.87803738317757, 20.374455950772926, 20.637757800105764, 20.818362480127185, 20.938992042440322, 21.134993446920053, 21.21766561514196, 21.51540342298289, 21.589807852965752, 21.806814422758848, 21.847087378640776, 22.07513227513228, 22.468279820071356, 22.63342536949813, 22.802825552825556, 23.148808584503712, 23.16968514906659, 23.21879255560599, 23.26086956521739, 23.71451483560545, 24.053992740471873, 24.071883530482253, 24.57503789792825, 25.788837984173263, 30.21491935483871, 36.07586494372655, 39.27882599580713, 41.259227831989826], \"xaxis\": \"x\", \"y\": [-7.482048301091881, -7.258340586671009, -6.513332124866883, -6.008285302099753, -5.368469634533233, -5.324015969793587, -5.028211925149012, -4.79453957787048, -4.716058383500785, -4.401526980181201, -4.354495980919468, -4.340139669611059, -4.313492296821979, -4.106112722111652, -4.0781577650697525, -3.8913851254791068, -3.7802615322844506, -3.7786431950046113, -3.711461979636989, -3.5681376921596772, -3.5109082634564164, -3.2887597188803026, -3.1916155625716414, -3.1059299283614674, -3.0398203693238335, -2.946105268428652, -2.8285957068772567, -2.6824938279542776, -2.636316253842315, -2.5529045017331766, -2.523942508182181, -2.51260654254427, -2.468872542506902, -2.3258404695990462, -2.3160082948224328, -2.2787152893729976, -2.2697372195004046, -2.220716297768986, -2.1626113227876664, -2.1476598561036404, -2.147276264734105, -2.124728240042682, -2.0629942462417326, -2.0321836543018867, -1.8036572327916738, -1.7305966373065922, -1.7283049571686768, -1.7132608214698672, -1.684825231594003, -1.60108273583011, -1.5674522877831905, -1.5411241460666045, -1.5087772158611585, -1.4884652352525385, -1.4306428254079107, -1.3733532852892263, -1.3536373466950744, -1.2526188031528966, -1.1660644764177976, -1.1537045774817196, -1.1246298177660985, -1.0912787658578504, -1.0373395233190448, -1.0245285192516969, -0.9425051911914988, -0.8957229961171187, -0.8800944924718226, -0.7412165486139726, -0.7041774908597609, -0.6686173355079088, -0.6523288294269078, -0.6518792293996545, -0.5928726738045076, -0.5350078051751042, -0.4285710767624291, -0.31616781259047766, -0.31089386963392496, -0.2413347958721781, -0.17611447872381625, -0.15261988561711615, 0.05286005798449711, 0.06963631811489801, 0.10069702550095627, 0.14392232041255149, 0.15607821246836018, 0.16525865258390304, 0.18583591796629761, 0.24230806222765722, 0.2586732296909737, 0.2590508301459371, 0.3123449988571183, 0.33242123583032157, 0.45209728050533293, 0.5028146530090378, 0.559219662870583, 0.6065968649193492, 0.6770210895130067, 0.6783699829958163, 0.7121116743602585, 0.7165826870033483, 0.7353701909544945, 0.7735254353232834, 0.8010532976062477, 0.8444296400918008, 0.8563215930056183, 0.8782978466005202, 0.9311658786655572, 0.9686362877175876, 0.975498497612417, 0.9760797748212857, 1.0271744014515853, 1.057191364012235, 1.098739537842098, 1.1022471188667762, 1.1094545006602559, 1.1570139457005162, 1.1630362692699459, 1.1653504553059868, 1.1993076492210681, 1.2112339542616235, 1.2645401434218098, 1.2792471198058717, 1.3244851487659854, 1.346927472163447, 1.347015496588524, 1.3488614256831735, 1.4164735385015277, 1.449782908596088, 1.4939919244671298, 1.5179282753959997, 1.5329211370921962, 1.5503208776518909, 1.6302973311057993, 1.672030609221557, 1.7412632802017205, 1.7496886590742626, 1.7579975199929505, 1.7761909454238225, 1.8471963149042745, 1.8949016652809263, 1.8966559875809512, 1.9226174845382937, 1.9396453790753903, 1.9477919988024954, 1.9823801859855283, 1.991730024751563, 2.0829637644263546, 2.1010876639400378, 2.101159179764733, 2.1054718316215224, 2.106944327760708, 2.1235527035793185, 2.1516736501880764, 2.175388097807634, 2.1921387824318987, 2.210489847941325, 2.213425831981726, 2.2805117291790884, 2.334668666426058, 2.4025267291338546, 2.4170332856561103, 2.4268929164120463, 2.4436112654728426, 2.482540295799974, 2.497274480895376, 2.5018896547655007, 2.5040384803613343, 2.5616186666595055, 2.622625473017999, 2.671400778205893, 2.6726299653477623, 2.6912916360018464, 2.789921179902348, 2.8027200344526815, 2.816213227654334, 2.8639156257435197, 2.865492423544654, 2.9431760576608745, 2.9640214436265078, 3.0735323232740397, 3.0984896339212415, 3.1435084531328856, 3.147439191698533, 3.1866715087317674, 3.197960666048747, 3.215261944631778, 3.303029234976819, 3.3042347546798405, 3.3164009464291464, 3.3166894428741687, 3.3300143902315344, 3.3325127089802358, 3.3991986418775637, 3.4115174185311536, 3.417630263806916, 3.4438500624624693, 3.494674584195894, 3.504499877550608, 3.5053213559668057, 3.555575920038099, 3.5826498947646384, 3.5982955701665356, 3.6383449430407078, 3.677074442412649, 3.692317196858057, 3.7536976927511967, 3.755124056431007, 3.77805221584748, 3.833239777217398, 3.883564953409585, 3.9305128972096997, 3.934004704039416, 3.935045958999628, 3.941058444620137, 3.951794053025245, 3.9557440664211034, 3.9771771319432103, 3.978580829324078, 4.008881856714292, 4.0279003375746525, 4.06930764272179, 4.078086262190328, 4.109274584215508, 4.1101598504232895, 4.130642297796807, 4.13528639327824, 4.169394847622736, 4.228257561980665, 4.2855538861577225, 4.296464134805809, 4.3168404404561835, 4.327546383683679, 4.36068798387718, 4.449135962149444, 4.493285823372648, 4.518701093080765, 4.54126341220655, 4.622158668028324, 4.6496588635776535, 4.6713036180172915, 4.689370204970586, 4.705201986508759, 4.786051989078552, 4.802974610325429, 4.811919841580166, 4.830340004130183, 4.97478406623581, 5.0047469847565695, 5.01578986772551, 5.020683370640394, 5.026941387490045, 5.040926368671882, 5.069759800043564, 5.097171364964468, 5.111658163584463, 5.132384944894656, 5.147332584368006, 5.159010924201605, 5.273110090744837, 5.304571008227877, 5.3407201719249136, 5.342610517799712, 5.421614681732016, 5.424879719989227, 5.459251828312209, 5.506553496676088, 5.525471724370795, 5.545253115629921, 5.556851575623168, 5.599342082996842, 5.612839526003131, 5.61967516547904, 5.65726278807995, 5.674698881503569, 5.705986021039744, 5.817572477964393, 5.820370606460995, 5.829299427190134, 5.834273313921375, 5.834420563537219, 5.867236671291779, 5.870993767117972, 5.934265963874528, 5.9949479421568475, 6.026343169282291, 6.0293937645701545, 6.033096945663238, 6.052537542381212, 6.053791346838163, 6.086121192092858, 6.1283874365601845, 6.129432954291617, 6.131234873097326, 6.1330457458966, 6.143488266137097, 6.167624648036198, 6.174293406665279, 6.212500607241007, 6.253082066095442, 6.2635977521891215, 6.290913636077698, 6.327264808294971, 6.328053612582308, 6.3594978062632075, 6.4658437475031905, 6.484338049440372, 6.513129498633741, 6.518274291921908, 6.531608584855374, 6.537691924661382, 6.558744559703279, 6.565625749834436, 6.621831805035579, 6.63056135721608, 6.667716672446178, 6.711942093138112, 6.746838209757077, 6.751666158638442, 6.75292275304943, 6.75541789309393, 6.770122044742945, 6.866945056376369, 6.886222095524116, 6.926673007459281, 6.936210159349472, 7.021834095590257, 7.065030040231465, 7.075471404268213, 7.09379804394302, 7.117170596224155, 7.131061924053328, 7.139100820946823, 7.164841408885327, 7.189778503434693, 7.193751553364536, 7.226164645174614, 7.240594614042696, 7.250018819704075, 7.255401139974491, 7.2575519018230805, 7.279859126094736, 7.288898162239456, 7.2991572397947335, 7.303571407034979, 7.304302005526632, 7.321342096122584, 7.3448041107044455, 7.425712602576922, 7.469442243626898, 7.499562796310992, 7.514009205066302, 7.5250067782304635, 7.527084292098434, 7.543943644756651, 7.5483073386382395, 7.574008751883736, 7.5860485034083025, 7.630489881541135, 7.646735001558315, 7.67006927353992, 7.703494026703049, 7.7040472832446385, 7.707502381966948, 7.70758839785609, 7.769365394481254, 7.878229427084208, 7.878455505299592, 7.905823636561702, 7.9701281530458425, 8.01173704914184, 8.031748795208301, 8.065863465679705, 8.182088372187884, 8.210019908211148, 8.22181007326019, 8.231634376021503, 8.278467027710413, 8.299000304833292, 8.338225457460034, 8.557896927880659, 8.573977085628552, 8.586208015788, 8.64619108194643, 8.69313468148847, 8.819423912441248, 8.905467293213217, 8.995726822240101, 8.996586176374802, 9.048760618062108, 9.064826745442613, 9.112608265320592, 9.124319338307128, 9.15323001702825, 9.189811655974157, 9.275392198437412, 9.315824561623497, 9.330125325367828, 9.330694717335021, 9.346354026566885, 9.346591410238819, 9.37732713686583, 9.48254074333775, 9.487596682259863, 9.535771802489183, 9.588014692720208, 9.67807936672962, 9.741997644418618, 9.792469313079927, 9.811862812658486, 9.857750861620264, 9.911943475904923, 9.920631286915182, 9.927920827315042, 9.940836793725847, 9.98399651624899, 9.996025505020466, 10.010252273902928, 10.042712237363371, 10.135073944002627, 10.15370221837259, 10.180804757978304, 10.18806671559458, 10.194910006033574, 10.313939793241293, 10.36781206256883, 10.370706213099524, 10.424208955212453, 10.536995241374928, 10.631508675848558, 10.672100292184325, 10.684275094983327, 10.701567638943864, 10.736080139915856, 11.094844305634272, 11.126833897597912, 11.14567933100956, 11.1715098779141, 11.195516992143627, 11.21682794803111, 11.383777943199064, 11.531537476201734, 11.665672098869543, 11.668072966172119, 11.669299908809823, 11.686064145539884, 11.69219647719498, 11.818671141144218, 11.941723651628557, 12.013260670899442, 12.026991970266174, 12.030343303473046, 12.053383813840973, 12.08856179692927, 12.139031680208433, 12.212030490199368, 12.286715348217502, 12.299864160878727, 12.321473587622876, 12.362228281324185, 12.459890856201568, 12.4916976667282, 12.539282711610912, 12.547155016638357, 12.617351226064674, 12.699019306792643, 12.832116654469857, 13.002409310196747, 13.015078111693416, 13.025501190291685, 13.072928396909035, 13.116528356287745, 13.464945946813312, 13.484124009708076, 13.59364753502651, 13.610454553182727, 13.615347781862223, 13.738014426761843, 13.901669254315003, 14.001924772200333, 14.247495342910803, 14.257915539095023, 14.323358737535653, 14.401513104307817, 14.4204498041675, 14.627764130366998, 14.82233833368587, 14.858893745043549, 14.911353266982477, 14.932470431654234, 14.941995141945139, 15.145260745541968, 15.187486256459792, 15.232603338353144, 15.235590809800193, 15.421323887201208, 15.439665194253053, 15.453521802284328, 15.60733172960775, 15.629760634352824, 15.676247542595867, 16.180374174312135, 16.447764403230863, 16.631173395066977, 16.753676014638412, 16.95272080123988, 17.03667664903235, 17.339037535589238, 17.414597269089388, 17.63497337552719, 17.675871663631842, 17.907457492714, 18.30670957661109, 18.47441939854369, 18.646449917560428, 18.997805148360467, 19.019005870617637, 19.06887578497428, 19.11160613897945, 19.57229531759447, 19.917044414211475, 19.935213000754008, 20.446180021432895, 21.67882720467524, 26.17363388345059, 32.12558441727263, 35.37827896196977, 37.38943118771265], \"yaxis\": \"y\"}],                        {\"legend\": {\"tracegroupgap\": 0}, \"margin\": {\"t\": 60}, \"template\": {\"data\": {\"bar\": [{\"error_x\": {\"color\": \"#2a3f5f\"}, \"error_y\": {\"color\": \"#2a3f5f\"}, \"marker\": {\"line\": {\"color\": \"#E5ECF6\", \"width\": 0.5}}, \"type\": \"bar\"}], \"barpolar\": [{\"marker\": {\"line\": {\"color\": \"#E5ECF6\", \"width\": 0.5}}, \"type\": \"barpolar\"}], \"carpet\": [{\"aaxis\": {\"endlinecolor\": \"#2a3f5f\", \"gridcolor\": \"white\", \"linecolor\": \"white\", \"minorgridcolor\": \"white\", \"startlinecolor\": \"#2a3f5f\"}, \"baxis\": {\"endlinecolor\": \"#2a3f5f\", \"gridcolor\": \"white\", \"linecolor\": \"white\", \"minorgridcolor\": \"white\", \"startlinecolor\": \"#2a3f5f\"}, \"type\": \"carpet\"}], \"choropleth\": [{\"colorbar\": {\"outlinewidth\": 0, \"ticks\": \"\"}, \"type\": \"choropleth\"}], \"contour\": [{\"colorbar\": {\"outlinewidth\": 0, \"ticks\": \"\"}, \"colorscale\": [[0.0, \"#0d0887\"], [0.1111111111111111, \"#46039f\"], [0.2222222222222222, \"#7201a8\"], [0.3333333333333333, \"#9c179e\"], [0.4444444444444444, \"#bd3786\"], [0.5555555555555556, \"#d8576b\"], [0.6666666666666666, \"#ed7953\"], [0.7777777777777778, \"#fb9f3a\"], [0.8888888888888888, \"#fdca26\"], [1.0, \"#f0f921\"]], \"type\": \"contour\"}], \"contourcarpet\": [{\"colorbar\": {\"outlinewidth\": 0, \"ticks\": \"\"}, \"type\": \"contourcarpet\"}], \"heatmap\": [{\"colorbar\": {\"outlinewidth\": 0, \"ticks\": \"\"}, \"colorscale\": [[0.0, \"#0d0887\"], [0.1111111111111111, \"#46039f\"], [0.2222222222222222, \"#7201a8\"], [0.3333333333333333, \"#9c179e\"], [0.4444444444444444, \"#bd3786\"], [0.5555555555555556, \"#d8576b\"], [0.6666666666666666, \"#ed7953\"], [0.7777777777777778, \"#fb9f3a\"], [0.8888888888888888, \"#fdca26\"], [1.0, \"#f0f921\"]], \"type\": \"heatmap\"}], \"heatmapgl\": [{\"colorbar\": {\"outlinewidth\": 0, \"ticks\": \"\"}, \"colorscale\": [[0.0, \"#0d0887\"], [0.1111111111111111, \"#46039f\"], [0.2222222222222222, \"#7201a8\"], [0.3333333333333333, \"#9c179e\"], [0.4444444444444444, \"#bd3786\"], [0.5555555555555556, \"#d8576b\"], [0.6666666666666666, \"#ed7953\"], [0.7777777777777778, \"#fb9f3a\"], [0.8888888888888888, \"#fdca26\"], [1.0, \"#f0f921\"]], \"type\": \"heatmapgl\"}], \"histogram\": [{\"marker\": {\"colorbar\": {\"outlinewidth\": 0, \"ticks\": \"\"}}, \"type\": \"histogram\"}], \"histogram2d\": [{\"colorbar\": {\"outlinewidth\": 0, \"ticks\": \"\"}, \"colorscale\": [[0.0, \"#0d0887\"], [0.1111111111111111, \"#46039f\"], [0.2222222222222222, \"#7201a8\"], [0.3333333333333333, \"#9c179e\"], [0.4444444444444444, \"#bd3786\"], [0.5555555555555556, \"#d8576b\"], [0.6666666666666666, \"#ed7953\"], [0.7777777777777778, \"#fb9f3a\"], [0.8888888888888888, \"#fdca26\"], [1.0, \"#f0f921\"]], \"type\": \"histogram2d\"}], \"histogram2dcontour\": [{\"colorbar\": {\"outlinewidth\": 0, \"ticks\": \"\"}, \"colorscale\": [[0.0, \"#0d0887\"], [0.1111111111111111, \"#46039f\"], [0.2222222222222222, \"#7201a8\"], [0.3333333333333333, \"#9c179e\"], [0.4444444444444444, \"#bd3786\"], [0.5555555555555556, \"#d8576b\"], [0.6666666666666666, \"#ed7953\"], [0.7777777777777778, \"#fb9f3a\"], [0.8888888888888888, \"#fdca26\"], [1.0, \"#f0f921\"]], \"type\": \"histogram2dcontour\"}], \"mesh3d\": [{\"colorbar\": {\"outlinewidth\": 0, \"ticks\": \"\"}, \"type\": \"mesh3d\"}], \"parcoords\": [{\"line\": {\"colorbar\": {\"outlinewidth\": 0, \"ticks\": \"\"}}, \"type\": \"parcoords\"}], \"pie\": [{\"automargin\": true, \"type\": \"pie\"}], \"scatter\": [{\"marker\": {\"colorbar\": {\"outlinewidth\": 0, \"ticks\": \"\"}}, \"type\": \"scatter\"}], \"scatter3d\": [{\"line\": {\"colorbar\": {\"outlinewidth\": 0, \"ticks\": \"\"}}, \"marker\": {\"colorbar\": {\"outlinewidth\": 0, \"ticks\": \"\"}}, \"type\": \"scatter3d\"}], \"scattercarpet\": [{\"marker\": {\"colorbar\": {\"outlinewidth\": 0, \"ticks\": \"\"}}, \"type\": \"scattercarpet\"}], \"scattergeo\": [{\"marker\": {\"colorbar\": {\"outlinewidth\": 0, \"ticks\": \"\"}}, \"type\": \"scattergeo\"}], \"scattergl\": [{\"marker\": {\"colorbar\": {\"outlinewidth\": 0, \"ticks\": \"\"}}, \"type\": \"scattergl\"}], \"scattermapbox\": [{\"marker\": {\"colorbar\": {\"outlinewidth\": 0, \"ticks\": \"\"}}, \"type\": \"scattermapbox\"}], \"scatterpolar\": [{\"marker\": {\"colorbar\": {\"outlinewidth\": 0, \"ticks\": \"\"}}, \"type\": \"scatterpolar\"}], \"scatterpolargl\": [{\"marker\": {\"colorbar\": {\"outlinewidth\": 0, \"ticks\": \"\"}}, \"type\": \"scatterpolargl\"}], \"scatterternary\": [{\"marker\": {\"colorbar\": {\"outlinewidth\": 0, \"ticks\": \"\"}}, \"type\": \"scatterternary\"}], \"surface\": [{\"colorbar\": {\"outlinewidth\": 0, \"ticks\": \"\"}, \"colorscale\": [[0.0, \"#0d0887\"], [0.1111111111111111, \"#46039f\"], [0.2222222222222222, \"#7201a8\"], [0.3333333333333333, \"#9c179e\"], [0.4444444444444444, \"#bd3786\"], [0.5555555555555556, \"#d8576b\"], [0.6666666666666666, \"#ed7953\"], [0.7777777777777778, \"#fb9f3a\"], [0.8888888888888888, \"#fdca26\"], [1.0, \"#f0f921\"]], \"type\": \"surface\"}], \"table\": [{\"cells\": {\"fill\": {\"color\": \"#EBF0F8\"}, \"line\": {\"color\": \"white\"}}, \"header\": {\"fill\": {\"color\": \"#C8D4E3\"}, \"line\": {\"color\": \"white\"}}, \"type\": \"table\"}]}, \"layout\": {\"annotationdefaults\": {\"arrowcolor\": \"#2a3f5f\", \"arrowhead\": 0, \"arrowwidth\": 1}, \"autotypenumbers\": \"strict\", \"coloraxis\": {\"colorbar\": {\"outlinewidth\": 0, \"ticks\": \"\"}}, \"colorscale\": {\"diverging\": [[0, \"#8e0152\"], [0.1, \"#c51b7d\"], [0.2, \"#de77ae\"], [0.3, \"#f1b6da\"], [0.4, \"#fde0ef\"], [0.5, \"#f7f7f7\"], [0.6, \"#e6f5d0\"], [0.7, \"#b8e186\"], [0.8, \"#7fbc41\"], [0.9, \"#4d9221\"], [1, \"#276419\"]], \"sequential\": [[0.0, \"#0d0887\"], [0.1111111111111111, \"#46039f\"], [0.2222222222222222, \"#7201a8\"], [0.3333333333333333, \"#9c179e\"], [0.4444444444444444, \"#bd3786\"], [0.5555555555555556, \"#d8576b\"], [0.6666666666666666, \"#ed7953\"], [0.7777777777777778, \"#fb9f3a\"], [0.8888888888888888, \"#fdca26\"], [1.0, \"#f0f921\"]], \"sequentialminus\": [[0.0, \"#0d0887\"], [0.1111111111111111, \"#46039f\"], [0.2222222222222222, \"#7201a8\"], [0.3333333333333333, \"#9c179e\"], [0.4444444444444444, \"#bd3786\"], [0.5555555555555556, \"#d8576b\"], [0.6666666666666666, \"#ed7953\"], [0.7777777777777778, \"#fb9f3a\"], [0.8888888888888888, \"#fdca26\"], [1.0, \"#f0f921\"]]}, \"colorway\": [\"#636efa\", \"#EF553B\", \"#00cc96\", \"#ab63fa\", \"#FFA15A\", \"#19d3f3\", \"#FF6692\", \"#B6E880\", \"#FF97FF\", \"#FECB52\"], \"font\": {\"color\": \"#2a3f5f\"}, \"geo\": {\"bgcolor\": \"white\", \"lakecolor\": \"white\", \"landcolor\": \"#E5ECF6\", \"showlakes\": true, \"showland\": true, \"subunitcolor\": \"white\"}, \"hoverlabel\": {\"align\": \"left\"}, \"hovermode\": \"closest\", \"mapbox\": {\"style\": \"light\"}, \"paper_bgcolor\": \"white\", \"plot_bgcolor\": \"#E5ECF6\", \"polar\": {\"angularaxis\": {\"gridcolor\": \"white\", \"linecolor\": \"white\", \"ticks\": \"\"}, \"bgcolor\": \"#E5ECF6\", \"radialaxis\": {\"gridcolor\": \"white\", \"linecolor\": \"white\", \"ticks\": \"\"}}, \"scene\": {\"xaxis\": {\"backgroundcolor\": \"#E5ECF6\", \"gridcolor\": \"white\", \"gridwidth\": 2, \"linecolor\": \"white\", \"showbackground\": true, \"ticks\": \"\", \"zerolinecolor\": \"white\"}, \"yaxis\": {\"backgroundcolor\": \"#E5ECF6\", \"gridcolor\": \"white\", \"gridwidth\": 2, \"linecolor\": \"white\", \"showbackground\": true, \"ticks\": \"\", \"zerolinecolor\": \"white\"}, \"zaxis\": {\"backgroundcolor\": \"#E5ECF6\", \"gridcolor\": \"white\", \"gridwidth\": 2, \"linecolor\": \"white\", \"showbackground\": true, \"ticks\": \"\", \"zerolinecolor\": \"white\"}}, \"shapedefaults\": {\"line\": {\"color\": \"#2a3f5f\"}}, \"ternary\": {\"aaxis\": {\"gridcolor\": \"white\", \"linecolor\": \"white\", \"ticks\": \"\"}, \"baxis\": {\"gridcolor\": \"white\", \"linecolor\": \"white\", \"ticks\": \"\"}, \"bgcolor\": \"#E5ECF6\", \"caxis\": {\"gridcolor\": \"white\", \"linecolor\": \"white\", \"ticks\": \"\"}}, \"title\": {\"x\": 0.05}, \"xaxis\": {\"automargin\": true, \"gridcolor\": \"white\", \"linecolor\": \"white\", \"ticks\": \"\", \"title\": {\"standoff\": 15}, \"zerolinecolor\": \"white\", \"zerolinewidth\": 2}, \"yaxis\": {\"automargin\": true, \"gridcolor\": \"white\", \"linecolor\": \"white\", \"ticks\": \"\", \"title\": {\"standoff\": 15}, \"zerolinecolor\": \"white\", \"zerolinewidth\": 2}}}, \"xaxis\": {\"anchor\": \"y\", \"domain\": [0.0, 1.0], \"title\": {\"text\": \"avg_dep_delay\"}}, \"yaxis\": {\"anchor\": \"x\", \"domain\": [0.0, 1.0], \"title\": {\"text\": \"avg_arr_delay\"}}},                        {\"responsive\": true}                    ).then(function(){\n",
       "                            \n",
       "var gd = document.getElementById('37bf1067-412e-48ed-a2c9-7c1bf87d7735');\n",
       "var x = new MutationObserver(function (mutations, observer) {{\n",
       "        var display = window.getComputedStyle(gd).display;\n",
       "        if (!display || display === 'none') {{\n",
       "            console.log([gd, 'removed!']);\n",
       "            Plotly.purge(gd);\n",
       "            observer.disconnect();\n",
       "        }}\n",
       "}});\n",
       "\n",
       "// Listen for the removal of the full notebook cells\n",
       "var notebookContainer = gd.closest('#notebook-container');\n",
       "if (notebookContainer) {{\n",
       "    x.observe(notebookContainer, {childList: true});\n",
       "}}\n",
       "\n",
       "// Listen for the clearing of the current output cell\n",
       "var outputEl = gd.closest('.output');\n",
       "if (outputEl) {{\n",
       "    x.observe(outputEl, {childList: true});\n",
       "}}\n",
       "\n",
       "                        })                };                });            </script>        </div>"
      ]
     },
     "metadata": {},
     "output_type": "display_data"
    }
   ],
   "source": [
    "df = pd.read_csv('avgDelayCarrierDayOfMonth.csv')\n",
    "\n",
    "fig = px.scatter(df, x=\"avg_dep_delay\", y=\"avg_arr_delay\", trendline='ols')\n",
    "fig.show()"
   ]
  },
  {
   "cell_type": "markdown",
   "metadata": {},
   "source": [
    "## What time should I book my flight for?"
   ]
  },
  {
   "cell_type": "code",
   "execution_count": 105,
   "metadata": {},
   "outputs": [],
   "source": [
    "def bookFlight(df):\n",
    "    fig = go.Figure()\n",
    "    fig.add_trace(go.Scatter(x=df['dep_hour'], y=df['avg_dep_delay'], mode='lines', name='Departure delay'))\n",
    "    fig.add_trace(go.Scatter(x=df['dep_hour'], y=df['avg_arr_delay'], mode='lines', name='Arrival delay'))\n",
    "    fig.add_trace(go.Scatter(x=df['dep_hour'], y=df['avg_total_delay'], mode='lines+markers', name='Total delay'))\n",
    "    fig.update_xaxes(type='category')\n",
    "    fig.add_vrect(x0=\"5\", x1=\"8\", annotation_text=\"OPTIMAL\", annotation=dict(font_size=16), annotation_position=\"top left\", fillcolor=\"green\", opacity=0.25, line_width=0)\n",
    "    fig.add_vrect(x0=\"13\", x1=\"20\", annotation_text=\"AVOID\", annotation=dict(font_size=16), annotation_position=\"top left\", fillcolor=\"red\", opacity=0.25, line_width=0)\n",
    "    fig.show()"
   ]
  },
  {
   "cell_type": "code",
   "execution_count": 106,
   "metadata": {},
   "outputs": [
    {
     "data": {
      "application/vnd.plotly.v1+json": {
       "config": {
        "plotlyServerURL": "https://plot.ly"
       },
       "data": [
        {
         "mode": "lines",
         "name": "Departure delay",
         "type": "scatter",
         "x": [
          1,
          2,
          3,
          4,
          5,
          6,
          7,
          8,
          9,
          10,
          11,
          12,
          13,
          14,
          15,
          16,
          17,
          18,
          19,
          20,
          21,
          22,
          23,
          null
         ],
         "y": [
          12.79027778,
          16.28469751,
          11.98442368,
          7.115681234,
          4.066987257,
          3.30237476,
          4.456099169,
          5.633489461,
          6.834943205,
          8.760456493,
          9.904560971,
          10.98731116,
          12.27360863,
          13.07160424,
          12.87214427,
          13.65982228,
          14.92389637,
          16.05634723,
          16.28082898,
          15.11968731,
          13.90957164,
          11.41941601,
          11.39532121,
          5.674763033
         ]
        },
        {
         "mode": "lines",
         "name": "Arrival delay",
         "type": "scatter",
         "x": [
          1,
          2,
          3,
          4,
          5,
          6,
          7,
          8,
          9,
          10,
          11,
          12,
          13,
          14,
          15,
          16,
          17,
          18,
          19,
          20,
          21,
          22,
          23,
          null
         ],
         "y": [
          4.174791086,
          8.818181818,
          7.361370717000001,
          2.9408740360000003,
          -0.920558045,
          -1.6093593940000002,
          -0.30392105,
          1.1632360659999998,
          1.7363286930000001,
          3.6446133689999995,
          4.193903182,
          5.570571383,
          6.436138979,
          7.606905931,
          7.245436477,
          8.533976838,
          9.627832247999999,
          11.18270491,
          10.54030107,
          8.964248093,
          7.888551861,
          5.1075234730000005,
          1.4147815730000002,
          -5.017486663
         ]
        },
        {
         "mode": "lines+markers",
         "name": "Total delay",
         "type": "scatter",
         "x": [
          1,
          2,
          3,
          4,
          5,
          6,
          7,
          8,
          9,
          10,
          11,
          12,
          13,
          14,
          15,
          16,
          17,
          18,
          19,
          20,
          21,
          22,
          23,
          null
         ],
         "y": [
          16.92966574,
          24.96078431,
          19.34579439,
          10.05655527,
          3.04667245,
          1.658178304,
          4.110823015,
          6.757757784,
          8.519715384,
          12.34747673,
          14.03803851,
          16.44197049,
          18.65508512,
          20.58067357,
          20.04385999,
          22.1210329,
          24.45509141,
          27.16399142,
          26.69690109,
          23.92432069,
          21.74991892,
          16.41660773,
          12.70830662,
          0.633965619
         ]
        }
       ],
       "layout": {
        "annotations": [
         {
          "font": {
           "size": 16
          },
          "showarrow": false,
          "text": "OPTIMAL",
          "x": "5",
          "xanchor": "left",
          "xref": "x",
          "y": 1,
          "yanchor": "top",
          "yref": "y domain"
         },
         {
          "font": {
           "size": 16
          },
          "showarrow": false,
          "text": "AVOID",
          "x": "13",
          "xanchor": "left",
          "xref": "x",
          "y": 1,
          "yanchor": "top",
          "yref": "y domain"
         }
        ],
        "shapes": [
         {
          "fillcolor": "green",
          "line": {
           "width": 0
          },
          "opacity": 0.25,
          "type": "rect",
          "x0": "5",
          "x1": "8",
          "xref": "x",
          "y0": 0,
          "y1": 1,
          "yref": "y domain"
         },
         {
          "fillcolor": "red",
          "line": {
           "width": 0
          },
          "opacity": 0.25,
          "type": "rect",
          "x0": "13",
          "x1": "20",
          "xref": "x",
          "y0": 0,
          "y1": 1,
          "yref": "y domain"
         }
        ],
        "template": {
         "data": {
          "bar": [
           {
            "error_x": {
             "color": "#2a3f5f"
            },
            "error_y": {
             "color": "#2a3f5f"
            },
            "marker": {
             "line": {
              "color": "#E5ECF6",
              "width": 0.5
             }
            },
            "type": "bar"
           }
          ],
          "barpolar": [
           {
            "marker": {
             "line": {
              "color": "#E5ECF6",
              "width": 0.5
             }
            },
            "type": "barpolar"
           }
          ],
          "carpet": [
           {
            "aaxis": {
             "endlinecolor": "#2a3f5f",
             "gridcolor": "white",
             "linecolor": "white",
             "minorgridcolor": "white",
             "startlinecolor": "#2a3f5f"
            },
            "baxis": {
             "endlinecolor": "#2a3f5f",
             "gridcolor": "white",
             "linecolor": "white",
             "minorgridcolor": "white",
             "startlinecolor": "#2a3f5f"
            },
            "type": "carpet"
           }
          ],
          "choropleth": [
           {
            "colorbar": {
             "outlinewidth": 0,
             "ticks": ""
            },
            "type": "choropleth"
           }
          ],
          "contour": [
           {
            "colorbar": {
             "outlinewidth": 0,
             "ticks": ""
            },
            "colorscale": [
             [
              0,
              "#0d0887"
             ],
             [
              0.1111111111111111,
              "#46039f"
             ],
             [
              0.2222222222222222,
              "#7201a8"
             ],
             [
              0.3333333333333333,
              "#9c179e"
             ],
             [
              0.4444444444444444,
              "#bd3786"
             ],
             [
              0.5555555555555556,
              "#d8576b"
             ],
             [
              0.6666666666666666,
              "#ed7953"
             ],
             [
              0.7777777777777778,
              "#fb9f3a"
             ],
             [
              0.8888888888888888,
              "#fdca26"
             ],
             [
              1,
              "#f0f921"
             ]
            ],
            "type": "contour"
           }
          ],
          "contourcarpet": [
           {
            "colorbar": {
             "outlinewidth": 0,
             "ticks": ""
            },
            "type": "contourcarpet"
           }
          ],
          "heatmap": [
           {
            "colorbar": {
             "outlinewidth": 0,
             "ticks": ""
            },
            "colorscale": [
             [
              0,
              "#0d0887"
             ],
             [
              0.1111111111111111,
              "#46039f"
             ],
             [
              0.2222222222222222,
              "#7201a8"
             ],
             [
              0.3333333333333333,
              "#9c179e"
             ],
             [
              0.4444444444444444,
              "#bd3786"
             ],
             [
              0.5555555555555556,
              "#d8576b"
             ],
             [
              0.6666666666666666,
              "#ed7953"
             ],
             [
              0.7777777777777778,
              "#fb9f3a"
             ],
             [
              0.8888888888888888,
              "#fdca26"
             ],
             [
              1,
              "#f0f921"
             ]
            ],
            "type": "heatmap"
           }
          ],
          "heatmapgl": [
           {
            "colorbar": {
             "outlinewidth": 0,
             "ticks": ""
            },
            "colorscale": [
             [
              0,
              "#0d0887"
             ],
             [
              0.1111111111111111,
              "#46039f"
             ],
             [
              0.2222222222222222,
              "#7201a8"
             ],
             [
              0.3333333333333333,
              "#9c179e"
             ],
             [
              0.4444444444444444,
              "#bd3786"
             ],
             [
              0.5555555555555556,
              "#d8576b"
             ],
             [
              0.6666666666666666,
              "#ed7953"
             ],
             [
              0.7777777777777778,
              "#fb9f3a"
             ],
             [
              0.8888888888888888,
              "#fdca26"
             ],
             [
              1,
              "#f0f921"
             ]
            ],
            "type": "heatmapgl"
           }
          ],
          "histogram": [
           {
            "marker": {
             "colorbar": {
              "outlinewidth": 0,
              "ticks": ""
             }
            },
            "type": "histogram"
           }
          ],
          "histogram2d": [
           {
            "colorbar": {
             "outlinewidth": 0,
             "ticks": ""
            },
            "colorscale": [
             [
              0,
              "#0d0887"
             ],
             [
              0.1111111111111111,
              "#46039f"
             ],
             [
              0.2222222222222222,
              "#7201a8"
             ],
             [
              0.3333333333333333,
              "#9c179e"
             ],
             [
              0.4444444444444444,
              "#bd3786"
             ],
             [
              0.5555555555555556,
              "#d8576b"
             ],
             [
              0.6666666666666666,
              "#ed7953"
             ],
             [
              0.7777777777777778,
              "#fb9f3a"
             ],
             [
              0.8888888888888888,
              "#fdca26"
             ],
             [
              1,
              "#f0f921"
             ]
            ],
            "type": "histogram2d"
           }
          ],
          "histogram2dcontour": [
           {
            "colorbar": {
             "outlinewidth": 0,
             "ticks": ""
            },
            "colorscale": [
             [
              0,
              "#0d0887"
             ],
             [
              0.1111111111111111,
              "#46039f"
             ],
             [
              0.2222222222222222,
              "#7201a8"
             ],
             [
              0.3333333333333333,
              "#9c179e"
             ],
             [
              0.4444444444444444,
              "#bd3786"
             ],
             [
              0.5555555555555556,
              "#d8576b"
             ],
             [
              0.6666666666666666,
              "#ed7953"
             ],
             [
              0.7777777777777778,
              "#fb9f3a"
             ],
             [
              0.8888888888888888,
              "#fdca26"
             ],
             [
              1,
              "#f0f921"
             ]
            ],
            "type": "histogram2dcontour"
           }
          ],
          "mesh3d": [
           {
            "colorbar": {
             "outlinewidth": 0,
             "ticks": ""
            },
            "type": "mesh3d"
           }
          ],
          "parcoords": [
           {
            "line": {
             "colorbar": {
              "outlinewidth": 0,
              "ticks": ""
             }
            },
            "type": "parcoords"
           }
          ],
          "pie": [
           {
            "automargin": true,
            "type": "pie"
           }
          ],
          "scatter": [
           {
            "marker": {
             "colorbar": {
              "outlinewidth": 0,
              "ticks": ""
             }
            },
            "type": "scatter"
           }
          ],
          "scatter3d": [
           {
            "line": {
             "colorbar": {
              "outlinewidth": 0,
              "ticks": ""
             }
            },
            "marker": {
             "colorbar": {
              "outlinewidth": 0,
              "ticks": ""
             }
            },
            "type": "scatter3d"
           }
          ],
          "scattercarpet": [
           {
            "marker": {
             "colorbar": {
              "outlinewidth": 0,
              "ticks": ""
             }
            },
            "type": "scattercarpet"
           }
          ],
          "scattergeo": [
           {
            "marker": {
             "colorbar": {
              "outlinewidth": 0,
              "ticks": ""
             }
            },
            "type": "scattergeo"
           }
          ],
          "scattergl": [
           {
            "marker": {
             "colorbar": {
              "outlinewidth": 0,
              "ticks": ""
             }
            },
            "type": "scattergl"
           }
          ],
          "scattermapbox": [
           {
            "marker": {
             "colorbar": {
              "outlinewidth": 0,
              "ticks": ""
             }
            },
            "type": "scattermapbox"
           }
          ],
          "scatterpolar": [
           {
            "marker": {
             "colorbar": {
              "outlinewidth": 0,
              "ticks": ""
             }
            },
            "type": "scatterpolar"
           }
          ],
          "scatterpolargl": [
           {
            "marker": {
             "colorbar": {
              "outlinewidth": 0,
              "ticks": ""
             }
            },
            "type": "scatterpolargl"
           }
          ],
          "scatterternary": [
           {
            "marker": {
             "colorbar": {
              "outlinewidth": 0,
              "ticks": ""
             }
            },
            "type": "scatterternary"
           }
          ],
          "surface": [
           {
            "colorbar": {
             "outlinewidth": 0,
             "ticks": ""
            },
            "colorscale": [
             [
              0,
              "#0d0887"
             ],
             [
              0.1111111111111111,
              "#46039f"
             ],
             [
              0.2222222222222222,
              "#7201a8"
             ],
             [
              0.3333333333333333,
              "#9c179e"
             ],
             [
              0.4444444444444444,
              "#bd3786"
             ],
             [
              0.5555555555555556,
              "#d8576b"
             ],
             [
              0.6666666666666666,
              "#ed7953"
             ],
             [
              0.7777777777777778,
              "#fb9f3a"
             ],
             [
              0.8888888888888888,
              "#fdca26"
             ],
             [
              1,
              "#f0f921"
             ]
            ],
            "type": "surface"
           }
          ],
          "table": [
           {
            "cells": {
             "fill": {
              "color": "#EBF0F8"
             },
             "line": {
              "color": "white"
             }
            },
            "header": {
             "fill": {
              "color": "#C8D4E3"
             },
             "line": {
              "color": "white"
             }
            },
            "type": "table"
           }
          ]
         },
         "layout": {
          "annotationdefaults": {
           "arrowcolor": "#2a3f5f",
           "arrowhead": 0,
           "arrowwidth": 1
          },
          "autotypenumbers": "strict",
          "coloraxis": {
           "colorbar": {
            "outlinewidth": 0,
            "ticks": ""
           }
          },
          "colorscale": {
           "diverging": [
            [
             0,
             "#8e0152"
            ],
            [
             0.1,
             "#c51b7d"
            ],
            [
             0.2,
             "#de77ae"
            ],
            [
             0.3,
             "#f1b6da"
            ],
            [
             0.4,
             "#fde0ef"
            ],
            [
             0.5,
             "#f7f7f7"
            ],
            [
             0.6,
             "#e6f5d0"
            ],
            [
             0.7,
             "#b8e186"
            ],
            [
             0.8,
             "#7fbc41"
            ],
            [
             0.9,
             "#4d9221"
            ],
            [
             1,
             "#276419"
            ]
           ],
           "sequential": [
            [
             0,
             "#0d0887"
            ],
            [
             0.1111111111111111,
             "#46039f"
            ],
            [
             0.2222222222222222,
             "#7201a8"
            ],
            [
             0.3333333333333333,
             "#9c179e"
            ],
            [
             0.4444444444444444,
             "#bd3786"
            ],
            [
             0.5555555555555556,
             "#d8576b"
            ],
            [
             0.6666666666666666,
             "#ed7953"
            ],
            [
             0.7777777777777778,
             "#fb9f3a"
            ],
            [
             0.8888888888888888,
             "#fdca26"
            ],
            [
             1,
             "#f0f921"
            ]
           ],
           "sequentialminus": [
            [
             0,
             "#0d0887"
            ],
            [
             0.1111111111111111,
             "#46039f"
            ],
            [
             0.2222222222222222,
             "#7201a8"
            ],
            [
             0.3333333333333333,
             "#9c179e"
            ],
            [
             0.4444444444444444,
             "#bd3786"
            ],
            [
             0.5555555555555556,
             "#d8576b"
            ],
            [
             0.6666666666666666,
             "#ed7953"
            ],
            [
             0.7777777777777778,
             "#fb9f3a"
            ],
            [
             0.8888888888888888,
             "#fdca26"
            ],
            [
             1,
             "#f0f921"
            ]
           ]
          },
          "colorway": [
           "#636efa",
           "#EF553B",
           "#00cc96",
           "#ab63fa",
           "#FFA15A",
           "#19d3f3",
           "#FF6692",
           "#B6E880",
           "#FF97FF",
           "#FECB52"
          ],
          "font": {
           "color": "#2a3f5f"
          },
          "geo": {
           "bgcolor": "white",
           "lakecolor": "white",
           "landcolor": "#E5ECF6",
           "showlakes": true,
           "showland": true,
           "subunitcolor": "white"
          },
          "hoverlabel": {
           "align": "left"
          },
          "hovermode": "closest",
          "mapbox": {
           "style": "light"
          },
          "paper_bgcolor": "white",
          "plot_bgcolor": "#E5ECF6",
          "polar": {
           "angularaxis": {
            "gridcolor": "white",
            "linecolor": "white",
            "ticks": ""
           },
           "bgcolor": "#E5ECF6",
           "radialaxis": {
            "gridcolor": "white",
            "linecolor": "white",
            "ticks": ""
           }
          },
          "scene": {
           "xaxis": {
            "backgroundcolor": "#E5ECF6",
            "gridcolor": "white",
            "gridwidth": 2,
            "linecolor": "white",
            "showbackground": true,
            "ticks": "",
            "zerolinecolor": "white"
           },
           "yaxis": {
            "backgroundcolor": "#E5ECF6",
            "gridcolor": "white",
            "gridwidth": 2,
            "linecolor": "white",
            "showbackground": true,
            "ticks": "",
            "zerolinecolor": "white"
           },
           "zaxis": {
            "backgroundcolor": "#E5ECF6",
            "gridcolor": "white",
            "gridwidth": 2,
            "linecolor": "white",
            "showbackground": true,
            "ticks": "",
            "zerolinecolor": "white"
           }
          },
          "shapedefaults": {
           "line": {
            "color": "#2a3f5f"
           }
          },
          "ternary": {
           "aaxis": {
            "gridcolor": "white",
            "linecolor": "white",
            "ticks": ""
           },
           "baxis": {
            "gridcolor": "white",
            "linecolor": "white",
            "ticks": ""
           },
           "bgcolor": "#E5ECF6",
           "caxis": {
            "gridcolor": "white",
            "linecolor": "white",
            "ticks": ""
           }
          },
          "title": {
           "x": 0.05
          },
          "xaxis": {
           "automargin": true,
           "gridcolor": "white",
           "linecolor": "white",
           "ticks": "",
           "title": {
            "standoff": 15
           },
           "zerolinecolor": "white",
           "zerolinewidth": 2
          },
          "yaxis": {
           "automargin": true,
           "gridcolor": "white",
           "linecolor": "white",
           "ticks": "",
           "title": {
            "standoff": 15
           },
           "zerolinecolor": "white",
           "zerolinewidth": 2
          }
         }
        },
        "xaxis": {
         "type": "category"
        }
       }
      },
      "text/html": [
       "<div>                            <div id=\"1f24d9b9-0854-4a3a-98ca-dd200f413b78\" class=\"plotly-graph-div\" style=\"height:525px; width:100%;\"></div>            <script type=\"text/javascript\">                require([\"plotly\"], function(Plotly) {                    window.PLOTLYENV=window.PLOTLYENV || {};                                    if (document.getElementById(\"1f24d9b9-0854-4a3a-98ca-dd200f413b78\")) {                    Plotly.newPlot(                        \"1f24d9b9-0854-4a3a-98ca-dd200f413b78\",                        [{\"mode\": \"lines\", \"name\": \"Departure delay\", \"type\": \"scatter\", \"x\": [1.0, 2.0, 3.0, 4.0, 5.0, 6.0, 7.0, 8.0, 9.0, 10.0, 11.0, 12.0, 13.0, 14.0, 15.0, 16.0, 17.0, 18.0, 19.0, 20.0, 21.0, 22.0, 23.0, null], \"y\": [12.79027778, 16.28469751, 11.98442368, 7.115681234, 4.066987257, 3.30237476, 4.456099169, 5.633489461, 6.834943205, 8.760456493, 9.904560971, 10.98731116, 12.27360863, 13.07160424, 12.87214427, 13.65982228, 14.92389637, 16.05634723, 16.28082898, 15.11968731, 13.90957164, 11.41941601, 11.39532121, 5.674763033]}, {\"mode\": \"lines\", \"name\": \"Arrival delay\", \"type\": \"scatter\", \"x\": [1.0, 2.0, 3.0, 4.0, 5.0, 6.0, 7.0, 8.0, 9.0, 10.0, 11.0, 12.0, 13.0, 14.0, 15.0, 16.0, 17.0, 18.0, 19.0, 20.0, 21.0, 22.0, 23.0, null], \"y\": [4.174791086, 8.818181818, 7.361370717000001, 2.9408740360000003, -0.920558045, -1.6093593940000002, -0.30392105, 1.1632360659999998, 1.7363286930000001, 3.6446133689999995, 4.193903182, 5.570571383, 6.436138979, 7.606905931, 7.245436477, 8.533976838, 9.627832247999999, 11.18270491, 10.54030107, 8.964248093, 7.888551861, 5.1075234730000005, 1.4147815730000002, -5.017486663]}, {\"mode\": \"lines+markers\", \"name\": \"Total delay\", \"type\": \"scatter\", \"x\": [1.0, 2.0, 3.0, 4.0, 5.0, 6.0, 7.0, 8.0, 9.0, 10.0, 11.0, 12.0, 13.0, 14.0, 15.0, 16.0, 17.0, 18.0, 19.0, 20.0, 21.0, 22.0, 23.0, null], \"y\": [16.92966574, 24.96078431, 19.34579439, 10.05655527, 3.04667245, 1.658178304, 4.110823015, 6.757757784, 8.519715384, 12.34747673, 14.03803851, 16.44197049, 18.65508512, 20.58067357, 20.04385999, 22.1210329, 24.45509141, 27.16399142, 26.69690109, 23.92432069, 21.74991892, 16.41660773, 12.70830662, 0.633965619]}],                        {\"annotations\": [{\"font\": {\"size\": 16}, \"showarrow\": false, \"text\": \"OPTIMAL\", \"x\": \"5\", \"xanchor\": \"left\", \"xref\": \"x\", \"y\": 1, \"yanchor\": \"top\", \"yref\": \"y domain\"}, {\"font\": {\"size\": 16}, \"showarrow\": false, \"text\": \"AVOID\", \"x\": \"13\", \"xanchor\": \"left\", \"xref\": \"x\", \"y\": 1, \"yanchor\": \"top\", \"yref\": \"y domain\"}], \"shapes\": [{\"fillcolor\": \"green\", \"line\": {\"width\": 0}, \"opacity\": 0.25, \"type\": \"rect\", \"x0\": \"5\", \"x1\": \"8\", \"xref\": \"x\", \"y0\": 0, \"y1\": 1, \"yref\": \"y domain\"}, {\"fillcolor\": \"red\", \"line\": {\"width\": 0}, \"opacity\": 0.25, \"type\": \"rect\", \"x0\": \"13\", \"x1\": \"20\", \"xref\": \"x\", \"y0\": 0, \"y1\": 1, \"yref\": \"y domain\"}], \"template\": {\"data\": {\"bar\": [{\"error_x\": {\"color\": \"#2a3f5f\"}, \"error_y\": {\"color\": \"#2a3f5f\"}, \"marker\": {\"line\": {\"color\": \"#E5ECF6\", \"width\": 0.5}}, \"type\": \"bar\"}], \"barpolar\": [{\"marker\": {\"line\": {\"color\": \"#E5ECF6\", \"width\": 0.5}}, \"type\": \"barpolar\"}], \"carpet\": [{\"aaxis\": {\"endlinecolor\": \"#2a3f5f\", \"gridcolor\": \"white\", \"linecolor\": \"white\", \"minorgridcolor\": \"white\", \"startlinecolor\": \"#2a3f5f\"}, \"baxis\": {\"endlinecolor\": \"#2a3f5f\", \"gridcolor\": \"white\", \"linecolor\": \"white\", \"minorgridcolor\": \"white\", \"startlinecolor\": \"#2a3f5f\"}, \"type\": \"carpet\"}], \"choropleth\": [{\"colorbar\": {\"outlinewidth\": 0, \"ticks\": \"\"}, \"type\": \"choropleth\"}], \"contour\": [{\"colorbar\": {\"outlinewidth\": 0, \"ticks\": \"\"}, \"colorscale\": [[0.0, \"#0d0887\"], [0.1111111111111111, \"#46039f\"], [0.2222222222222222, \"#7201a8\"], [0.3333333333333333, \"#9c179e\"], [0.4444444444444444, \"#bd3786\"], [0.5555555555555556, \"#d8576b\"], [0.6666666666666666, \"#ed7953\"], [0.7777777777777778, \"#fb9f3a\"], [0.8888888888888888, \"#fdca26\"], [1.0, \"#f0f921\"]], \"type\": \"contour\"}], \"contourcarpet\": [{\"colorbar\": {\"outlinewidth\": 0, \"ticks\": \"\"}, \"type\": \"contourcarpet\"}], \"heatmap\": [{\"colorbar\": {\"outlinewidth\": 0, \"ticks\": \"\"}, \"colorscale\": [[0.0, \"#0d0887\"], [0.1111111111111111, \"#46039f\"], [0.2222222222222222, \"#7201a8\"], [0.3333333333333333, \"#9c179e\"], [0.4444444444444444, \"#bd3786\"], [0.5555555555555556, \"#d8576b\"], [0.6666666666666666, \"#ed7953\"], [0.7777777777777778, \"#fb9f3a\"], [0.8888888888888888, \"#fdca26\"], [1.0, \"#f0f921\"]], \"type\": \"heatmap\"}], \"heatmapgl\": [{\"colorbar\": {\"outlinewidth\": 0, \"ticks\": \"\"}, \"colorscale\": [[0.0, \"#0d0887\"], [0.1111111111111111, \"#46039f\"], [0.2222222222222222, \"#7201a8\"], [0.3333333333333333, \"#9c179e\"], [0.4444444444444444, \"#bd3786\"], [0.5555555555555556, \"#d8576b\"], [0.6666666666666666, \"#ed7953\"], [0.7777777777777778, \"#fb9f3a\"], [0.8888888888888888, \"#fdca26\"], [1.0, \"#f0f921\"]], \"type\": \"heatmapgl\"}], \"histogram\": [{\"marker\": {\"colorbar\": {\"outlinewidth\": 0, \"ticks\": \"\"}}, \"type\": \"histogram\"}], \"histogram2d\": [{\"colorbar\": {\"outlinewidth\": 0, \"ticks\": \"\"}, \"colorscale\": [[0.0, \"#0d0887\"], [0.1111111111111111, \"#46039f\"], [0.2222222222222222, \"#7201a8\"], [0.3333333333333333, \"#9c179e\"], [0.4444444444444444, \"#bd3786\"], [0.5555555555555556, \"#d8576b\"], [0.6666666666666666, \"#ed7953\"], [0.7777777777777778, \"#fb9f3a\"], [0.8888888888888888, \"#fdca26\"], [1.0, \"#f0f921\"]], \"type\": \"histogram2d\"}], \"histogram2dcontour\": [{\"colorbar\": {\"outlinewidth\": 0, \"ticks\": \"\"}, \"colorscale\": [[0.0, \"#0d0887\"], [0.1111111111111111, \"#46039f\"], [0.2222222222222222, \"#7201a8\"], [0.3333333333333333, \"#9c179e\"], [0.4444444444444444, \"#bd3786\"], [0.5555555555555556, \"#d8576b\"], [0.6666666666666666, \"#ed7953\"], [0.7777777777777778, \"#fb9f3a\"], [0.8888888888888888, \"#fdca26\"], [1.0, \"#f0f921\"]], \"type\": \"histogram2dcontour\"}], \"mesh3d\": [{\"colorbar\": {\"outlinewidth\": 0, \"ticks\": \"\"}, \"type\": \"mesh3d\"}], \"parcoords\": [{\"line\": {\"colorbar\": {\"outlinewidth\": 0, \"ticks\": \"\"}}, \"type\": \"parcoords\"}], \"pie\": [{\"automargin\": true, \"type\": \"pie\"}], \"scatter\": [{\"marker\": {\"colorbar\": {\"outlinewidth\": 0, \"ticks\": \"\"}}, \"type\": \"scatter\"}], \"scatter3d\": [{\"line\": {\"colorbar\": {\"outlinewidth\": 0, \"ticks\": \"\"}}, \"marker\": {\"colorbar\": {\"outlinewidth\": 0, \"ticks\": \"\"}}, \"type\": \"scatter3d\"}], \"scattercarpet\": [{\"marker\": {\"colorbar\": {\"outlinewidth\": 0, \"ticks\": \"\"}}, \"type\": \"scattercarpet\"}], \"scattergeo\": [{\"marker\": {\"colorbar\": {\"outlinewidth\": 0, \"ticks\": \"\"}}, \"type\": \"scattergeo\"}], \"scattergl\": [{\"marker\": {\"colorbar\": {\"outlinewidth\": 0, \"ticks\": \"\"}}, \"type\": \"scattergl\"}], \"scattermapbox\": [{\"marker\": {\"colorbar\": {\"outlinewidth\": 0, \"ticks\": \"\"}}, \"type\": \"scattermapbox\"}], \"scatterpolar\": [{\"marker\": {\"colorbar\": {\"outlinewidth\": 0, \"ticks\": \"\"}}, \"type\": \"scatterpolar\"}], \"scatterpolargl\": [{\"marker\": {\"colorbar\": {\"outlinewidth\": 0, \"ticks\": \"\"}}, \"type\": \"scatterpolargl\"}], \"scatterternary\": [{\"marker\": {\"colorbar\": {\"outlinewidth\": 0, \"ticks\": \"\"}}, \"type\": \"scatterternary\"}], \"surface\": [{\"colorbar\": {\"outlinewidth\": 0, \"ticks\": \"\"}, \"colorscale\": [[0.0, \"#0d0887\"], [0.1111111111111111, \"#46039f\"], [0.2222222222222222, \"#7201a8\"], [0.3333333333333333, \"#9c179e\"], [0.4444444444444444, \"#bd3786\"], [0.5555555555555556, \"#d8576b\"], [0.6666666666666666, \"#ed7953\"], [0.7777777777777778, \"#fb9f3a\"], [0.8888888888888888, \"#fdca26\"], [1.0, \"#f0f921\"]], \"type\": \"surface\"}], \"table\": [{\"cells\": {\"fill\": {\"color\": \"#EBF0F8\"}, \"line\": {\"color\": \"white\"}}, \"header\": {\"fill\": {\"color\": \"#C8D4E3\"}, \"line\": {\"color\": \"white\"}}, \"type\": \"table\"}]}, \"layout\": {\"annotationdefaults\": {\"arrowcolor\": \"#2a3f5f\", \"arrowhead\": 0, \"arrowwidth\": 1}, \"autotypenumbers\": \"strict\", \"coloraxis\": {\"colorbar\": {\"outlinewidth\": 0, \"ticks\": \"\"}}, \"colorscale\": {\"diverging\": [[0, \"#8e0152\"], [0.1, \"#c51b7d\"], [0.2, \"#de77ae\"], [0.3, \"#f1b6da\"], [0.4, \"#fde0ef\"], [0.5, \"#f7f7f7\"], [0.6, \"#e6f5d0\"], [0.7, \"#b8e186\"], [0.8, \"#7fbc41\"], [0.9, \"#4d9221\"], [1, \"#276419\"]], \"sequential\": [[0.0, \"#0d0887\"], [0.1111111111111111, \"#46039f\"], [0.2222222222222222, \"#7201a8\"], [0.3333333333333333, \"#9c179e\"], [0.4444444444444444, \"#bd3786\"], [0.5555555555555556, \"#d8576b\"], [0.6666666666666666, \"#ed7953\"], [0.7777777777777778, \"#fb9f3a\"], [0.8888888888888888, \"#fdca26\"], [1.0, \"#f0f921\"]], \"sequentialminus\": [[0.0, \"#0d0887\"], [0.1111111111111111, \"#46039f\"], [0.2222222222222222, \"#7201a8\"], [0.3333333333333333, \"#9c179e\"], [0.4444444444444444, \"#bd3786\"], [0.5555555555555556, \"#d8576b\"], [0.6666666666666666, \"#ed7953\"], [0.7777777777777778, \"#fb9f3a\"], [0.8888888888888888, \"#fdca26\"], [1.0, \"#f0f921\"]]}, \"colorway\": [\"#636efa\", \"#EF553B\", \"#00cc96\", \"#ab63fa\", \"#FFA15A\", \"#19d3f3\", \"#FF6692\", \"#B6E880\", \"#FF97FF\", \"#FECB52\"], \"font\": {\"color\": \"#2a3f5f\"}, \"geo\": {\"bgcolor\": \"white\", \"lakecolor\": \"white\", \"landcolor\": \"#E5ECF6\", \"showlakes\": true, \"showland\": true, \"subunitcolor\": \"white\"}, \"hoverlabel\": {\"align\": \"left\"}, \"hovermode\": \"closest\", \"mapbox\": {\"style\": \"light\"}, \"paper_bgcolor\": \"white\", \"plot_bgcolor\": \"#E5ECF6\", \"polar\": {\"angularaxis\": {\"gridcolor\": \"white\", \"linecolor\": \"white\", \"ticks\": \"\"}, \"bgcolor\": \"#E5ECF6\", \"radialaxis\": {\"gridcolor\": \"white\", \"linecolor\": \"white\", \"ticks\": \"\"}}, \"scene\": {\"xaxis\": {\"backgroundcolor\": \"#E5ECF6\", \"gridcolor\": \"white\", \"gridwidth\": 2, \"linecolor\": \"white\", \"showbackground\": true, \"ticks\": \"\", \"zerolinecolor\": \"white\"}, \"yaxis\": {\"backgroundcolor\": \"#E5ECF6\", \"gridcolor\": \"white\", \"gridwidth\": 2, \"linecolor\": \"white\", \"showbackground\": true, \"ticks\": \"\", \"zerolinecolor\": \"white\"}, \"zaxis\": {\"backgroundcolor\": \"#E5ECF6\", \"gridcolor\": \"white\", \"gridwidth\": 2, \"linecolor\": \"white\", \"showbackground\": true, \"ticks\": \"\", \"zerolinecolor\": \"white\"}}, \"shapedefaults\": {\"line\": {\"color\": \"#2a3f5f\"}}, \"ternary\": {\"aaxis\": {\"gridcolor\": \"white\", \"linecolor\": \"white\", \"ticks\": \"\"}, \"baxis\": {\"gridcolor\": \"white\", \"linecolor\": \"white\", \"ticks\": \"\"}, \"bgcolor\": \"#E5ECF6\", \"caxis\": {\"gridcolor\": \"white\", \"linecolor\": \"white\", \"ticks\": \"\"}}, \"title\": {\"x\": 0.05}, \"xaxis\": {\"automargin\": true, \"gridcolor\": \"white\", \"linecolor\": \"white\", \"ticks\": \"\", \"title\": {\"standoff\": 15}, \"zerolinecolor\": \"white\", \"zerolinewidth\": 2}, \"yaxis\": {\"automargin\": true, \"gridcolor\": \"white\", \"linecolor\": \"white\", \"ticks\": \"\", \"title\": {\"standoff\": 15}, \"zerolinecolor\": \"white\", \"zerolinewidth\": 2}}}, \"xaxis\": {\"type\": \"category\"}},                        {\"responsive\": true}                    ).then(function(){\n",
       "                            \n",
       "var gd = document.getElementById('1f24d9b9-0854-4a3a-98ca-dd200f413b78');\n",
       "var x = new MutationObserver(function (mutations, observer) {{\n",
       "        var display = window.getComputedStyle(gd).display;\n",
       "        if (!display || display === 'none') {{\n",
       "            console.log([gd, 'removed!']);\n",
       "            Plotly.purge(gd);\n",
       "            observer.disconnect();\n",
       "        }}\n",
       "}});\n",
       "\n",
       "// Listen for the removal of the full notebook cells\n",
       "var notebookContainer = gd.closest('#notebook-container');\n",
       "if (notebookContainer) {{\n",
       "    x.observe(notebookContainer, {childList: true});\n",
       "}}\n",
       "\n",
       "// Listen for the clearing of the current output cell\n",
       "var outputEl = gd.closest('.output');\n",
       "if (outputEl) {{\n",
       "    x.observe(outputEl, {childList: true});\n",
       "}}\n",
       "\n",
       "                        })                };                });            </script>        </div>"
      ]
     },
     "metadata": {},
     "output_type": "display_data"
    }
   ],
   "source": [
    "df = pd.read_csv('avgDelayHour.csv')\n",
    "bookFlight(df)"
   ]
  },
  {
   "cell_type": "markdown",
   "metadata": {},
   "source": [
    "#### Best times to catch a flight is early morning with the lowest delay times at 6am, flights also arrive ahead of schedule during that time period. Possibly due to low air traffic."
   ]
  },
  {
   "cell_type": "markdown",
   "metadata": {},
   "source": [
    "## Which carrier should I fly with?"
   ]
  },
  {
   "cell_type": "code",
   "execution_count": 65,
   "metadata": {},
   "outputs": [
    {
     "data": {
      "application/vnd.plotly.v1+json": {
       "config": {
        "plotlyServerURL": "https://plot.ly"
       },
       "data": [
        {
         "marker": {
          "color": [
           "lightslategray",
           "lightslategray",
           "lightslategray",
           "lightslategray",
           "lightslategray",
           "lightslategray",
           "lightslategray",
           "lightslategray",
           "chartreuse",
           "crimson",
           "lightslategray",
           "lightslategray",
           "lightslategray",
           "lightslategray",
           "lightslategray",
           "lightslategray",
           "lightslategray"
          ]
         },
         "type": "bar",
         "x": [
          "Alaska Airlines Inc.",
          "Allegiant Air",
          "American Airlines Inc.",
          "American Eagle Airlines Inc.",
          "Atlantic Southeast Airlines",
          "Comair Inc.",
          "Delta Air Lines Inc.",
          "Frontier Airlines Inc.",
          "Hawaiian Airlines Inc.",
          "JetBlue Airways",
          "Mesa Airlines Inc.",
          "Midwest Airline, Inc.",
          "Pinnacle Airlines Inc.",
          "Skywest Airlines Inc.",
          "Southwest Airlines Co.",
          "Spirit Air Lines",
          "United Air Lines Inc."
         ],
         "y": [
          9.090616352201256,
          14.383553670907126,
          15.325990125576904,
          17.108874504071828,
          27.361240048386644,
          12.524038605640982,
          7.688955184006057,
          19.294416243654823,
          4.609671672181217,
          30.90075818543776,
          19.539335328881727,
          12.379099492235374,
          13.493331320146966,
          27.387226339916893,
          12.402945766370909,
          11.332101616628174,
          19.01374237606945
         ]
        }
       ],
       "layout": {
        "template": {
         "data": {
          "bar": [
           {
            "error_x": {
             "color": "#2a3f5f"
            },
            "error_y": {
             "color": "#2a3f5f"
            },
            "marker": {
             "line": {
              "color": "#E5ECF6",
              "width": 0.5
             }
            },
            "type": "bar"
           }
          ],
          "barpolar": [
           {
            "marker": {
             "line": {
              "color": "#E5ECF6",
              "width": 0.5
             }
            },
            "type": "barpolar"
           }
          ],
          "carpet": [
           {
            "aaxis": {
             "endlinecolor": "#2a3f5f",
             "gridcolor": "white",
             "linecolor": "white",
             "minorgridcolor": "white",
             "startlinecolor": "#2a3f5f"
            },
            "baxis": {
             "endlinecolor": "#2a3f5f",
             "gridcolor": "white",
             "linecolor": "white",
             "minorgridcolor": "white",
             "startlinecolor": "#2a3f5f"
            },
            "type": "carpet"
           }
          ],
          "choropleth": [
           {
            "colorbar": {
             "outlinewidth": 0,
             "ticks": ""
            },
            "type": "choropleth"
           }
          ],
          "contour": [
           {
            "colorbar": {
             "outlinewidth": 0,
             "ticks": ""
            },
            "colorscale": [
             [
              0,
              "#0d0887"
             ],
             [
              0.1111111111111111,
              "#46039f"
             ],
             [
              0.2222222222222222,
              "#7201a8"
             ],
             [
              0.3333333333333333,
              "#9c179e"
             ],
             [
              0.4444444444444444,
              "#bd3786"
             ],
             [
              0.5555555555555556,
              "#d8576b"
             ],
             [
              0.6666666666666666,
              "#ed7953"
             ],
             [
              0.7777777777777778,
              "#fb9f3a"
             ],
             [
              0.8888888888888888,
              "#fdca26"
             ],
             [
              1,
              "#f0f921"
             ]
            ],
            "type": "contour"
           }
          ],
          "contourcarpet": [
           {
            "colorbar": {
             "outlinewidth": 0,
             "ticks": ""
            },
            "type": "contourcarpet"
           }
          ],
          "heatmap": [
           {
            "colorbar": {
             "outlinewidth": 0,
             "ticks": ""
            },
            "colorscale": [
             [
              0,
              "#0d0887"
             ],
             [
              0.1111111111111111,
              "#46039f"
             ],
             [
              0.2222222222222222,
              "#7201a8"
             ],
             [
              0.3333333333333333,
              "#9c179e"
             ],
             [
              0.4444444444444444,
              "#bd3786"
             ],
             [
              0.5555555555555556,
              "#d8576b"
             ],
             [
              0.6666666666666666,
              "#ed7953"
             ],
             [
              0.7777777777777778,
              "#fb9f3a"
             ],
             [
              0.8888888888888888,
              "#fdca26"
             ],
             [
              1,
              "#f0f921"
             ]
            ],
            "type": "heatmap"
           }
          ],
          "heatmapgl": [
           {
            "colorbar": {
             "outlinewidth": 0,
             "ticks": ""
            },
            "colorscale": [
             [
              0,
              "#0d0887"
             ],
             [
              0.1111111111111111,
              "#46039f"
             ],
             [
              0.2222222222222222,
              "#7201a8"
             ],
             [
              0.3333333333333333,
              "#9c179e"
             ],
             [
              0.4444444444444444,
              "#bd3786"
             ],
             [
              0.5555555555555556,
              "#d8576b"
             ],
             [
              0.6666666666666666,
              "#ed7953"
             ],
             [
              0.7777777777777778,
              "#fb9f3a"
             ],
             [
              0.8888888888888888,
              "#fdca26"
             ],
             [
              1,
              "#f0f921"
             ]
            ],
            "type": "heatmapgl"
           }
          ],
          "histogram": [
           {
            "marker": {
             "colorbar": {
              "outlinewidth": 0,
              "ticks": ""
             }
            },
            "type": "histogram"
           }
          ],
          "histogram2d": [
           {
            "colorbar": {
             "outlinewidth": 0,
             "ticks": ""
            },
            "colorscale": [
             [
              0,
              "#0d0887"
             ],
             [
              0.1111111111111111,
              "#46039f"
             ],
             [
              0.2222222222222222,
              "#7201a8"
             ],
             [
              0.3333333333333333,
              "#9c179e"
             ],
             [
              0.4444444444444444,
              "#bd3786"
             ],
             [
              0.5555555555555556,
              "#d8576b"
             ],
             [
              0.6666666666666666,
              "#ed7953"
             ],
             [
              0.7777777777777778,
              "#fb9f3a"
             ],
             [
              0.8888888888888888,
              "#fdca26"
             ],
             [
              1,
              "#f0f921"
             ]
            ],
            "type": "histogram2d"
           }
          ],
          "histogram2dcontour": [
           {
            "colorbar": {
             "outlinewidth": 0,
             "ticks": ""
            },
            "colorscale": [
             [
              0,
              "#0d0887"
             ],
             [
              0.1111111111111111,
              "#46039f"
             ],
             [
              0.2222222222222222,
              "#7201a8"
             ],
             [
              0.3333333333333333,
              "#9c179e"
             ],
             [
              0.4444444444444444,
              "#bd3786"
             ],
             [
              0.5555555555555556,
              "#d8576b"
             ],
             [
              0.6666666666666666,
              "#ed7953"
             ],
             [
              0.7777777777777778,
              "#fb9f3a"
             ],
             [
              0.8888888888888888,
              "#fdca26"
             ],
             [
              1,
              "#f0f921"
             ]
            ],
            "type": "histogram2dcontour"
           }
          ],
          "mesh3d": [
           {
            "colorbar": {
             "outlinewidth": 0,
             "ticks": ""
            },
            "type": "mesh3d"
           }
          ],
          "parcoords": [
           {
            "line": {
             "colorbar": {
              "outlinewidth": 0,
              "ticks": ""
             }
            },
            "type": "parcoords"
           }
          ],
          "pie": [
           {
            "automargin": true,
            "type": "pie"
           }
          ],
          "scatter": [
           {
            "marker": {
             "colorbar": {
              "outlinewidth": 0,
              "ticks": ""
             }
            },
            "type": "scatter"
           }
          ],
          "scatter3d": [
           {
            "line": {
             "colorbar": {
              "outlinewidth": 0,
              "ticks": ""
             }
            },
            "marker": {
             "colorbar": {
              "outlinewidth": 0,
              "ticks": ""
             }
            },
            "type": "scatter3d"
           }
          ],
          "scattercarpet": [
           {
            "marker": {
             "colorbar": {
              "outlinewidth": 0,
              "ticks": ""
             }
            },
            "type": "scattercarpet"
           }
          ],
          "scattergeo": [
           {
            "marker": {
             "colorbar": {
              "outlinewidth": 0,
              "ticks": ""
             }
            },
            "type": "scattergeo"
           }
          ],
          "scattergl": [
           {
            "marker": {
             "colorbar": {
              "outlinewidth": 0,
              "ticks": ""
             }
            },
            "type": "scattergl"
           }
          ],
          "scattermapbox": [
           {
            "marker": {
             "colorbar": {
              "outlinewidth": 0,
              "ticks": ""
             }
            },
            "type": "scattermapbox"
           }
          ],
          "scatterpolar": [
           {
            "marker": {
             "colorbar": {
              "outlinewidth": 0,
              "ticks": ""
             }
            },
            "type": "scatterpolar"
           }
          ],
          "scatterpolargl": [
           {
            "marker": {
             "colorbar": {
              "outlinewidth": 0,
              "ticks": ""
             }
            },
            "type": "scatterpolargl"
           }
          ],
          "scatterternary": [
           {
            "marker": {
             "colorbar": {
              "outlinewidth": 0,
              "ticks": ""
             }
            },
            "type": "scatterternary"
           }
          ],
          "surface": [
           {
            "colorbar": {
             "outlinewidth": 0,
             "ticks": ""
            },
            "colorscale": [
             [
              0,
              "#0d0887"
             ],
             [
              0.1111111111111111,
              "#46039f"
             ],
             [
              0.2222222222222222,
              "#7201a8"
             ],
             [
              0.3333333333333333,
              "#9c179e"
             ],
             [
              0.4444444444444444,
              "#bd3786"
             ],
             [
              0.5555555555555556,
              "#d8576b"
             ],
             [
              0.6666666666666666,
              "#ed7953"
             ],
             [
              0.7777777777777778,
              "#fb9f3a"
             ],
             [
              0.8888888888888888,
              "#fdca26"
             ],
             [
              1,
              "#f0f921"
             ]
            ],
            "type": "surface"
           }
          ],
          "table": [
           {
            "cells": {
             "fill": {
              "color": "#EBF0F8"
             },
             "line": {
              "color": "white"
             }
            },
            "header": {
             "fill": {
              "color": "#C8D4E3"
             },
             "line": {
              "color": "white"
             }
            },
            "type": "table"
           }
          ]
         },
         "layout": {
          "annotationdefaults": {
           "arrowcolor": "#2a3f5f",
           "arrowhead": 0,
           "arrowwidth": 1
          },
          "autotypenumbers": "strict",
          "coloraxis": {
           "colorbar": {
            "outlinewidth": 0,
            "ticks": ""
           }
          },
          "colorscale": {
           "diverging": [
            [
             0,
             "#8e0152"
            ],
            [
             0.1,
             "#c51b7d"
            ],
            [
             0.2,
             "#de77ae"
            ],
            [
             0.3,
             "#f1b6da"
            ],
            [
             0.4,
             "#fde0ef"
            ],
            [
             0.5,
             "#f7f7f7"
            ],
            [
             0.6,
             "#e6f5d0"
            ],
            [
             0.7,
             "#b8e186"
            ],
            [
             0.8,
             "#7fbc41"
            ],
            [
             0.9,
             "#4d9221"
            ],
            [
             1,
             "#276419"
            ]
           ],
           "sequential": [
            [
             0,
             "#0d0887"
            ],
            [
             0.1111111111111111,
             "#46039f"
            ],
            [
             0.2222222222222222,
             "#7201a8"
            ],
            [
             0.3333333333333333,
             "#9c179e"
            ],
            [
             0.4444444444444444,
             "#bd3786"
            ],
            [
             0.5555555555555556,
             "#d8576b"
            ],
            [
             0.6666666666666666,
             "#ed7953"
            ],
            [
             0.7777777777777778,
             "#fb9f3a"
            ],
            [
             0.8888888888888888,
             "#fdca26"
            ],
            [
             1,
             "#f0f921"
            ]
           ],
           "sequentialminus": [
            [
             0,
             "#0d0887"
            ],
            [
             0.1111111111111111,
             "#46039f"
            ],
            [
             0.2222222222222222,
             "#7201a8"
            ],
            [
             0.3333333333333333,
             "#9c179e"
            ],
            [
             0.4444444444444444,
             "#bd3786"
            ],
            [
             0.5555555555555556,
             "#d8576b"
            ],
            [
             0.6666666666666666,
             "#ed7953"
            ],
            [
             0.7777777777777778,
             "#fb9f3a"
            ],
            [
             0.8888888888888888,
             "#fdca26"
            ],
            [
             1,
             "#f0f921"
            ]
           ]
          },
          "colorway": [
           "#636efa",
           "#EF553B",
           "#00cc96",
           "#ab63fa",
           "#FFA15A",
           "#19d3f3",
           "#FF6692",
           "#B6E880",
           "#FF97FF",
           "#FECB52"
          ],
          "font": {
           "color": "#2a3f5f"
          },
          "geo": {
           "bgcolor": "white",
           "lakecolor": "white",
           "landcolor": "#E5ECF6",
           "showlakes": true,
           "showland": true,
           "subunitcolor": "white"
          },
          "hoverlabel": {
           "align": "left"
          },
          "hovermode": "closest",
          "mapbox": {
           "style": "light"
          },
          "paper_bgcolor": "white",
          "plot_bgcolor": "#E5ECF6",
          "polar": {
           "angularaxis": {
            "gridcolor": "white",
            "linecolor": "white",
            "ticks": ""
           },
           "bgcolor": "#E5ECF6",
           "radialaxis": {
            "gridcolor": "white",
            "linecolor": "white",
            "ticks": ""
           }
          },
          "scene": {
           "xaxis": {
            "backgroundcolor": "#E5ECF6",
            "gridcolor": "white",
            "gridwidth": 2,
            "linecolor": "white",
            "showbackground": true,
            "ticks": "",
            "zerolinecolor": "white"
           },
           "yaxis": {
            "backgroundcolor": "#E5ECF6",
            "gridcolor": "white",
            "gridwidth": 2,
            "linecolor": "white",
            "showbackground": true,
            "ticks": "",
            "zerolinecolor": "white"
           },
           "zaxis": {
            "backgroundcolor": "#E5ECF6",
            "gridcolor": "white",
            "gridwidth": 2,
            "linecolor": "white",
            "showbackground": true,
            "ticks": "",
            "zerolinecolor": "white"
           }
          },
          "shapedefaults": {
           "line": {
            "color": "#2a3f5f"
           }
          },
          "ternary": {
           "aaxis": {
            "gridcolor": "white",
            "linecolor": "white",
            "ticks": ""
           },
           "baxis": {
            "gridcolor": "white",
            "linecolor": "white",
            "ticks": ""
           },
           "bgcolor": "#E5ECF6",
           "caxis": {
            "gridcolor": "white",
            "linecolor": "white",
            "ticks": ""
           }
          },
          "title": {
           "x": 0.05
          },
          "xaxis": {
           "automargin": true,
           "gridcolor": "white",
           "linecolor": "white",
           "ticks": "",
           "title": {
            "standoff": 15
           },
           "zerolinecolor": "white",
           "zerolinewidth": 2
          },
          "yaxis": {
           "automargin": true,
           "gridcolor": "white",
           "linecolor": "white",
           "ticks": "",
           "title": {
            "standoff": 15
           },
           "zerolinecolor": "white",
           "zerolinewidth": 2
          }
         }
        }
       }
      },
      "text/html": [
       "<div>                            <div id=\"84130f08-6129-4833-bddd-f342a1f654b7\" class=\"plotly-graph-div\" style=\"height:525px; width:100%;\"></div>            <script type=\"text/javascript\">                require([\"plotly\"], function(Plotly) {                    window.PLOTLYENV=window.PLOTLYENV || {};                                    if (document.getElementById(\"84130f08-6129-4833-bddd-f342a1f654b7\")) {                    Plotly.newPlot(                        \"84130f08-6129-4833-bddd-f342a1f654b7\",                        [{\"marker\": {\"color\": [\"lightslategray\", \"lightslategray\", \"lightslategray\", \"lightslategray\", \"lightslategray\", \"lightslategray\", \"lightslategray\", \"lightslategray\", \"chartreuse\", \"crimson\", \"lightslategray\", \"lightslategray\", \"lightslategray\", \"lightslategray\", \"lightslategray\", \"lightslategray\", \"lightslategray\"]}, \"type\": \"bar\", \"x\": [\"Alaska Airlines Inc.\", \"Allegiant Air\", \"American Airlines Inc.\", \"American Eagle Airlines Inc.\", \"Atlantic Southeast Airlines\", \"Comair Inc.\", \"Delta Air Lines Inc.\", \"Frontier Airlines Inc.\", \"Hawaiian Airlines Inc.\", \"JetBlue Airways\", \"Mesa Airlines Inc.\", \"Midwest Airline, Inc.\", \"Pinnacle Airlines Inc.\", \"Skywest Airlines Inc.\", \"Southwest Airlines Co.\", \"Spirit Air Lines\", \"United Air Lines Inc.\"], \"y\": [9.090616352201256, 14.383553670907126, 15.325990125576904, 17.108874504071828, 27.361240048386644, 12.524038605640982, 7.688955184006057, 19.294416243654823, 4.609671672181217, 30.90075818543776, 19.539335328881727, 12.379099492235374, 13.493331320146966, 27.387226339916893, 12.402945766370909, 11.332101616628174, 19.01374237606945]}],                        {\"template\": {\"data\": {\"bar\": [{\"error_x\": {\"color\": \"#2a3f5f\"}, \"error_y\": {\"color\": \"#2a3f5f\"}, \"marker\": {\"line\": {\"color\": \"#E5ECF6\", \"width\": 0.5}}, \"type\": \"bar\"}], \"barpolar\": [{\"marker\": {\"line\": {\"color\": \"#E5ECF6\", \"width\": 0.5}}, \"type\": \"barpolar\"}], \"carpet\": [{\"aaxis\": {\"endlinecolor\": \"#2a3f5f\", \"gridcolor\": \"white\", \"linecolor\": \"white\", \"minorgridcolor\": \"white\", \"startlinecolor\": \"#2a3f5f\"}, \"baxis\": {\"endlinecolor\": \"#2a3f5f\", \"gridcolor\": \"white\", \"linecolor\": \"white\", \"minorgridcolor\": \"white\", \"startlinecolor\": \"#2a3f5f\"}, \"type\": \"carpet\"}], \"choropleth\": [{\"colorbar\": {\"outlinewidth\": 0, \"ticks\": \"\"}, \"type\": \"choropleth\"}], \"contour\": [{\"colorbar\": {\"outlinewidth\": 0, \"ticks\": \"\"}, \"colorscale\": [[0.0, \"#0d0887\"], [0.1111111111111111, \"#46039f\"], [0.2222222222222222, \"#7201a8\"], [0.3333333333333333, \"#9c179e\"], [0.4444444444444444, \"#bd3786\"], [0.5555555555555556, \"#d8576b\"], [0.6666666666666666, \"#ed7953\"], [0.7777777777777778, \"#fb9f3a\"], [0.8888888888888888, \"#fdca26\"], [1.0, \"#f0f921\"]], \"type\": \"contour\"}], \"contourcarpet\": [{\"colorbar\": {\"outlinewidth\": 0, \"ticks\": \"\"}, \"type\": \"contourcarpet\"}], \"heatmap\": [{\"colorbar\": {\"outlinewidth\": 0, \"ticks\": \"\"}, \"colorscale\": [[0.0, \"#0d0887\"], [0.1111111111111111, \"#46039f\"], [0.2222222222222222, \"#7201a8\"], [0.3333333333333333, \"#9c179e\"], [0.4444444444444444, \"#bd3786\"], [0.5555555555555556, \"#d8576b\"], [0.6666666666666666, \"#ed7953\"], [0.7777777777777778, \"#fb9f3a\"], [0.8888888888888888, \"#fdca26\"], [1.0, \"#f0f921\"]], \"type\": \"heatmap\"}], \"heatmapgl\": [{\"colorbar\": {\"outlinewidth\": 0, \"ticks\": \"\"}, \"colorscale\": [[0.0, \"#0d0887\"], [0.1111111111111111, \"#46039f\"], [0.2222222222222222, \"#7201a8\"], [0.3333333333333333, \"#9c179e\"], [0.4444444444444444, \"#bd3786\"], [0.5555555555555556, \"#d8576b\"], [0.6666666666666666, \"#ed7953\"], [0.7777777777777778, \"#fb9f3a\"], [0.8888888888888888, \"#fdca26\"], [1.0, \"#f0f921\"]], \"type\": \"heatmapgl\"}], \"histogram\": [{\"marker\": {\"colorbar\": {\"outlinewidth\": 0, \"ticks\": \"\"}}, \"type\": \"histogram\"}], \"histogram2d\": [{\"colorbar\": {\"outlinewidth\": 0, \"ticks\": \"\"}, \"colorscale\": [[0.0, \"#0d0887\"], [0.1111111111111111, \"#46039f\"], [0.2222222222222222, \"#7201a8\"], [0.3333333333333333, \"#9c179e\"], [0.4444444444444444, \"#bd3786\"], [0.5555555555555556, \"#d8576b\"], [0.6666666666666666, \"#ed7953\"], [0.7777777777777778, \"#fb9f3a\"], [0.8888888888888888, \"#fdca26\"], [1.0, \"#f0f921\"]], \"type\": \"histogram2d\"}], \"histogram2dcontour\": [{\"colorbar\": {\"outlinewidth\": 0, \"ticks\": \"\"}, \"colorscale\": [[0.0, \"#0d0887\"], [0.1111111111111111, \"#46039f\"], [0.2222222222222222, \"#7201a8\"], [0.3333333333333333, \"#9c179e\"], [0.4444444444444444, \"#bd3786\"], [0.5555555555555556, \"#d8576b\"], [0.6666666666666666, \"#ed7953\"], [0.7777777777777778, \"#fb9f3a\"], [0.8888888888888888, \"#fdca26\"], [1.0, \"#f0f921\"]], \"type\": \"histogram2dcontour\"}], \"mesh3d\": [{\"colorbar\": {\"outlinewidth\": 0, \"ticks\": \"\"}, \"type\": \"mesh3d\"}], \"parcoords\": [{\"line\": {\"colorbar\": {\"outlinewidth\": 0, \"ticks\": \"\"}}, \"type\": \"parcoords\"}], \"pie\": [{\"automargin\": true, \"type\": \"pie\"}], \"scatter\": [{\"marker\": {\"colorbar\": {\"outlinewidth\": 0, \"ticks\": \"\"}}, \"type\": \"scatter\"}], \"scatter3d\": [{\"line\": {\"colorbar\": {\"outlinewidth\": 0, \"ticks\": \"\"}}, \"marker\": {\"colorbar\": {\"outlinewidth\": 0, \"ticks\": \"\"}}, \"type\": \"scatter3d\"}], \"scattercarpet\": [{\"marker\": {\"colorbar\": {\"outlinewidth\": 0, \"ticks\": \"\"}}, \"type\": \"scattercarpet\"}], \"scattergeo\": [{\"marker\": {\"colorbar\": {\"outlinewidth\": 0, \"ticks\": \"\"}}, \"type\": \"scattergeo\"}], \"scattergl\": [{\"marker\": {\"colorbar\": {\"outlinewidth\": 0, \"ticks\": \"\"}}, \"type\": \"scattergl\"}], \"scattermapbox\": [{\"marker\": {\"colorbar\": {\"outlinewidth\": 0, \"ticks\": \"\"}}, \"type\": \"scattermapbox\"}], \"scatterpolar\": [{\"marker\": {\"colorbar\": {\"outlinewidth\": 0, \"ticks\": \"\"}}, \"type\": \"scatterpolar\"}], \"scatterpolargl\": [{\"marker\": {\"colorbar\": {\"outlinewidth\": 0, \"ticks\": \"\"}}, \"type\": \"scatterpolargl\"}], \"scatterternary\": [{\"marker\": {\"colorbar\": {\"outlinewidth\": 0, \"ticks\": \"\"}}, \"type\": \"scatterternary\"}], \"surface\": [{\"colorbar\": {\"outlinewidth\": 0, \"ticks\": \"\"}, \"colorscale\": [[0.0, \"#0d0887\"], [0.1111111111111111, \"#46039f\"], [0.2222222222222222, \"#7201a8\"], [0.3333333333333333, \"#9c179e\"], [0.4444444444444444, \"#bd3786\"], [0.5555555555555556, \"#d8576b\"], [0.6666666666666666, \"#ed7953\"], [0.7777777777777778, \"#fb9f3a\"], [0.8888888888888888, \"#fdca26\"], [1.0, \"#f0f921\"]], \"type\": \"surface\"}], \"table\": [{\"cells\": {\"fill\": {\"color\": \"#EBF0F8\"}, \"line\": {\"color\": \"white\"}}, \"header\": {\"fill\": {\"color\": \"#C8D4E3\"}, \"line\": {\"color\": \"white\"}}, \"type\": \"table\"}]}, \"layout\": {\"annotationdefaults\": {\"arrowcolor\": \"#2a3f5f\", \"arrowhead\": 0, \"arrowwidth\": 1}, \"autotypenumbers\": \"strict\", \"coloraxis\": {\"colorbar\": {\"outlinewidth\": 0, \"ticks\": \"\"}}, \"colorscale\": {\"diverging\": [[0, \"#8e0152\"], [0.1, \"#c51b7d\"], [0.2, \"#de77ae\"], [0.3, \"#f1b6da\"], [0.4, \"#fde0ef\"], [0.5, \"#f7f7f7\"], [0.6, \"#e6f5d0\"], [0.7, \"#b8e186\"], [0.8, \"#7fbc41\"], [0.9, \"#4d9221\"], [1, \"#276419\"]], \"sequential\": [[0.0, \"#0d0887\"], [0.1111111111111111, \"#46039f\"], [0.2222222222222222, \"#7201a8\"], [0.3333333333333333, \"#9c179e\"], [0.4444444444444444, \"#bd3786\"], [0.5555555555555556, \"#d8576b\"], [0.6666666666666666, \"#ed7953\"], [0.7777777777777778, \"#fb9f3a\"], [0.8888888888888888, \"#fdca26\"], [1.0, \"#f0f921\"]], \"sequentialminus\": [[0.0, \"#0d0887\"], [0.1111111111111111, \"#46039f\"], [0.2222222222222222, \"#7201a8\"], [0.3333333333333333, \"#9c179e\"], [0.4444444444444444, \"#bd3786\"], [0.5555555555555556, \"#d8576b\"], [0.6666666666666666, \"#ed7953\"], [0.7777777777777778, \"#fb9f3a\"], [0.8888888888888888, \"#fdca26\"], [1.0, \"#f0f921\"]]}, \"colorway\": [\"#636efa\", \"#EF553B\", \"#00cc96\", \"#ab63fa\", \"#FFA15A\", \"#19d3f3\", \"#FF6692\", \"#B6E880\", \"#FF97FF\", \"#FECB52\"], \"font\": {\"color\": \"#2a3f5f\"}, \"geo\": {\"bgcolor\": \"white\", \"lakecolor\": \"white\", \"landcolor\": \"#E5ECF6\", \"showlakes\": true, \"showland\": true, \"subunitcolor\": \"white\"}, \"hoverlabel\": {\"align\": \"left\"}, \"hovermode\": \"closest\", \"mapbox\": {\"style\": \"light\"}, \"paper_bgcolor\": \"white\", \"plot_bgcolor\": \"#E5ECF6\", \"polar\": {\"angularaxis\": {\"gridcolor\": \"white\", \"linecolor\": \"white\", \"ticks\": \"\"}, \"bgcolor\": \"#E5ECF6\", \"radialaxis\": {\"gridcolor\": \"white\", \"linecolor\": \"white\", \"ticks\": \"\"}}, \"scene\": {\"xaxis\": {\"backgroundcolor\": \"#E5ECF6\", \"gridcolor\": \"white\", \"gridwidth\": 2, \"linecolor\": \"white\", \"showbackground\": true, \"ticks\": \"\", \"zerolinecolor\": \"white\"}, \"yaxis\": {\"backgroundcolor\": \"#E5ECF6\", \"gridcolor\": \"white\", \"gridwidth\": 2, \"linecolor\": \"white\", \"showbackground\": true, \"ticks\": \"\", \"zerolinecolor\": \"white\"}, \"zaxis\": {\"backgroundcolor\": \"#E5ECF6\", \"gridcolor\": \"white\", \"gridwidth\": 2, \"linecolor\": \"white\", \"showbackground\": true, \"ticks\": \"\", \"zerolinecolor\": \"white\"}}, \"shapedefaults\": {\"line\": {\"color\": \"#2a3f5f\"}}, \"ternary\": {\"aaxis\": {\"gridcolor\": \"white\", \"linecolor\": \"white\", \"ticks\": \"\"}, \"baxis\": {\"gridcolor\": \"white\", \"linecolor\": \"white\", \"ticks\": \"\"}, \"bgcolor\": \"#E5ECF6\", \"caxis\": {\"gridcolor\": \"white\", \"linecolor\": \"white\", \"ticks\": \"\"}}, \"title\": {\"x\": 0.05}, \"xaxis\": {\"automargin\": true, \"gridcolor\": \"white\", \"linecolor\": \"white\", \"ticks\": \"\", \"title\": {\"standoff\": 15}, \"zerolinecolor\": \"white\", \"zerolinewidth\": 2}, \"yaxis\": {\"automargin\": true, \"gridcolor\": \"white\", \"linecolor\": \"white\", \"ticks\": \"\", \"title\": {\"standoff\": 15}, \"zerolinecolor\": \"white\", \"zerolinewidth\": 2}}}},                        {\"responsive\": true}                    ).then(function(){\n",
       "                            \n",
       "var gd = document.getElementById('84130f08-6129-4833-bddd-f342a1f654b7');\n",
       "var x = new MutationObserver(function (mutations, observer) {{\n",
       "        var display = window.getComputedStyle(gd).display;\n",
       "        if (!display || display === 'none') {{\n",
       "            console.log([gd, 'removed!']);\n",
       "            Plotly.purge(gd);\n",
       "            observer.disconnect();\n",
       "        }}\n",
       "}});\n",
       "\n",
       "// Listen for the removal of the full notebook cells\n",
       "var notebookContainer = gd.closest('#notebook-container');\n",
       "if (notebookContainer) {{\n",
       "    x.observe(notebookContainer, {childList: true});\n",
       "}}\n",
       "\n",
       "// Listen for the clearing of the current output cell\n",
       "var outputEl = gd.closest('.output');\n",
       "if (outputEl) {{\n",
       "    x.observe(outputEl, {childList: true});\n",
       "}}\n",
       "\n",
       "                        })                };                });            </script>        </div>"
      ]
     },
     "metadata": {},
     "output_type": "display_data"
    }
   ],
   "source": [
    "df = pd.read_csv('airline_delay.csv')\n",
    "\n",
    "colors = ['lightslategray',] * df.shape[0]\n",
    "colors[9] = 'crimson'\n",
    "colors[8] = 'chartreuse'\n",
    "\n",
    "fig = go.Figure(data=go.Bar(\n",
    "    x=df['carrier'],\n",
    "    y=df['avg_delay'],\n",
    "    marker_color=colors\n",
    "))\n",
    "\n",
    "fig.show()"
   ]
  },
  {
   "cell_type": "code",
   "execution_count": 143,
   "metadata": {},
   "outputs": [
    {
     "data": {
      "application/vnd.plotly.v1+json": {
       "config": {
        "plotlyServerURL": "https://plot.ly"
       },
       "data": [
        {
         "marker": {
          "color": [
           "lightslategray",
           "lightslategray",
           "lightslategray",
           "lightslategray",
           "lightslategray",
           "lightslategray",
           "chartreuse",
           "lightslategray",
           "lightslategray",
           "crimson",
           "lightslategray",
           "lightslategray",
           "lightslategray",
           "lightslategray",
           "lightslategray",
           "lightslategray",
           "lightslategray"
          ],
          "size": [
           17.75,
           30,
           26,
           35.5,
           29,
           23.75,
           36.5,
           23.5,
           4.5,
           17,
           28.25,
           24.75,
           30.5,
           63,
           21.5,
           11.25,
           27.75
          ],
          "sizemin": 5
         },
         "mode": "markers",
         "text": [
          71,
          120,
          104,
          142,
          116,
          95,
          146,
          94,
          18,
          68,
          113,
          99,
          122,
          252,
          86,
          45,
          111
         ],
         "type": "scatter",
         "x": [
          "Alaska Airlines Inc.",
          "Allegiant Air",
          "American Airlines Inc.",
          "American Eagle Airlines Inc.",
          "Atlantic Southeast Airlines",
          "Comair Inc.",
          "Delta Air Lines Inc.",
          "Frontier Airlines Inc.",
          "Hawaiian Airlines Inc.",
          "JetBlue Airways",
          "Mesa Airlines Inc.",
          "Midwest Airline, Inc.",
          "Pinnacle Airlines Inc.",
          "Skywest Airlines Inc.",
          "Southwest Airlines Co.",
          "Spirit Air Lines",
          "United Air Lines Inc."
         ],
         "y": [
          9.090616352201256,
          14.383553670907126,
          15.325990125576904,
          17.108874504071828,
          27.361240048386644,
          12.524038605640982,
          7.688955184006057,
          19.294416243654823,
          4.609671672181217,
          30.90075818543776,
          19.539335328881727,
          12.379099492235374,
          13.493331320146966,
          27.387226339916893,
          12.402945766370909,
          11.332101616628174,
          19.01374237606945
         ]
        }
       ],
       "layout": {
        "template": {
         "data": {
          "bar": [
           {
            "error_x": {
             "color": "#2a3f5f"
            },
            "error_y": {
             "color": "#2a3f5f"
            },
            "marker": {
             "line": {
              "color": "#E5ECF6",
              "width": 0.5
             }
            },
            "type": "bar"
           }
          ],
          "barpolar": [
           {
            "marker": {
             "line": {
              "color": "#E5ECF6",
              "width": 0.5
             }
            },
            "type": "barpolar"
           }
          ],
          "carpet": [
           {
            "aaxis": {
             "endlinecolor": "#2a3f5f",
             "gridcolor": "white",
             "linecolor": "white",
             "minorgridcolor": "white",
             "startlinecolor": "#2a3f5f"
            },
            "baxis": {
             "endlinecolor": "#2a3f5f",
             "gridcolor": "white",
             "linecolor": "white",
             "minorgridcolor": "white",
             "startlinecolor": "#2a3f5f"
            },
            "type": "carpet"
           }
          ],
          "choropleth": [
           {
            "colorbar": {
             "outlinewidth": 0,
             "ticks": ""
            },
            "type": "choropleth"
           }
          ],
          "contour": [
           {
            "colorbar": {
             "outlinewidth": 0,
             "ticks": ""
            },
            "colorscale": [
             [
              0,
              "#0d0887"
             ],
             [
              0.1111111111111111,
              "#46039f"
             ],
             [
              0.2222222222222222,
              "#7201a8"
             ],
             [
              0.3333333333333333,
              "#9c179e"
             ],
             [
              0.4444444444444444,
              "#bd3786"
             ],
             [
              0.5555555555555556,
              "#d8576b"
             ],
             [
              0.6666666666666666,
              "#ed7953"
             ],
             [
              0.7777777777777778,
              "#fb9f3a"
             ],
             [
              0.8888888888888888,
              "#fdca26"
             ],
             [
              1,
              "#f0f921"
             ]
            ],
            "type": "contour"
           }
          ],
          "contourcarpet": [
           {
            "colorbar": {
             "outlinewidth": 0,
             "ticks": ""
            },
            "type": "contourcarpet"
           }
          ],
          "heatmap": [
           {
            "colorbar": {
             "outlinewidth": 0,
             "ticks": ""
            },
            "colorscale": [
             [
              0,
              "#0d0887"
             ],
             [
              0.1111111111111111,
              "#46039f"
             ],
             [
              0.2222222222222222,
              "#7201a8"
             ],
             [
              0.3333333333333333,
              "#9c179e"
             ],
             [
              0.4444444444444444,
              "#bd3786"
             ],
             [
              0.5555555555555556,
              "#d8576b"
             ],
             [
              0.6666666666666666,
              "#ed7953"
             ],
             [
              0.7777777777777778,
              "#fb9f3a"
             ],
             [
              0.8888888888888888,
              "#fdca26"
             ],
             [
              1,
              "#f0f921"
             ]
            ],
            "type": "heatmap"
           }
          ],
          "heatmapgl": [
           {
            "colorbar": {
             "outlinewidth": 0,
             "ticks": ""
            },
            "colorscale": [
             [
              0,
              "#0d0887"
             ],
             [
              0.1111111111111111,
              "#46039f"
             ],
             [
              0.2222222222222222,
              "#7201a8"
             ],
             [
              0.3333333333333333,
              "#9c179e"
             ],
             [
              0.4444444444444444,
              "#bd3786"
             ],
             [
              0.5555555555555556,
              "#d8576b"
             ],
             [
              0.6666666666666666,
              "#ed7953"
             ],
             [
              0.7777777777777778,
              "#fb9f3a"
             ],
             [
              0.8888888888888888,
              "#fdca26"
             ],
             [
              1,
              "#f0f921"
             ]
            ],
            "type": "heatmapgl"
           }
          ],
          "histogram": [
           {
            "marker": {
             "colorbar": {
              "outlinewidth": 0,
              "ticks": ""
             }
            },
            "type": "histogram"
           }
          ],
          "histogram2d": [
           {
            "colorbar": {
             "outlinewidth": 0,
             "ticks": ""
            },
            "colorscale": [
             [
              0,
              "#0d0887"
             ],
             [
              0.1111111111111111,
              "#46039f"
             ],
             [
              0.2222222222222222,
              "#7201a8"
             ],
             [
              0.3333333333333333,
              "#9c179e"
             ],
             [
              0.4444444444444444,
              "#bd3786"
             ],
             [
              0.5555555555555556,
              "#d8576b"
             ],
             [
              0.6666666666666666,
              "#ed7953"
             ],
             [
              0.7777777777777778,
              "#fb9f3a"
             ],
             [
              0.8888888888888888,
              "#fdca26"
             ],
             [
              1,
              "#f0f921"
             ]
            ],
            "type": "histogram2d"
           }
          ],
          "histogram2dcontour": [
           {
            "colorbar": {
             "outlinewidth": 0,
             "ticks": ""
            },
            "colorscale": [
             [
              0,
              "#0d0887"
             ],
             [
              0.1111111111111111,
              "#46039f"
             ],
             [
              0.2222222222222222,
              "#7201a8"
             ],
             [
              0.3333333333333333,
              "#9c179e"
             ],
             [
              0.4444444444444444,
              "#bd3786"
             ],
             [
              0.5555555555555556,
              "#d8576b"
             ],
             [
              0.6666666666666666,
              "#ed7953"
             ],
             [
              0.7777777777777778,
              "#fb9f3a"
             ],
             [
              0.8888888888888888,
              "#fdca26"
             ],
             [
              1,
              "#f0f921"
             ]
            ],
            "type": "histogram2dcontour"
           }
          ],
          "mesh3d": [
           {
            "colorbar": {
             "outlinewidth": 0,
             "ticks": ""
            },
            "type": "mesh3d"
           }
          ],
          "parcoords": [
           {
            "line": {
             "colorbar": {
              "outlinewidth": 0,
              "ticks": ""
             }
            },
            "type": "parcoords"
           }
          ],
          "pie": [
           {
            "automargin": true,
            "type": "pie"
           }
          ],
          "scatter": [
           {
            "marker": {
             "colorbar": {
              "outlinewidth": 0,
              "ticks": ""
             }
            },
            "type": "scatter"
           }
          ],
          "scatter3d": [
           {
            "line": {
             "colorbar": {
              "outlinewidth": 0,
              "ticks": ""
             }
            },
            "marker": {
             "colorbar": {
              "outlinewidth": 0,
              "ticks": ""
             }
            },
            "type": "scatter3d"
           }
          ],
          "scattercarpet": [
           {
            "marker": {
             "colorbar": {
              "outlinewidth": 0,
              "ticks": ""
             }
            },
            "type": "scattercarpet"
           }
          ],
          "scattergeo": [
           {
            "marker": {
             "colorbar": {
              "outlinewidth": 0,
              "ticks": ""
             }
            },
            "type": "scattergeo"
           }
          ],
          "scattergl": [
           {
            "marker": {
             "colorbar": {
              "outlinewidth": 0,
              "ticks": ""
             }
            },
            "type": "scattergl"
           }
          ],
          "scattermapbox": [
           {
            "marker": {
             "colorbar": {
              "outlinewidth": 0,
              "ticks": ""
             }
            },
            "type": "scattermapbox"
           }
          ],
          "scatterpolar": [
           {
            "marker": {
             "colorbar": {
              "outlinewidth": 0,
              "ticks": ""
             }
            },
            "type": "scatterpolar"
           }
          ],
          "scatterpolargl": [
           {
            "marker": {
             "colorbar": {
              "outlinewidth": 0,
              "ticks": ""
             }
            },
            "type": "scatterpolargl"
           }
          ],
          "scatterternary": [
           {
            "marker": {
             "colorbar": {
              "outlinewidth": 0,
              "ticks": ""
             }
            },
            "type": "scatterternary"
           }
          ],
          "surface": [
           {
            "colorbar": {
             "outlinewidth": 0,
             "ticks": ""
            },
            "colorscale": [
             [
              0,
              "#0d0887"
             ],
             [
              0.1111111111111111,
              "#46039f"
             ],
             [
              0.2222222222222222,
              "#7201a8"
             ],
             [
              0.3333333333333333,
              "#9c179e"
             ],
             [
              0.4444444444444444,
              "#bd3786"
             ],
             [
              0.5555555555555556,
              "#d8576b"
             ],
             [
              0.6666666666666666,
              "#ed7953"
             ],
             [
              0.7777777777777778,
              "#fb9f3a"
             ],
             [
              0.8888888888888888,
              "#fdca26"
             ],
             [
              1,
              "#f0f921"
             ]
            ],
            "type": "surface"
           }
          ],
          "table": [
           {
            "cells": {
             "fill": {
              "color": "#EBF0F8"
             },
             "line": {
              "color": "white"
             }
            },
            "header": {
             "fill": {
              "color": "#C8D4E3"
             },
             "line": {
              "color": "white"
             }
            },
            "type": "table"
           }
          ]
         },
         "layout": {
          "annotationdefaults": {
           "arrowcolor": "#2a3f5f",
           "arrowhead": 0,
           "arrowwidth": 1
          },
          "autotypenumbers": "strict",
          "coloraxis": {
           "colorbar": {
            "outlinewidth": 0,
            "ticks": ""
           }
          },
          "colorscale": {
           "diverging": [
            [
             0,
             "#8e0152"
            ],
            [
             0.1,
             "#c51b7d"
            ],
            [
             0.2,
             "#de77ae"
            ],
            [
             0.3,
             "#f1b6da"
            ],
            [
             0.4,
             "#fde0ef"
            ],
            [
             0.5,
             "#f7f7f7"
            ],
            [
             0.6,
             "#e6f5d0"
            ],
            [
             0.7,
             "#b8e186"
            ],
            [
             0.8,
             "#7fbc41"
            ],
            [
             0.9,
             "#4d9221"
            ],
            [
             1,
             "#276419"
            ]
           ],
           "sequential": [
            [
             0,
             "#0d0887"
            ],
            [
             0.1111111111111111,
             "#46039f"
            ],
            [
             0.2222222222222222,
             "#7201a8"
            ],
            [
             0.3333333333333333,
             "#9c179e"
            ],
            [
             0.4444444444444444,
             "#bd3786"
            ],
            [
             0.5555555555555556,
             "#d8576b"
            ],
            [
             0.6666666666666666,
             "#ed7953"
            ],
            [
             0.7777777777777778,
             "#fb9f3a"
            ],
            [
             0.8888888888888888,
             "#fdca26"
            ],
            [
             1,
             "#f0f921"
            ]
           ],
           "sequentialminus": [
            [
             0,
             "#0d0887"
            ],
            [
             0.1111111111111111,
             "#46039f"
            ],
            [
             0.2222222222222222,
             "#7201a8"
            ],
            [
             0.3333333333333333,
             "#9c179e"
            ],
            [
             0.4444444444444444,
             "#bd3786"
            ],
            [
             0.5555555555555556,
             "#d8576b"
            ],
            [
             0.6666666666666666,
             "#ed7953"
            ],
            [
             0.7777777777777778,
             "#fb9f3a"
            ],
            [
             0.8888888888888888,
             "#fdca26"
            ],
            [
             1,
             "#f0f921"
            ]
           ]
          },
          "colorway": [
           "#636efa",
           "#EF553B",
           "#00cc96",
           "#ab63fa",
           "#FFA15A",
           "#19d3f3",
           "#FF6692",
           "#B6E880",
           "#FF97FF",
           "#FECB52"
          ],
          "font": {
           "color": "#2a3f5f"
          },
          "geo": {
           "bgcolor": "white",
           "lakecolor": "white",
           "landcolor": "#E5ECF6",
           "showlakes": true,
           "showland": true,
           "subunitcolor": "white"
          },
          "hoverlabel": {
           "align": "left"
          },
          "hovermode": "closest",
          "mapbox": {
           "style": "light"
          },
          "paper_bgcolor": "white",
          "plot_bgcolor": "#E5ECF6",
          "polar": {
           "angularaxis": {
            "gridcolor": "white",
            "linecolor": "white",
            "ticks": ""
           },
           "bgcolor": "#E5ECF6",
           "radialaxis": {
            "gridcolor": "white",
            "linecolor": "white",
            "ticks": ""
           }
          },
          "scene": {
           "xaxis": {
            "backgroundcolor": "#E5ECF6",
            "gridcolor": "white",
            "gridwidth": 2,
            "linecolor": "white",
            "showbackground": true,
            "ticks": "",
            "zerolinecolor": "white"
           },
           "yaxis": {
            "backgroundcolor": "#E5ECF6",
            "gridcolor": "white",
            "gridwidth": 2,
            "linecolor": "white",
            "showbackground": true,
            "ticks": "",
            "zerolinecolor": "white"
           },
           "zaxis": {
            "backgroundcolor": "#E5ECF6",
            "gridcolor": "white",
            "gridwidth": 2,
            "linecolor": "white",
            "showbackground": true,
            "ticks": "",
            "zerolinecolor": "white"
           }
          },
          "shapedefaults": {
           "line": {
            "color": "#2a3f5f"
           }
          },
          "ternary": {
           "aaxis": {
            "gridcolor": "white",
            "linecolor": "white",
            "ticks": ""
           },
           "baxis": {
            "gridcolor": "white",
            "linecolor": "white",
            "ticks": ""
           },
           "bgcolor": "#E5ECF6",
           "caxis": {
            "gridcolor": "white",
            "linecolor": "white",
            "ticks": ""
           }
          },
          "title": {
           "x": 0.05
          },
          "xaxis": {
           "automargin": true,
           "gridcolor": "white",
           "linecolor": "white",
           "ticks": "",
           "title": {
            "standoff": 15
           },
           "zerolinecolor": "white",
           "zerolinewidth": 2
          },
          "yaxis": {
           "automargin": true,
           "gridcolor": "white",
           "linecolor": "white",
           "ticks": "",
           "title": {
            "standoff": 15
           },
           "zerolinecolor": "white",
           "zerolinewidth": 2
          }
         }
        }
       }
      },
      "text/html": [
       "<div>                            <div id=\"a829918b-a1d4-4f41-b848-6583d48b8606\" class=\"plotly-graph-div\" style=\"height:525px; width:100%;\"></div>            <script type=\"text/javascript\">                require([\"plotly\"], function(Plotly) {                    window.PLOTLYENV=window.PLOTLYENV || {};                                    if (document.getElementById(\"a829918b-a1d4-4f41-b848-6583d48b8606\")) {                    Plotly.newPlot(                        \"a829918b-a1d4-4f41-b848-6583d48b8606\",                        [{\"marker\": {\"color\": [\"lightslategray\", \"lightslategray\", \"lightslategray\", \"lightslategray\", \"lightslategray\", \"lightslategray\", \"chartreuse\", \"lightslategray\", \"lightslategray\", \"crimson\", \"lightslategray\", \"lightslategray\", \"lightslategray\", \"lightslategray\", \"lightslategray\", \"lightslategray\", \"lightslategray\"], \"size\": [17.75, 30.0, 26.0, 35.5, 29.0, 23.75, 36.5, 23.5, 4.5, 17.0, 28.25, 24.75, 30.5, 63.0, 21.5, 11.25, 27.75], \"sizemin\": 5}, \"mode\": \"markers\", \"text\": [71.0, 120.0, 104.0, 142.0, 116.0, 95.0, 146.0, 94.0, 18.0, 68.0, 113.0, 99.0, 122.0, 252.0, 86.0, 45.0, 111.0], \"type\": \"scatter\", \"x\": [\"Alaska Airlines Inc.\", \"Allegiant Air\", \"American Airlines Inc.\", \"American Eagle Airlines Inc.\", \"Atlantic Southeast Airlines\", \"Comair Inc.\", \"Delta Air Lines Inc.\", \"Frontier Airlines Inc.\", \"Hawaiian Airlines Inc.\", \"JetBlue Airways\", \"Mesa Airlines Inc.\", \"Midwest Airline, Inc.\", \"Pinnacle Airlines Inc.\", \"Skywest Airlines Inc.\", \"Southwest Airlines Co.\", \"Spirit Air Lines\", \"United Air Lines Inc.\"], \"y\": [9.090616352201256, 14.383553670907126, 15.325990125576904, 17.108874504071828, 27.361240048386644, 12.524038605640982, 7.688955184006057, 19.294416243654823, 4.609671672181217, 30.90075818543776, 19.539335328881727, 12.379099492235374, 13.493331320146966, 27.387226339916893, 12.402945766370909, 11.332101616628174, 19.01374237606945]}],                        {\"template\": {\"data\": {\"bar\": [{\"error_x\": {\"color\": \"#2a3f5f\"}, \"error_y\": {\"color\": \"#2a3f5f\"}, \"marker\": {\"line\": {\"color\": \"#E5ECF6\", \"width\": 0.5}}, \"type\": \"bar\"}], \"barpolar\": [{\"marker\": {\"line\": {\"color\": \"#E5ECF6\", \"width\": 0.5}}, \"type\": \"barpolar\"}], \"carpet\": [{\"aaxis\": {\"endlinecolor\": \"#2a3f5f\", \"gridcolor\": \"white\", \"linecolor\": \"white\", \"minorgridcolor\": \"white\", \"startlinecolor\": \"#2a3f5f\"}, \"baxis\": {\"endlinecolor\": \"#2a3f5f\", \"gridcolor\": \"white\", \"linecolor\": \"white\", \"minorgridcolor\": \"white\", \"startlinecolor\": \"#2a3f5f\"}, \"type\": \"carpet\"}], \"choropleth\": [{\"colorbar\": {\"outlinewidth\": 0, \"ticks\": \"\"}, \"type\": \"choropleth\"}], \"contour\": [{\"colorbar\": {\"outlinewidth\": 0, \"ticks\": \"\"}, \"colorscale\": [[0.0, \"#0d0887\"], [0.1111111111111111, \"#46039f\"], [0.2222222222222222, \"#7201a8\"], [0.3333333333333333, \"#9c179e\"], [0.4444444444444444, \"#bd3786\"], [0.5555555555555556, \"#d8576b\"], [0.6666666666666666, \"#ed7953\"], [0.7777777777777778, \"#fb9f3a\"], [0.8888888888888888, \"#fdca26\"], [1.0, \"#f0f921\"]], \"type\": \"contour\"}], \"contourcarpet\": [{\"colorbar\": {\"outlinewidth\": 0, \"ticks\": \"\"}, \"type\": \"contourcarpet\"}], \"heatmap\": [{\"colorbar\": {\"outlinewidth\": 0, \"ticks\": \"\"}, \"colorscale\": [[0.0, \"#0d0887\"], [0.1111111111111111, \"#46039f\"], [0.2222222222222222, \"#7201a8\"], [0.3333333333333333, \"#9c179e\"], [0.4444444444444444, \"#bd3786\"], [0.5555555555555556, \"#d8576b\"], [0.6666666666666666, \"#ed7953\"], [0.7777777777777778, \"#fb9f3a\"], [0.8888888888888888, \"#fdca26\"], [1.0, \"#f0f921\"]], \"type\": \"heatmap\"}], \"heatmapgl\": [{\"colorbar\": {\"outlinewidth\": 0, \"ticks\": \"\"}, \"colorscale\": [[0.0, \"#0d0887\"], [0.1111111111111111, \"#46039f\"], [0.2222222222222222, \"#7201a8\"], [0.3333333333333333, \"#9c179e\"], [0.4444444444444444, \"#bd3786\"], [0.5555555555555556, \"#d8576b\"], [0.6666666666666666, \"#ed7953\"], [0.7777777777777778, \"#fb9f3a\"], [0.8888888888888888, \"#fdca26\"], [1.0, \"#f0f921\"]], \"type\": \"heatmapgl\"}], \"histogram\": [{\"marker\": {\"colorbar\": {\"outlinewidth\": 0, \"ticks\": \"\"}}, \"type\": \"histogram\"}], \"histogram2d\": [{\"colorbar\": {\"outlinewidth\": 0, \"ticks\": \"\"}, \"colorscale\": [[0.0, \"#0d0887\"], [0.1111111111111111, \"#46039f\"], [0.2222222222222222, \"#7201a8\"], [0.3333333333333333, \"#9c179e\"], [0.4444444444444444, \"#bd3786\"], [0.5555555555555556, \"#d8576b\"], [0.6666666666666666, \"#ed7953\"], [0.7777777777777778, \"#fb9f3a\"], [0.8888888888888888, \"#fdca26\"], [1.0, \"#f0f921\"]], \"type\": \"histogram2d\"}], \"histogram2dcontour\": [{\"colorbar\": {\"outlinewidth\": 0, \"ticks\": \"\"}, \"colorscale\": [[0.0, \"#0d0887\"], [0.1111111111111111, \"#46039f\"], [0.2222222222222222, \"#7201a8\"], [0.3333333333333333, \"#9c179e\"], [0.4444444444444444, \"#bd3786\"], [0.5555555555555556, \"#d8576b\"], [0.6666666666666666, \"#ed7953\"], [0.7777777777777778, \"#fb9f3a\"], [0.8888888888888888, \"#fdca26\"], [1.0, \"#f0f921\"]], \"type\": \"histogram2dcontour\"}], \"mesh3d\": [{\"colorbar\": {\"outlinewidth\": 0, \"ticks\": \"\"}, \"type\": \"mesh3d\"}], \"parcoords\": [{\"line\": {\"colorbar\": {\"outlinewidth\": 0, \"ticks\": \"\"}}, \"type\": \"parcoords\"}], \"pie\": [{\"automargin\": true, \"type\": \"pie\"}], \"scatter\": [{\"marker\": {\"colorbar\": {\"outlinewidth\": 0, \"ticks\": \"\"}}, \"type\": \"scatter\"}], \"scatter3d\": [{\"line\": {\"colorbar\": {\"outlinewidth\": 0, \"ticks\": \"\"}}, \"marker\": {\"colorbar\": {\"outlinewidth\": 0, \"ticks\": \"\"}}, \"type\": \"scatter3d\"}], \"scattercarpet\": [{\"marker\": {\"colorbar\": {\"outlinewidth\": 0, \"ticks\": \"\"}}, \"type\": \"scattercarpet\"}], \"scattergeo\": [{\"marker\": {\"colorbar\": {\"outlinewidth\": 0, \"ticks\": \"\"}}, \"type\": \"scattergeo\"}], \"scattergl\": [{\"marker\": {\"colorbar\": {\"outlinewidth\": 0, \"ticks\": \"\"}}, \"type\": \"scattergl\"}], \"scattermapbox\": [{\"marker\": {\"colorbar\": {\"outlinewidth\": 0, \"ticks\": \"\"}}, \"type\": \"scattermapbox\"}], \"scatterpolar\": [{\"marker\": {\"colorbar\": {\"outlinewidth\": 0, \"ticks\": \"\"}}, \"type\": \"scatterpolar\"}], \"scatterpolargl\": [{\"marker\": {\"colorbar\": {\"outlinewidth\": 0, \"ticks\": \"\"}}, \"type\": \"scatterpolargl\"}], \"scatterternary\": [{\"marker\": {\"colorbar\": {\"outlinewidth\": 0, \"ticks\": \"\"}}, \"type\": \"scatterternary\"}], \"surface\": [{\"colorbar\": {\"outlinewidth\": 0, \"ticks\": \"\"}, \"colorscale\": [[0.0, \"#0d0887\"], [0.1111111111111111, \"#46039f\"], [0.2222222222222222, \"#7201a8\"], [0.3333333333333333, \"#9c179e\"], [0.4444444444444444, \"#bd3786\"], [0.5555555555555556, \"#d8576b\"], [0.6666666666666666, \"#ed7953\"], [0.7777777777777778, \"#fb9f3a\"], [0.8888888888888888, \"#fdca26\"], [1.0, \"#f0f921\"]], \"type\": \"surface\"}], \"table\": [{\"cells\": {\"fill\": {\"color\": \"#EBF0F8\"}, \"line\": {\"color\": \"white\"}}, \"header\": {\"fill\": {\"color\": \"#C8D4E3\"}, \"line\": {\"color\": \"white\"}}, \"type\": \"table\"}]}, \"layout\": {\"annotationdefaults\": {\"arrowcolor\": \"#2a3f5f\", \"arrowhead\": 0, \"arrowwidth\": 1}, \"autotypenumbers\": \"strict\", \"coloraxis\": {\"colorbar\": {\"outlinewidth\": 0, \"ticks\": \"\"}}, \"colorscale\": {\"diverging\": [[0, \"#8e0152\"], [0.1, \"#c51b7d\"], [0.2, \"#de77ae\"], [0.3, \"#f1b6da\"], [0.4, \"#fde0ef\"], [0.5, \"#f7f7f7\"], [0.6, \"#e6f5d0\"], [0.7, \"#b8e186\"], [0.8, \"#7fbc41\"], [0.9, \"#4d9221\"], [1, \"#276419\"]], \"sequential\": [[0.0, \"#0d0887\"], [0.1111111111111111, \"#46039f\"], [0.2222222222222222, \"#7201a8\"], [0.3333333333333333, \"#9c179e\"], [0.4444444444444444, \"#bd3786\"], [0.5555555555555556, \"#d8576b\"], [0.6666666666666666, \"#ed7953\"], [0.7777777777777778, \"#fb9f3a\"], [0.8888888888888888, \"#fdca26\"], [1.0, \"#f0f921\"]], \"sequentialminus\": [[0.0, \"#0d0887\"], [0.1111111111111111, \"#46039f\"], [0.2222222222222222, \"#7201a8\"], [0.3333333333333333, \"#9c179e\"], [0.4444444444444444, \"#bd3786\"], [0.5555555555555556, \"#d8576b\"], [0.6666666666666666, \"#ed7953\"], [0.7777777777777778, \"#fb9f3a\"], [0.8888888888888888, \"#fdca26\"], [1.0, \"#f0f921\"]]}, \"colorway\": [\"#636efa\", \"#EF553B\", \"#00cc96\", \"#ab63fa\", \"#FFA15A\", \"#19d3f3\", \"#FF6692\", \"#B6E880\", \"#FF97FF\", \"#FECB52\"], \"font\": {\"color\": \"#2a3f5f\"}, \"geo\": {\"bgcolor\": \"white\", \"lakecolor\": \"white\", \"landcolor\": \"#E5ECF6\", \"showlakes\": true, \"showland\": true, \"subunitcolor\": \"white\"}, \"hoverlabel\": {\"align\": \"left\"}, \"hovermode\": \"closest\", \"mapbox\": {\"style\": \"light\"}, \"paper_bgcolor\": \"white\", \"plot_bgcolor\": \"#E5ECF6\", \"polar\": {\"angularaxis\": {\"gridcolor\": \"white\", \"linecolor\": \"white\", \"ticks\": \"\"}, \"bgcolor\": \"#E5ECF6\", \"radialaxis\": {\"gridcolor\": \"white\", \"linecolor\": \"white\", \"ticks\": \"\"}}, \"scene\": {\"xaxis\": {\"backgroundcolor\": \"#E5ECF6\", \"gridcolor\": \"white\", \"gridwidth\": 2, \"linecolor\": \"white\", \"showbackground\": true, \"ticks\": \"\", \"zerolinecolor\": \"white\"}, \"yaxis\": {\"backgroundcolor\": \"#E5ECF6\", \"gridcolor\": \"white\", \"gridwidth\": 2, \"linecolor\": \"white\", \"showbackground\": true, \"ticks\": \"\", \"zerolinecolor\": \"white\"}, \"zaxis\": {\"backgroundcolor\": \"#E5ECF6\", \"gridcolor\": \"white\", \"gridwidth\": 2, \"linecolor\": \"white\", \"showbackground\": true, \"ticks\": \"\", \"zerolinecolor\": \"white\"}}, \"shapedefaults\": {\"line\": {\"color\": \"#2a3f5f\"}}, \"ternary\": {\"aaxis\": {\"gridcolor\": \"white\", \"linecolor\": \"white\", \"ticks\": \"\"}, \"baxis\": {\"gridcolor\": \"white\", \"linecolor\": \"white\", \"ticks\": \"\"}, \"bgcolor\": \"#E5ECF6\", \"caxis\": {\"gridcolor\": \"white\", \"linecolor\": \"white\", \"ticks\": \"\"}}, \"title\": {\"x\": 0.05}, \"xaxis\": {\"automargin\": true, \"gridcolor\": \"white\", \"linecolor\": \"white\", \"ticks\": \"\", \"title\": {\"standoff\": 15}, \"zerolinecolor\": \"white\", \"zerolinewidth\": 2}, \"yaxis\": {\"automargin\": true, \"gridcolor\": \"white\", \"linecolor\": \"white\", \"ticks\": \"\", \"title\": {\"standoff\": 15}, \"zerolinecolor\": \"white\", \"zerolinewidth\": 2}}}},                        {\"responsive\": true}                    ).then(function(){\n",
       "                            \n",
       "var gd = document.getElementById('a829918b-a1d4-4f41-b848-6583d48b8606');\n",
       "var x = new MutationObserver(function (mutations, observer) {{\n",
       "        var display = window.getComputedStyle(gd).display;\n",
       "        if (!display || display === 'none') {{\n",
       "            console.log([gd, 'removed!']);\n",
       "            Plotly.purge(gd);\n",
       "            observer.disconnect();\n",
       "        }}\n",
       "}});\n",
       "\n",
       "// Listen for the removal of the full notebook cells\n",
       "var notebookContainer = gd.closest('#notebook-container');\n",
       "if (notebookContainer) {{\n",
       "    x.observe(notebookContainer, {childList: true});\n",
       "}}\n",
       "\n",
       "// Listen for the clearing of the current output cell\n",
       "var outputEl = gd.closest('.output');\n",
       "if (outputEl) {{\n",
       "    x.observe(outputEl, {childList: true});\n",
       "}}\n",
       "\n",
       "                        })                };                });            </script>        </div>"
      ]
     },
     "metadata": {},
     "output_type": "display_data"
    }
   ],
   "source": [
    "df = pd.read_csv('airline_delay.csv')\n",
    "\n",
    "colors = ['lightslategray',] * df.shape[0]\n",
    "colors[9] = 'crimson'\n",
    "colors[6] = 'chartreuse'\n",
    "\n",
    "fig = go.Figure(data=go.Scatter(\n",
    "    x = df['carrier'],\n",
    "    y = df['avg_delay'],\n",
    "    mode = 'markers',\n",
    "    text = df['count(DISTINCT dest)'],\n",
    "    marker = dict(\n",
    "        sizemin = 5,\n",
    "        size = df['count(DISTINCT dest)']/4,\n",
    "        color=colors\n",
    "    )\n",
    "))\n",
    "\n",
    "fig.show()"
   ]
  },
  {
   "cell_type": "markdown",
   "metadata": {},
   "source": [
    "#### Hawaiian Airlines seems to be the obvious carrier choice, however it only has 18 destinations. Delta Air Lines would be the best here as it has 146 destinations and is the second best option."
   ]
  },
  {
   "cell_type": "markdown",
   "metadata": {},
   "source": [
    "## Do older planes suffer longer delays? What about the number of delays?"
   ]
  },
  {
   "cell_type": "code",
   "execution_count": 67,
   "metadata": {},
   "outputs": [
    {
     "data": {
      "application/vnd.plotly.v1+json": {
       "config": {
        "plotlyServerURL": "https://plot.ly"
       },
       "data": [
        {
         "mode": "markers",
         "type": "scatter",
         "x": [
          1986,
          1987,
          1988,
          1989,
          1990,
          1991,
          1992,
          1993,
          1994,
          1995,
          1996,
          1997,
          1998,
          1999,
          2000,
          2001,
          2002,
          2003,
          2004,
          2005,
          2006,
          2007,
          2008
         ],
         "xaxis": "x",
         "y": [
          70.63157894736842,
          2.797428571428572,
          2.6253164556962023,
          12.307468477206594,
          4.829239230064162,
          4.34806384865504,
          9.603913373860182,
          13.88705054715998,
          25.315781100859052,
          15.958393301059791,
          14.576591154261058,
          19.360718870346602,
          16.050969778980605,
          14.76195215583123,
          13.232375056535506,
          16.24330925002544,
          20.642835705174697,
          21.33758879701875,
          20.04464531855313,
          20.486743491250525,
          19.5528719894054,
          14.79042714110783,
          14.683194206979785
         ],
         "yaxis": "y"
        },
        {
         "type": "bar",
         "x": [
          1986,
          1987,
          1988,
          1989,
          1990,
          1991,
          1992,
          1993,
          1994,
          1995,
          1996,
          1997,
          1998,
          1999,
          2000,
          2001,
          2002,
          2003,
          2004,
          2005,
          2006,
          2007,
          2008
         ],
         "xaxis": "x2",
         "y": [
          19,
          3500,
          1975,
          1031,
          10910,
          13532,
          15792,
          7676,
          6286,
          7643,
          7416,
          7790,
          42123,
          56266,
          70752,
          98270,
          79966,
          68696,
          68921,
          58575,
          44551,
          27766,
          9943
         ],
         "yaxis": "y2"
        }
       ],
       "layout": {
        "height": 1000,
        "template": {
         "data": {
          "bar": [
           {
            "error_x": {
             "color": "#2a3f5f"
            },
            "error_y": {
             "color": "#2a3f5f"
            },
            "marker": {
             "line": {
              "color": "#E5ECF6",
              "width": 0.5
             }
            },
            "type": "bar"
           }
          ],
          "barpolar": [
           {
            "marker": {
             "line": {
              "color": "#E5ECF6",
              "width": 0.5
             }
            },
            "type": "barpolar"
           }
          ],
          "carpet": [
           {
            "aaxis": {
             "endlinecolor": "#2a3f5f",
             "gridcolor": "white",
             "linecolor": "white",
             "minorgridcolor": "white",
             "startlinecolor": "#2a3f5f"
            },
            "baxis": {
             "endlinecolor": "#2a3f5f",
             "gridcolor": "white",
             "linecolor": "white",
             "minorgridcolor": "white",
             "startlinecolor": "#2a3f5f"
            },
            "type": "carpet"
           }
          ],
          "choropleth": [
           {
            "colorbar": {
             "outlinewidth": 0,
             "ticks": ""
            },
            "type": "choropleth"
           }
          ],
          "contour": [
           {
            "colorbar": {
             "outlinewidth": 0,
             "ticks": ""
            },
            "colorscale": [
             [
              0,
              "#0d0887"
             ],
             [
              0.1111111111111111,
              "#46039f"
             ],
             [
              0.2222222222222222,
              "#7201a8"
             ],
             [
              0.3333333333333333,
              "#9c179e"
             ],
             [
              0.4444444444444444,
              "#bd3786"
             ],
             [
              0.5555555555555556,
              "#d8576b"
             ],
             [
              0.6666666666666666,
              "#ed7953"
             ],
             [
              0.7777777777777778,
              "#fb9f3a"
             ],
             [
              0.8888888888888888,
              "#fdca26"
             ],
             [
              1,
              "#f0f921"
             ]
            ],
            "type": "contour"
           }
          ],
          "contourcarpet": [
           {
            "colorbar": {
             "outlinewidth": 0,
             "ticks": ""
            },
            "type": "contourcarpet"
           }
          ],
          "heatmap": [
           {
            "colorbar": {
             "outlinewidth": 0,
             "ticks": ""
            },
            "colorscale": [
             [
              0,
              "#0d0887"
             ],
             [
              0.1111111111111111,
              "#46039f"
             ],
             [
              0.2222222222222222,
              "#7201a8"
             ],
             [
              0.3333333333333333,
              "#9c179e"
             ],
             [
              0.4444444444444444,
              "#bd3786"
             ],
             [
              0.5555555555555556,
              "#d8576b"
             ],
             [
              0.6666666666666666,
              "#ed7953"
             ],
             [
              0.7777777777777778,
              "#fb9f3a"
             ],
             [
              0.8888888888888888,
              "#fdca26"
             ],
             [
              1,
              "#f0f921"
             ]
            ],
            "type": "heatmap"
           }
          ],
          "heatmapgl": [
           {
            "colorbar": {
             "outlinewidth": 0,
             "ticks": ""
            },
            "colorscale": [
             [
              0,
              "#0d0887"
             ],
             [
              0.1111111111111111,
              "#46039f"
             ],
             [
              0.2222222222222222,
              "#7201a8"
             ],
             [
              0.3333333333333333,
              "#9c179e"
             ],
             [
              0.4444444444444444,
              "#bd3786"
             ],
             [
              0.5555555555555556,
              "#d8576b"
             ],
             [
              0.6666666666666666,
              "#ed7953"
             ],
             [
              0.7777777777777778,
              "#fb9f3a"
             ],
             [
              0.8888888888888888,
              "#fdca26"
             ],
             [
              1,
              "#f0f921"
             ]
            ],
            "type": "heatmapgl"
           }
          ],
          "histogram": [
           {
            "marker": {
             "colorbar": {
              "outlinewidth": 0,
              "ticks": ""
             }
            },
            "type": "histogram"
           }
          ],
          "histogram2d": [
           {
            "colorbar": {
             "outlinewidth": 0,
             "ticks": ""
            },
            "colorscale": [
             [
              0,
              "#0d0887"
             ],
             [
              0.1111111111111111,
              "#46039f"
             ],
             [
              0.2222222222222222,
              "#7201a8"
             ],
             [
              0.3333333333333333,
              "#9c179e"
             ],
             [
              0.4444444444444444,
              "#bd3786"
             ],
             [
              0.5555555555555556,
              "#d8576b"
             ],
             [
              0.6666666666666666,
              "#ed7953"
             ],
             [
              0.7777777777777778,
              "#fb9f3a"
             ],
             [
              0.8888888888888888,
              "#fdca26"
             ],
             [
              1,
              "#f0f921"
             ]
            ],
            "type": "histogram2d"
           }
          ],
          "histogram2dcontour": [
           {
            "colorbar": {
             "outlinewidth": 0,
             "ticks": ""
            },
            "colorscale": [
             [
              0,
              "#0d0887"
             ],
             [
              0.1111111111111111,
              "#46039f"
             ],
             [
              0.2222222222222222,
              "#7201a8"
             ],
             [
              0.3333333333333333,
              "#9c179e"
             ],
             [
              0.4444444444444444,
              "#bd3786"
             ],
             [
              0.5555555555555556,
              "#d8576b"
             ],
             [
              0.6666666666666666,
              "#ed7953"
             ],
             [
              0.7777777777777778,
              "#fb9f3a"
             ],
             [
              0.8888888888888888,
              "#fdca26"
             ],
             [
              1,
              "#f0f921"
             ]
            ],
            "type": "histogram2dcontour"
           }
          ],
          "mesh3d": [
           {
            "colorbar": {
             "outlinewidth": 0,
             "ticks": ""
            },
            "type": "mesh3d"
           }
          ],
          "parcoords": [
           {
            "line": {
             "colorbar": {
              "outlinewidth": 0,
              "ticks": ""
             }
            },
            "type": "parcoords"
           }
          ],
          "pie": [
           {
            "automargin": true,
            "type": "pie"
           }
          ],
          "scatter": [
           {
            "marker": {
             "colorbar": {
              "outlinewidth": 0,
              "ticks": ""
             }
            },
            "type": "scatter"
           }
          ],
          "scatter3d": [
           {
            "line": {
             "colorbar": {
              "outlinewidth": 0,
              "ticks": ""
             }
            },
            "marker": {
             "colorbar": {
              "outlinewidth": 0,
              "ticks": ""
             }
            },
            "type": "scatter3d"
           }
          ],
          "scattercarpet": [
           {
            "marker": {
             "colorbar": {
              "outlinewidth": 0,
              "ticks": ""
             }
            },
            "type": "scattercarpet"
           }
          ],
          "scattergeo": [
           {
            "marker": {
             "colorbar": {
              "outlinewidth": 0,
              "ticks": ""
             }
            },
            "type": "scattergeo"
           }
          ],
          "scattergl": [
           {
            "marker": {
             "colorbar": {
              "outlinewidth": 0,
              "ticks": ""
             }
            },
            "type": "scattergl"
           }
          ],
          "scattermapbox": [
           {
            "marker": {
             "colorbar": {
              "outlinewidth": 0,
              "ticks": ""
             }
            },
            "type": "scattermapbox"
           }
          ],
          "scatterpolar": [
           {
            "marker": {
             "colorbar": {
              "outlinewidth": 0,
              "ticks": ""
             }
            },
            "type": "scatterpolar"
           }
          ],
          "scatterpolargl": [
           {
            "marker": {
             "colorbar": {
              "outlinewidth": 0,
              "ticks": ""
             }
            },
            "type": "scatterpolargl"
           }
          ],
          "scatterternary": [
           {
            "marker": {
             "colorbar": {
              "outlinewidth": 0,
              "ticks": ""
             }
            },
            "type": "scatterternary"
           }
          ],
          "surface": [
           {
            "colorbar": {
             "outlinewidth": 0,
             "ticks": ""
            },
            "colorscale": [
             [
              0,
              "#0d0887"
             ],
             [
              0.1111111111111111,
              "#46039f"
             ],
             [
              0.2222222222222222,
              "#7201a8"
             ],
             [
              0.3333333333333333,
              "#9c179e"
             ],
             [
              0.4444444444444444,
              "#bd3786"
             ],
             [
              0.5555555555555556,
              "#d8576b"
             ],
             [
              0.6666666666666666,
              "#ed7953"
             ],
             [
              0.7777777777777778,
              "#fb9f3a"
             ],
             [
              0.8888888888888888,
              "#fdca26"
             ],
             [
              1,
              "#f0f921"
             ]
            ],
            "type": "surface"
           }
          ],
          "table": [
           {
            "cells": {
             "fill": {
              "color": "#EBF0F8"
             },
             "line": {
              "color": "white"
             }
            },
            "header": {
             "fill": {
              "color": "#C8D4E3"
             },
             "line": {
              "color": "white"
             }
            },
            "type": "table"
           }
          ]
         },
         "layout": {
          "annotationdefaults": {
           "arrowcolor": "#2a3f5f",
           "arrowhead": 0,
           "arrowwidth": 1
          },
          "autotypenumbers": "strict",
          "coloraxis": {
           "colorbar": {
            "outlinewidth": 0,
            "ticks": ""
           }
          },
          "colorscale": {
           "diverging": [
            [
             0,
             "#8e0152"
            ],
            [
             0.1,
             "#c51b7d"
            ],
            [
             0.2,
             "#de77ae"
            ],
            [
             0.3,
             "#f1b6da"
            ],
            [
             0.4,
             "#fde0ef"
            ],
            [
             0.5,
             "#f7f7f7"
            ],
            [
             0.6,
             "#e6f5d0"
            ],
            [
             0.7,
             "#b8e186"
            ],
            [
             0.8,
             "#7fbc41"
            ],
            [
             0.9,
             "#4d9221"
            ],
            [
             1,
             "#276419"
            ]
           ],
           "sequential": [
            [
             0,
             "#0d0887"
            ],
            [
             0.1111111111111111,
             "#46039f"
            ],
            [
             0.2222222222222222,
             "#7201a8"
            ],
            [
             0.3333333333333333,
             "#9c179e"
            ],
            [
             0.4444444444444444,
             "#bd3786"
            ],
            [
             0.5555555555555556,
             "#d8576b"
            ],
            [
             0.6666666666666666,
             "#ed7953"
            ],
            [
             0.7777777777777778,
             "#fb9f3a"
            ],
            [
             0.8888888888888888,
             "#fdca26"
            ],
            [
             1,
             "#f0f921"
            ]
           ],
           "sequentialminus": [
            [
             0,
             "#0d0887"
            ],
            [
             0.1111111111111111,
             "#46039f"
            ],
            [
             0.2222222222222222,
             "#7201a8"
            ],
            [
             0.3333333333333333,
             "#9c179e"
            ],
            [
             0.4444444444444444,
             "#bd3786"
            ],
            [
             0.5555555555555556,
             "#d8576b"
            ],
            [
             0.6666666666666666,
             "#ed7953"
            ],
            [
             0.7777777777777778,
             "#fb9f3a"
            ],
            [
             0.8888888888888888,
             "#fdca26"
            ],
            [
             1,
             "#f0f921"
            ]
           ]
          },
          "colorway": [
           "#636efa",
           "#EF553B",
           "#00cc96",
           "#ab63fa",
           "#FFA15A",
           "#19d3f3",
           "#FF6692",
           "#B6E880",
           "#FF97FF",
           "#FECB52"
          ],
          "font": {
           "color": "#2a3f5f"
          },
          "geo": {
           "bgcolor": "white",
           "lakecolor": "white",
           "landcolor": "#E5ECF6",
           "showlakes": true,
           "showland": true,
           "subunitcolor": "white"
          },
          "hoverlabel": {
           "align": "left"
          },
          "hovermode": "closest",
          "mapbox": {
           "style": "light"
          },
          "paper_bgcolor": "white",
          "plot_bgcolor": "#E5ECF6",
          "polar": {
           "angularaxis": {
            "gridcolor": "white",
            "linecolor": "white",
            "ticks": ""
           },
           "bgcolor": "#E5ECF6",
           "radialaxis": {
            "gridcolor": "white",
            "linecolor": "white",
            "ticks": ""
           }
          },
          "scene": {
           "xaxis": {
            "backgroundcolor": "#E5ECF6",
            "gridcolor": "white",
            "gridwidth": 2,
            "linecolor": "white",
            "showbackground": true,
            "ticks": "",
            "zerolinecolor": "white"
           },
           "yaxis": {
            "backgroundcolor": "#E5ECF6",
            "gridcolor": "white",
            "gridwidth": 2,
            "linecolor": "white",
            "showbackground": true,
            "ticks": "",
            "zerolinecolor": "white"
           },
           "zaxis": {
            "backgroundcolor": "#E5ECF6",
            "gridcolor": "white",
            "gridwidth": 2,
            "linecolor": "white",
            "showbackground": true,
            "ticks": "",
            "zerolinecolor": "white"
           }
          },
          "shapedefaults": {
           "line": {
            "color": "#2a3f5f"
           }
          },
          "ternary": {
           "aaxis": {
            "gridcolor": "white",
            "linecolor": "white",
            "ticks": ""
           },
           "baxis": {
            "gridcolor": "white",
            "linecolor": "white",
            "ticks": ""
           },
           "bgcolor": "#E5ECF6",
           "caxis": {
            "gridcolor": "white",
            "linecolor": "white",
            "ticks": ""
           }
          },
          "title": {
           "x": 0.05
          },
          "xaxis": {
           "automargin": true,
           "gridcolor": "white",
           "linecolor": "white",
           "ticks": "",
           "title": {
            "standoff": 15
           },
           "zerolinecolor": "white",
           "zerolinewidth": 2
          },
          "yaxis": {
           "automargin": true,
           "gridcolor": "white",
           "linecolor": "white",
           "ticks": "",
           "title": {
            "standoff": 15
           },
           "zerolinecolor": "white",
           "zerolinewidth": 2
          }
         }
        },
        "title": {
         "text": "Delay time and number of flights"
        },
        "width": 1000,
        "xaxis": {
         "anchor": "y",
         "domain": [
          0,
          1
         ]
        },
        "xaxis2": {
         "anchor": "y2",
         "domain": [
          0,
          1
         ]
        },
        "yaxis": {
         "anchor": "x",
         "domain": [
          0.575,
          1
         ]
        },
        "yaxis2": {
         "anchor": "x2",
         "domain": [
          0,
          0.425
         ]
        }
       }
      },
      "text/html": [
       "<div>                            <div id=\"d975fa1a-c8a4-400c-b69a-ee8f4432102a\" class=\"plotly-graph-div\" style=\"height:1000px; width:1000px;\"></div>            <script type=\"text/javascript\">                require([\"plotly\"], function(Plotly) {                    window.PLOTLYENV=window.PLOTLYENV || {};                                    if (document.getElementById(\"d975fa1a-c8a4-400c-b69a-ee8f4432102a\")) {                    Plotly.newPlot(                        \"d975fa1a-c8a4-400c-b69a-ee8f4432102a\",                        [{\"mode\": \"markers\", \"type\": \"scatter\", \"x\": [1986, 1987, 1988, 1989, 1990, 1991, 1992, 1993, 1994, 1995, 1996, 1997, 1998, 1999, 2000, 2001, 2002, 2003, 2004, 2005, 2006, 2007, 2008], \"xaxis\": \"x\", \"y\": [70.63157894736842, 2.797428571428572, 2.6253164556962023, 12.307468477206594, 4.829239230064162, 4.34806384865504, 9.603913373860182, 13.88705054715998, 25.315781100859052, 15.958393301059791, 14.576591154261058, 19.360718870346602, 16.050969778980605, 14.76195215583123, 13.232375056535506, 16.24330925002544, 20.642835705174697, 21.33758879701875, 20.04464531855313, 20.486743491250525, 19.5528719894054, 14.79042714110783, 14.683194206979785], \"yaxis\": \"y\"}, {\"type\": \"bar\", \"x\": [1986, 1987, 1988, 1989, 1990, 1991, 1992, 1993, 1994, 1995, 1996, 1997, 1998, 1999, 2000, 2001, 2002, 2003, 2004, 2005, 2006, 2007, 2008], \"xaxis\": \"x2\", \"y\": [19, 3500, 1975, 1031, 10910, 13532, 15792, 7676, 6286, 7643, 7416, 7790, 42123, 56266, 70752, 98270, 79966, 68696, 68921, 58575, 44551, 27766, 9943], \"yaxis\": \"y2\"}],                        {\"height\": 1000, \"template\": {\"data\": {\"bar\": [{\"error_x\": {\"color\": \"#2a3f5f\"}, \"error_y\": {\"color\": \"#2a3f5f\"}, \"marker\": {\"line\": {\"color\": \"#E5ECF6\", \"width\": 0.5}}, \"type\": \"bar\"}], \"barpolar\": [{\"marker\": {\"line\": {\"color\": \"#E5ECF6\", \"width\": 0.5}}, \"type\": \"barpolar\"}], \"carpet\": [{\"aaxis\": {\"endlinecolor\": \"#2a3f5f\", \"gridcolor\": \"white\", \"linecolor\": \"white\", \"minorgridcolor\": \"white\", \"startlinecolor\": \"#2a3f5f\"}, \"baxis\": {\"endlinecolor\": \"#2a3f5f\", \"gridcolor\": \"white\", \"linecolor\": \"white\", \"minorgridcolor\": \"white\", \"startlinecolor\": \"#2a3f5f\"}, \"type\": \"carpet\"}], \"choropleth\": [{\"colorbar\": {\"outlinewidth\": 0, \"ticks\": \"\"}, \"type\": \"choropleth\"}], \"contour\": [{\"colorbar\": {\"outlinewidth\": 0, \"ticks\": \"\"}, \"colorscale\": [[0.0, \"#0d0887\"], [0.1111111111111111, \"#46039f\"], [0.2222222222222222, \"#7201a8\"], [0.3333333333333333, \"#9c179e\"], [0.4444444444444444, \"#bd3786\"], [0.5555555555555556, \"#d8576b\"], [0.6666666666666666, \"#ed7953\"], [0.7777777777777778, \"#fb9f3a\"], [0.8888888888888888, \"#fdca26\"], [1.0, \"#f0f921\"]], \"type\": \"contour\"}], \"contourcarpet\": [{\"colorbar\": {\"outlinewidth\": 0, \"ticks\": \"\"}, \"type\": \"contourcarpet\"}], \"heatmap\": [{\"colorbar\": {\"outlinewidth\": 0, \"ticks\": \"\"}, \"colorscale\": [[0.0, \"#0d0887\"], [0.1111111111111111, \"#46039f\"], [0.2222222222222222, \"#7201a8\"], [0.3333333333333333, \"#9c179e\"], [0.4444444444444444, \"#bd3786\"], [0.5555555555555556, \"#d8576b\"], [0.6666666666666666, \"#ed7953\"], [0.7777777777777778, \"#fb9f3a\"], [0.8888888888888888, \"#fdca26\"], [1.0, \"#f0f921\"]], \"type\": \"heatmap\"}], \"heatmapgl\": [{\"colorbar\": {\"outlinewidth\": 0, \"ticks\": \"\"}, \"colorscale\": [[0.0, \"#0d0887\"], [0.1111111111111111, \"#46039f\"], [0.2222222222222222, \"#7201a8\"], [0.3333333333333333, \"#9c179e\"], [0.4444444444444444, \"#bd3786\"], [0.5555555555555556, \"#d8576b\"], [0.6666666666666666, \"#ed7953\"], [0.7777777777777778, \"#fb9f3a\"], [0.8888888888888888, \"#fdca26\"], [1.0, \"#f0f921\"]], \"type\": \"heatmapgl\"}], \"histogram\": [{\"marker\": {\"colorbar\": {\"outlinewidth\": 0, \"ticks\": \"\"}}, \"type\": \"histogram\"}], \"histogram2d\": [{\"colorbar\": {\"outlinewidth\": 0, \"ticks\": \"\"}, \"colorscale\": [[0.0, \"#0d0887\"], [0.1111111111111111, \"#46039f\"], [0.2222222222222222, \"#7201a8\"], [0.3333333333333333, \"#9c179e\"], [0.4444444444444444, \"#bd3786\"], [0.5555555555555556, \"#d8576b\"], [0.6666666666666666, \"#ed7953\"], [0.7777777777777778, \"#fb9f3a\"], [0.8888888888888888, \"#fdca26\"], [1.0, \"#f0f921\"]], \"type\": \"histogram2d\"}], \"histogram2dcontour\": [{\"colorbar\": {\"outlinewidth\": 0, \"ticks\": \"\"}, \"colorscale\": [[0.0, \"#0d0887\"], [0.1111111111111111, \"#46039f\"], [0.2222222222222222, \"#7201a8\"], [0.3333333333333333, \"#9c179e\"], [0.4444444444444444, \"#bd3786\"], [0.5555555555555556, \"#d8576b\"], [0.6666666666666666, \"#ed7953\"], [0.7777777777777778, \"#fb9f3a\"], [0.8888888888888888, \"#fdca26\"], [1.0, \"#f0f921\"]], \"type\": \"histogram2dcontour\"}], \"mesh3d\": [{\"colorbar\": {\"outlinewidth\": 0, \"ticks\": \"\"}, \"type\": \"mesh3d\"}], \"parcoords\": [{\"line\": {\"colorbar\": {\"outlinewidth\": 0, \"ticks\": \"\"}}, \"type\": \"parcoords\"}], \"pie\": [{\"automargin\": true, \"type\": \"pie\"}], \"scatter\": [{\"marker\": {\"colorbar\": {\"outlinewidth\": 0, \"ticks\": \"\"}}, \"type\": \"scatter\"}], \"scatter3d\": [{\"line\": {\"colorbar\": {\"outlinewidth\": 0, \"ticks\": \"\"}}, \"marker\": {\"colorbar\": {\"outlinewidth\": 0, \"ticks\": \"\"}}, \"type\": \"scatter3d\"}], \"scattercarpet\": [{\"marker\": {\"colorbar\": {\"outlinewidth\": 0, \"ticks\": \"\"}}, \"type\": \"scattercarpet\"}], \"scattergeo\": [{\"marker\": {\"colorbar\": {\"outlinewidth\": 0, \"ticks\": \"\"}}, \"type\": \"scattergeo\"}], \"scattergl\": [{\"marker\": {\"colorbar\": {\"outlinewidth\": 0, \"ticks\": \"\"}}, \"type\": \"scattergl\"}], \"scattermapbox\": [{\"marker\": {\"colorbar\": {\"outlinewidth\": 0, \"ticks\": \"\"}}, \"type\": \"scattermapbox\"}], \"scatterpolar\": [{\"marker\": {\"colorbar\": {\"outlinewidth\": 0, \"ticks\": \"\"}}, \"type\": \"scatterpolar\"}], \"scatterpolargl\": [{\"marker\": {\"colorbar\": {\"outlinewidth\": 0, \"ticks\": \"\"}}, \"type\": \"scatterpolargl\"}], \"scatterternary\": [{\"marker\": {\"colorbar\": {\"outlinewidth\": 0, \"ticks\": \"\"}}, \"type\": \"scatterternary\"}], \"surface\": [{\"colorbar\": {\"outlinewidth\": 0, \"ticks\": \"\"}, \"colorscale\": [[0.0, \"#0d0887\"], [0.1111111111111111, \"#46039f\"], [0.2222222222222222, \"#7201a8\"], [0.3333333333333333, \"#9c179e\"], [0.4444444444444444, \"#bd3786\"], [0.5555555555555556, \"#d8576b\"], [0.6666666666666666, \"#ed7953\"], [0.7777777777777778, \"#fb9f3a\"], [0.8888888888888888, \"#fdca26\"], [1.0, \"#f0f921\"]], \"type\": \"surface\"}], \"table\": [{\"cells\": {\"fill\": {\"color\": \"#EBF0F8\"}, \"line\": {\"color\": \"white\"}}, \"header\": {\"fill\": {\"color\": \"#C8D4E3\"}, \"line\": {\"color\": \"white\"}}, \"type\": \"table\"}]}, \"layout\": {\"annotationdefaults\": {\"arrowcolor\": \"#2a3f5f\", \"arrowhead\": 0, \"arrowwidth\": 1}, \"autotypenumbers\": \"strict\", \"coloraxis\": {\"colorbar\": {\"outlinewidth\": 0, \"ticks\": \"\"}}, \"colorscale\": {\"diverging\": [[0, \"#8e0152\"], [0.1, \"#c51b7d\"], [0.2, \"#de77ae\"], [0.3, \"#f1b6da\"], [0.4, \"#fde0ef\"], [0.5, \"#f7f7f7\"], [0.6, \"#e6f5d0\"], [0.7, \"#b8e186\"], [0.8, \"#7fbc41\"], [0.9, \"#4d9221\"], [1, \"#276419\"]], \"sequential\": [[0.0, \"#0d0887\"], [0.1111111111111111, \"#46039f\"], [0.2222222222222222, \"#7201a8\"], [0.3333333333333333, \"#9c179e\"], [0.4444444444444444, \"#bd3786\"], [0.5555555555555556, \"#d8576b\"], [0.6666666666666666, \"#ed7953\"], [0.7777777777777778, \"#fb9f3a\"], [0.8888888888888888, \"#fdca26\"], [1.0, \"#f0f921\"]], \"sequentialminus\": [[0.0, \"#0d0887\"], [0.1111111111111111, \"#46039f\"], [0.2222222222222222, \"#7201a8\"], [0.3333333333333333, \"#9c179e\"], [0.4444444444444444, \"#bd3786\"], [0.5555555555555556, \"#d8576b\"], [0.6666666666666666, \"#ed7953\"], [0.7777777777777778, \"#fb9f3a\"], [0.8888888888888888, \"#fdca26\"], [1.0, \"#f0f921\"]]}, \"colorway\": [\"#636efa\", \"#EF553B\", \"#00cc96\", \"#ab63fa\", \"#FFA15A\", \"#19d3f3\", \"#FF6692\", \"#B6E880\", \"#FF97FF\", \"#FECB52\"], \"font\": {\"color\": \"#2a3f5f\"}, \"geo\": {\"bgcolor\": \"white\", \"lakecolor\": \"white\", \"landcolor\": \"#E5ECF6\", \"showlakes\": true, \"showland\": true, \"subunitcolor\": \"white\"}, \"hoverlabel\": {\"align\": \"left\"}, \"hovermode\": \"closest\", \"mapbox\": {\"style\": \"light\"}, \"paper_bgcolor\": \"white\", \"plot_bgcolor\": \"#E5ECF6\", \"polar\": {\"angularaxis\": {\"gridcolor\": \"white\", \"linecolor\": \"white\", \"ticks\": \"\"}, \"bgcolor\": \"#E5ECF6\", \"radialaxis\": {\"gridcolor\": \"white\", \"linecolor\": \"white\", \"ticks\": \"\"}}, \"scene\": {\"xaxis\": {\"backgroundcolor\": \"#E5ECF6\", \"gridcolor\": \"white\", \"gridwidth\": 2, \"linecolor\": \"white\", \"showbackground\": true, \"ticks\": \"\", \"zerolinecolor\": \"white\"}, \"yaxis\": {\"backgroundcolor\": \"#E5ECF6\", \"gridcolor\": \"white\", \"gridwidth\": 2, \"linecolor\": \"white\", \"showbackground\": true, \"ticks\": \"\", \"zerolinecolor\": \"white\"}, \"zaxis\": {\"backgroundcolor\": \"#E5ECF6\", \"gridcolor\": \"white\", \"gridwidth\": 2, \"linecolor\": \"white\", \"showbackground\": true, \"ticks\": \"\", \"zerolinecolor\": \"white\"}}, \"shapedefaults\": {\"line\": {\"color\": \"#2a3f5f\"}}, \"ternary\": {\"aaxis\": {\"gridcolor\": \"white\", \"linecolor\": \"white\", \"ticks\": \"\"}, \"baxis\": {\"gridcolor\": \"white\", \"linecolor\": \"white\", \"ticks\": \"\"}, \"bgcolor\": \"#E5ECF6\", \"caxis\": {\"gridcolor\": \"white\", \"linecolor\": \"white\", \"ticks\": \"\"}}, \"title\": {\"x\": 0.05}, \"xaxis\": {\"automargin\": true, \"gridcolor\": \"white\", \"linecolor\": \"white\", \"ticks\": \"\", \"title\": {\"standoff\": 15}, \"zerolinecolor\": \"white\", \"zerolinewidth\": 2}, \"yaxis\": {\"automargin\": true, \"gridcolor\": \"white\", \"linecolor\": \"white\", \"ticks\": \"\", \"title\": {\"standoff\": 15}, \"zerolinecolor\": \"white\", \"zerolinewidth\": 2}}}, \"title\": {\"text\": \"Delay time and number of flights\"}, \"width\": 1000, \"xaxis\": {\"anchor\": \"y\", \"domain\": [0.0, 1.0]}, \"xaxis2\": {\"anchor\": \"y2\", \"domain\": [0.0, 1.0]}, \"yaxis\": {\"anchor\": \"x\", \"domain\": [0.575, 1.0]}, \"yaxis2\": {\"anchor\": \"x2\", \"domain\": [0.0, 0.425]}},                        {\"responsive\": true}                    ).then(function(){\n",
       "                            \n",
       "var gd = document.getElementById('d975fa1a-c8a4-400c-b69a-ee8f4432102a');\n",
       "var x = new MutationObserver(function (mutations, observer) {{\n",
       "        var display = window.getComputedStyle(gd).display;\n",
       "        if (!display || display === 'none') {{\n",
       "            console.log([gd, 'removed!']);\n",
       "            Plotly.purge(gd);\n",
       "            observer.disconnect();\n",
       "        }}\n",
       "}});\n",
       "\n",
       "// Listen for the removal of the full notebook cells\n",
       "var notebookContainer = gd.closest('#notebook-container');\n",
       "if (notebookContainer) {{\n",
       "    x.observe(notebookContainer, {childList: true});\n",
       "}}\n",
       "\n",
       "// Listen for the clearing of the current output cell\n",
       "var outputEl = gd.closest('.output');\n",
       "if (outputEl) {{\n",
       "    x.observe(outputEl, {childList: true});\n",
       "}}\n",
       "\n",
       "                        })                };                });            </script>        </div>"
      ]
     },
     "metadata": {},
     "output_type": "display_data"
    }
   ],
   "source": [
    "df = pd.read_csv('planeAgeDelay.csv')\n",
    "\n",
    "fig = make_subplots(rows=2, cols=1)\n",
    "\n",
    "fig.add_trace(\n",
    "    go.Scatter(x=df['year'], y=df['avg_delay'], mode = 'markers',),\n",
    "    row=1, col=1\n",
    ")\n",
    "\n",
    "fig.add_trace(\n",
    "    go.Bar(x=df['year'], y=df['num_delays'], ),\n",
    "    row=2, col=1\n",
    ")\n",
    "\n",
    "fig.update_layout(height=1000, width=1000, title_text=\"Delay time and number of flights\")\n",
    "\n",
    "fig.show()"
   ]
  },
  {
   "cell_type": "markdown",
   "metadata": {},
   "source": [
    "## The most reliable manufacturers?"
   ]
  },
  {
   "cell_type": "code",
   "execution_count": 68,
   "metadata": {},
   "outputs": [
    {
     "data": {
      "application/vnd.plotly.v1+json": {
       "config": {
        "plotlyServerURL": "https://plot.ly"
       },
       "data": [
        {
         "marker": {
          "color": [
           "lightslategray",
           "lightslategray",
           "lightslategray",
           "lightslategray",
           "crimson",
           "lightslategray",
           "lightslategray",
           "chartreuse",
           "lightslategray"
          ]
         },
         "type": "bar",
         "x": [
          "AIRBUS",
          "AIRBUS INDUSTRIE",
          "BOEING",
          "BOMBARDIER INC",
          "CANADAIR",
          "EMBRAER",
          "MCDONNELL DOUGLAS",
          "MCDONNELL DOUGLAS AIRCRAFT CO",
          "MCDONNELL DOUGLAS CORPORATION"
         ],
         "y": [
          21.712094515225445,
          14.994642920495265,
          12.248254255578376,
          27.185801870726017,
          95.05246913580248,
          21.1199867520881,
          10.075254237288137,
          2.8386213887480998,
          6.899737370616408
         ]
        }
       ],
       "layout": {
        "template": {
         "data": {
          "bar": [
           {
            "error_x": {
             "color": "#2a3f5f"
            },
            "error_y": {
             "color": "#2a3f5f"
            },
            "marker": {
             "line": {
              "color": "#E5ECF6",
              "width": 0.5
             }
            },
            "type": "bar"
           }
          ],
          "barpolar": [
           {
            "marker": {
             "line": {
              "color": "#E5ECF6",
              "width": 0.5
             }
            },
            "type": "barpolar"
           }
          ],
          "carpet": [
           {
            "aaxis": {
             "endlinecolor": "#2a3f5f",
             "gridcolor": "white",
             "linecolor": "white",
             "minorgridcolor": "white",
             "startlinecolor": "#2a3f5f"
            },
            "baxis": {
             "endlinecolor": "#2a3f5f",
             "gridcolor": "white",
             "linecolor": "white",
             "minorgridcolor": "white",
             "startlinecolor": "#2a3f5f"
            },
            "type": "carpet"
           }
          ],
          "choropleth": [
           {
            "colorbar": {
             "outlinewidth": 0,
             "ticks": ""
            },
            "type": "choropleth"
           }
          ],
          "contour": [
           {
            "colorbar": {
             "outlinewidth": 0,
             "ticks": ""
            },
            "colorscale": [
             [
              0,
              "#0d0887"
             ],
             [
              0.1111111111111111,
              "#46039f"
             ],
             [
              0.2222222222222222,
              "#7201a8"
             ],
             [
              0.3333333333333333,
              "#9c179e"
             ],
             [
              0.4444444444444444,
              "#bd3786"
             ],
             [
              0.5555555555555556,
              "#d8576b"
             ],
             [
              0.6666666666666666,
              "#ed7953"
             ],
             [
              0.7777777777777778,
              "#fb9f3a"
             ],
             [
              0.8888888888888888,
              "#fdca26"
             ],
             [
              1,
              "#f0f921"
             ]
            ],
            "type": "contour"
           }
          ],
          "contourcarpet": [
           {
            "colorbar": {
             "outlinewidth": 0,
             "ticks": ""
            },
            "type": "contourcarpet"
           }
          ],
          "heatmap": [
           {
            "colorbar": {
             "outlinewidth": 0,
             "ticks": ""
            },
            "colorscale": [
             [
              0,
              "#0d0887"
             ],
             [
              0.1111111111111111,
              "#46039f"
             ],
             [
              0.2222222222222222,
              "#7201a8"
             ],
             [
              0.3333333333333333,
              "#9c179e"
             ],
             [
              0.4444444444444444,
              "#bd3786"
             ],
             [
              0.5555555555555556,
              "#d8576b"
             ],
             [
              0.6666666666666666,
              "#ed7953"
             ],
             [
              0.7777777777777778,
              "#fb9f3a"
             ],
             [
              0.8888888888888888,
              "#fdca26"
             ],
             [
              1,
              "#f0f921"
             ]
            ],
            "type": "heatmap"
           }
          ],
          "heatmapgl": [
           {
            "colorbar": {
             "outlinewidth": 0,
             "ticks": ""
            },
            "colorscale": [
             [
              0,
              "#0d0887"
             ],
             [
              0.1111111111111111,
              "#46039f"
             ],
             [
              0.2222222222222222,
              "#7201a8"
             ],
             [
              0.3333333333333333,
              "#9c179e"
             ],
             [
              0.4444444444444444,
              "#bd3786"
             ],
             [
              0.5555555555555556,
              "#d8576b"
             ],
             [
              0.6666666666666666,
              "#ed7953"
             ],
             [
              0.7777777777777778,
              "#fb9f3a"
             ],
             [
              0.8888888888888888,
              "#fdca26"
             ],
             [
              1,
              "#f0f921"
             ]
            ],
            "type": "heatmapgl"
           }
          ],
          "histogram": [
           {
            "marker": {
             "colorbar": {
              "outlinewidth": 0,
              "ticks": ""
             }
            },
            "type": "histogram"
           }
          ],
          "histogram2d": [
           {
            "colorbar": {
             "outlinewidth": 0,
             "ticks": ""
            },
            "colorscale": [
             [
              0,
              "#0d0887"
             ],
             [
              0.1111111111111111,
              "#46039f"
             ],
             [
              0.2222222222222222,
              "#7201a8"
             ],
             [
              0.3333333333333333,
              "#9c179e"
             ],
             [
              0.4444444444444444,
              "#bd3786"
             ],
             [
              0.5555555555555556,
              "#d8576b"
             ],
             [
              0.6666666666666666,
              "#ed7953"
             ],
             [
              0.7777777777777778,
              "#fb9f3a"
             ],
             [
              0.8888888888888888,
              "#fdca26"
             ],
             [
              1,
              "#f0f921"
             ]
            ],
            "type": "histogram2d"
           }
          ],
          "histogram2dcontour": [
           {
            "colorbar": {
             "outlinewidth": 0,
             "ticks": ""
            },
            "colorscale": [
             [
              0,
              "#0d0887"
             ],
             [
              0.1111111111111111,
              "#46039f"
             ],
             [
              0.2222222222222222,
              "#7201a8"
             ],
             [
              0.3333333333333333,
              "#9c179e"
             ],
             [
              0.4444444444444444,
              "#bd3786"
             ],
             [
              0.5555555555555556,
              "#d8576b"
             ],
             [
              0.6666666666666666,
              "#ed7953"
             ],
             [
              0.7777777777777778,
              "#fb9f3a"
             ],
             [
              0.8888888888888888,
              "#fdca26"
             ],
             [
              1,
              "#f0f921"
             ]
            ],
            "type": "histogram2dcontour"
           }
          ],
          "mesh3d": [
           {
            "colorbar": {
             "outlinewidth": 0,
             "ticks": ""
            },
            "type": "mesh3d"
           }
          ],
          "parcoords": [
           {
            "line": {
             "colorbar": {
              "outlinewidth": 0,
              "ticks": ""
             }
            },
            "type": "parcoords"
           }
          ],
          "pie": [
           {
            "automargin": true,
            "type": "pie"
           }
          ],
          "scatter": [
           {
            "marker": {
             "colorbar": {
              "outlinewidth": 0,
              "ticks": ""
             }
            },
            "type": "scatter"
           }
          ],
          "scatter3d": [
           {
            "line": {
             "colorbar": {
              "outlinewidth": 0,
              "ticks": ""
             }
            },
            "marker": {
             "colorbar": {
              "outlinewidth": 0,
              "ticks": ""
             }
            },
            "type": "scatter3d"
           }
          ],
          "scattercarpet": [
           {
            "marker": {
             "colorbar": {
              "outlinewidth": 0,
              "ticks": ""
             }
            },
            "type": "scattercarpet"
           }
          ],
          "scattergeo": [
           {
            "marker": {
             "colorbar": {
              "outlinewidth": 0,
              "ticks": ""
             }
            },
            "type": "scattergeo"
           }
          ],
          "scattergl": [
           {
            "marker": {
             "colorbar": {
              "outlinewidth": 0,
              "ticks": ""
             }
            },
            "type": "scattergl"
           }
          ],
          "scattermapbox": [
           {
            "marker": {
             "colorbar": {
              "outlinewidth": 0,
              "ticks": ""
             }
            },
            "type": "scattermapbox"
           }
          ],
          "scatterpolar": [
           {
            "marker": {
             "colorbar": {
              "outlinewidth": 0,
              "ticks": ""
             }
            },
            "type": "scatterpolar"
           }
          ],
          "scatterpolargl": [
           {
            "marker": {
             "colorbar": {
              "outlinewidth": 0,
              "ticks": ""
             }
            },
            "type": "scatterpolargl"
           }
          ],
          "scatterternary": [
           {
            "marker": {
             "colorbar": {
              "outlinewidth": 0,
              "ticks": ""
             }
            },
            "type": "scatterternary"
           }
          ],
          "surface": [
           {
            "colorbar": {
             "outlinewidth": 0,
             "ticks": ""
            },
            "colorscale": [
             [
              0,
              "#0d0887"
             ],
             [
              0.1111111111111111,
              "#46039f"
             ],
             [
              0.2222222222222222,
              "#7201a8"
             ],
             [
              0.3333333333333333,
              "#9c179e"
             ],
             [
              0.4444444444444444,
              "#bd3786"
             ],
             [
              0.5555555555555556,
              "#d8576b"
             ],
             [
              0.6666666666666666,
              "#ed7953"
             ],
             [
              0.7777777777777778,
              "#fb9f3a"
             ],
             [
              0.8888888888888888,
              "#fdca26"
             ],
             [
              1,
              "#f0f921"
             ]
            ],
            "type": "surface"
           }
          ],
          "table": [
           {
            "cells": {
             "fill": {
              "color": "#EBF0F8"
             },
             "line": {
              "color": "white"
             }
            },
            "header": {
             "fill": {
              "color": "#C8D4E3"
             },
             "line": {
              "color": "white"
             }
            },
            "type": "table"
           }
          ]
         },
         "layout": {
          "annotationdefaults": {
           "arrowcolor": "#2a3f5f",
           "arrowhead": 0,
           "arrowwidth": 1
          },
          "autotypenumbers": "strict",
          "coloraxis": {
           "colorbar": {
            "outlinewidth": 0,
            "ticks": ""
           }
          },
          "colorscale": {
           "diverging": [
            [
             0,
             "#8e0152"
            ],
            [
             0.1,
             "#c51b7d"
            ],
            [
             0.2,
             "#de77ae"
            ],
            [
             0.3,
             "#f1b6da"
            ],
            [
             0.4,
             "#fde0ef"
            ],
            [
             0.5,
             "#f7f7f7"
            ],
            [
             0.6,
             "#e6f5d0"
            ],
            [
             0.7,
             "#b8e186"
            ],
            [
             0.8,
             "#7fbc41"
            ],
            [
             0.9,
             "#4d9221"
            ],
            [
             1,
             "#276419"
            ]
           ],
           "sequential": [
            [
             0,
             "#0d0887"
            ],
            [
             0.1111111111111111,
             "#46039f"
            ],
            [
             0.2222222222222222,
             "#7201a8"
            ],
            [
             0.3333333333333333,
             "#9c179e"
            ],
            [
             0.4444444444444444,
             "#bd3786"
            ],
            [
             0.5555555555555556,
             "#d8576b"
            ],
            [
             0.6666666666666666,
             "#ed7953"
            ],
            [
             0.7777777777777778,
             "#fb9f3a"
            ],
            [
             0.8888888888888888,
             "#fdca26"
            ],
            [
             1,
             "#f0f921"
            ]
           ],
           "sequentialminus": [
            [
             0,
             "#0d0887"
            ],
            [
             0.1111111111111111,
             "#46039f"
            ],
            [
             0.2222222222222222,
             "#7201a8"
            ],
            [
             0.3333333333333333,
             "#9c179e"
            ],
            [
             0.4444444444444444,
             "#bd3786"
            ],
            [
             0.5555555555555556,
             "#d8576b"
            ],
            [
             0.6666666666666666,
             "#ed7953"
            ],
            [
             0.7777777777777778,
             "#fb9f3a"
            ],
            [
             0.8888888888888888,
             "#fdca26"
            ],
            [
             1,
             "#f0f921"
            ]
           ]
          },
          "colorway": [
           "#636efa",
           "#EF553B",
           "#00cc96",
           "#ab63fa",
           "#FFA15A",
           "#19d3f3",
           "#FF6692",
           "#B6E880",
           "#FF97FF",
           "#FECB52"
          ],
          "font": {
           "color": "#2a3f5f"
          },
          "geo": {
           "bgcolor": "white",
           "lakecolor": "white",
           "landcolor": "#E5ECF6",
           "showlakes": true,
           "showland": true,
           "subunitcolor": "white"
          },
          "hoverlabel": {
           "align": "left"
          },
          "hovermode": "closest",
          "mapbox": {
           "style": "light"
          },
          "paper_bgcolor": "white",
          "plot_bgcolor": "#E5ECF6",
          "polar": {
           "angularaxis": {
            "gridcolor": "white",
            "linecolor": "white",
            "ticks": ""
           },
           "bgcolor": "#E5ECF6",
           "radialaxis": {
            "gridcolor": "white",
            "linecolor": "white",
            "ticks": ""
           }
          },
          "scene": {
           "xaxis": {
            "backgroundcolor": "#E5ECF6",
            "gridcolor": "white",
            "gridwidth": 2,
            "linecolor": "white",
            "showbackground": true,
            "ticks": "",
            "zerolinecolor": "white"
           },
           "yaxis": {
            "backgroundcolor": "#E5ECF6",
            "gridcolor": "white",
            "gridwidth": 2,
            "linecolor": "white",
            "showbackground": true,
            "ticks": "",
            "zerolinecolor": "white"
           },
           "zaxis": {
            "backgroundcolor": "#E5ECF6",
            "gridcolor": "white",
            "gridwidth": 2,
            "linecolor": "white",
            "showbackground": true,
            "ticks": "",
            "zerolinecolor": "white"
           }
          },
          "shapedefaults": {
           "line": {
            "color": "#2a3f5f"
           }
          },
          "ternary": {
           "aaxis": {
            "gridcolor": "white",
            "linecolor": "white",
            "ticks": ""
           },
           "baxis": {
            "gridcolor": "white",
            "linecolor": "white",
            "ticks": ""
           },
           "bgcolor": "#E5ECF6",
           "caxis": {
            "gridcolor": "white",
            "linecolor": "white",
            "ticks": ""
           }
          },
          "title": {
           "x": 0.05
          },
          "xaxis": {
           "automargin": true,
           "gridcolor": "white",
           "linecolor": "white",
           "ticks": "",
           "title": {
            "standoff": 15
           },
           "zerolinecolor": "white",
           "zerolinewidth": 2
          },
          "yaxis": {
           "automargin": true,
           "gridcolor": "white",
           "linecolor": "white",
           "ticks": "",
           "title": {
            "standoff": 15
           },
           "zerolinecolor": "white",
           "zerolinewidth": 2
          }
         }
        }
       }
      },
      "text/html": [
       "<div>                            <div id=\"37fff725-b5be-4dfd-99dd-e4b8e1790ee1\" class=\"plotly-graph-div\" style=\"height:525px; width:100%;\"></div>            <script type=\"text/javascript\">                require([\"plotly\"], function(Plotly) {                    window.PLOTLYENV=window.PLOTLYENV || {};                                    if (document.getElementById(\"37fff725-b5be-4dfd-99dd-e4b8e1790ee1\")) {                    Plotly.newPlot(                        \"37fff725-b5be-4dfd-99dd-e4b8e1790ee1\",                        [{\"marker\": {\"color\": [\"lightslategray\", \"lightslategray\", \"lightslategray\", \"lightslategray\", \"crimson\", \"lightslategray\", \"lightslategray\", \"chartreuse\", \"lightslategray\"]}, \"type\": \"bar\", \"x\": [\"AIRBUS\", \"AIRBUS INDUSTRIE\", \"BOEING\", \"BOMBARDIER INC\", \"CANADAIR\", \"EMBRAER\", \"MCDONNELL DOUGLAS\", \"MCDONNELL DOUGLAS AIRCRAFT CO\", \"MCDONNELL DOUGLAS CORPORATION\"], \"y\": [21.712094515225445, 14.994642920495265, 12.248254255578376, 27.185801870726017, 95.05246913580248, 21.1199867520881, 10.075254237288137, 2.8386213887480998, 6.899737370616408]}],                        {\"template\": {\"data\": {\"bar\": [{\"error_x\": {\"color\": \"#2a3f5f\"}, \"error_y\": {\"color\": \"#2a3f5f\"}, \"marker\": {\"line\": {\"color\": \"#E5ECF6\", \"width\": 0.5}}, \"type\": \"bar\"}], \"barpolar\": [{\"marker\": {\"line\": {\"color\": \"#E5ECF6\", \"width\": 0.5}}, \"type\": \"barpolar\"}], \"carpet\": [{\"aaxis\": {\"endlinecolor\": \"#2a3f5f\", \"gridcolor\": \"white\", \"linecolor\": \"white\", \"minorgridcolor\": \"white\", \"startlinecolor\": \"#2a3f5f\"}, \"baxis\": {\"endlinecolor\": \"#2a3f5f\", \"gridcolor\": \"white\", \"linecolor\": \"white\", \"minorgridcolor\": \"white\", \"startlinecolor\": \"#2a3f5f\"}, \"type\": \"carpet\"}], \"choropleth\": [{\"colorbar\": {\"outlinewidth\": 0, \"ticks\": \"\"}, \"type\": \"choropleth\"}], \"contour\": [{\"colorbar\": {\"outlinewidth\": 0, \"ticks\": \"\"}, \"colorscale\": [[0.0, \"#0d0887\"], [0.1111111111111111, \"#46039f\"], [0.2222222222222222, \"#7201a8\"], [0.3333333333333333, \"#9c179e\"], [0.4444444444444444, \"#bd3786\"], [0.5555555555555556, \"#d8576b\"], [0.6666666666666666, \"#ed7953\"], [0.7777777777777778, \"#fb9f3a\"], [0.8888888888888888, \"#fdca26\"], [1.0, \"#f0f921\"]], \"type\": \"contour\"}], \"contourcarpet\": [{\"colorbar\": {\"outlinewidth\": 0, \"ticks\": \"\"}, \"type\": \"contourcarpet\"}], \"heatmap\": [{\"colorbar\": {\"outlinewidth\": 0, \"ticks\": \"\"}, \"colorscale\": [[0.0, \"#0d0887\"], [0.1111111111111111, \"#46039f\"], [0.2222222222222222, \"#7201a8\"], [0.3333333333333333, \"#9c179e\"], [0.4444444444444444, \"#bd3786\"], [0.5555555555555556, \"#d8576b\"], [0.6666666666666666, \"#ed7953\"], [0.7777777777777778, \"#fb9f3a\"], [0.8888888888888888, \"#fdca26\"], [1.0, \"#f0f921\"]], \"type\": \"heatmap\"}], \"heatmapgl\": [{\"colorbar\": {\"outlinewidth\": 0, \"ticks\": \"\"}, \"colorscale\": [[0.0, \"#0d0887\"], [0.1111111111111111, \"#46039f\"], [0.2222222222222222, \"#7201a8\"], [0.3333333333333333, \"#9c179e\"], [0.4444444444444444, \"#bd3786\"], [0.5555555555555556, \"#d8576b\"], [0.6666666666666666, \"#ed7953\"], [0.7777777777777778, \"#fb9f3a\"], [0.8888888888888888, \"#fdca26\"], [1.0, \"#f0f921\"]], \"type\": \"heatmapgl\"}], \"histogram\": [{\"marker\": {\"colorbar\": {\"outlinewidth\": 0, \"ticks\": \"\"}}, \"type\": \"histogram\"}], \"histogram2d\": [{\"colorbar\": {\"outlinewidth\": 0, \"ticks\": \"\"}, \"colorscale\": [[0.0, \"#0d0887\"], [0.1111111111111111, \"#46039f\"], [0.2222222222222222, \"#7201a8\"], [0.3333333333333333, \"#9c179e\"], [0.4444444444444444, \"#bd3786\"], [0.5555555555555556, \"#d8576b\"], [0.6666666666666666, \"#ed7953\"], [0.7777777777777778, \"#fb9f3a\"], [0.8888888888888888, \"#fdca26\"], [1.0, \"#f0f921\"]], \"type\": \"histogram2d\"}], \"histogram2dcontour\": [{\"colorbar\": {\"outlinewidth\": 0, \"ticks\": \"\"}, \"colorscale\": [[0.0, \"#0d0887\"], [0.1111111111111111, \"#46039f\"], [0.2222222222222222, \"#7201a8\"], [0.3333333333333333, \"#9c179e\"], [0.4444444444444444, \"#bd3786\"], [0.5555555555555556, \"#d8576b\"], [0.6666666666666666, \"#ed7953\"], [0.7777777777777778, \"#fb9f3a\"], [0.8888888888888888, \"#fdca26\"], [1.0, \"#f0f921\"]], \"type\": \"histogram2dcontour\"}], \"mesh3d\": [{\"colorbar\": {\"outlinewidth\": 0, \"ticks\": \"\"}, \"type\": \"mesh3d\"}], \"parcoords\": [{\"line\": {\"colorbar\": {\"outlinewidth\": 0, \"ticks\": \"\"}}, \"type\": \"parcoords\"}], \"pie\": [{\"automargin\": true, \"type\": \"pie\"}], \"scatter\": [{\"marker\": {\"colorbar\": {\"outlinewidth\": 0, \"ticks\": \"\"}}, \"type\": \"scatter\"}], \"scatter3d\": [{\"line\": {\"colorbar\": {\"outlinewidth\": 0, \"ticks\": \"\"}}, \"marker\": {\"colorbar\": {\"outlinewidth\": 0, \"ticks\": \"\"}}, \"type\": \"scatter3d\"}], \"scattercarpet\": [{\"marker\": {\"colorbar\": {\"outlinewidth\": 0, \"ticks\": \"\"}}, \"type\": \"scattercarpet\"}], \"scattergeo\": [{\"marker\": {\"colorbar\": {\"outlinewidth\": 0, \"ticks\": \"\"}}, \"type\": \"scattergeo\"}], \"scattergl\": [{\"marker\": {\"colorbar\": {\"outlinewidth\": 0, \"ticks\": \"\"}}, \"type\": \"scattergl\"}], \"scattermapbox\": [{\"marker\": {\"colorbar\": {\"outlinewidth\": 0, \"ticks\": \"\"}}, \"type\": \"scattermapbox\"}], \"scatterpolar\": [{\"marker\": {\"colorbar\": {\"outlinewidth\": 0, \"ticks\": \"\"}}, \"type\": \"scatterpolar\"}], \"scatterpolargl\": [{\"marker\": {\"colorbar\": {\"outlinewidth\": 0, \"ticks\": \"\"}}, \"type\": \"scatterpolargl\"}], \"scatterternary\": [{\"marker\": {\"colorbar\": {\"outlinewidth\": 0, \"ticks\": \"\"}}, \"type\": \"scatterternary\"}], \"surface\": [{\"colorbar\": {\"outlinewidth\": 0, \"ticks\": \"\"}, \"colorscale\": [[0.0, \"#0d0887\"], [0.1111111111111111, \"#46039f\"], [0.2222222222222222, \"#7201a8\"], [0.3333333333333333, \"#9c179e\"], [0.4444444444444444, \"#bd3786\"], [0.5555555555555556, \"#d8576b\"], [0.6666666666666666, \"#ed7953\"], [0.7777777777777778, \"#fb9f3a\"], [0.8888888888888888, \"#fdca26\"], [1.0, \"#f0f921\"]], \"type\": \"surface\"}], \"table\": [{\"cells\": {\"fill\": {\"color\": \"#EBF0F8\"}, \"line\": {\"color\": \"white\"}}, \"header\": {\"fill\": {\"color\": \"#C8D4E3\"}, \"line\": {\"color\": \"white\"}}, \"type\": \"table\"}]}, \"layout\": {\"annotationdefaults\": {\"arrowcolor\": \"#2a3f5f\", \"arrowhead\": 0, \"arrowwidth\": 1}, \"autotypenumbers\": \"strict\", \"coloraxis\": {\"colorbar\": {\"outlinewidth\": 0, \"ticks\": \"\"}}, \"colorscale\": {\"diverging\": [[0, \"#8e0152\"], [0.1, \"#c51b7d\"], [0.2, \"#de77ae\"], [0.3, \"#f1b6da\"], [0.4, \"#fde0ef\"], [0.5, \"#f7f7f7\"], [0.6, \"#e6f5d0\"], [0.7, \"#b8e186\"], [0.8, \"#7fbc41\"], [0.9, \"#4d9221\"], [1, \"#276419\"]], \"sequential\": [[0.0, \"#0d0887\"], [0.1111111111111111, \"#46039f\"], [0.2222222222222222, \"#7201a8\"], [0.3333333333333333, \"#9c179e\"], [0.4444444444444444, \"#bd3786\"], [0.5555555555555556, \"#d8576b\"], [0.6666666666666666, \"#ed7953\"], [0.7777777777777778, \"#fb9f3a\"], [0.8888888888888888, \"#fdca26\"], [1.0, \"#f0f921\"]], \"sequentialminus\": [[0.0, \"#0d0887\"], [0.1111111111111111, \"#46039f\"], [0.2222222222222222, \"#7201a8\"], [0.3333333333333333, \"#9c179e\"], [0.4444444444444444, \"#bd3786\"], [0.5555555555555556, \"#d8576b\"], [0.6666666666666666, \"#ed7953\"], [0.7777777777777778, \"#fb9f3a\"], [0.8888888888888888, \"#fdca26\"], [1.0, \"#f0f921\"]]}, \"colorway\": [\"#636efa\", \"#EF553B\", \"#00cc96\", \"#ab63fa\", \"#FFA15A\", \"#19d3f3\", \"#FF6692\", \"#B6E880\", \"#FF97FF\", \"#FECB52\"], \"font\": {\"color\": \"#2a3f5f\"}, \"geo\": {\"bgcolor\": \"white\", \"lakecolor\": \"white\", \"landcolor\": \"#E5ECF6\", \"showlakes\": true, \"showland\": true, \"subunitcolor\": \"white\"}, \"hoverlabel\": {\"align\": \"left\"}, \"hovermode\": \"closest\", \"mapbox\": {\"style\": \"light\"}, \"paper_bgcolor\": \"white\", \"plot_bgcolor\": \"#E5ECF6\", \"polar\": {\"angularaxis\": {\"gridcolor\": \"white\", \"linecolor\": \"white\", \"ticks\": \"\"}, \"bgcolor\": \"#E5ECF6\", \"radialaxis\": {\"gridcolor\": \"white\", \"linecolor\": \"white\", \"ticks\": \"\"}}, \"scene\": {\"xaxis\": {\"backgroundcolor\": \"#E5ECF6\", \"gridcolor\": \"white\", \"gridwidth\": 2, \"linecolor\": \"white\", \"showbackground\": true, \"ticks\": \"\", \"zerolinecolor\": \"white\"}, \"yaxis\": {\"backgroundcolor\": \"#E5ECF6\", \"gridcolor\": \"white\", \"gridwidth\": 2, \"linecolor\": \"white\", \"showbackground\": true, \"ticks\": \"\", \"zerolinecolor\": \"white\"}, \"zaxis\": {\"backgroundcolor\": \"#E5ECF6\", \"gridcolor\": \"white\", \"gridwidth\": 2, \"linecolor\": \"white\", \"showbackground\": true, \"ticks\": \"\", \"zerolinecolor\": \"white\"}}, \"shapedefaults\": {\"line\": {\"color\": \"#2a3f5f\"}}, \"ternary\": {\"aaxis\": {\"gridcolor\": \"white\", \"linecolor\": \"white\", \"ticks\": \"\"}, \"baxis\": {\"gridcolor\": \"white\", \"linecolor\": \"white\", \"ticks\": \"\"}, \"bgcolor\": \"#E5ECF6\", \"caxis\": {\"gridcolor\": \"white\", \"linecolor\": \"white\", \"ticks\": \"\"}}, \"title\": {\"x\": 0.05}, \"xaxis\": {\"automargin\": true, \"gridcolor\": \"white\", \"linecolor\": \"white\", \"ticks\": \"\", \"title\": {\"standoff\": 15}, \"zerolinecolor\": \"white\", \"zerolinewidth\": 2}, \"yaxis\": {\"automargin\": true, \"gridcolor\": \"white\", \"linecolor\": \"white\", \"ticks\": \"\", \"title\": {\"standoff\": 15}, \"zerolinecolor\": \"white\", \"zerolinewidth\": 2}}}},                        {\"responsive\": true}                    ).then(function(){\n",
       "                            \n",
       "var gd = document.getElementById('37fff725-b5be-4dfd-99dd-e4b8e1790ee1');\n",
       "var x = new MutationObserver(function (mutations, observer) {{\n",
       "        var display = window.getComputedStyle(gd).display;\n",
       "        if (!display || display === 'none') {{\n",
       "            console.log([gd, 'removed!']);\n",
       "            Plotly.purge(gd);\n",
       "            observer.disconnect();\n",
       "        }}\n",
       "}});\n",
       "\n",
       "// Listen for the removal of the full notebook cells\n",
       "var notebookContainer = gd.closest('#notebook-container');\n",
       "if (notebookContainer) {{\n",
       "    x.observe(notebookContainer, {childList: true});\n",
       "}}\n",
       "\n",
       "// Listen for the clearing of the current output cell\n",
       "var outputEl = gd.closest('.output');\n",
       "if (outputEl) {{\n",
       "    x.observe(outputEl, {childList: true});\n",
       "}}\n",
       "\n",
       "                        })                };                });            </script>        </div>"
      ]
     },
     "metadata": {},
     "output_type": "display_data"
    }
   ],
   "source": [
    "df = pd.read_csv('manufacturerDelay.csv')\n",
    "\n",
    "colors = ['lightslategray',] * df.shape[0]\n",
    "colors[4] = 'crimson'\n",
    "colors[7] = 'chartreuse'\n",
    "\n",
    "fig = go.Figure(data=go.Bar(\n",
    "    x=df['manufacturer'],\n",
    "    y=df['avg_delay'],\n",
    "    marker_color=colors\n",
    "))\n",
    "\n",
    "fig.show()"
   ]
  },
  {
   "cell_type": "code",
   "execution_count": 145,
   "metadata": {},
   "outputs": [
    {
     "data": {
      "application/vnd.plotly.v1+json": {
       "config": {
        "plotlyServerURL": "https://plot.ly"
       },
       "data": [
        {
         "marker": {
          "color": [
           "lightslategray",
           "lightslategray",
           "chartreuse",
           "lightslategray",
           "crimson",
           "lightslategray",
           "lightslategray",
           "lightslategray",
           "lightslategray"
          ],
          "size": [
           9.968,
           25.23111111111111,
           65.06844444444444,
           35.404222222222224,
           0.07933333333333334,
           22.567333333333334,
           0.9893333333333333,
           6.6033333333333335,
           1.4433333333333334
          ],
          "sizemin": 5
         },
         "mode": "markers",
         "text": [
          44856,
          113540,
          292808,
          159319,
          357,
          101553,
          4452,
          29715,
          6495
         ],
         "type": "scatter",
         "x": [
          "AIRBUS",
          "AIRBUS INDUSTRIE",
          "BOEING",
          "BOMBARDIER INC",
          "CANADAIR",
          "EMBRAER",
          "MCDONNELL DOUGLAS",
          "MCDONNELL DOUGLAS AIRCRAFT CO",
          "MCDONNELL DOUGLAS CORPORATION"
         ],
         "y": [
          21.712094515225445,
          14.994642920495265,
          12.248254255578376,
          27.185801870726017,
          95.05246913580248,
          21.1199867520881,
          10.075254237288137,
          2.8386213887480998,
          6.899737370616408
         ]
        }
       ],
       "layout": {
        "template": {
         "data": {
          "bar": [
           {
            "error_x": {
             "color": "#2a3f5f"
            },
            "error_y": {
             "color": "#2a3f5f"
            },
            "marker": {
             "line": {
              "color": "#E5ECF6",
              "width": 0.5
             }
            },
            "type": "bar"
           }
          ],
          "barpolar": [
           {
            "marker": {
             "line": {
              "color": "#E5ECF6",
              "width": 0.5
             }
            },
            "type": "barpolar"
           }
          ],
          "carpet": [
           {
            "aaxis": {
             "endlinecolor": "#2a3f5f",
             "gridcolor": "white",
             "linecolor": "white",
             "minorgridcolor": "white",
             "startlinecolor": "#2a3f5f"
            },
            "baxis": {
             "endlinecolor": "#2a3f5f",
             "gridcolor": "white",
             "linecolor": "white",
             "minorgridcolor": "white",
             "startlinecolor": "#2a3f5f"
            },
            "type": "carpet"
           }
          ],
          "choropleth": [
           {
            "colorbar": {
             "outlinewidth": 0,
             "ticks": ""
            },
            "type": "choropleth"
           }
          ],
          "contour": [
           {
            "colorbar": {
             "outlinewidth": 0,
             "ticks": ""
            },
            "colorscale": [
             [
              0,
              "#0d0887"
             ],
             [
              0.1111111111111111,
              "#46039f"
             ],
             [
              0.2222222222222222,
              "#7201a8"
             ],
             [
              0.3333333333333333,
              "#9c179e"
             ],
             [
              0.4444444444444444,
              "#bd3786"
             ],
             [
              0.5555555555555556,
              "#d8576b"
             ],
             [
              0.6666666666666666,
              "#ed7953"
             ],
             [
              0.7777777777777778,
              "#fb9f3a"
             ],
             [
              0.8888888888888888,
              "#fdca26"
             ],
             [
              1,
              "#f0f921"
             ]
            ],
            "type": "contour"
           }
          ],
          "contourcarpet": [
           {
            "colorbar": {
             "outlinewidth": 0,
             "ticks": ""
            },
            "type": "contourcarpet"
           }
          ],
          "heatmap": [
           {
            "colorbar": {
             "outlinewidth": 0,
             "ticks": ""
            },
            "colorscale": [
             [
              0,
              "#0d0887"
             ],
             [
              0.1111111111111111,
              "#46039f"
             ],
             [
              0.2222222222222222,
              "#7201a8"
             ],
             [
              0.3333333333333333,
              "#9c179e"
             ],
             [
              0.4444444444444444,
              "#bd3786"
             ],
             [
              0.5555555555555556,
              "#d8576b"
             ],
             [
              0.6666666666666666,
              "#ed7953"
             ],
             [
              0.7777777777777778,
              "#fb9f3a"
             ],
             [
              0.8888888888888888,
              "#fdca26"
             ],
             [
              1,
              "#f0f921"
             ]
            ],
            "type": "heatmap"
           }
          ],
          "heatmapgl": [
           {
            "colorbar": {
             "outlinewidth": 0,
             "ticks": ""
            },
            "colorscale": [
             [
              0,
              "#0d0887"
             ],
             [
              0.1111111111111111,
              "#46039f"
             ],
             [
              0.2222222222222222,
              "#7201a8"
             ],
             [
              0.3333333333333333,
              "#9c179e"
             ],
             [
              0.4444444444444444,
              "#bd3786"
             ],
             [
              0.5555555555555556,
              "#d8576b"
             ],
             [
              0.6666666666666666,
              "#ed7953"
             ],
             [
              0.7777777777777778,
              "#fb9f3a"
             ],
             [
              0.8888888888888888,
              "#fdca26"
             ],
             [
              1,
              "#f0f921"
             ]
            ],
            "type": "heatmapgl"
           }
          ],
          "histogram": [
           {
            "marker": {
             "colorbar": {
              "outlinewidth": 0,
              "ticks": ""
             }
            },
            "type": "histogram"
           }
          ],
          "histogram2d": [
           {
            "colorbar": {
             "outlinewidth": 0,
             "ticks": ""
            },
            "colorscale": [
             [
              0,
              "#0d0887"
             ],
             [
              0.1111111111111111,
              "#46039f"
             ],
             [
              0.2222222222222222,
              "#7201a8"
             ],
             [
              0.3333333333333333,
              "#9c179e"
             ],
             [
              0.4444444444444444,
              "#bd3786"
             ],
             [
              0.5555555555555556,
              "#d8576b"
             ],
             [
              0.6666666666666666,
              "#ed7953"
             ],
             [
              0.7777777777777778,
              "#fb9f3a"
             ],
             [
              0.8888888888888888,
              "#fdca26"
             ],
             [
              1,
              "#f0f921"
             ]
            ],
            "type": "histogram2d"
           }
          ],
          "histogram2dcontour": [
           {
            "colorbar": {
             "outlinewidth": 0,
             "ticks": ""
            },
            "colorscale": [
             [
              0,
              "#0d0887"
             ],
             [
              0.1111111111111111,
              "#46039f"
             ],
             [
              0.2222222222222222,
              "#7201a8"
             ],
             [
              0.3333333333333333,
              "#9c179e"
             ],
             [
              0.4444444444444444,
              "#bd3786"
             ],
             [
              0.5555555555555556,
              "#d8576b"
             ],
             [
              0.6666666666666666,
              "#ed7953"
             ],
             [
              0.7777777777777778,
              "#fb9f3a"
             ],
             [
              0.8888888888888888,
              "#fdca26"
             ],
             [
              1,
              "#f0f921"
             ]
            ],
            "type": "histogram2dcontour"
           }
          ],
          "mesh3d": [
           {
            "colorbar": {
             "outlinewidth": 0,
             "ticks": ""
            },
            "type": "mesh3d"
           }
          ],
          "parcoords": [
           {
            "line": {
             "colorbar": {
              "outlinewidth": 0,
              "ticks": ""
             }
            },
            "type": "parcoords"
           }
          ],
          "pie": [
           {
            "automargin": true,
            "type": "pie"
           }
          ],
          "scatter": [
           {
            "marker": {
             "colorbar": {
              "outlinewidth": 0,
              "ticks": ""
             }
            },
            "type": "scatter"
           }
          ],
          "scatter3d": [
           {
            "line": {
             "colorbar": {
              "outlinewidth": 0,
              "ticks": ""
             }
            },
            "marker": {
             "colorbar": {
              "outlinewidth": 0,
              "ticks": ""
             }
            },
            "type": "scatter3d"
           }
          ],
          "scattercarpet": [
           {
            "marker": {
             "colorbar": {
              "outlinewidth": 0,
              "ticks": ""
             }
            },
            "type": "scattercarpet"
           }
          ],
          "scattergeo": [
           {
            "marker": {
             "colorbar": {
              "outlinewidth": 0,
              "ticks": ""
             }
            },
            "type": "scattergeo"
           }
          ],
          "scattergl": [
           {
            "marker": {
             "colorbar": {
              "outlinewidth": 0,
              "ticks": ""
             }
            },
            "type": "scattergl"
           }
          ],
          "scattermapbox": [
           {
            "marker": {
             "colorbar": {
              "outlinewidth": 0,
              "ticks": ""
             }
            },
            "type": "scattermapbox"
           }
          ],
          "scatterpolar": [
           {
            "marker": {
             "colorbar": {
              "outlinewidth": 0,
              "ticks": ""
             }
            },
            "type": "scatterpolar"
           }
          ],
          "scatterpolargl": [
           {
            "marker": {
             "colorbar": {
              "outlinewidth": 0,
              "ticks": ""
             }
            },
            "type": "scatterpolargl"
           }
          ],
          "scatterternary": [
           {
            "marker": {
             "colorbar": {
              "outlinewidth": 0,
              "ticks": ""
             }
            },
            "type": "scatterternary"
           }
          ],
          "surface": [
           {
            "colorbar": {
             "outlinewidth": 0,
             "ticks": ""
            },
            "colorscale": [
             [
              0,
              "#0d0887"
             ],
             [
              0.1111111111111111,
              "#46039f"
             ],
             [
              0.2222222222222222,
              "#7201a8"
             ],
             [
              0.3333333333333333,
              "#9c179e"
             ],
             [
              0.4444444444444444,
              "#bd3786"
             ],
             [
              0.5555555555555556,
              "#d8576b"
             ],
             [
              0.6666666666666666,
              "#ed7953"
             ],
             [
              0.7777777777777778,
              "#fb9f3a"
             ],
             [
              0.8888888888888888,
              "#fdca26"
             ],
             [
              1,
              "#f0f921"
             ]
            ],
            "type": "surface"
           }
          ],
          "table": [
           {
            "cells": {
             "fill": {
              "color": "#EBF0F8"
             },
             "line": {
              "color": "white"
             }
            },
            "header": {
             "fill": {
              "color": "#C8D4E3"
             },
             "line": {
              "color": "white"
             }
            },
            "type": "table"
           }
          ]
         },
         "layout": {
          "annotationdefaults": {
           "arrowcolor": "#2a3f5f",
           "arrowhead": 0,
           "arrowwidth": 1
          },
          "autotypenumbers": "strict",
          "coloraxis": {
           "colorbar": {
            "outlinewidth": 0,
            "ticks": ""
           }
          },
          "colorscale": {
           "diverging": [
            [
             0,
             "#8e0152"
            ],
            [
             0.1,
             "#c51b7d"
            ],
            [
             0.2,
             "#de77ae"
            ],
            [
             0.3,
             "#f1b6da"
            ],
            [
             0.4,
             "#fde0ef"
            ],
            [
             0.5,
             "#f7f7f7"
            ],
            [
             0.6,
             "#e6f5d0"
            ],
            [
             0.7,
             "#b8e186"
            ],
            [
             0.8,
             "#7fbc41"
            ],
            [
             0.9,
             "#4d9221"
            ],
            [
             1,
             "#276419"
            ]
           ],
           "sequential": [
            [
             0,
             "#0d0887"
            ],
            [
             0.1111111111111111,
             "#46039f"
            ],
            [
             0.2222222222222222,
             "#7201a8"
            ],
            [
             0.3333333333333333,
             "#9c179e"
            ],
            [
             0.4444444444444444,
             "#bd3786"
            ],
            [
             0.5555555555555556,
             "#d8576b"
            ],
            [
             0.6666666666666666,
             "#ed7953"
            ],
            [
             0.7777777777777778,
             "#fb9f3a"
            ],
            [
             0.8888888888888888,
             "#fdca26"
            ],
            [
             1,
             "#f0f921"
            ]
           ],
           "sequentialminus": [
            [
             0,
             "#0d0887"
            ],
            [
             0.1111111111111111,
             "#46039f"
            ],
            [
             0.2222222222222222,
             "#7201a8"
            ],
            [
             0.3333333333333333,
             "#9c179e"
            ],
            [
             0.4444444444444444,
             "#bd3786"
            ],
            [
             0.5555555555555556,
             "#d8576b"
            ],
            [
             0.6666666666666666,
             "#ed7953"
            ],
            [
             0.7777777777777778,
             "#fb9f3a"
            ],
            [
             0.8888888888888888,
             "#fdca26"
            ],
            [
             1,
             "#f0f921"
            ]
           ]
          },
          "colorway": [
           "#636efa",
           "#EF553B",
           "#00cc96",
           "#ab63fa",
           "#FFA15A",
           "#19d3f3",
           "#FF6692",
           "#B6E880",
           "#FF97FF",
           "#FECB52"
          ],
          "font": {
           "color": "#2a3f5f"
          },
          "geo": {
           "bgcolor": "white",
           "lakecolor": "white",
           "landcolor": "#E5ECF6",
           "showlakes": true,
           "showland": true,
           "subunitcolor": "white"
          },
          "hoverlabel": {
           "align": "left"
          },
          "hovermode": "closest",
          "mapbox": {
           "style": "light"
          },
          "paper_bgcolor": "white",
          "plot_bgcolor": "#E5ECF6",
          "polar": {
           "angularaxis": {
            "gridcolor": "white",
            "linecolor": "white",
            "ticks": ""
           },
           "bgcolor": "#E5ECF6",
           "radialaxis": {
            "gridcolor": "white",
            "linecolor": "white",
            "ticks": ""
           }
          },
          "scene": {
           "xaxis": {
            "backgroundcolor": "#E5ECF6",
            "gridcolor": "white",
            "gridwidth": 2,
            "linecolor": "white",
            "showbackground": true,
            "ticks": "",
            "zerolinecolor": "white"
           },
           "yaxis": {
            "backgroundcolor": "#E5ECF6",
            "gridcolor": "white",
            "gridwidth": 2,
            "linecolor": "white",
            "showbackground": true,
            "ticks": "",
            "zerolinecolor": "white"
           },
           "zaxis": {
            "backgroundcolor": "#E5ECF6",
            "gridcolor": "white",
            "gridwidth": 2,
            "linecolor": "white",
            "showbackground": true,
            "ticks": "",
            "zerolinecolor": "white"
           }
          },
          "shapedefaults": {
           "line": {
            "color": "#2a3f5f"
           }
          },
          "ternary": {
           "aaxis": {
            "gridcolor": "white",
            "linecolor": "white",
            "ticks": ""
           },
           "baxis": {
            "gridcolor": "white",
            "linecolor": "white",
            "ticks": ""
           },
           "bgcolor": "#E5ECF6",
           "caxis": {
            "gridcolor": "white",
            "linecolor": "white",
            "ticks": ""
           }
          },
          "title": {
           "x": 0.05
          },
          "xaxis": {
           "automargin": true,
           "gridcolor": "white",
           "linecolor": "white",
           "ticks": "",
           "title": {
            "standoff": 15
           },
           "zerolinecolor": "white",
           "zerolinewidth": 2
          },
          "yaxis": {
           "automargin": true,
           "gridcolor": "white",
           "linecolor": "white",
           "ticks": "",
           "title": {
            "standoff": 15
           },
           "zerolinecolor": "white",
           "zerolinewidth": 2
          }
         }
        }
       }
      },
      "text/html": [
       "<div>                            <div id=\"f09429bc-3e9f-4e1f-8b53-99cf3667c3d8\" class=\"plotly-graph-div\" style=\"height:525px; width:100%;\"></div>            <script type=\"text/javascript\">                require([\"plotly\"], function(Plotly) {                    window.PLOTLYENV=window.PLOTLYENV || {};                                    if (document.getElementById(\"f09429bc-3e9f-4e1f-8b53-99cf3667c3d8\")) {                    Plotly.newPlot(                        \"f09429bc-3e9f-4e1f-8b53-99cf3667c3d8\",                        [{\"marker\": {\"color\": [\"lightslategray\", \"lightslategray\", \"chartreuse\", \"lightslategray\", \"crimson\", \"lightslategray\", \"lightslategray\", \"lightslategray\", \"lightslategray\"], \"size\": [9.968, 25.23111111111111, 65.06844444444444, 35.404222222222224, 0.07933333333333334, 22.567333333333334, 0.9893333333333333, 6.6033333333333335, 1.4433333333333334], \"sizemin\": 5}, \"mode\": \"markers\", \"text\": [44856.0, 113540.0, 292808.0, 159319.0, 357.0, 101553.0, 4452.0, 29715.0, 6495.0], \"type\": \"scatter\", \"x\": [\"AIRBUS\", \"AIRBUS INDUSTRIE\", \"BOEING\", \"BOMBARDIER INC\", \"CANADAIR\", \"EMBRAER\", \"MCDONNELL DOUGLAS\", \"MCDONNELL DOUGLAS AIRCRAFT CO\", \"MCDONNELL DOUGLAS CORPORATION\"], \"y\": [21.712094515225445, 14.994642920495265, 12.248254255578376, 27.185801870726017, 95.05246913580248, 21.1199867520881, 10.075254237288137, 2.8386213887480998, 6.899737370616408]}],                        {\"template\": {\"data\": {\"bar\": [{\"error_x\": {\"color\": \"#2a3f5f\"}, \"error_y\": {\"color\": \"#2a3f5f\"}, \"marker\": {\"line\": {\"color\": \"#E5ECF6\", \"width\": 0.5}}, \"type\": \"bar\"}], \"barpolar\": [{\"marker\": {\"line\": {\"color\": \"#E5ECF6\", \"width\": 0.5}}, \"type\": \"barpolar\"}], \"carpet\": [{\"aaxis\": {\"endlinecolor\": \"#2a3f5f\", \"gridcolor\": \"white\", \"linecolor\": \"white\", \"minorgridcolor\": \"white\", \"startlinecolor\": \"#2a3f5f\"}, \"baxis\": {\"endlinecolor\": \"#2a3f5f\", \"gridcolor\": \"white\", \"linecolor\": \"white\", \"minorgridcolor\": \"white\", \"startlinecolor\": \"#2a3f5f\"}, \"type\": \"carpet\"}], \"choropleth\": [{\"colorbar\": {\"outlinewidth\": 0, \"ticks\": \"\"}, \"type\": \"choropleth\"}], \"contour\": [{\"colorbar\": {\"outlinewidth\": 0, \"ticks\": \"\"}, \"colorscale\": [[0.0, \"#0d0887\"], [0.1111111111111111, \"#46039f\"], [0.2222222222222222, \"#7201a8\"], [0.3333333333333333, \"#9c179e\"], [0.4444444444444444, \"#bd3786\"], [0.5555555555555556, \"#d8576b\"], [0.6666666666666666, \"#ed7953\"], [0.7777777777777778, \"#fb9f3a\"], [0.8888888888888888, \"#fdca26\"], [1.0, \"#f0f921\"]], \"type\": \"contour\"}], \"contourcarpet\": [{\"colorbar\": {\"outlinewidth\": 0, \"ticks\": \"\"}, \"type\": \"contourcarpet\"}], \"heatmap\": [{\"colorbar\": {\"outlinewidth\": 0, \"ticks\": \"\"}, \"colorscale\": [[0.0, \"#0d0887\"], [0.1111111111111111, \"#46039f\"], [0.2222222222222222, \"#7201a8\"], [0.3333333333333333, \"#9c179e\"], [0.4444444444444444, \"#bd3786\"], [0.5555555555555556, \"#d8576b\"], [0.6666666666666666, \"#ed7953\"], [0.7777777777777778, \"#fb9f3a\"], [0.8888888888888888, \"#fdca26\"], [1.0, \"#f0f921\"]], \"type\": \"heatmap\"}], \"heatmapgl\": [{\"colorbar\": {\"outlinewidth\": 0, \"ticks\": \"\"}, \"colorscale\": [[0.0, \"#0d0887\"], [0.1111111111111111, \"#46039f\"], [0.2222222222222222, \"#7201a8\"], [0.3333333333333333, \"#9c179e\"], [0.4444444444444444, \"#bd3786\"], [0.5555555555555556, \"#d8576b\"], [0.6666666666666666, \"#ed7953\"], [0.7777777777777778, \"#fb9f3a\"], [0.8888888888888888, \"#fdca26\"], [1.0, \"#f0f921\"]], \"type\": \"heatmapgl\"}], \"histogram\": [{\"marker\": {\"colorbar\": {\"outlinewidth\": 0, \"ticks\": \"\"}}, \"type\": \"histogram\"}], \"histogram2d\": [{\"colorbar\": {\"outlinewidth\": 0, \"ticks\": \"\"}, \"colorscale\": [[0.0, \"#0d0887\"], [0.1111111111111111, \"#46039f\"], [0.2222222222222222, \"#7201a8\"], [0.3333333333333333, \"#9c179e\"], [0.4444444444444444, \"#bd3786\"], [0.5555555555555556, \"#d8576b\"], [0.6666666666666666, \"#ed7953\"], [0.7777777777777778, \"#fb9f3a\"], [0.8888888888888888, \"#fdca26\"], [1.0, \"#f0f921\"]], \"type\": \"histogram2d\"}], \"histogram2dcontour\": [{\"colorbar\": {\"outlinewidth\": 0, \"ticks\": \"\"}, \"colorscale\": [[0.0, \"#0d0887\"], [0.1111111111111111, \"#46039f\"], [0.2222222222222222, \"#7201a8\"], [0.3333333333333333, \"#9c179e\"], [0.4444444444444444, \"#bd3786\"], [0.5555555555555556, \"#d8576b\"], [0.6666666666666666, \"#ed7953\"], [0.7777777777777778, \"#fb9f3a\"], [0.8888888888888888, \"#fdca26\"], [1.0, \"#f0f921\"]], \"type\": \"histogram2dcontour\"}], \"mesh3d\": [{\"colorbar\": {\"outlinewidth\": 0, \"ticks\": \"\"}, \"type\": \"mesh3d\"}], \"parcoords\": [{\"line\": {\"colorbar\": {\"outlinewidth\": 0, \"ticks\": \"\"}}, \"type\": \"parcoords\"}], \"pie\": [{\"automargin\": true, \"type\": \"pie\"}], \"scatter\": [{\"marker\": {\"colorbar\": {\"outlinewidth\": 0, \"ticks\": \"\"}}, \"type\": \"scatter\"}], \"scatter3d\": [{\"line\": {\"colorbar\": {\"outlinewidth\": 0, \"ticks\": \"\"}}, \"marker\": {\"colorbar\": {\"outlinewidth\": 0, \"ticks\": \"\"}}, \"type\": \"scatter3d\"}], \"scattercarpet\": [{\"marker\": {\"colorbar\": {\"outlinewidth\": 0, \"ticks\": \"\"}}, \"type\": \"scattercarpet\"}], \"scattergeo\": [{\"marker\": {\"colorbar\": {\"outlinewidth\": 0, \"ticks\": \"\"}}, \"type\": \"scattergeo\"}], \"scattergl\": [{\"marker\": {\"colorbar\": {\"outlinewidth\": 0, \"ticks\": \"\"}}, \"type\": \"scattergl\"}], \"scattermapbox\": [{\"marker\": {\"colorbar\": {\"outlinewidth\": 0, \"ticks\": \"\"}}, \"type\": \"scattermapbox\"}], \"scatterpolar\": [{\"marker\": {\"colorbar\": {\"outlinewidth\": 0, \"ticks\": \"\"}}, \"type\": \"scatterpolar\"}], \"scatterpolargl\": [{\"marker\": {\"colorbar\": {\"outlinewidth\": 0, \"ticks\": \"\"}}, \"type\": \"scatterpolargl\"}], \"scatterternary\": [{\"marker\": {\"colorbar\": {\"outlinewidth\": 0, \"ticks\": \"\"}}, \"type\": \"scatterternary\"}], \"surface\": [{\"colorbar\": {\"outlinewidth\": 0, \"ticks\": \"\"}, \"colorscale\": [[0.0, \"#0d0887\"], [0.1111111111111111, \"#46039f\"], [0.2222222222222222, \"#7201a8\"], [0.3333333333333333, \"#9c179e\"], [0.4444444444444444, \"#bd3786\"], [0.5555555555555556, \"#d8576b\"], [0.6666666666666666, \"#ed7953\"], [0.7777777777777778, \"#fb9f3a\"], [0.8888888888888888, \"#fdca26\"], [1.0, \"#f0f921\"]], \"type\": \"surface\"}], \"table\": [{\"cells\": {\"fill\": {\"color\": \"#EBF0F8\"}, \"line\": {\"color\": \"white\"}}, \"header\": {\"fill\": {\"color\": \"#C8D4E3\"}, \"line\": {\"color\": \"white\"}}, \"type\": \"table\"}]}, \"layout\": {\"annotationdefaults\": {\"arrowcolor\": \"#2a3f5f\", \"arrowhead\": 0, \"arrowwidth\": 1}, \"autotypenumbers\": \"strict\", \"coloraxis\": {\"colorbar\": {\"outlinewidth\": 0, \"ticks\": \"\"}}, \"colorscale\": {\"diverging\": [[0, \"#8e0152\"], [0.1, \"#c51b7d\"], [0.2, \"#de77ae\"], [0.3, \"#f1b6da\"], [0.4, \"#fde0ef\"], [0.5, \"#f7f7f7\"], [0.6, \"#e6f5d0\"], [0.7, \"#b8e186\"], [0.8, \"#7fbc41\"], [0.9, \"#4d9221\"], [1, \"#276419\"]], \"sequential\": [[0.0, \"#0d0887\"], [0.1111111111111111, \"#46039f\"], [0.2222222222222222, \"#7201a8\"], [0.3333333333333333, \"#9c179e\"], [0.4444444444444444, \"#bd3786\"], [0.5555555555555556, \"#d8576b\"], [0.6666666666666666, \"#ed7953\"], [0.7777777777777778, \"#fb9f3a\"], [0.8888888888888888, \"#fdca26\"], [1.0, \"#f0f921\"]], \"sequentialminus\": [[0.0, \"#0d0887\"], [0.1111111111111111, \"#46039f\"], [0.2222222222222222, \"#7201a8\"], [0.3333333333333333, \"#9c179e\"], [0.4444444444444444, \"#bd3786\"], [0.5555555555555556, \"#d8576b\"], [0.6666666666666666, \"#ed7953\"], [0.7777777777777778, \"#fb9f3a\"], [0.8888888888888888, \"#fdca26\"], [1.0, \"#f0f921\"]]}, \"colorway\": [\"#636efa\", \"#EF553B\", \"#00cc96\", \"#ab63fa\", \"#FFA15A\", \"#19d3f3\", \"#FF6692\", \"#B6E880\", \"#FF97FF\", \"#FECB52\"], \"font\": {\"color\": \"#2a3f5f\"}, \"geo\": {\"bgcolor\": \"white\", \"lakecolor\": \"white\", \"landcolor\": \"#E5ECF6\", \"showlakes\": true, \"showland\": true, \"subunitcolor\": \"white\"}, \"hoverlabel\": {\"align\": \"left\"}, \"hovermode\": \"closest\", \"mapbox\": {\"style\": \"light\"}, \"paper_bgcolor\": \"white\", \"plot_bgcolor\": \"#E5ECF6\", \"polar\": {\"angularaxis\": {\"gridcolor\": \"white\", \"linecolor\": \"white\", \"ticks\": \"\"}, \"bgcolor\": \"#E5ECF6\", \"radialaxis\": {\"gridcolor\": \"white\", \"linecolor\": \"white\", \"ticks\": \"\"}}, \"scene\": {\"xaxis\": {\"backgroundcolor\": \"#E5ECF6\", \"gridcolor\": \"white\", \"gridwidth\": 2, \"linecolor\": \"white\", \"showbackground\": true, \"ticks\": \"\", \"zerolinecolor\": \"white\"}, \"yaxis\": {\"backgroundcolor\": \"#E5ECF6\", \"gridcolor\": \"white\", \"gridwidth\": 2, \"linecolor\": \"white\", \"showbackground\": true, \"ticks\": \"\", \"zerolinecolor\": \"white\"}, \"zaxis\": {\"backgroundcolor\": \"#E5ECF6\", \"gridcolor\": \"white\", \"gridwidth\": 2, \"linecolor\": \"white\", \"showbackground\": true, \"ticks\": \"\", \"zerolinecolor\": \"white\"}}, \"shapedefaults\": {\"line\": {\"color\": \"#2a3f5f\"}}, \"ternary\": {\"aaxis\": {\"gridcolor\": \"white\", \"linecolor\": \"white\", \"ticks\": \"\"}, \"baxis\": {\"gridcolor\": \"white\", \"linecolor\": \"white\", \"ticks\": \"\"}, \"bgcolor\": \"#E5ECF6\", \"caxis\": {\"gridcolor\": \"white\", \"linecolor\": \"white\", \"ticks\": \"\"}}, \"title\": {\"x\": 0.05}, \"xaxis\": {\"automargin\": true, \"gridcolor\": \"white\", \"linecolor\": \"white\", \"ticks\": \"\", \"title\": {\"standoff\": 15}, \"zerolinecolor\": \"white\", \"zerolinewidth\": 2}, \"yaxis\": {\"automargin\": true, \"gridcolor\": \"white\", \"linecolor\": \"white\", \"ticks\": \"\", \"title\": {\"standoff\": 15}, \"zerolinecolor\": \"white\", \"zerolinewidth\": 2}}}},                        {\"responsive\": true}                    ).then(function(){\n",
       "                            \n",
       "var gd = document.getElementById('f09429bc-3e9f-4e1f-8b53-99cf3667c3d8');\n",
       "var x = new MutationObserver(function (mutations, observer) {{\n",
       "        var display = window.getComputedStyle(gd).display;\n",
       "        if (!display || display === 'none') {{\n",
       "            console.log([gd, 'removed!']);\n",
       "            Plotly.purge(gd);\n",
       "            observer.disconnect();\n",
       "        }}\n",
       "}});\n",
       "\n",
       "// Listen for the removal of the full notebook cells\n",
       "var notebookContainer = gd.closest('#notebook-container');\n",
       "if (notebookContainer) {{\n",
       "    x.observe(notebookContainer, {childList: true});\n",
       "}}\n",
       "\n",
       "// Listen for the clearing of the current output cell\n",
       "var outputEl = gd.closest('.output');\n",
       "if (outputEl) {{\n",
       "    x.observe(outputEl, {childList: true});\n",
       "}}\n",
       "\n",
       "                        })                };                });            </script>        </div>"
      ]
     },
     "metadata": {},
     "output_type": "display_data"
    }
   ],
   "source": [
    "df = pd.read_csv('manufacturerDelay.csv')\n",
    "\n",
    "colors = ['lightslategray',] * df.shape[0]\n",
    "colors[4] = 'crimson'\n",
    "colors[2] = 'chartreuse'\n",
    "\n",
    "fig = go.Figure(data=go.Scatter(\n",
    "    x = df['manufacturer'],\n",
    "    y = df['avg_delay'],\n",
    "    mode = 'markers',\n",
    "    text = df['num_planes'],\n",
    "    marker = dict(\n",
    "        sizemin = 5,\n",
    "        size = df['num_planes']/4500,\n",
    "        color=colors\n",
    "    )\n",
    "))\n",
    "\n",
    "fig.show()"
   ]
  },
  {
   "cell_type": "markdown",
   "metadata": {},
   "source": [
    "## Where are the airports with the longest delays?"
   ]
  },
  {
   "cell_type": "code",
   "execution_count": 70,
   "metadata": {},
   "outputs": [
    {
     "data": {
      "application/vnd.plotly.v1+json": {
       "config": {
        "plotlyServerURL": "https://plot.ly"
       },
       "data": [
        {
         "lat": [
          33.64044444,
          41.979595,
          32.89595056,
          35.21401111,
          39.85840806,
          33.94253611,
          33.43416667,
          29.98047222,
          40.77724306,
          37.61900194,
          36.08036111,
          44.88054694,
          42.21205889,
          28.42888889,
          38.85208333,
          42.3643475,
          40.69249722,
          40.63975111,
          47.44898194,
          40.78838778,
          39.87195278,
          26.07258333,
          39.17540167,
          25.79325,
          32.73355611,
          27.97547222,
          41.7859825,
          36.12447667,
          32.84711389,
          38.74768694,
          38.94453194,
          30.19453278,
          29.64541861,
          37.36186194,
          35.87763889,
          29.99338889,
          45.58872222,
          39.29760528,
          37.72129083,
          26.53616667,
          40.49146583,
          39.71732917,
          41.41089417,
          38.69542167,
          21.31869111,
          39.04614278,
          39.99798528,
          33.67565861,
          29.53369444,
          30.49405556,
          26.68316194,
          42.94722222,
          41.93887417,
          34.20061917,
          18.43941667,
          20.89864972,
          41.30251861,
          37.50516667,
          35.04241667,
          42.94052472,
          36.89461111,
          35.39308833,
          32.89864639,
          38.17438889,
          32.11608333,
          35.04022222,
          34.056,
          39.49857611,
          43.56444444,
          42.88081972,
          33.56294306,
          35.81248722,
          41.72399917,
          33.82921556,
          41.53493306,
          36.19837222,
          31.80666667,
          61.17432028,
          32.12758333,
          36.09774694,
          34.89566722,
          19.73876583,
          33.81772222,
          43.11886611,
          43.11118694,
          21.97598306,
          36.28186944,
          43.13985778,
          34.72939611,
          39.90237583,
          42.74811944,
          36.77619444,
          41.06695778,
          30.47330556,
          39.22316,
          47.61985556,
          28.77764,
          37.64995889,
          38.03697222,
          35.03526833,
          31.94252778,
          34.6404475,
          38.80580556,
          41.88458833,
          43.64616667,
          27.39533333,
          44.47300361,
          35.43619444,
          37.24432611,
          33.67975,
          33.93884,
          32.31116667,
          27.91076333,
          42.93451639,
          30.53316083,
          43.58135111,
          45.77690139,
          41.70895361,
          24.55611111,
          40.97846583,
          33.66363889,
          30.48325,
          40.91631194,
          26.92019444,
          40.19349528,
          34.27061111,
          32.446627500000005,
          34.42621194,
          46.91934889,
          30.39652778,
          40.7952425,
          38.13863889,
          19.72026306,
          39.64256778,
          27.77036083,
          43.60732417,
          26.17583333,
          30.69141667,
          35.2193725,
          30.20527972,
          41.44852639,
          35.23705806,
          44.25740806,
          29.69005556,
          40.65236278,
          40.66424333,
          33.369955,
          44.48507333,
          18.33730556,
          26.22850611,
          30.40728028,
          38.37315083,
          64.8136775,
          36.5869825,
          38.03799139,
          46.77411111,
          58.35496194,
          42.37422778,
          37.09058333,
          43.90882639,
          44.123259999999995,
          39.1224125,
          32.30064417,
          39.45758333,
          29.17991667,
          45.8076625,
          42.7787,
          42.96550333,
          31.32737167,
          44.25406722,
          40.48118028,
          34.82916444,
          31.06489778,
          44.04532139,
          41.33814944,
          34.99147222,
          37.15151667,
          32.51086556,
          40.47798556,
          44.80744444,
          28.10275,
          37.32546833,
          43.53291472,
          38.50886722,
          25.90683333,
          44.77761917,
          48.79275,
          46.91630556,
          40.03925,
          40.27669111,
          27.54373861,
          46.84209028,
          44.74144472,
          43.50484139,
          38.81809306,
          35.43359806,
          18.49486111,
          30.58858944,
          35.07297222,
          41.58680556,
          36.47521417,
          55.35556861,
          47.949255,
          35.33659028,
          38.50897694,
          32.41132,
          30.126097499999997,
          48.31140472,
          43.87937972,
          48.25937778,
          43.51455556,
          42.234875,
          40.85097222,
          39.14096722,
          46.26468028,
          42.48180389,
          39.84395194,
          31.35775,
          41.50409361,
          32.65658333,
          47.48200194,
          40.97811528,
          37.13189556,
          35.13845472,
          35.61677778,
          31.61128833,
          31.32133917,
          32.35413889,
          46.60681806,
          42.40260333,
          37.06083333,
          33.30155556,
          34.56771444,
          38.84494167,
          46.353639,
          40.96747222,
          40.50898361,
          40.851206,
          32.51633333,
          40.275940000000006,
          42.91130556,
          42.26733944,
          32.33313333,
          37.62404861,
          33.98879611,
          42.40295944,
          32.224384,
          57.04713806,
          30.7825,
          33.45370806,
          31.535515000000004,
          33.45033444,
          31.25902778,
          46.92971944,
          70.19475583,
          41.26389889,
          17.70188889,
          43.10725861,
          37.22531694,
          29.95083333,
          38.7914825,
          42.08202139,
          38.28908722,
          42.49102778,
          45.5709275,
          38.54517861,
          13.48345,
          60.77977639,
          39.29663889,
          42.20848278,
          46.37449806,
          42.90835556,
          32.38486111,
          42.19536389,
          47.50942417,
          41.5942175,
          43.16948806,
          36.16025194,
          37.92751556,
          66.88467694,
          56.80165194,
          71.2854475,
          45.44905556,
          45.63119306,
          64.51220222,
          43.99192222,
          34.65447222,
          47.16841722,
          37.15181361,
          56.48432583,
          44.86525722,
          31.46714944,
          29.37181222,
          18.00830278,
          48.17793861,
          60.49183389,
          59.50336056,
          44.34889806,
          37.89426694,
          42.55708139,
          46.25075194,
          32.68752778,
          40.82492611,
          45.95479528,
          45.81835417,
          38.26384333,
          39.81375917,
          39.94262417,
          37.32668528,
          37.85830556,
          57.74996778,
          48.11424528,
          48.56618722,
          38.75495611,
          45.72266972,
          47.38659917,
          46.39785806,
          37.70097028,
          45.078067499999996,
          41.87402778,
          41.31205,
          40.72702778,
          37.04420944,
          40.21919444,
          40.44090167,
          41.12621194,
          43.07795889,
          44.52019417,
          38.53396333,
          38.36666667,
          14.996110999999999,
          42.15991361,
          41.155722499999996,
          43.41713889,
          45.54532417,
          44.68185361,
          34.89924833,
          39.70794444,
          37.74011111,
          14.33102278,
          51.87796389,
          41.19594417,
          47.90762861
         ],
         "lon": [
          -84.42694444,
          -87.90446417,
          -97.0372,
          -80.94312583,
          -104.6670019,
          -118.40807439999999,
          -112.00805559999999,
          -95.33972222,
          -73.87260917,
          -122.3748433,
          -115.15233329999998,
          -93.2169225,
          -83.34883583,
          -81.31602778,
          -77.03772222,
          -71.00517917,
          -74.16866056,
          -73.77892556,
          -122.30931310000001,
          -111.9777731,
          -75.24114083,
          -80.15275,
          -76.66819833,
          -80.29055556,
          -117.1896567,
          -82.53325,
          -87.75242444,
          -86.67818222,
          -96.85177222,
          -90.35998972,
          -77.45580972,
          -97.66987194,
          -95.27888889,
          -121.92900890000001,
          -78.78747222,
          -90.25802778,
          -122.5975,
          -94.71390556,
          -122.22071670000001,
          -81.75516667,
          -80.23287083,
          -86.29438417,
          -81.84939667,
          -121.5907669,
          -157.92240719999998,
          -84.6621725,
          -82.89188278,
          -117.86822250000002,
          -98.46977778,
          -81.68786111,
          -80.09559417,
          -87.89658333,
          -72.68322833,
          -118.3584969,
          -66.00183333,
          -156.43045780000003,
          -95.89417306,
          -77.31966667,
          -89.97666667,
          -78.73216667,
          -76.20122222,
          -97.60073389,
          -80.04050583,
          -85.736,
          -110.94102779999999,
          -106.6091944,
          -117.60119440000001,
          -119.76806470000001,
          -116.22277779999999,
          -85.52276778,
          -86.75354972,
          -83.99285583,
          -71.42822111,
          -116.5062531,
          -93.66068222,
          -95.88824167,
          -106.37780559999999,
          -149.9961856,
          -81.20213889,
          -79.9372975,
          -82.21885833,
          -156.0456314,
          -118.1516111,
          -77.67238389,
          -76.10631056,
          -159.3389581,
          -94.30681111,
          -89.33751361,
          -92.22424556,
          -84.219375,
          -73.80297861,
          -119.7181389,
          -73.70757444,
          -87.18744444,
          -106.868845,
          -117.5338425,
          -81.23748944,
          -97.43304583,
          -84.60538889,
          -85.20378778,
          -102.20191390000001,
          -86.77310944,
          -104.70025,
          -91.71087222,
          -70.30875,
          -82.55411111,
          -73.1503125,
          -82.54180556,
          -93.38685806,
          -78.92833333,
          -81.11953944,
          -90.07588889,
          -82.68743944,
          -71.43705583,
          -91.14963444,
          -96.74170028,
          -111.15300719999999,
          -86.31847417,
          -81.75955556,
          -85.19514639,
          -101.8227778,
          -86.5254,
          -81.44246556,
          -81.99052778,
          -76.76340361,
          -77.90255556,
          -93.82559833,
          -119.8403733,
          -96.81498889,
          -84.35033333,
          -73.10021194,
          -78.45286111,
          -155.04847030000002,
          -106.91769529999999,
          -97.50121528,
          -110.7377389,
          -98.23861111,
          -88.24283333,
          -101.7059272,
          -91.987655,
          -90.50753917,
          -120.64239309999999,
          -88.51947556,
          -82.27177778,
          -75.44040167,
          -89.69330556,
          -81.96449611,
          -88.12959000000001,
          -64.97336111,
          -97.65439389,
          -89.07009278,
          -81.59318972,
          -147.8596694,
          -121.84294779999999,
          -87.53062667,
          -100.74672220000001,
          -134.57627639999998,
          -122.8734978,
          -113.59305559999999,
          -92.49798722,
          -123.21868559999999,
          -108.5267347,
          -86.39397611,
          -74.57716667,
          -81.05805556,
          -108.54286110000001,
          -84.58735806,
          -83.74345639,
          -92.54855611,
          -121.1499633,
          -107.21765970000001,
          -77.61213778,
          -97.82779778,
          -103.0573708,
          -75.72426750000001,
          -78.88,
          -107.75376920000001,
          -92.03768778,
          -88.91595278,
          -68.82813889,
          -80.64580556,
          -79.97542833,
          -84.07964722,
          -107.89383329999998,
          -97.42586111,
          -89.66677944,
          -122.53752779999999,
          -114.09055559999999,
          -88.27805556,
          -74.81346833,
          -99.46154361,
          -92.19364861,
          -85.582235,
          -114.29659029999999,
          -92.21962917,
          -119.05676809999999,
          -67.12944444,
          -96.36382417,
          -77.04294444,
          -83.80783333,
          -82.40742056,
          -131.71374,
          -97.17611111,
          -94.36744111,
          -122.8128803,
          -99.68189722,
          -93.22340361,
          -114.25506940000001,
          -91.25653778,
          -101.2803339,
          -112.07016670000002,
          -85.55205749999999,
          -96.75925,
          -96.67083278,
          -119.11902920000001,
          -114.4877356,
          -89.67761861,
          -100.4963056,
          -74.10483833,
          -114.60597220000001,
          -111.37068529999999,
          -124.1086189,
          -76.4929875,
          -111.67121829999999,
          -106.08813889999999,
          -97.23051917,
          -85.44962889,
          -95.40238611,
          -111.9827503,
          -96.38436694,
          -88.77375,
          -104.5305556,
          -98.41663667,
          -99.27403361,
          -87.395361,
          -98.30861111,
          -122.2934019,
          -77.84630200000001,
          -84.93886111,
          -79.40479722,
          -112.59586110000001,
          -71.87570944,
          -88.75120556,
          -118.8377722,
          -98.49189333,
          -90.70916722,
          -80.697629,
          -135.3615983,
          -83.27672222,
          -93.99101999999999,
          -84.19447333,
          -88.59136861,
          -81.46630556,
          -98.67819528,
          -148.4651608,
          -72.8871,
          -64.79855556,
          -78.94538139,
          -89.57075167,
          -94.02069444,
          -97.65060333,
          -80.17621556,
          -104.4965722,
          -76.45844444,
          -84.796715,
          -89.83518444,
          -144.7959825,
          -161.8379975,
          -80.22808333,
          -75.97961361,
          -117.01539440000002,
          -106.46446609999998,
          -94.71171,
          -89.09721111,
          -94.93372333,
          -109.0651928,
          -86.23822306,
          -97.08577028,
          -100.7244147,
          -162.5985497,
          -132.9452781,
          -156.76600190000002,
          -98.42183333,
          -89.46745361,
          -165.4452458,
          -76.02173861,
          -112.41958329999999,
          -88.48906083,
          -94.49826833,
          -132.3698242,
          -91.48507194,
          -89.33705778,
          -100.9232339,
          -66.56301194,
          -103.6423467,
          -145.4776503,
          -139.6602261,
          -105.5393614,
          -121.2386203,
          -92.40034361,
          -84.47238528,
          -103.2170278,
          -115.79169640000002,
          -112.49746,
          -88.1145425,
          -78.89643806,
          -82.92786472,
          -91.19445611,
          -79.20043056,
          -80.39947222,
          -152.4938553,
          -98.90877833,
          -93.40306667,
          -109.7548439,
          -87.09373139,
          -92.83899333,
          -94.13722750000001,
          -113.098575,
          -83.56028583,
          -103.59563890000001,
          -105.67498640000001,
          -99.00677778,
          -100.9598611,
          -111.7233611,
          -109.5099203,
          -100.6836542,
          -70.82327333,
          -109.02379609999998,
          -106.9331817,
          -82.55802778,
          145.621384,
          -76.89144333,
          -104.81183809999999,
          -124.2460278,
          -94.05833667,
          -75.46549917,
          -120.4575825,
          -77.7295,
          -87.16683333,
          -170.71052580000003,
          -176.6460306,
          -112.012175,
          -122.2815892
         ],
         "marker": {
          "cmax": 101.68036529680367,
          "cmin": 0,
          "color": [
           9.283872781736978,
           29.889992747376056,
           20.04091930754231,
           11.818852340763184,
           19.370646719767205,
           13.168526570977795,
           12.154268962990106,
           14.172923461244887,
           22.227746471849603,
           29.5436597152234,
           15.094061483579898,
           16.49694585075941,
           14.372334213818991,
           16.69540149458423,
           15.792916666666667,
           25.702189824994733,
           25.829125467985026,
           13.037215668382974,
           13.463865825307208,
           10.433753885536662,
           8.591755068141493,
           17.96123519129928,
           12.180569229392285,
           15.802778141790068,
           11.031225351459193,
           13.998383756755393,
           24.515469204033963,
           15.579782881457641,
           12.348677036101707,
           16.763434579439252,
           16.000197005516153,
           10.121139028475712,
           13.654783841247342,
           7.968620443173695,
           15.353125222214322,
           10.618437162405474,
           7.972864541542052,
           11.787740667976424,
           12.520819285232635,
           15.313416484072143,
           11.388133391078386,
           12.406516814776097,
           14.852210674652104,
           7.884438955539872,
           3.1615417929839755,
           16.921123960968558,
           13.381370014771047,
           8.928294968425341,
           4.929930346189833,
           10.317803453845196,
           19.771701619325725,
           18.39393521709166,
           8.252744078567302,
           15.599939795304033,
           19.97585788035226,
           7.2602090819993474,
           16.745044429254957,
           15.194667131404671,
           11.054789740010472,
           15.948998178506374,
           14.288028802880287,
           16.507906976744184,
           7.128896538535093,
           16.330433101314767,
           13.376573088092933,
           10.312758010615292,
           10.816641964852849,
           21.448160535117054,
           8.173932188463231,
           23.439397450753194,
           12.894648829431436,
           10.170212765957444,
           10.095652173913043,
           20.446032528339078,
           19.786128625472887,
           8.49664596273292,
           6.690464048954616,
           -5.504246284501061,
           15.069285324604476,
           8.549363507779349,
           9.302620213072274,
           -1.5217765042979945,
           7.103607503607504,
           18.37147239263804,
           16.347961406784936,
           1.4018691588785046,
           15.11229946524064,
           25.90657894736842,
           10.609536082474227,
           10.700752393980848,
           13.132538569424966,
           19.853262786596122,
           25.548179059180576,
           12.769402985074628,
           66.65186426476751,
           13.446107784431137,
           8.184351145038168,
           14.735714285714286,
           21.935339021104628,
           11.66209419295839,
           8.20808174640037,
           6.462658525129169,
           27.4361549497848,
           28.13247011952191,
           9.896501457725947,
           18.455762792922044,
           34.57801418439716,
           18.87826541274817,
           22.63976483164083,
           2.6834645669291337,
           5.533509234828496,
           10.368364611260054,
           -5.9556277056277045,
           8.557876905702992,
           9.20169971671388,
           29.04234724742892,
           28.97983870967742,
           14.762165450121655,
           22.46858485026424,
           21.51842900302115,
           8.107567229518446,
           12.805573147561748,
           17.61972744970798,
           4.9525316455696204,
           19.557291666666668,
           7.570317563188594,
           22.92682926829268,
           22.2234823215477,
           50.664265129682995,
           3.547375596455351,
           10.401301518438178,
           20.542709867452132,
           0.4419101924447612,
           68.69086651053864,
           3.3363567649281936,
           55.08259109311741,
           9.629421221864954,
           16.647875816993466,
           10.724422442244224,
           12.437768240343347,
           35.4249547920434,
           27.713652482269502,
           31.598298676748577,
           12.81785392245266,
           16.50321987120515,
           21.0827718960539,
           11.963720930232556,
           21.201970443349754,
           11.108262108262107,
           4.944284341978866,
           16.351724137931033,
           32.74628344895937,
           -13.73873873873874,
           17.229473684210525,
           7.473347547974414,
           29.52877307274701,
           -0.2539325842696629,
           44.699551569506724,
           14.19042437431991,
           46.03410475030451,
           35.610328638497656,
           3.5777525539160044,
           20.987414187643022,
           -4.377011494252874,
           5.445246690734057,
           4.010012515644556,
           28.640479360852197,
           15.269692923898532,
           8.390967741935484,
           62.14583333333334,
           37.73342354533153,
           1.936254980079681,
           17.234270414993308,
           47.676753782668506,
           8.892757660167131,
           19.728629579375852,
           16.731743666169894,
           8.388639760837071,
           30.342229199372053,
           17.736593059936908,
           -0.5369230769230771,
           16.8256,
           7.020618556701031,
           20.77574750830565,
           10.135506003430534,
           15.786096256684491,
           0.935483870967742,
           -0.7262103505843072,
           35.38086642599278,
           21.67747440273037,
           7.00513698630137,
           34.80633147113594,
           28.685658153241647,
           9.513994910941477,
           34.701960784313734,
           20.448339483394832,
           21.153564899451553,
           5.824626865671643,
           0.8988549618320609,
           23.543388429752067,
           9.390291262135925,
           -3.5,
           32.17043121149897,
           2.261569416498994,
           3.7448132780082983,
           12.3305954825462,
           -2.4131355932203387,
           3.4737945492662474,
           21.575471698113212,
           32.412280701754376,
           3.7090909090909085,
           30.582524271844658,
           27.163507109004737,
           13.697201017811706,
           25.058080808080806,
           26.684079601990053,
           20.265957446808514,
           -5.518041237113402,
           38.25205479452055,
           0.21600000000000003,
           39.00550964187328,
           62.96716417910448,
           -0.9410112359550562,
           13.50920245398773,
           39.488023952095816,
           -1.90990990990991,
           14.207100591715975,
           13.658536585365852,
           8.240853658536585,
           46.73063973063972,
           34.59139784946237,
           13.157728706624606,
           11.458193979933109,
           45.820788530465954,
           49.63537906137184,
           21.067857142857143,
           38.53488372093023,
           29.806083650190114,
           9.187725631768952,
           1.1132075471698113,
           -3.651851851851852,
           30.660231660231663,
           77.86590038314176,
           93.26530612244898,
           9.684,
           16.582959641255606,
           16.705645161290324,
           -14.262096774193546,
           9.146825396825397,
           -1.669322709163347,
           6.622489959839357,
           -2.7096774193548385,
           2.6666666666666665,
           101.68036529680367,
           -20.726086956521737,
           15.625,
           -5.575630252100839,
           13.17094017094017,
           37.55140186915888,
           12.013215859030836,
           72.97619047619048,
           8.960352422907489,
           -5.084905660377358,
           56.530232558139545,
           69.87692307692308,
           24.92592592592593,
           -7.768472906403941,
           -2.453608247422681,
           51.548387096774185,
           62.03664921465968,
           -12.570707070707073,
           -9.456410256410255,
           6.719387755102041,
           17.489247311827956,
           25.51136363636364,
           15.339080459770114,
           15.183544303797467,
           -1.4464285714285714,
           13.371951219512196,
           -2.888888888888889,
           -0.6369047619047619,
           -19.761627906976745,
           33.35294117647059,
           50.32558139534883,
           -15.422360248447205,
           28.12244897959184,
           2.9710982658959537,
           35.99346405228758,
           32.52601156069364,
           6.705202312138728,
           33.85093167701864,
           24.36,
           5.804469273743018,
           11.293785310734465,
           43.38636363636363,
           -14.790697674418604,
           -21.134146341463413,
           42.41916167664671,
           32.958333333333336,
           20.328859060402685,
           51.49677419354839,
           -2.748466257668712,
           7.037037037037037,
           19.856287425149702,
           54.42207792207793,
           36.2,
           23.180722891566266,
           42.412213740458014,
           -8.294117647058824,
           52.074074074074076,
           -12.144736842105265,
           66.76428571428572,
           6.190789473684211,
           26.079136690647477,
           43.85507246376812,
           8.473333333333333,
           23.02054794520548,
           16.428571428571427,
           65.23880597014926,
           3.8285714285714287,
           23.95833333333333,
           11.55944055944056,
           0.7588652482269503,
           22.58169934640523,
           38.07086614173228,
           16.82638888888889,
           -3.649253731343284,
           5.557377049180328,
           31.442622950819672,
           21.47826086956522,
           0.6956521739130435,
           35.82608695652174,
           60.22988505747128,
           87.9625,
           29.564516129032263,
           32.38297872340426,
           21.511111111111113,
           53.806451612903224,
           26.592592592592588,
           11.851851851851851,
           1.9130434782608696,
           29.48,
           -13.25
          ],
          "colorbar": {
           "title": {
            "text": "Average delay time<br>(minutes)"
           }
          },
          "colorscale": [
           [
            0,
            "rgb(255,245,240)"
           ],
           [
            0.125,
            "rgb(254,224,210)"
           ],
           [
            0.25,
            "rgb(252,187,161)"
           ],
           [
            0.375,
            "rgb(252,146,114)"
           ],
           [
            0.5,
            "rgb(251,106,74)"
           ],
           [
            0.625,
            "rgb(239,59,44)"
           ],
           [
            0.75,
            "rgb(203,24,29)"
           ],
           [
            0.875,
            "rgb(165,15,21)"
           ],
           [
            1,
            "rgb(103,0,13)"
           ]
          ],
          "size": 10
         },
         "mode": "markers",
         "text": [
          "William B Hartsfield-Atlanta Intl",
          "Chicago O'Hare International",
          "Dallas-Fort Worth International",
          "Charlotte/Douglas International",
          "Denver Intl",
          "Los Angeles International",
          "Phoenix Sky Harbor International",
          "George Bush Intercontinental",
          "LaGuardia",
          "San Francisco International",
          "McCarran International",
          "Minneapolis-St Paul Intl",
          "Detroit Metropolitan-Wayne County",
          "Orlando International",
          "Ronald Reagan Washington National",
          "Gen Edw L Logan Intl",
          "Newark Intl",
          "John F Kennedy Intl",
          "Seattle-Tacoma Intl",
          "Salt Lake City Intl",
          "Philadelphia Intl",
          "Fort Lauderdale-Hollywood Int'l",
          "Baltimore-Washington International",
          "Miami International",
          "San Diego International-Lindbergh ",
          "Tampa International ",
          "Chicago Midway",
          "Nashville International",
          "Dallas Love ",
          "Lambert-St Louis International",
          "Washington Dulles International",
          "Austin-Bergstrom International",
          "William P Hobby",
          "San Jose International",
          "Raleigh-Durham International",
          "New Orleans International ",
          "Portland Intl",
          "Kansas City International",
          "Metropolitan Oakland International",
          "Southwest Florida International",
          "Pittsburgh International",
          "Indianapolis International",
          "Cleveland-Hopkins Intl",
          "Sacramento International",
          "Honolulu International",
          "Cincinnati Northern Kentucky Intl",
          "Port Columbus Intl",
          "John Wayne /Orange Co",
          "San Antonio International",
          "Jacksonville International",
          "Palm Beach International",
          "General Mitchell International",
          "Bradley International",
          "Burbank-Glendale-Pasadena",
          "Luis Munoz Marin International",
          "Kahului",
          "Eppley Airfield",
          "Richmond International",
          "Memphis International",
          "Buffalo Niagara Intl",
          "Norfolk International",
          "Will Rogers World",
          "Charleston AFB/International",
          "Louisville International-Standiford ",
          "Tucson International",
          "Albuquerque International",
          "Ontario International",
          "Reno/Tahoe International",
          "Boise Air Terminal",
          "Kent County International",
          "Birmingham International",
          "McGhee-Tyson",
          "Theodore F Green State",
          "Palm Springs International",
          "Des Moines International",
          "Tulsa International",
          "El Paso International",
          "Ted Stevens Anchorage International",
          "Savannah International",
          "Piedmont Triad International",
          "Greenville-Spartanburg",
          "Kona International At Keahole",
          "Long Beach (Daugherty )",
          "Greater Rochester Int'l",
          "Syracuse-Hancock Intl",
          "Lihue",
          "Northwest Arkansas Regional",
          "Dane County Regional",
          "Adams ",
          "James M Cox Dayton Intl",
          "Albany Cty",
          "Fresno Yosemite International",
          "Westchester Cty",
          "Pensacola Regional",
          "Aspen-Pitkin Co/Sardy ",
          "Spokane Intl",
          "Orlando Sanford",
          "Wichita Mid-Continent",
          "Blue Grass ",
          "Lovell ",
          "Midland International",
          "Huntsville International ",
          "City of Colorado Springs Muni",
          "Eastern Iowa ",
          "Portland International Jetport",
          "Sarasota Bradenton International",
          "Burlington International",
          "Asheville Regional",
          "Springfield-Branson Regional",
          "Myrtle Beach International",
          "Columbia Metropolitan",
          "Jackson International",
          "St. Petersburg-Clearwater International",
          "Manchester",
          "Baton Rouge Metropolitan, Ryan ",
          "Joe Foss ",
          "Gallatin ",
          "South Bend Regional",
          "Key West International",
          "Fort Wayne International",
          "Lubbock International",
          "Eglin Air Force Base",
          "Akron-Canton Regional",
          "Charlotte County",
          "Harrisburg Intl",
          "Wilmington International",
          "Shreveport Regional",
          "Santa Barbara Municipal",
          "Hector International",
          "Tallahassee Regional",
          "Long Island - MacArthur",
          "Charlottesville-Albermarle",
          "Hilo International",
          "Eagle County Regional",
          "Corpus Christi International",
          "Jackson Hole",
          "McAllen Miller International",
          "Mobile Regional",
          "Amarillo International",
          "Lafayette Regional",
          "Quad City",
          "San Luis Obispo Co-McChesney ",
          "Outagamie County Regional",
          "Gainesville Regional",
          "Lehigh Valley International",
          "Greater Peoria Regional",
          "Bush ",
          "Austin Straubel International",
          "Cyril E. King",
          "Valley International",
          "Gulfport-Biloxi Regional",
          "Yeager",
          "Fairbanks International",
          "Monterey Peninsula",
          "Evansville Regional",
          "Bismarck Municipal",
          "Juneau International",
          "Rogue Valley International",
          "St George Muni",
          "Rochester International",
          "Mahlon Sweet ",
          "Walker ",
          "Montgomery Regional Apt",
          "Atlantic City International",
          "Daytona Beach International",
          "Billings Logan Intl",
          "Capital City",
          "Bishop",
          "Alexandria International",
          "Roberts ",
          "Yampa Valley",
          "Albert J Ellis",
          "Robert Gray AAF",
          "Rapid City Regional",
          "Wilkes-Barre/Scranton Intl",
          "Fayetteville Municipal",
          "Durango-La Plata County",
          "Monroe Regional",
          "Central Illinois Regional",
          "Bangor International",
          "Melbourne International ",
          "Roanoke Regional/ Woodrum ",
          "Mbs International",
          "Montrose Regional",
          "Brownsville/S.Padre Island International",
          "Central Wisconsin",
          "Bellingham Intl",
          "Missoula International",
          "University of Illinois-Willard",
          "Trenton-Mercer County ",
          "Laredo International",
          "Duluth International",
          "Cherry Capital",
          "Friedman Memorial",
          "Columbia Regional",
          "Meadows ",
          "Rafael Hernandez",
          "Easterwood ",
          "Craven County Regional",
          "Toledo Express",
          "Tri-Cities Regional",
          "Ketchikan International",
          "Grand Forks International",
          "Fort Smith Regional",
          "Sonoma Co",
          "Abilene Regional",
          "Lake Charles Regional",
          "Glacier Park Intl",
          "La Crosse Municipal",
          "Minot International",
          "Idaho Falls Regional",
          "Kalamazoo County",
          "Lincoln Municipal",
          "Manhattan Regional",
          "Tri-Cities",
          "Joslin Field - Magic Valley",
          "Capital",
          "San Angelo Regional /Mathis ",
          "Stewart",
          "Yuma MCAS-Yuma International",
          "Great Falls Intl",
          "Arcata",
          "Newport News/Williamsburg International",
          "Flagstaff Pulliam",
          "Santa Fe Municipal",
          "Waco Regional",
          "Dothan ",
          "Tyler Pounds ",
          "Helena Regional",
          "Sioux Gateway ",
          "Barkley Regional",
          "Roswell Industrial Air Center",
          "Lawton-Ft Sill Regional",
          "Hays Municipal",
          "Marquette County Airport",
          "Central Nebraska Regional ",
          "Redding Municipal",
          "University Park",
          "Columbus Metropolitan",
          "Arnold Palmer Regional",
          "Pocatello Regional",
          "Worcester Regional",
          "Key ",
          "Mammoth Yosemite",
          "Sheppard AFB/Wichita Falls Municipal",
          "Dubuque Municipal",
          "Hilton Head",
          "Sitka",
          "Valdosta Regional",
          "Texarkana Regional-Webb ",
          "Southwest Georgia Regional",
          "Golden Triangle Regional",
          "Glynco Jetport",
          "Jamestown Municipal",
          "Deadhorse",
          "Tweed-New Haven",
          "Henry E. Rohlsen ",
          "Niagara Falls Intl",
          "Cape Girardeau Municipal",
          "Southeast Texas Regional",
          "Salina Municipal",
          "Erie Intl",
          "Pueblo Memorial",
          "Tompkins Cty ",
          "Pellston Regional  of Emmet County",
          "Scott AFB/MidAmerica ",
          "Guam International",
          "Bethel",
          "Benedum",
          "Binghamton Regional",
          "Lewiston-Nez Perce County",
          "Natrona County Intl",
          "Gregg County",
          "Greater Rockford",
          "Bemidji-Beltrami County",
          "Rock Springs-Sweetwater County",
          "Muskegon County",
          "Stillwater Regional",
          "Garden City Regional",
          "Ralph Wien Memorial",
          "James C. Johnson Petersburg",
          "Wiley Post Will Rogers Memorial",
          "Aberdeen Regional",
          "Rhinelander-Oneida County",
          "Nome",
          "Watertown Intl",
          "Ernest A. Love ",
          "Houghton County Memorial",
          "Joplin Regional",
          "Wrangell",
          "Chippewa Valley Regional",
          "Hattiesburg-Laurel Regional",
          "Del Rio International",
          "Mercedita",
          "Sloulin Field International",
          "Merle K (Mudhole) Smith",
          "Yakutat",
          "Gillette-Campbell County",
          "Stockton Metro",
          "Waterloo Municipal",
          "Chippewa County International",
          "Lea County Regional",
          "Elko Regional",
          "Bert Mooney",
          "Ford",
          "Shenandoah Valley Regional",
          "Rickenbacker International ",
          "Quincy Municipal-Baldwin ",
          "Lynchburg Municipal-Preston Glenn ",
          "Greenbrier Valley",
          "Kodiak ",
          "Devils Lake Municipal-Knoke ",
          "Falls International",
          "Canyonlands ",
          "Delta County",
          "Chisholm-Hibbing",
          "Brainerd-Crow Wing County Regional",
          "Cedar City Muni",
          "Alpena County Regional ",
          "Scotts Bluff County",
          "Laramie Regional",
          "Kearney Municipal",
          "Liberal Municipal",
          "Provo Muni",
          "Vernal",
          "North Platte Regional ",
          "Pease International Tradeport",
          "Yellowstone Regional",
          "Gunnison County",
          "Tri-State/Walker-Long ",
          "Tinian International Airport",
          "Elmira/Corning Regional",
          "Cheyenne",
          "North Bend Muni",
          "St Cloud Regional",
          "Ogdensburg Intl",
          "Santa Maria Pub/Capt G Allan Hancock ",
          "Hagerstown Regional-Richard Henson ",
          "Owensboro-Daviess County",
          "Pago Pago International",
          "Adak",
          "Ogden-Hinckley",
          "Snohomish County "
         ],
         "type": "scattergeo"
        }
       ],
       "layout": {
        "geo": {
         "scope": "usa"
        },
        "template": {
         "data": {
          "bar": [
           {
            "error_x": {
             "color": "#2a3f5f"
            },
            "error_y": {
             "color": "#2a3f5f"
            },
            "marker": {
             "line": {
              "color": "#E5ECF6",
              "width": 0.5
             }
            },
            "type": "bar"
           }
          ],
          "barpolar": [
           {
            "marker": {
             "line": {
              "color": "#E5ECF6",
              "width": 0.5
             }
            },
            "type": "barpolar"
           }
          ],
          "carpet": [
           {
            "aaxis": {
             "endlinecolor": "#2a3f5f",
             "gridcolor": "white",
             "linecolor": "white",
             "minorgridcolor": "white",
             "startlinecolor": "#2a3f5f"
            },
            "baxis": {
             "endlinecolor": "#2a3f5f",
             "gridcolor": "white",
             "linecolor": "white",
             "minorgridcolor": "white",
             "startlinecolor": "#2a3f5f"
            },
            "type": "carpet"
           }
          ],
          "choropleth": [
           {
            "colorbar": {
             "outlinewidth": 0,
             "ticks": ""
            },
            "type": "choropleth"
           }
          ],
          "contour": [
           {
            "colorbar": {
             "outlinewidth": 0,
             "ticks": ""
            },
            "colorscale": [
             [
              0,
              "#0d0887"
             ],
             [
              0.1111111111111111,
              "#46039f"
             ],
             [
              0.2222222222222222,
              "#7201a8"
             ],
             [
              0.3333333333333333,
              "#9c179e"
             ],
             [
              0.4444444444444444,
              "#bd3786"
             ],
             [
              0.5555555555555556,
              "#d8576b"
             ],
             [
              0.6666666666666666,
              "#ed7953"
             ],
             [
              0.7777777777777778,
              "#fb9f3a"
             ],
             [
              0.8888888888888888,
              "#fdca26"
             ],
             [
              1,
              "#f0f921"
             ]
            ],
            "type": "contour"
           }
          ],
          "contourcarpet": [
           {
            "colorbar": {
             "outlinewidth": 0,
             "ticks": ""
            },
            "type": "contourcarpet"
           }
          ],
          "heatmap": [
           {
            "colorbar": {
             "outlinewidth": 0,
             "ticks": ""
            },
            "colorscale": [
             [
              0,
              "#0d0887"
             ],
             [
              0.1111111111111111,
              "#46039f"
             ],
             [
              0.2222222222222222,
              "#7201a8"
             ],
             [
              0.3333333333333333,
              "#9c179e"
             ],
             [
              0.4444444444444444,
              "#bd3786"
             ],
             [
              0.5555555555555556,
              "#d8576b"
             ],
             [
              0.6666666666666666,
              "#ed7953"
             ],
             [
              0.7777777777777778,
              "#fb9f3a"
             ],
             [
              0.8888888888888888,
              "#fdca26"
             ],
             [
              1,
              "#f0f921"
             ]
            ],
            "type": "heatmap"
           }
          ],
          "heatmapgl": [
           {
            "colorbar": {
             "outlinewidth": 0,
             "ticks": ""
            },
            "colorscale": [
             [
              0,
              "#0d0887"
             ],
             [
              0.1111111111111111,
              "#46039f"
             ],
             [
              0.2222222222222222,
              "#7201a8"
             ],
             [
              0.3333333333333333,
              "#9c179e"
             ],
             [
              0.4444444444444444,
              "#bd3786"
             ],
             [
              0.5555555555555556,
              "#d8576b"
             ],
             [
              0.6666666666666666,
              "#ed7953"
             ],
             [
              0.7777777777777778,
              "#fb9f3a"
             ],
             [
              0.8888888888888888,
              "#fdca26"
             ],
             [
              1,
              "#f0f921"
             ]
            ],
            "type": "heatmapgl"
           }
          ],
          "histogram": [
           {
            "marker": {
             "colorbar": {
              "outlinewidth": 0,
              "ticks": ""
             }
            },
            "type": "histogram"
           }
          ],
          "histogram2d": [
           {
            "colorbar": {
             "outlinewidth": 0,
             "ticks": ""
            },
            "colorscale": [
             [
              0,
              "#0d0887"
             ],
             [
              0.1111111111111111,
              "#46039f"
             ],
             [
              0.2222222222222222,
              "#7201a8"
             ],
             [
              0.3333333333333333,
              "#9c179e"
             ],
             [
              0.4444444444444444,
              "#bd3786"
             ],
             [
              0.5555555555555556,
              "#d8576b"
             ],
             [
              0.6666666666666666,
              "#ed7953"
             ],
             [
              0.7777777777777778,
              "#fb9f3a"
             ],
             [
              0.8888888888888888,
              "#fdca26"
             ],
             [
              1,
              "#f0f921"
             ]
            ],
            "type": "histogram2d"
           }
          ],
          "histogram2dcontour": [
           {
            "colorbar": {
             "outlinewidth": 0,
             "ticks": ""
            },
            "colorscale": [
             [
              0,
              "#0d0887"
             ],
             [
              0.1111111111111111,
              "#46039f"
             ],
             [
              0.2222222222222222,
              "#7201a8"
             ],
             [
              0.3333333333333333,
              "#9c179e"
             ],
             [
              0.4444444444444444,
              "#bd3786"
             ],
             [
              0.5555555555555556,
              "#d8576b"
             ],
             [
              0.6666666666666666,
              "#ed7953"
             ],
             [
              0.7777777777777778,
              "#fb9f3a"
             ],
             [
              0.8888888888888888,
              "#fdca26"
             ],
             [
              1,
              "#f0f921"
             ]
            ],
            "type": "histogram2dcontour"
           }
          ],
          "mesh3d": [
           {
            "colorbar": {
             "outlinewidth": 0,
             "ticks": ""
            },
            "type": "mesh3d"
           }
          ],
          "parcoords": [
           {
            "line": {
             "colorbar": {
              "outlinewidth": 0,
              "ticks": ""
             }
            },
            "type": "parcoords"
           }
          ],
          "pie": [
           {
            "automargin": true,
            "type": "pie"
           }
          ],
          "scatter": [
           {
            "marker": {
             "colorbar": {
              "outlinewidth": 0,
              "ticks": ""
             }
            },
            "type": "scatter"
           }
          ],
          "scatter3d": [
           {
            "line": {
             "colorbar": {
              "outlinewidth": 0,
              "ticks": ""
             }
            },
            "marker": {
             "colorbar": {
              "outlinewidth": 0,
              "ticks": ""
             }
            },
            "type": "scatter3d"
           }
          ],
          "scattercarpet": [
           {
            "marker": {
             "colorbar": {
              "outlinewidth": 0,
              "ticks": ""
             }
            },
            "type": "scattercarpet"
           }
          ],
          "scattergeo": [
           {
            "marker": {
             "colorbar": {
              "outlinewidth": 0,
              "ticks": ""
             }
            },
            "type": "scattergeo"
           }
          ],
          "scattergl": [
           {
            "marker": {
             "colorbar": {
              "outlinewidth": 0,
              "ticks": ""
             }
            },
            "type": "scattergl"
           }
          ],
          "scattermapbox": [
           {
            "marker": {
             "colorbar": {
              "outlinewidth": 0,
              "ticks": ""
             }
            },
            "type": "scattermapbox"
           }
          ],
          "scatterpolar": [
           {
            "marker": {
             "colorbar": {
              "outlinewidth": 0,
              "ticks": ""
             }
            },
            "type": "scatterpolar"
           }
          ],
          "scatterpolargl": [
           {
            "marker": {
             "colorbar": {
              "outlinewidth": 0,
              "ticks": ""
             }
            },
            "type": "scatterpolargl"
           }
          ],
          "scatterternary": [
           {
            "marker": {
             "colorbar": {
              "outlinewidth": 0,
              "ticks": ""
             }
            },
            "type": "scatterternary"
           }
          ],
          "surface": [
           {
            "colorbar": {
             "outlinewidth": 0,
             "ticks": ""
            },
            "colorscale": [
             [
              0,
              "#0d0887"
             ],
             [
              0.1111111111111111,
              "#46039f"
             ],
             [
              0.2222222222222222,
              "#7201a8"
             ],
             [
              0.3333333333333333,
              "#9c179e"
             ],
             [
              0.4444444444444444,
              "#bd3786"
             ],
             [
              0.5555555555555556,
              "#d8576b"
             ],
             [
              0.6666666666666666,
              "#ed7953"
             ],
             [
              0.7777777777777778,
              "#fb9f3a"
             ],
             [
              0.8888888888888888,
              "#fdca26"
             ],
             [
              1,
              "#f0f921"
             ]
            ],
            "type": "surface"
           }
          ],
          "table": [
           {
            "cells": {
             "fill": {
              "color": "#EBF0F8"
             },
             "line": {
              "color": "white"
             }
            },
            "header": {
             "fill": {
              "color": "#C8D4E3"
             },
             "line": {
              "color": "white"
             }
            },
            "type": "table"
           }
          ]
         },
         "layout": {
          "annotationdefaults": {
           "arrowcolor": "#2a3f5f",
           "arrowhead": 0,
           "arrowwidth": 1
          },
          "autotypenumbers": "strict",
          "coloraxis": {
           "colorbar": {
            "outlinewidth": 0,
            "ticks": ""
           }
          },
          "colorscale": {
           "diverging": [
            [
             0,
             "#8e0152"
            ],
            [
             0.1,
             "#c51b7d"
            ],
            [
             0.2,
             "#de77ae"
            ],
            [
             0.3,
             "#f1b6da"
            ],
            [
             0.4,
             "#fde0ef"
            ],
            [
             0.5,
             "#f7f7f7"
            ],
            [
             0.6,
             "#e6f5d0"
            ],
            [
             0.7,
             "#b8e186"
            ],
            [
             0.8,
             "#7fbc41"
            ],
            [
             0.9,
             "#4d9221"
            ],
            [
             1,
             "#276419"
            ]
           ],
           "sequential": [
            [
             0,
             "#0d0887"
            ],
            [
             0.1111111111111111,
             "#46039f"
            ],
            [
             0.2222222222222222,
             "#7201a8"
            ],
            [
             0.3333333333333333,
             "#9c179e"
            ],
            [
             0.4444444444444444,
             "#bd3786"
            ],
            [
             0.5555555555555556,
             "#d8576b"
            ],
            [
             0.6666666666666666,
             "#ed7953"
            ],
            [
             0.7777777777777778,
             "#fb9f3a"
            ],
            [
             0.8888888888888888,
             "#fdca26"
            ],
            [
             1,
             "#f0f921"
            ]
           ],
           "sequentialminus": [
            [
             0,
             "#0d0887"
            ],
            [
             0.1111111111111111,
             "#46039f"
            ],
            [
             0.2222222222222222,
             "#7201a8"
            ],
            [
             0.3333333333333333,
             "#9c179e"
            ],
            [
             0.4444444444444444,
             "#bd3786"
            ],
            [
             0.5555555555555556,
             "#d8576b"
            ],
            [
             0.6666666666666666,
             "#ed7953"
            ],
            [
             0.7777777777777778,
             "#fb9f3a"
            ],
            [
             0.8888888888888888,
             "#fdca26"
            ],
            [
             1,
             "#f0f921"
            ]
           ]
          },
          "colorway": [
           "#636efa",
           "#EF553B",
           "#00cc96",
           "#ab63fa",
           "#FFA15A",
           "#19d3f3",
           "#FF6692",
           "#B6E880",
           "#FF97FF",
           "#FECB52"
          ],
          "font": {
           "color": "#2a3f5f"
          },
          "geo": {
           "bgcolor": "white",
           "lakecolor": "white",
           "landcolor": "#E5ECF6",
           "showlakes": true,
           "showland": true,
           "subunitcolor": "white"
          },
          "hoverlabel": {
           "align": "left"
          },
          "hovermode": "closest",
          "mapbox": {
           "style": "light"
          },
          "paper_bgcolor": "white",
          "plot_bgcolor": "#E5ECF6",
          "polar": {
           "angularaxis": {
            "gridcolor": "white",
            "linecolor": "white",
            "ticks": ""
           },
           "bgcolor": "#E5ECF6",
           "radialaxis": {
            "gridcolor": "white",
            "linecolor": "white",
            "ticks": ""
           }
          },
          "scene": {
           "xaxis": {
            "backgroundcolor": "#E5ECF6",
            "gridcolor": "white",
            "gridwidth": 2,
            "linecolor": "white",
            "showbackground": true,
            "ticks": "",
            "zerolinecolor": "white"
           },
           "yaxis": {
            "backgroundcolor": "#E5ECF6",
            "gridcolor": "white",
            "gridwidth": 2,
            "linecolor": "white",
            "showbackground": true,
            "ticks": "",
            "zerolinecolor": "white"
           },
           "zaxis": {
            "backgroundcolor": "#E5ECF6",
            "gridcolor": "white",
            "gridwidth": 2,
            "linecolor": "white",
            "showbackground": true,
            "ticks": "",
            "zerolinecolor": "white"
           }
          },
          "shapedefaults": {
           "line": {
            "color": "#2a3f5f"
           }
          },
          "ternary": {
           "aaxis": {
            "gridcolor": "white",
            "linecolor": "white",
            "ticks": ""
           },
           "baxis": {
            "gridcolor": "white",
            "linecolor": "white",
            "ticks": ""
           },
           "bgcolor": "#E5ECF6",
           "caxis": {
            "gridcolor": "white",
            "linecolor": "white",
            "ticks": ""
           }
          },
          "title": {
           "x": 0.05
          },
          "xaxis": {
           "automargin": true,
           "gridcolor": "white",
           "linecolor": "white",
           "ticks": "",
           "title": {
            "standoff": 15
           },
           "zerolinecolor": "white",
           "zerolinewidth": 2
          },
          "yaxis": {
           "automargin": true,
           "gridcolor": "white",
           "linecolor": "white",
           "ticks": "",
           "title": {
            "standoff": 15
           },
           "zerolinecolor": "white",
           "zerolinewidth": 2
          }
         }
        },
        "title": {
         "text": "Airports with longest delays"
        }
       }
      },
      "text/html": [
       "<div>                            <div id=\"2d1acd6c-b36e-498f-8274-c694b2123349\" class=\"plotly-graph-div\" style=\"height:525px; width:100%;\"></div>            <script type=\"text/javascript\">                require([\"plotly\"], function(Plotly) {                    window.PLOTLYENV=window.PLOTLYENV || {};                                    if (document.getElementById(\"2d1acd6c-b36e-498f-8274-c694b2123349\")) {                    Plotly.newPlot(                        \"2d1acd6c-b36e-498f-8274-c694b2123349\",                        [{\"lat\": [33.64044444, 41.979595, 32.89595056, 35.21401111, 39.85840806, 33.94253611, 33.43416667, 29.98047222, 40.77724306, 37.61900194, 36.08036111, 44.88054694, 42.21205889, 28.42888889, 38.85208333, 42.3643475, 40.69249722, 40.63975111, 47.44898194, 40.78838778, 39.87195278, 26.07258333, 39.17540167, 25.79325, 32.73355611, 27.97547222, 41.7859825, 36.12447667, 32.84711389, 38.74768694, 38.94453194, 30.19453278, 29.64541861, 37.36186194, 35.87763889, 29.99338889, 45.58872222, 39.29760528, 37.72129083, 26.53616667, 40.49146583, 39.71732917, 41.41089417, 38.69542167, 21.31869111, 39.04614278, 39.99798528, 33.67565861, 29.53369444, 30.49405556, 26.68316194, 42.94722222, 41.93887417, 34.20061917, 18.43941667, 20.89864972, 41.30251861, 37.50516667, 35.04241667, 42.94052472, 36.89461111, 35.39308833, 32.89864639, 38.17438889, 32.11608333, 35.04022222, 34.056, 39.49857611, 43.56444444, 42.88081972, 33.56294306, 35.81248722, 41.72399917, 33.82921556, 41.53493306, 36.19837222, 31.80666667, 61.17432028, 32.12758333, 36.09774694, 34.89566722, 19.73876583, 33.81772222, 43.11886611, 43.11118694, 21.97598306, 36.28186944, 43.13985778, 34.72939611, 39.90237583, 42.74811944, 36.77619444, 41.06695778, 30.47330556, 39.22316, 47.61985556, 28.77764, 37.64995889, 38.03697222, 35.03526833, 31.94252778, 34.6404475, 38.80580556, 41.88458833, 43.64616667, 27.39533333, 44.47300361, 35.43619444, 37.24432611, 33.67975, 33.93884, 32.31116667, 27.91076333, 42.93451639, 30.53316083, 43.58135111, 45.77690139, 41.70895361, 24.55611111, 40.97846583, 33.66363889, 30.48325, 40.91631194, 26.92019444, 40.19349528, 34.27061111, 32.446627500000005, 34.42621194, 46.91934889, 30.39652778, 40.7952425, 38.13863889, 19.72026306, 39.64256778, 27.77036083, 43.60732417, 26.17583333, 30.69141667, 35.2193725, 30.20527972, 41.44852639, 35.23705806, 44.25740806, 29.69005556, 40.65236278, 40.66424333, 33.369955, 44.48507333, 18.33730556, 26.22850611, 30.40728028, 38.37315083, 64.8136775, 36.5869825, 38.03799139, 46.77411111, 58.35496194, 42.37422778, 37.09058333, 43.90882639, 44.123259999999995, 39.1224125, 32.30064417, 39.45758333, 29.17991667, 45.8076625, 42.7787, 42.96550333, 31.32737167, 44.25406722, 40.48118028, 34.82916444, 31.06489778, 44.04532139, 41.33814944, 34.99147222, 37.15151667, 32.51086556, 40.47798556, 44.80744444, 28.10275, 37.32546833, 43.53291472, 38.50886722, 25.90683333, 44.77761917, 48.79275, 46.91630556, 40.03925, 40.27669111, 27.54373861, 46.84209028, 44.74144472, 43.50484139, 38.81809306, 35.43359806, 18.49486111, 30.58858944, 35.07297222, 41.58680556, 36.47521417, 55.35556861, 47.949255, 35.33659028, 38.50897694, 32.41132, 30.126097499999997, 48.31140472, 43.87937972, 48.25937778, 43.51455556, 42.234875, 40.85097222, 39.14096722, 46.26468028, 42.48180389, 39.84395194, 31.35775, 41.50409361, 32.65658333, 47.48200194, 40.97811528, 37.13189556, 35.13845472, 35.61677778, 31.61128833, 31.32133917, 32.35413889, 46.60681806, 42.40260333, 37.06083333, 33.30155556, 34.56771444, 38.84494167, 46.353639, 40.96747222, 40.50898361, 40.851206, 32.51633333, 40.275940000000006, 42.91130556, 42.26733944, 32.33313333, 37.62404861, 33.98879611, 42.40295944, 32.224384, 57.04713806, 30.7825, 33.45370806, 31.535515000000004, 33.45033444, 31.25902778, 46.92971944, 70.19475583, 41.26389889, 17.70188889, 43.10725861, 37.22531694, 29.95083333, 38.7914825, 42.08202139, 38.28908722, 42.49102778, 45.5709275, 38.54517861, 13.48345, 60.77977639, 39.29663889, 42.20848278, 46.37449806, 42.90835556, 32.38486111, 42.19536389, 47.50942417, 41.5942175, 43.16948806, 36.16025194, 37.92751556, 66.88467694, 56.80165194, 71.2854475, 45.44905556, 45.63119306, 64.51220222, 43.99192222, 34.65447222, 47.16841722, 37.15181361, 56.48432583, 44.86525722, 31.46714944, 29.37181222, 18.00830278, 48.17793861, 60.49183389, 59.50336056, 44.34889806, 37.89426694, 42.55708139, 46.25075194, 32.68752778, 40.82492611, 45.95479528, 45.81835417, 38.26384333, 39.81375917, 39.94262417, 37.32668528, 37.85830556, 57.74996778, 48.11424528, 48.56618722, 38.75495611, 45.72266972, 47.38659917, 46.39785806, 37.70097028, 45.078067499999996, 41.87402778, 41.31205, 40.72702778, 37.04420944, 40.21919444, 40.44090167, 41.12621194, 43.07795889, 44.52019417, 38.53396333, 38.36666667, 14.996110999999999, 42.15991361, 41.155722499999996, 43.41713889, 45.54532417, 44.68185361, 34.89924833, 39.70794444, 37.74011111, 14.33102278, 51.87796389, 41.19594417, 47.90762861], \"lon\": [-84.42694444, -87.90446417, -97.0372, -80.94312583, -104.6670019, -118.40807439999999, -112.00805559999999, -95.33972222, -73.87260917, -122.3748433, -115.15233329999998, -93.2169225, -83.34883583, -81.31602778, -77.03772222, -71.00517917, -74.16866056, -73.77892556, -122.30931310000001, -111.9777731, -75.24114083, -80.15275, -76.66819833, -80.29055556, -117.1896567, -82.53325, -87.75242444, -86.67818222, -96.85177222, -90.35998972, -77.45580972, -97.66987194, -95.27888889, -121.92900890000001, -78.78747222, -90.25802778, -122.5975, -94.71390556, -122.22071670000001, -81.75516667, -80.23287083, -86.29438417, -81.84939667, -121.5907669, -157.92240719999998, -84.6621725, -82.89188278, -117.86822250000002, -98.46977778, -81.68786111, -80.09559417, -87.89658333, -72.68322833, -118.3584969, -66.00183333, -156.43045780000003, -95.89417306, -77.31966667, -89.97666667, -78.73216667, -76.20122222, -97.60073389, -80.04050583, -85.736, -110.94102779999999, -106.6091944, -117.60119440000001, -119.76806470000001, -116.22277779999999, -85.52276778, -86.75354972, -83.99285583, -71.42822111, -116.5062531, -93.66068222, -95.88824167, -106.37780559999999, -149.9961856, -81.20213889, -79.9372975, -82.21885833, -156.0456314, -118.1516111, -77.67238389, -76.10631056, -159.3389581, -94.30681111, -89.33751361, -92.22424556, -84.219375, -73.80297861, -119.7181389, -73.70757444, -87.18744444, -106.868845, -117.5338425, -81.23748944, -97.43304583, -84.60538889, -85.20378778, -102.20191390000001, -86.77310944, -104.70025, -91.71087222, -70.30875, -82.55411111, -73.1503125, -82.54180556, -93.38685806, -78.92833333, -81.11953944, -90.07588889, -82.68743944, -71.43705583, -91.14963444, -96.74170028, -111.15300719999999, -86.31847417, -81.75955556, -85.19514639, -101.8227778, -86.5254, -81.44246556, -81.99052778, -76.76340361, -77.90255556, -93.82559833, -119.8403733, -96.81498889, -84.35033333, -73.10021194, -78.45286111, -155.04847030000002, -106.91769529999999, -97.50121528, -110.7377389, -98.23861111, -88.24283333, -101.7059272, -91.987655, -90.50753917, -120.64239309999999, -88.51947556, -82.27177778, -75.44040167, -89.69330556, -81.96449611, -88.12959000000001, -64.97336111, -97.65439389, -89.07009278, -81.59318972, -147.8596694, -121.84294779999999, -87.53062667, -100.74672220000001, -134.57627639999998, -122.8734978, -113.59305559999999, -92.49798722, -123.21868559999999, -108.5267347, -86.39397611, -74.57716667, -81.05805556, -108.54286110000001, -84.58735806, -83.74345639, -92.54855611, -121.1499633, -107.21765970000001, -77.61213778, -97.82779778, -103.0573708, -75.72426750000001, -78.88, -107.75376920000001, -92.03768778, -88.91595278, -68.82813889, -80.64580556, -79.97542833, -84.07964722, -107.89383329999998, -97.42586111, -89.66677944, -122.53752779999999, -114.09055559999999, -88.27805556, -74.81346833, -99.46154361, -92.19364861, -85.582235, -114.29659029999999, -92.21962917, -119.05676809999999, -67.12944444, -96.36382417, -77.04294444, -83.80783333, -82.40742056, -131.71374, -97.17611111, -94.36744111, -122.8128803, -99.68189722, -93.22340361, -114.25506940000001, -91.25653778, -101.2803339, -112.07016670000002, -85.55205749999999, -96.75925, -96.67083278, -119.11902920000001, -114.4877356, -89.67761861, -100.4963056, -74.10483833, -114.60597220000001, -111.37068529999999, -124.1086189, -76.4929875, -111.67121829999999, -106.08813889999999, -97.23051917, -85.44962889, -95.40238611, -111.9827503, -96.38436694, -88.77375, -104.5305556, -98.41663667, -99.27403361, -87.395361, -98.30861111, -122.2934019, -77.84630200000001, -84.93886111, -79.40479722, -112.59586110000001, -71.87570944, -88.75120556, -118.8377722, -98.49189333, -90.70916722, -80.697629, -135.3615983, -83.27672222, -93.99101999999999, -84.19447333, -88.59136861, -81.46630556, -98.67819528, -148.4651608, -72.8871, -64.79855556, -78.94538139, -89.57075167, -94.02069444, -97.65060333, -80.17621556, -104.4965722, -76.45844444, -84.796715, -89.83518444, -144.7959825, -161.8379975, -80.22808333, -75.97961361, -117.01539440000002, -106.46446609999998, -94.71171, -89.09721111, -94.93372333, -109.0651928, -86.23822306, -97.08577028, -100.7244147, -162.5985497, -132.9452781, -156.76600190000002, -98.42183333, -89.46745361, -165.4452458, -76.02173861, -112.41958329999999, -88.48906083, -94.49826833, -132.3698242, -91.48507194, -89.33705778, -100.9232339, -66.56301194, -103.6423467, -145.4776503, -139.6602261, -105.5393614, -121.2386203, -92.40034361, -84.47238528, -103.2170278, -115.79169640000002, -112.49746, -88.1145425, -78.89643806, -82.92786472, -91.19445611, -79.20043056, -80.39947222, -152.4938553, -98.90877833, -93.40306667, -109.7548439, -87.09373139, -92.83899333, -94.13722750000001, -113.098575, -83.56028583, -103.59563890000001, -105.67498640000001, -99.00677778, -100.9598611, -111.7233611, -109.5099203, -100.6836542, -70.82327333, -109.02379609999998, -106.9331817, -82.55802778, 145.621384, -76.89144333, -104.81183809999999, -124.2460278, -94.05833667, -75.46549917, -120.4575825, -77.7295, -87.16683333, -170.71052580000003, -176.6460306, -112.012175, -122.2815892], \"marker\": {\"cmax\": 101.68036529680367, \"cmin\": 0, \"color\": [9.283872781736978, 29.889992747376056, 20.04091930754231, 11.818852340763184, 19.370646719767205, 13.168526570977795, 12.154268962990106, 14.172923461244887, 22.227746471849603, 29.5436597152234, 15.094061483579898, 16.49694585075941, 14.372334213818991, 16.69540149458423, 15.792916666666667, 25.702189824994733, 25.829125467985026, 13.037215668382974, 13.463865825307208, 10.433753885536662, 8.591755068141493, 17.96123519129928, 12.180569229392285, 15.802778141790068, 11.031225351459193, 13.998383756755393, 24.515469204033963, 15.579782881457641, 12.348677036101707, 16.763434579439252, 16.000197005516153, 10.121139028475712, 13.654783841247342, 7.968620443173695, 15.353125222214322, 10.618437162405474, 7.972864541542052, 11.787740667976424, 12.520819285232635, 15.313416484072143, 11.388133391078386, 12.406516814776097, 14.852210674652104, 7.884438955539872, 3.1615417929839755, 16.921123960968558, 13.381370014771047, 8.928294968425341, 4.929930346189833, 10.317803453845196, 19.771701619325725, 18.39393521709166, 8.252744078567302, 15.599939795304033, 19.97585788035226, 7.2602090819993474, 16.745044429254957, 15.194667131404671, 11.054789740010472, 15.948998178506374, 14.288028802880287, 16.507906976744184, 7.128896538535093, 16.330433101314767, 13.376573088092933, 10.312758010615292, 10.816641964852849, 21.448160535117054, 8.173932188463231, 23.439397450753194, 12.894648829431436, 10.170212765957444, 10.095652173913043, 20.446032528339078, 19.786128625472887, 8.49664596273292, 6.690464048954616, -5.504246284501061, 15.069285324604476, 8.549363507779349, 9.302620213072274, -1.5217765042979945, 7.103607503607504, 18.37147239263804, 16.347961406784936, 1.4018691588785046, 15.11229946524064, 25.90657894736842, 10.609536082474227, 10.700752393980848, 13.132538569424966, 19.853262786596122, 25.548179059180576, 12.769402985074628, 66.65186426476751, 13.446107784431137, 8.184351145038168, 14.735714285714286, 21.935339021104628, 11.66209419295839, 8.20808174640037, 6.462658525129169, 27.4361549497848, 28.13247011952191, 9.896501457725947, 18.455762792922044, 34.57801418439716, 18.87826541274817, 22.63976483164083, 2.6834645669291337, 5.533509234828496, 10.368364611260054, -5.9556277056277045, 8.557876905702992, 9.20169971671388, 29.04234724742892, 28.97983870967742, 14.762165450121655, 22.46858485026424, 21.51842900302115, 8.107567229518446, 12.805573147561748, 17.61972744970798, 4.9525316455696204, 19.557291666666668, 7.570317563188594, 22.92682926829268, 22.2234823215477, 50.664265129682995, 3.547375596455351, 10.401301518438178, 20.542709867452132, 0.4419101924447612, 68.69086651053864, 3.3363567649281936, 55.08259109311741, 9.629421221864954, 16.647875816993466, 10.724422442244224, 12.437768240343347, 35.4249547920434, 27.713652482269502, 31.598298676748577, 12.81785392245266, 16.50321987120515, 21.0827718960539, 11.963720930232556, 21.201970443349754, 11.108262108262107, 4.944284341978866, 16.351724137931033, 32.74628344895937, -13.73873873873874, 17.229473684210525, 7.473347547974414, 29.52877307274701, -0.2539325842696629, 44.699551569506724, 14.19042437431991, 46.03410475030451, 35.610328638497656, 3.5777525539160044, 20.987414187643022, -4.377011494252874, 5.445246690734057, 4.010012515644556, 28.640479360852197, 15.269692923898532, 8.390967741935484, 62.14583333333334, 37.73342354533153, 1.936254980079681, 17.234270414993308, 47.676753782668506, 8.892757660167131, 19.728629579375852, 16.731743666169894, 8.388639760837071, 30.342229199372053, 17.736593059936908, -0.5369230769230771, 16.8256, 7.020618556701031, 20.77574750830565, 10.135506003430534, 15.786096256684491, 0.935483870967742, -0.7262103505843072, 35.38086642599278, 21.67747440273037, 7.00513698630137, 34.80633147113594, 28.685658153241647, 9.513994910941477, 34.701960784313734, 20.448339483394832, 21.153564899451553, 5.824626865671643, 0.8988549618320609, 23.543388429752067, 9.390291262135925, -3.5, 32.17043121149897, 2.261569416498994, 3.7448132780082983, 12.3305954825462, -2.4131355932203387, 3.4737945492662474, 21.575471698113212, 32.412280701754376, 3.7090909090909085, 30.582524271844658, 27.163507109004737, 13.697201017811706, 25.058080808080806, 26.684079601990053, 20.265957446808514, -5.518041237113402, 38.25205479452055, 0.21600000000000003, 39.00550964187328, 62.96716417910448, -0.9410112359550562, 13.50920245398773, 39.488023952095816, -1.90990990990991, 14.207100591715975, 13.658536585365852, 8.240853658536585, 46.73063973063972, 34.59139784946237, 13.157728706624606, 11.458193979933109, 45.820788530465954, 49.63537906137184, 21.067857142857143, 38.53488372093023, 29.806083650190114, 9.187725631768952, 1.1132075471698113, -3.651851851851852, 30.660231660231663, 77.86590038314176, 93.26530612244898, 9.684, 16.582959641255606, 16.705645161290324, -14.262096774193546, 9.146825396825397, -1.669322709163347, 6.622489959839357, -2.7096774193548385, 2.6666666666666665, 101.68036529680367, -20.726086956521737, 15.625, -5.575630252100839, 13.17094017094017, 37.55140186915888, 12.013215859030836, 72.97619047619048, 8.960352422907489, -5.084905660377358, 56.530232558139545, 69.87692307692308, 24.92592592592593, -7.768472906403941, -2.453608247422681, 51.548387096774185, 62.03664921465968, -12.570707070707073, -9.456410256410255, 6.719387755102041, 17.489247311827956, 25.51136363636364, 15.339080459770114, 15.183544303797467, -1.4464285714285714, 13.371951219512196, -2.888888888888889, -0.6369047619047619, -19.761627906976745, 33.35294117647059, 50.32558139534883, -15.422360248447205, 28.12244897959184, 2.9710982658959537, 35.99346405228758, 32.52601156069364, 6.705202312138728, 33.85093167701864, 24.36, 5.804469273743018, 11.293785310734465, 43.38636363636363, -14.790697674418604, -21.134146341463413, 42.41916167664671, 32.958333333333336, 20.328859060402685, 51.49677419354839, -2.748466257668712, 7.037037037037037, 19.856287425149702, 54.42207792207793, 36.2, 23.180722891566266, 42.412213740458014, -8.294117647058824, 52.074074074074076, -12.144736842105265, 66.76428571428572, 6.190789473684211, 26.079136690647477, 43.85507246376812, 8.473333333333333, 23.02054794520548, 16.428571428571427, 65.23880597014926, 3.8285714285714287, 23.95833333333333, 11.55944055944056, 0.7588652482269503, 22.58169934640523, 38.07086614173228, 16.82638888888889, -3.649253731343284, 5.557377049180328, 31.442622950819672, 21.47826086956522, 0.6956521739130435, 35.82608695652174, 60.22988505747128, 87.9625, 29.564516129032263, 32.38297872340426, 21.511111111111113, 53.806451612903224, 26.592592592592588, 11.851851851851851, 1.9130434782608696, 29.48, -13.25], \"colorbar\": {\"title\": {\"text\": \"Average delay time<br>(minutes)\"}}, \"colorscale\": [[0.0, \"rgb(255,245,240)\"], [0.125, \"rgb(254,224,210)\"], [0.25, \"rgb(252,187,161)\"], [0.375, \"rgb(252,146,114)\"], [0.5, \"rgb(251,106,74)\"], [0.625, \"rgb(239,59,44)\"], [0.75, \"rgb(203,24,29)\"], [0.875, \"rgb(165,15,21)\"], [1.0, \"rgb(103,0,13)\"]], \"size\": 10}, \"mode\": \"markers\", \"text\": [\"William B Hartsfield-Atlanta Intl\", \"Chicago O'Hare International\", \"Dallas-Fort Worth International\", \"Charlotte/Douglas International\", \"Denver Intl\", \"Los Angeles International\", \"Phoenix Sky Harbor International\", \"George Bush Intercontinental\", \"LaGuardia\", \"San Francisco International\", \"McCarran International\", \"Minneapolis-St Paul Intl\", \"Detroit Metropolitan-Wayne County\", \"Orlando International\", \"Ronald Reagan Washington National\", \"Gen Edw L Logan Intl\", \"Newark Intl\", \"John F Kennedy Intl\", \"Seattle-Tacoma Intl\", \"Salt Lake City Intl\", \"Philadelphia Intl\", \"Fort Lauderdale-Hollywood Int'l\", \"Baltimore-Washington International\", \"Miami International\", \"San Diego International-Lindbergh \", \"Tampa International \", \"Chicago Midway\", \"Nashville International\", \"Dallas Love \", \"Lambert-St Louis International\", \"Washington Dulles International\", \"Austin-Bergstrom International\", \"William P Hobby\", \"San Jose International\", \"Raleigh-Durham International\", \"New Orleans International \", \"Portland Intl\", \"Kansas City International\", \"Metropolitan Oakland International\", \"Southwest Florida International\", \"Pittsburgh International\", \"Indianapolis International\", \"Cleveland-Hopkins Intl\", \"Sacramento International\", \"Honolulu International\", \"Cincinnati Northern Kentucky Intl\", \"Port Columbus Intl\", \"John Wayne /Orange Co\", \"San Antonio International\", \"Jacksonville International\", \"Palm Beach International\", \"General Mitchell International\", \"Bradley International\", \"Burbank-Glendale-Pasadena\", \"Luis Munoz Marin International\", \"Kahului\", \"Eppley Airfield\", \"Richmond International\", \"Memphis International\", \"Buffalo Niagara Intl\", \"Norfolk International\", \"Will Rogers World\", \"Charleston AFB/International\", \"Louisville International-Standiford \", \"Tucson International\", \"Albuquerque International\", \"Ontario International\", \"Reno/Tahoe International\", \"Boise Air Terminal\", \"Kent County International\", \"Birmingham International\", \"McGhee-Tyson\", \"Theodore F Green State\", \"Palm Springs International\", \"Des Moines International\", \"Tulsa International\", \"El Paso International\", \"Ted Stevens Anchorage International\", \"Savannah International\", \"Piedmont Triad International\", \"Greenville-Spartanburg\", \"Kona International At Keahole\", \"Long Beach (Daugherty )\", \"Greater Rochester Int'l\", \"Syracuse-Hancock Intl\", \"Lihue\", \"Northwest Arkansas Regional\", \"Dane County Regional\", \"Adams \", \"James M Cox Dayton Intl\", \"Albany Cty\", \"Fresno Yosemite International\", \"Westchester Cty\", \"Pensacola Regional\", \"Aspen-Pitkin Co/Sardy \", \"Spokane Intl\", \"Orlando Sanford\", \"Wichita Mid-Continent\", \"Blue Grass \", \"Lovell \", \"Midland International\", \"Huntsville International \", \"City of Colorado Springs Muni\", \"Eastern Iowa \", \"Portland International Jetport\", \"Sarasota Bradenton International\", \"Burlington International\", \"Asheville Regional\", \"Springfield-Branson Regional\", \"Myrtle Beach International\", \"Columbia Metropolitan\", \"Jackson International\", \"St. Petersburg-Clearwater International\", \"Manchester\", \"Baton Rouge Metropolitan, Ryan \", \"Joe Foss \", \"Gallatin \", \"South Bend Regional\", \"Key West International\", \"Fort Wayne International\", \"Lubbock International\", \"Eglin Air Force Base\", \"Akron-Canton Regional\", \"Charlotte County\", \"Harrisburg Intl\", \"Wilmington International\", \"Shreveport Regional\", \"Santa Barbara Municipal\", \"Hector International\", \"Tallahassee Regional\", \"Long Island - MacArthur\", \"Charlottesville-Albermarle\", \"Hilo International\", \"Eagle County Regional\", \"Corpus Christi International\", \"Jackson Hole\", \"McAllen Miller International\", \"Mobile Regional\", \"Amarillo International\", \"Lafayette Regional\", \"Quad City\", \"San Luis Obispo Co-McChesney \", \"Outagamie County Regional\", \"Gainesville Regional\", \"Lehigh Valley International\", \"Greater Peoria Regional\", \"Bush \", \"Austin Straubel International\", \"Cyril E. King\", \"Valley International\", \"Gulfport-Biloxi Regional\", \"Yeager\", \"Fairbanks International\", \"Monterey Peninsula\", \"Evansville Regional\", \"Bismarck Municipal\", \"Juneau International\", \"Rogue Valley International\", \"St George Muni\", \"Rochester International\", \"Mahlon Sweet \", \"Walker \", \"Montgomery Regional Apt\", \"Atlantic City International\", \"Daytona Beach International\", \"Billings Logan Intl\", \"Capital City\", \"Bishop\", \"Alexandria International\", \"Roberts \", \"Yampa Valley\", \"Albert J Ellis\", \"Robert Gray AAF\", \"Rapid City Regional\", \"Wilkes-Barre/Scranton Intl\", \"Fayetteville Municipal\", \"Durango-La Plata County\", \"Monroe Regional\", \"Central Illinois Regional\", \"Bangor International\", \"Melbourne International \", \"Roanoke Regional/ Woodrum \", \"Mbs International\", \"Montrose Regional\", \"Brownsville/S.Padre Island International\", \"Central Wisconsin\", \"Bellingham Intl\", \"Missoula International\", \"University of Illinois-Willard\", \"Trenton-Mercer County \", \"Laredo International\", \"Duluth International\", \"Cherry Capital\", \"Friedman Memorial\", \"Columbia Regional\", \"Meadows \", \"Rafael Hernandez\", \"Easterwood \", \"Craven County Regional\", \"Toledo Express\", \"Tri-Cities Regional\", \"Ketchikan International\", \"Grand Forks International\", \"Fort Smith Regional\", \"Sonoma Co\", \"Abilene Regional\", \"Lake Charles Regional\", \"Glacier Park Intl\", \"La Crosse Municipal\", \"Minot International\", \"Idaho Falls Regional\", \"Kalamazoo County\", \"Lincoln Municipal\", \"Manhattan Regional\", \"Tri-Cities\", \"Joslin Field - Magic Valley\", \"Capital\", \"San Angelo Regional /Mathis \", \"Stewart\", \"Yuma MCAS-Yuma International\", \"Great Falls Intl\", \"Arcata\", \"Newport News/Williamsburg International\", \"Flagstaff Pulliam\", \"Santa Fe Municipal\", \"Waco Regional\", \"Dothan \", \"Tyler Pounds \", \"Helena Regional\", \"Sioux Gateway \", \"Barkley Regional\", \"Roswell Industrial Air Center\", \"Lawton-Ft Sill Regional\", \"Hays Municipal\", \"Marquette County Airport\", \"Central Nebraska Regional \", \"Redding Municipal\", \"University Park\", \"Columbus Metropolitan\", \"Arnold Palmer Regional\", \"Pocatello Regional\", \"Worcester Regional\", \"Key \", \"Mammoth Yosemite\", \"Sheppard AFB/Wichita Falls Municipal\", \"Dubuque Municipal\", \"Hilton Head\", \"Sitka\", \"Valdosta Regional\", \"Texarkana Regional-Webb \", \"Southwest Georgia Regional\", \"Golden Triangle Regional\", \"Glynco Jetport\", \"Jamestown Municipal\", \"Deadhorse\", \"Tweed-New Haven\", \"Henry E. Rohlsen \", \"Niagara Falls Intl\", \"Cape Girardeau Municipal\", \"Southeast Texas Regional\", \"Salina Municipal\", \"Erie Intl\", \"Pueblo Memorial\", \"Tompkins Cty \", \"Pellston Regional  of Emmet County\", \"Scott AFB/MidAmerica \", \"Guam International\", \"Bethel\", \"Benedum\", \"Binghamton Regional\", \"Lewiston-Nez Perce County\", \"Natrona County Intl\", \"Gregg County\", \"Greater Rockford\", \"Bemidji-Beltrami County\", \"Rock Springs-Sweetwater County\", \"Muskegon County\", \"Stillwater Regional\", \"Garden City Regional\", \"Ralph Wien Memorial\", \"James C. Johnson Petersburg\", \"Wiley Post Will Rogers Memorial\", \"Aberdeen Regional\", \"Rhinelander-Oneida County\", \"Nome\", \"Watertown Intl\", \"Ernest A. Love \", \"Houghton County Memorial\", \"Joplin Regional\", \"Wrangell\", \"Chippewa Valley Regional\", \"Hattiesburg-Laurel Regional\", \"Del Rio International\", \"Mercedita\", \"Sloulin Field International\", \"Merle K (Mudhole) Smith\", \"Yakutat\", \"Gillette-Campbell County\", \"Stockton Metro\", \"Waterloo Municipal\", \"Chippewa County International\", \"Lea County Regional\", \"Elko Regional\", \"Bert Mooney\", \"Ford\", \"Shenandoah Valley Regional\", \"Rickenbacker International \", \"Quincy Municipal-Baldwin \", \"Lynchburg Municipal-Preston Glenn \", \"Greenbrier Valley\", \"Kodiak \", \"Devils Lake Municipal-Knoke \", \"Falls International\", \"Canyonlands \", \"Delta County\", \"Chisholm-Hibbing\", \"Brainerd-Crow Wing County Regional\", \"Cedar City Muni\", \"Alpena County Regional \", \"Scotts Bluff County\", \"Laramie Regional\", \"Kearney Municipal\", \"Liberal Municipal\", \"Provo Muni\", \"Vernal\", \"North Platte Regional \", \"Pease International Tradeport\", \"Yellowstone Regional\", \"Gunnison County\", \"Tri-State/Walker-Long \", \"Tinian International Airport\", \"Elmira/Corning Regional\", \"Cheyenne\", \"North Bend Muni\", \"St Cloud Regional\", \"Ogdensburg Intl\", \"Santa Maria Pub/Capt G Allan Hancock \", \"Hagerstown Regional-Richard Henson \", \"Owensboro-Daviess County\", \"Pago Pago International\", \"Adak\", \"Ogden-Hinckley\", \"Snohomish County \"], \"type\": \"scattergeo\"}],                        {\"geo\": {\"scope\": \"usa\"}, \"template\": {\"data\": {\"bar\": [{\"error_x\": {\"color\": \"#2a3f5f\"}, \"error_y\": {\"color\": \"#2a3f5f\"}, \"marker\": {\"line\": {\"color\": \"#E5ECF6\", \"width\": 0.5}}, \"type\": \"bar\"}], \"barpolar\": [{\"marker\": {\"line\": {\"color\": \"#E5ECF6\", \"width\": 0.5}}, \"type\": \"barpolar\"}], \"carpet\": [{\"aaxis\": {\"endlinecolor\": \"#2a3f5f\", \"gridcolor\": \"white\", \"linecolor\": \"white\", \"minorgridcolor\": \"white\", \"startlinecolor\": \"#2a3f5f\"}, \"baxis\": {\"endlinecolor\": \"#2a3f5f\", \"gridcolor\": \"white\", \"linecolor\": \"white\", \"minorgridcolor\": \"white\", \"startlinecolor\": \"#2a3f5f\"}, \"type\": \"carpet\"}], \"choropleth\": [{\"colorbar\": {\"outlinewidth\": 0, \"ticks\": \"\"}, \"type\": \"choropleth\"}], \"contour\": [{\"colorbar\": {\"outlinewidth\": 0, \"ticks\": \"\"}, \"colorscale\": [[0.0, \"#0d0887\"], [0.1111111111111111, \"#46039f\"], [0.2222222222222222, \"#7201a8\"], [0.3333333333333333, \"#9c179e\"], [0.4444444444444444, \"#bd3786\"], [0.5555555555555556, \"#d8576b\"], [0.6666666666666666, \"#ed7953\"], [0.7777777777777778, \"#fb9f3a\"], [0.8888888888888888, \"#fdca26\"], [1.0, \"#f0f921\"]], \"type\": \"contour\"}], \"contourcarpet\": [{\"colorbar\": {\"outlinewidth\": 0, \"ticks\": \"\"}, \"type\": \"contourcarpet\"}], \"heatmap\": [{\"colorbar\": {\"outlinewidth\": 0, \"ticks\": \"\"}, \"colorscale\": [[0.0, \"#0d0887\"], [0.1111111111111111, \"#46039f\"], [0.2222222222222222, \"#7201a8\"], [0.3333333333333333, \"#9c179e\"], [0.4444444444444444, \"#bd3786\"], [0.5555555555555556, \"#d8576b\"], [0.6666666666666666, \"#ed7953\"], [0.7777777777777778, \"#fb9f3a\"], [0.8888888888888888, \"#fdca26\"], [1.0, \"#f0f921\"]], \"type\": \"heatmap\"}], \"heatmapgl\": [{\"colorbar\": {\"outlinewidth\": 0, \"ticks\": \"\"}, \"colorscale\": [[0.0, \"#0d0887\"], [0.1111111111111111, \"#46039f\"], [0.2222222222222222, \"#7201a8\"], [0.3333333333333333, \"#9c179e\"], [0.4444444444444444, \"#bd3786\"], [0.5555555555555556, \"#d8576b\"], [0.6666666666666666, \"#ed7953\"], [0.7777777777777778, \"#fb9f3a\"], [0.8888888888888888, \"#fdca26\"], [1.0, \"#f0f921\"]], \"type\": \"heatmapgl\"}], \"histogram\": [{\"marker\": {\"colorbar\": {\"outlinewidth\": 0, \"ticks\": \"\"}}, \"type\": \"histogram\"}], \"histogram2d\": [{\"colorbar\": {\"outlinewidth\": 0, \"ticks\": \"\"}, \"colorscale\": [[0.0, \"#0d0887\"], [0.1111111111111111, \"#46039f\"], [0.2222222222222222, \"#7201a8\"], [0.3333333333333333, \"#9c179e\"], [0.4444444444444444, \"#bd3786\"], [0.5555555555555556, \"#d8576b\"], [0.6666666666666666, \"#ed7953\"], [0.7777777777777778, \"#fb9f3a\"], [0.8888888888888888, \"#fdca26\"], [1.0, \"#f0f921\"]], \"type\": \"histogram2d\"}], \"histogram2dcontour\": [{\"colorbar\": {\"outlinewidth\": 0, \"ticks\": \"\"}, \"colorscale\": [[0.0, \"#0d0887\"], [0.1111111111111111, \"#46039f\"], [0.2222222222222222, \"#7201a8\"], [0.3333333333333333, \"#9c179e\"], [0.4444444444444444, \"#bd3786\"], [0.5555555555555556, \"#d8576b\"], [0.6666666666666666, \"#ed7953\"], [0.7777777777777778, \"#fb9f3a\"], [0.8888888888888888, \"#fdca26\"], [1.0, \"#f0f921\"]], \"type\": \"histogram2dcontour\"}], \"mesh3d\": [{\"colorbar\": {\"outlinewidth\": 0, \"ticks\": \"\"}, \"type\": \"mesh3d\"}], \"parcoords\": [{\"line\": {\"colorbar\": {\"outlinewidth\": 0, \"ticks\": \"\"}}, \"type\": \"parcoords\"}], \"pie\": [{\"automargin\": true, \"type\": \"pie\"}], \"scatter\": [{\"marker\": {\"colorbar\": {\"outlinewidth\": 0, \"ticks\": \"\"}}, \"type\": \"scatter\"}], \"scatter3d\": [{\"line\": {\"colorbar\": {\"outlinewidth\": 0, \"ticks\": \"\"}}, \"marker\": {\"colorbar\": {\"outlinewidth\": 0, \"ticks\": \"\"}}, \"type\": \"scatter3d\"}], \"scattercarpet\": [{\"marker\": {\"colorbar\": {\"outlinewidth\": 0, \"ticks\": \"\"}}, \"type\": \"scattercarpet\"}], \"scattergeo\": [{\"marker\": {\"colorbar\": {\"outlinewidth\": 0, \"ticks\": \"\"}}, \"type\": \"scattergeo\"}], \"scattergl\": [{\"marker\": {\"colorbar\": {\"outlinewidth\": 0, \"ticks\": \"\"}}, \"type\": \"scattergl\"}], \"scattermapbox\": [{\"marker\": {\"colorbar\": {\"outlinewidth\": 0, \"ticks\": \"\"}}, \"type\": \"scattermapbox\"}], \"scatterpolar\": [{\"marker\": {\"colorbar\": {\"outlinewidth\": 0, \"ticks\": \"\"}}, \"type\": \"scatterpolar\"}], \"scatterpolargl\": [{\"marker\": {\"colorbar\": {\"outlinewidth\": 0, \"ticks\": \"\"}}, \"type\": \"scatterpolargl\"}], \"scatterternary\": [{\"marker\": {\"colorbar\": {\"outlinewidth\": 0, \"ticks\": \"\"}}, \"type\": \"scatterternary\"}], \"surface\": [{\"colorbar\": {\"outlinewidth\": 0, \"ticks\": \"\"}, \"colorscale\": [[0.0, \"#0d0887\"], [0.1111111111111111, \"#46039f\"], [0.2222222222222222, \"#7201a8\"], [0.3333333333333333, \"#9c179e\"], [0.4444444444444444, \"#bd3786\"], [0.5555555555555556, \"#d8576b\"], [0.6666666666666666, \"#ed7953\"], [0.7777777777777778, \"#fb9f3a\"], [0.8888888888888888, \"#fdca26\"], [1.0, \"#f0f921\"]], \"type\": \"surface\"}], \"table\": [{\"cells\": {\"fill\": {\"color\": \"#EBF0F8\"}, \"line\": {\"color\": \"white\"}}, \"header\": {\"fill\": {\"color\": \"#C8D4E3\"}, \"line\": {\"color\": \"white\"}}, \"type\": \"table\"}]}, \"layout\": {\"annotationdefaults\": {\"arrowcolor\": \"#2a3f5f\", \"arrowhead\": 0, \"arrowwidth\": 1}, \"autotypenumbers\": \"strict\", \"coloraxis\": {\"colorbar\": {\"outlinewidth\": 0, \"ticks\": \"\"}}, \"colorscale\": {\"diverging\": [[0, \"#8e0152\"], [0.1, \"#c51b7d\"], [0.2, \"#de77ae\"], [0.3, \"#f1b6da\"], [0.4, \"#fde0ef\"], [0.5, \"#f7f7f7\"], [0.6, \"#e6f5d0\"], [0.7, \"#b8e186\"], [0.8, \"#7fbc41\"], [0.9, \"#4d9221\"], [1, \"#276419\"]], \"sequential\": [[0.0, \"#0d0887\"], [0.1111111111111111, \"#46039f\"], [0.2222222222222222, \"#7201a8\"], [0.3333333333333333, \"#9c179e\"], [0.4444444444444444, \"#bd3786\"], [0.5555555555555556, \"#d8576b\"], [0.6666666666666666, \"#ed7953\"], [0.7777777777777778, \"#fb9f3a\"], [0.8888888888888888, \"#fdca26\"], [1.0, \"#f0f921\"]], \"sequentialminus\": [[0.0, \"#0d0887\"], [0.1111111111111111, \"#46039f\"], [0.2222222222222222, \"#7201a8\"], [0.3333333333333333, \"#9c179e\"], [0.4444444444444444, \"#bd3786\"], [0.5555555555555556, \"#d8576b\"], [0.6666666666666666, \"#ed7953\"], [0.7777777777777778, \"#fb9f3a\"], [0.8888888888888888, \"#fdca26\"], [1.0, \"#f0f921\"]]}, \"colorway\": [\"#636efa\", \"#EF553B\", \"#00cc96\", \"#ab63fa\", \"#FFA15A\", \"#19d3f3\", \"#FF6692\", \"#B6E880\", \"#FF97FF\", \"#FECB52\"], \"font\": {\"color\": \"#2a3f5f\"}, \"geo\": {\"bgcolor\": \"white\", \"lakecolor\": \"white\", \"landcolor\": \"#E5ECF6\", \"showlakes\": true, \"showland\": true, \"subunitcolor\": \"white\"}, \"hoverlabel\": {\"align\": \"left\"}, \"hovermode\": \"closest\", \"mapbox\": {\"style\": \"light\"}, \"paper_bgcolor\": \"white\", \"plot_bgcolor\": \"#E5ECF6\", \"polar\": {\"angularaxis\": {\"gridcolor\": \"white\", \"linecolor\": \"white\", \"ticks\": \"\"}, \"bgcolor\": \"#E5ECF6\", \"radialaxis\": {\"gridcolor\": \"white\", \"linecolor\": \"white\", \"ticks\": \"\"}}, \"scene\": {\"xaxis\": {\"backgroundcolor\": \"#E5ECF6\", \"gridcolor\": \"white\", \"gridwidth\": 2, \"linecolor\": \"white\", \"showbackground\": true, \"ticks\": \"\", \"zerolinecolor\": \"white\"}, \"yaxis\": {\"backgroundcolor\": \"#E5ECF6\", \"gridcolor\": \"white\", \"gridwidth\": 2, \"linecolor\": \"white\", \"showbackground\": true, \"ticks\": \"\", \"zerolinecolor\": \"white\"}, \"zaxis\": {\"backgroundcolor\": \"#E5ECF6\", \"gridcolor\": \"white\", \"gridwidth\": 2, \"linecolor\": \"white\", \"showbackground\": true, \"ticks\": \"\", \"zerolinecolor\": \"white\"}}, \"shapedefaults\": {\"line\": {\"color\": \"#2a3f5f\"}}, \"ternary\": {\"aaxis\": {\"gridcolor\": \"white\", \"linecolor\": \"white\", \"ticks\": \"\"}, \"baxis\": {\"gridcolor\": \"white\", \"linecolor\": \"white\", \"ticks\": \"\"}, \"bgcolor\": \"#E5ECF6\", \"caxis\": {\"gridcolor\": \"white\", \"linecolor\": \"white\", \"ticks\": \"\"}}, \"title\": {\"x\": 0.05}, \"xaxis\": {\"automargin\": true, \"gridcolor\": \"white\", \"linecolor\": \"white\", \"ticks\": \"\", \"title\": {\"standoff\": 15}, \"zerolinecolor\": \"white\", \"zerolinewidth\": 2}, \"yaxis\": {\"automargin\": true, \"gridcolor\": \"white\", \"linecolor\": \"white\", \"ticks\": \"\", \"title\": {\"standoff\": 15}, \"zerolinecolor\": \"white\", \"zerolinewidth\": 2}}}, \"title\": {\"text\": \"Airports with longest delays\"}},                        {\"responsive\": true}                    ).then(function(){\n",
       "                            \n",
       "var gd = document.getElementById('2d1acd6c-b36e-498f-8274-c694b2123349');\n",
       "var x = new MutationObserver(function (mutations, observer) {{\n",
       "        var display = window.getComputedStyle(gd).display;\n",
       "        if (!display || display === 'none') {{\n",
       "            console.log([gd, 'removed!']);\n",
       "            Plotly.purge(gd);\n",
       "            observer.disconnect();\n",
       "        }}\n",
       "}});\n",
       "\n",
       "// Listen for the removal of the full notebook cells\n",
       "var notebookContainer = gd.closest('#notebook-container');\n",
       "if (notebookContainer) {{\n",
       "    x.observe(notebookContainer, {childList: true});\n",
       "}}\n",
       "\n",
       "// Listen for the clearing of the current output cell\n",
       "var outputEl = gd.closest('.output');\n",
       "if (outputEl) {{\n",
       "    x.observe(outputEl, {childList: true});\n",
       "}}\n",
       "\n",
       "                        })                };                });            </script>        </div>"
      ]
     },
     "metadata": {},
     "output_type": "display_data"
    }
   ],
   "source": [
    "df = pd.read_csv('airportDelay.csv')\n",
    "\n",
    "fig = go.Figure(data=go.Scattergeo(\n",
    "        lon = df['long'],\n",
    "        lat = df['lat'],\n",
    "        text = df['airport'],\n",
    "        mode = 'markers',\n",
    "        marker = dict(\n",
    "            size=10,\n",
    "            colorscale = 'Reds',\n",
    "            cmin = 0,\n",
    "            color = df['avg_delay'],\n",
    "            cmax = df['avg_delay'].max(),\n",
    "            colorbar_title=\"Average delay time<br>(minutes)\"\n",
    "        )\n",
    "        ))\n",
    "fig.update_layout(\n",
    "        title = 'Airports with longest delays',\n",
    "        geo_scope='usa',\n",
    "    )\n",
    "\n",
    "fig.show()"
   ]
  },
  {
   "cell_type": "code",
   "execution_count": 71,
   "metadata": {},
   "outputs": [
    {
     "data": {
      "application/vnd.plotly.v1+json": {
       "config": {
        "plotlyServerURL": "https://plot.ly"
       },
       "data": [
        {
         "lat": [
          33.64044444,
          41.979595,
          32.89595056,
          35.21401111,
          39.85840806,
          33.94253611,
          33.43416667,
          29.98047222,
          40.77724306,
          37.61900194,
          36.08036111,
          44.88054694,
          42.21205889,
          28.42888889,
          38.85208333,
          42.3643475,
          40.69249722,
          40.63975111,
          47.44898194,
          40.78838778,
          39.87195278,
          26.07258333,
          39.17540167,
          25.79325,
          32.73355611,
          27.97547222,
          41.7859825,
          36.12447667,
          32.84711389,
          38.74768694,
          38.94453194,
          30.19453278,
          29.64541861,
          37.36186194,
          35.87763889,
          29.99338889,
          45.58872222,
          39.29760528,
          37.72129083,
          26.53616667,
          40.49146583,
          39.71732917,
          41.41089417,
          38.69542167,
          21.31869111,
          39.04614278,
          39.99798528,
          33.67565861,
          29.53369444,
          30.49405556,
          26.68316194,
          42.94722222,
          41.93887417,
          34.20061917,
          18.43941667,
          20.89864972,
          41.30251861,
          37.50516667,
          35.04241667,
          42.94052472,
          36.89461111,
          35.39308833,
          32.89864639,
          38.17438889,
          32.11608333,
          35.04022222,
          34.056,
          39.49857611,
          43.56444444,
          42.88081972,
          33.56294306,
          35.81248722,
          41.72399917,
          33.82921556,
          41.53493306,
          36.19837222,
          31.80666667,
          61.17432028,
          32.12758333,
          36.09774694,
          34.89566722,
          19.73876583,
          33.81772222,
          43.11886611,
          43.11118694,
          21.97598306,
          36.28186944,
          43.13985778,
          34.72939611,
          39.90237583,
          42.74811944,
          36.77619444,
          41.06695778,
          30.47330556,
          39.22316,
          47.61985556,
          28.77764,
          37.64995889,
          38.03697222,
          35.03526833,
          31.94252778,
          34.6404475,
          38.80580556,
          41.88458833,
          43.64616667,
          27.39533333,
          44.47300361,
          35.43619444,
          37.24432611,
          33.67975,
          33.93884,
          32.31116667,
          27.91076333,
          42.93451639,
          30.53316083,
          43.58135111,
          45.77690139,
          41.70895361,
          24.55611111,
          40.97846583,
          33.66363889,
          30.48325,
          40.91631194,
          26.92019444,
          40.19349528,
          34.27061111,
          32.446627500000005,
          34.42621194,
          46.91934889,
          30.39652778,
          40.7952425,
          38.13863889,
          19.72026306,
          39.64256778,
          27.77036083,
          43.60732417,
          26.17583333,
          30.69141667,
          35.2193725,
          30.20527972,
          41.44852639,
          35.23705806,
          44.25740806,
          29.69005556,
          40.65236278,
          40.66424333,
          33.369955,
          44.48507333,
          18.33730556,
          26.22850611,
          30.40728028,
          38.37315083,
          64.8136775,
          36.5869825,
          38.03799139,
          46.77411111,
          58.35496194,
          42.37422778,
          37.09058333,
          43.90882639,
          44.123259999999995,
          39.1224125,
          32.30064417,
          39.45758333,
          29.17991667,
          45.8076625,
          42.7787,
          42.96550333,
          31.32737167,
          44.25406722,
          40.48118028,
          34.82916444,
          31.06489778,
          44.04532139,
          41.33814944,
          34.99147222,
          37.15151667,
          32.51086556,
          40.47798556,
          44.80744444,
          28.10275,
          37.32546833,
          43.53291472,
          38.50886722,
          25.90683333,
          44.77761917,
          48.79275,
          46.91630556,
          40.03925,
          40.27669111,
          27.54373861,
          46.84209028,
          44.74144472,
          43.50484139,
          38.81809306,
          35.43359806,
          18.49486111,
          30.58858944,
          35.07297222,
          41.58680556,
          36.47521417,
          55.35556861,
          47.949255,
          35.33659028,
          38.50897694,
          32.41132,
          30.126097499999997,
          48.31140472,
          43.87937972,
          48.25937778,
          43.51455556,
          42.234875,
          40.85097222,
          39.14096722,
          46.26468028,
          42.48180389,
          39.84395194,
          31.35775,
          41.50409361,
          32.65658333,
          47.48200194,
          40.97811528,
          37.13189556,
          35.13845472,
          35.61677778,
          31.61128833,
          31.32133917,
          32.35413889,
          46.60681806,
          42.40260333,
          37.06083333,
          33.30155556,
          34.56771444,
          38.84494167,
          46.353639,
          40.96747222,
          40.50898361,
          40.851206,
          32.51633333,
          40.275940000000006,
          42.91130556,
          42.26733944,
          32.33313333,
          37.62404861,
          33.98879611,
          42.40295944,
          32.224384,
          57.04713806,
          30.7825,
          33.45370806,
          31.535515000000004,
          33.45033444,
          31.25902778,
          46.92971944,
          70.19475583,
          41.26389889,
          17.70188889,
          43.10725861,
          37.22531694,
          29.95083333,
          38.7914825,
          42.08202139,
          38.28908722,
          42.49102778,
          45.5709275,
          38.54517861,
          13.48345,
          60.77977639,
          39.29663889,
          42.20848278,
          46.37449806,
          42.90835556,
          32.38486111,
          42.19536389,
          47.50942417,
          41.5942175,
          43.16948806,
          36.16025194,
          37.92751556,
          66.88467694,
          56.80165194,
          71.2854475,
          45.44905556,
          45.63119306,
          64.51220222,
          43.99192222,
          34.65447222,
          47.16841722,
          37.15181361,
          56.48432583,
          44.86525722,
          31.46714944,
          29.37181222,
          18.00830278,
          48.17793861,
          60.49183389,
          59.50336056,
          44.34889806,
          37.89426694,
          42.55708139,
          46.25075194,
          32.68752778,
          40.82492611,
          45.95479528,
          45.81835417,
          38.26384333,
          39.81375917,
          39.94262417,
          37.32668528,
          37.85830556,
          57.74996778,
          48.11424528,
          48.56618722,
          38.75495611,
          45.72266972,
          47.38659917,
          46.39785806,
          37.70097028,
          45.078067499999996,
          41.87402778,
          41.31205,
          40.72702778,
          37.04420944,
          40.21919444,
          40.44090167,
          41.12621194,
          43.07795889,
          44.52019417,
          38.53396333,
          38.36666667,
          14.996110999999999,
          42.15991361,
          41.155722499999996,
          43.41713889,
          45.54532417,
          44.68185361,
          34.89924833,
          39.70794444,
          37.74011111,
          14.33102278,
          51.87796389,
          41.19594417,
          47.90762861
         ],
         "lon": [
          -84.42694444,
          -87.90446417,
          -97.0372,
          -80.94312583,
          -104.6670019,
          -118.40807439999999,
          -112.00805559999999,
          -95.33972222,
          -73.87260917,
          -122.3748433,
          -115.15233329999998,
          -93.2169225,
          -83.34883583,
          -81.31602778,
          -77.03772222,
          -71.00517917,
          -74.16866056,
          -73.77892556,
          -122.30931310000001,
          -111.9777731,
          -75.24114083,
          -80.15275,
          -76.66819833,
          -80.29055556,
          -117.1896567,
          -82.53325,
          -87.75242444,
          -86.67818222,
          -96.85177222,
          -90.35998972,
          -77.45580972,
          -97.66987194,
          -95.27888889,
          -121.92900890000001,
          -78.78747222,
          -90.25802778,
          -122.5975,
          -94.71390556,
          -122.22071670000001,
          -81.75516667,
          -80.23287083,
          -86.29438417,
          -81.84939667,
          -121.5907669,
          -157.92240719999998,
          -84.6621725,
          -82.89188278,
          -117.86822250000002,
          -98.46977778,
          -81.68786111,
          -80.09559417,
          -87.89658333,
          -72.68322833,
          -118.3584969,
          -66.00183333,
          -156.43045780000003,
          -95.89417306,
          -77.31966667,
          -89.97666667,
          -78.73216667,
          -76.20122222,
          -97.60073389,
          -80.04050583,
          -85.736,
          -110.94102779999999,
          -106.6091944,
          -117.60119440000001,
          -119.76806470000001,
          -116.22277779999999,
          -85.52276778,
          -86.75354972,
          -83.99285583,
          -71.42822111,
          -116.5062531,
          -93.66068222,
          -95.88824167,
          -106.37780559999999,
          -149.9961856,
          -81.20213889,
          -79.9372975,
          -82.21885833,
          -156.0456314,
          -118.1516111,
          -77.67238389,
          -76.10631056,
          -159.3389581,
          -94.30681111,
          -89.33751361,
          -92.22424556,
          -84.219375,
          -73.80297861,
          -119.7181389,
          -73.70757444,
          -87.18744444,
          -106.868845,
          -117.5338425,
          -81.23748944,
          -97.43304583,
          -84.60538889,
          -85.20378778,
          -102.20191390000001,
          -86.77310944,
          -104.70025,
          -91.71087222,
          -70.30875,
          -82.55411111,
          -73.1503125,
          -82.54180556,
          -93.38685806,
          -78.92833333,
          -81.11953944,
          -90.07588889,
          -82.68743944,
          -71.43705583,
          -91.14963444,
          -96.74170028,
          -111.15300719999999,
          -86.31847417,
          -81.75955556,
          -85.19514639,
          -101.8227778,
          -86.5254,
          -81.44246556,
          -81.99052778,
          -76.76340361,
          -77.90255556,
          -93.82559833,
          -119.8403733,
          -96.81498889,
          -84.35033333,
          -73.10021194,
          -78.45286111,
          -155.04847030000002,
          -106.91769529999999,
          -97.50121528,
          -110.7377389,
          -98.23861111,
          -88.24283333,
          -101.7059272,
          -91.987655,
          -90.50753917,
          -120.64239309999999,
          -88.51947556,
          -82.27177778,
          -75.44040167,
          -89.69330556,
          -81.96449611,
          -88.12959000000001,
          -64.97336111,
          -97.65439389,
          -89.07009278,
          -81.59318972,
          -147.8596694,
          -121.84294779999999,
          -87.53062667,
          -100.74672220000001,
          -134.57627639999998,
          -122.8734978,
          -113.59305559999999,
          -92.49798722,
          -123.21868559999999,
          -108.5267347,
          -86.39397611,
          -74.57716667,
          -81.05805556,
          -108.54286110000001,
          -84.58735806,
          -83.74345639,
          -92.54855611,
          -121.1499633,
          -107.21765970000001,
          -77.61213778,
          -97.82779778,
          -103.0573708,
          -75.72426750000001,
          -78.88,
          -107.75376920000001,
          -92.03768778,
          -88.91595278,
          -68.82813889,
          -80.64580556,
          -79.97542833,
          -84.07964722,
          -107.89383329999998,
          -97.42586111,
          -89.66677944,
          -122.53752779999999,
          -114.09055559999999,
          -88.27805556,
          -74.81346833,
          -99.46154361,
          -92.19364861,
          -85.582235,
          -114.29659029999999,
          -92.21962917,
          -119.05676809999999,
          -67.12944444,
          -96.36382417,
          -77.04294444,
          -83.80783333,
          -82.40742056,
          -131.71374,
          -97.17611111,
          -94.36744111,
          -122.8128803,
          -99.68189722,
          -93.22340361,
          -114.25506940000001,
          -91.25653778,
          -101.2803339,
          -112.07016670000002,
          -85.55205749999999,
          -96.75925,
          -96.67083278,
          -119.11902920000001,
          -114.4877356,
          -89.67761861,
          -100.4963056,
          -74.10483833,
          -114.60597220000001,
          -111.37068529999999,
          -124.1086189,
          -76.4929875,
          -111.67121829999999,
          -106.08813889999999,
          -97.23051917,
          -85.44962889,
          -95.40238611,
          -111.9827503,
          -96.38436694,
          -88.77375,
          -104.5305556,
          -98.41663667,
          -99.27403361,
          -87.395361,
          -98.30861111,
          -122.2934019,
          -77.84630200000001,
          -84.93886111,
          -79.40479722,
          -112.59586110000001,
          -71.87570944,
          -88.75120556,
          -118.8377722,
          -98.49189333,
          -90.70916722,
          -80.697629,
          -135.3615983,
          -83.27672222,
          -93.99101999999999,
          -84.19447333,
          -88.59136861,
          -81.46630556,
          -98.67819528,
          -148.4651608,
          -72.8871,
          -64.79855556,
          -78.94538139,
          -89.57075167,
          -94.02069444,
          -97.65060333,
          -80.17621556,
          -104.4965722,
          -76.45844444,
          -84.796715,
          -89.83518444,
          -144.7959825,
          -161.8379975,
          -80.22808333,
          -75.97961361,
          -117.01539440000002,
          -106.46446609999998,
          -94.71171,
          -89.09721111,
          -94.93372333,
          -109.0651928,
          -86.23822306,
          -97.08577028,
          -100.7244147,
          -162.5985497,
          -132.9452781,
          -156.76600190000002,
          -98.42183333,
          -89.46745361,
          -165.4452458,
          -76.02173861,
          -112.41958329999999,
          -88.48906083,
          -94.49826833,
          -132.3698242,
          -91.48507194,
          -89.33705778,
          -100.9232339,
          -66.56301194,
          -103.6423467,
          -145.4776503,
          -139.6602261,
          -105.5393614,
          -121.2386203,
          -92.40034361,
          -84.47238528,
          -103.2170278,
          -115.79169640000002,
          -112.49746,
          -88.1145425,
          -78.89643806,
          -82.92786472,
          -91.19445611,
          -79.20043056,
          -80.39947222,
          -152.4938553,
          -98.90877833,
          -93.40306667,
          -109.7548439,
          -87.09373139,
          -92.83899333,
          -94.13722750000001,
          -113.098575,
          -83.56028583,
          -103.59563890000001,
          -105.67498640000001,
          -99.00677778,
          -100.9598611,
          -111.7233611,
          -109.5099203,
          -100.6836542,
          -70.82327333,
          -109.02379609999998,
          -106.9331817,
          -82.55802778,
          145.621384,
          -76.89144333,
          -104.81183809999999,
          -124.2460278,
          -94.05833667,
          -75.46549917,
          -120.4575825,
          -77.7295,
          -87.16683333,
          -170.71052580000003,
          -176.6460306,
          -112.012175,
          -122.2815892
         ],
         "marker": {
          "cmax": 93418,
          "cmin": 0,
          "color": [
           93418,
           77734,
           68664,
           56310,
           55523,
           53095,
           44604,
           43806,
           41619,
           40364,
           38986,
           37116,
           36810,
           36332,
           35030,
           34663,
           32103,
           31355,
           30769,
           27698,
           27163,
           26116,
           23365,
           23173,
           22124,
           20182,
           19200,
           18833,
           18132,
           16078,
           15591,
           15181,
           14665,
           14389,
           14335,
           14097,
           13921,
           13178,
           12260,
           12083,
           11873,
           11856,
           11767,
           11600,
           11580,
           11323,
           11150,
           9990,
           9806,
           8198,
           7668,
           7620,
           7173,
           7031,
           6642,
           6151,
           6083,
           5897,
           5851,
           5826,
           5744,
           5546,
           5329,
           5281,
           5273,
           5202,
           4839,
           4618,
           4610,
           4534,
           4279,
           4215,
           4186,
           4182,
           4111,
           4102,
           3981,
           3848,
           3740,
           3622,
           3539,
           3512,
           3490,
           3447,
           3369,
           3327,
           3257,
           3176,
           3163,
           3042,
           3008,
           2888,
           2764,
           2736,
           2735,
           2718,
           2641,
           2472,
           2304,
           2253,
           2203,
           2177,
           2170,
           2155,
           2134,
           2121,
           2069,
           1965,
           1933,
           1926,
           1913,
           1905,
           1864,
           1861,
           1797,
           1768,
           1761,
           1722,
           1719,
           1711,
           1651,
           1610,
           1603,
           1593,
           1582,
           1579,
           1565,
           1553,
           1488,
           1483,
           1417,
           1416,
           1405,
           1369,
           1363,
           1285,
           1262,
           1254,
           1249,
           1189,
           1178,
           1175,
           1120,
           1119,
           1117,
           1096,
           1086,
           1078,
           1066,
           1056,
           1055,
           1050,
           1015,
           980,
           964,
           952,
           938,
           936,
           929,
           917,
           902,
           887,
           881,
           870,
           834,
           807,
           796,
           788,
           782,
           777,
           763,
           760,
           758,
           753,
           751,
           746,
           713,
           677,
           674,
           667,
           655,
           637,
           617,
           609,
           606,
           605,
           601,
           601,
           596,
           592,
           589,
           566,
           559,
           558,
           555,
           552,
           551,
           548,
           534,
           521,
           519,
           514,
           509,
           506,
           497,
           490,
           485,
           484,
           467,
           465,
           443,
           442,
           433,
           420,
           410,
           403,
           402,
           393,
           377,
           375,
           368,
           365,
           356,
           349,
           346,
           341,
           340,
           335,
           330,
           326,
           325,
           324,
           313,
           307,
           298,
           292,
           291,
           281,
           279,
           277,
           270,
           270,
           270,
           268,
           262,
           258,
           257,
           255,
           253,
           252,
           250,
           249,
           248,
           244,
           244,
           242,
           240,
           239,
           238,
           233,
           230,
           230,
           229,
           218,
           218,
           217,
           207,
           204,
           201,
           200,
           199,
           198,
           197,
           189,
           180,
           180,
           180,
           180,
           180,
           180,
           180,
           180,
           180,
           180,
           180,
           180,
           180,
           180,
           180,
           180,
           180,
           180,
           179,
           179,
           179,
           178,
           178,
           171,
           169,
           168,
           167,
           167,
           167,
           167,
           167,
           167,
           166,
           158,
           157,
           154,
           154,
           154,
           154,
           154,
           154,
           154,
           154,
           154,
           154,
           153,
           153,
           153,
           153,
           153,
           153,
           153,
           136,
           126,
           123,
           116,
           116,
           93,
           90,
           90,
           68,
           50,
           45,
           31,
           27,
           27,
           26,
           25,
           4
          ],
          "colorbar": {
           "title": {
            "text": "Number of flights"
           }
          },
          "colorscale": [
           [
            0,
            "rgb(255,245,240)"
           ],
           [
            0.125,
            "rgb(254,224,210)"
           ],
           [
            0.25,
            "rgb(252,187,161)"
           ],
           [
            0.375,
            "rgb(252,146,114)"
           ],
           [
            0.5,
            "rgb(251,106,74)"
           ],
           [
            0.625,
            "rgb(239,59,44)"
           ],
           [
            0.75,
            "rgb(203,24,29)"
           ],
           [
            0.875,
            "rgb(165,15,21)"
           ],
           [
            1,
            "rgb(103,0,13)"
           ]
          ],
          "size": 10
         },
         "mode": "markers",
         "text": [
          "William B Hartsfield-Atlanta Intl",
          "Chicago O'Hare International",
          "Dallas-Fort Worth International",
          "Charlotte/Douglas International",
          "Denver Intl",
          "Los Angeles International",
          "Phoenix Sky Harbor International",
          "George Bush Intercontinental",
          "LaGuardia",
          "San Francisco International",
          "McCarran International",
          "Minneapolis-St Paul Intl",
          "Detroit Metropolitan-Wayne County",
          "Orlando International",
          "Ronald Reagan Washington National",
          "Gen Edw L Logan Intl",
          "Newark Intl",
          "John F Kennedy Intl",
          "Seattle-Tacoma Intl",
          "Salt Lake City Intl",
          "Philadelphia Intl",
          "Fort Lauderdale-Hollywood Int'l",
          "Baltimore-Washington International",
          "Miami International",
          "San Diego International-Lindbergh ",
          "Tampa International ",
          "Chicago Midway",
          "Nashville International",
          "Dallas Love ",
          "Lambert-St Louis International",
          "Washington Dulles International",
          "Austin-Bergstrom International",
          "William P Hobby",
          "San Jose International",
          "Raleigh-Durham International",
          "New Orleans International ",
          "Portland Intl",
          "Kansas City International",
          "Metropolitan Oakland International",
          "Southwest Florida International",
          "Pittsburgh International",
          "Indianapolis International",
          "Cleveland-Hopkins Intl",
          "Sacramento International",
          "Honolulu International",
          "Cincinnati Northern Kentucky Intl",
          "Port Columbus Intl",
          "John Wayne /Orange Co",
          "San Antonio International",
          "Jacksonville International",
          "Palm Beach International",
          "General Mitchell International",
          "Bradley International",
          "Burbank-Glendale-Pasadena",
          "Luis Munoz Marin International",
          "Kahului",
          "Eppley Airfield",
          "Richmond International",
          "Memphis International",
          "Buffalo Niagara Intl",
          "Norfolk International",
          "Will Rogers World",
          "Charleston AFB/International",
          "Louisville International-Standiford ",
          "Tucson International",
          "Albuquerque International",
          "Ontario International",
          "Reno/Tahoe International",
          "Boise Air Terminal",
          "Kent County International",
          "Birmingham International",
          "McGhee-Tyson",
          "Theodore F Green State",
          "Palm Springs International",
          "Des Moines International",
          "Tulsa International",
          "El Paso International",
          "Ted Stevens Anchorage International",
          "Savannah International",
          "Piedmont Triad International",
          "Greenville-Spartanburg",
          "Kona International At Keahole",
          "Long Beach (Daugherty )",
          "Greater Rochester Int'l",
          "Syracuse-Hancock Intl",
          "Lihue",
          "Northwest Arkansas Regional",
          "Dane County Regional",
          "Adams ",
          "James M Cox Dayton Intl",
          "Albany Cty",
          "Fresno Yosemite International",
          "Westchester Cty",
          "Pensacola Regional",
          "Aspen-Pitkin Co/Sardy ",
          "Spokane Intl",
          "Orlando Sanford",
          "Wichita Mid-Continent",
          "Blue Grass ",
          "Lovell ",
          "Midland International",
          "Huntsville International ",
          "City of Colorado Springs Muni",
          "Eastern Iowa ",
          "Portland International Jetport",
          "Sarasota Bradenton International",
          "Burlington International",
          "Asheville Regional",
          "Springfield-Branson Regional",
          "Myrtle Beach International",
          "Columbia Metropolitan",
          "Jackson International",
          "St. Petersburg-Clearwater International",
          "Manchester",
          "Baton Rouge Metropolitan, Ryan ",
          "Joe Foss ",
          "Gallatin ",
          "South Bend Regional",
          "Key West International",
          "Fort Wayne International",
          "Lubbock International",
          "Eglin Air Force Base",
          "Akron-Canton Regional",
          "Charlotte County",
          "Harrisburg Intl",
          "Wilmington International",
          "Shreveport Regional",
          "Santa Barbara Municipal",
          "Hector International",
          "Tallahassee Regional",
          "Long Island - MacArthur",
          "Charlottesville-Albermarle",
          "Hilo International",
          "Eagle County Regional",
          "Corpus Christi International",
          "Jackson Hole",
          "McAllen Miller International",
          "Mobile Regional",
          "Amarillo International",
          "Lafayette Regional",
          "Quad City",
          "San Luis Obispo Co-McChesney ",
          "Outagamie County Regional",
          "Gainesville Regional",
          "Lehigh Valley International",
          "Greater Peoria Regional",
          "Bush ",
          "Austin Straubel International",
          "Cyril E. King",
          "Valley International",
          "Gulfport-Biloxi Regional",
          "Yeager",
          "Fairbanks International",
          "Monterey Peninsula",
          "Evansville Regional",
          "Bismarck Municipal",
          "Juneau International",
          "Rogue Valley International",
          "St George Muni",
          "Rochester International",
          "Mahlon Sweet ",
          "Walker ",
          "Montgomery Regional Apt",
          "Atlantic City International",
          "Daytona Beach International",
          "Billings Logan Intl",
          "Capital City",
          "Bishop",
          "Alexandria International",
          "Roberts ",
          "Yampa Valley",
          "Albert J Ellis",
          "Robert Gray AAF",
          "Rapid City Regional",
          "Wilkes-Barre/Scranton Intl",
          "Fayetteville Municipal",
          "Durango-La Plata County",
          "Monroe Regional",
          "Central Illinois Regional",
          "Bangor International",
          "Melbourne International ",
          "Roanoke Regional/ Woodrum ",
          "Mbs International",
          "Montrose Regional",
          "Brownsville/S.Padre Island International",
          "Central Wisconsin",
          "Bellingham Intl",
          "Missoula International",
          "University of Illinois-Willard",
          "Trenton-Mercer County ",
          "Laredo International",
          "Duluth International",
          "Cherry Capital",
          "Friedman Memorial",
          "Columbia Regional",
          "Meadows ",
          "Rafael Hernandez",
          "Easterwood ",
          "Craven County Regional",
          "Toledo Express",
          "Tri-Cities Regional",
          "Ketchikan International",
          "Grand Forks International",
          "Fort Smith Regional",
          "Sonoma Co",
          "Abilene Regional",
          "Lake Charles Regional",
          "Glacier Park Intl",
          "La Crosse Municipal",
          "Minot International",
          "Idaho Falls Regional",
          "Kalamazoo County",
          "Lincoln Municipal",
          "Manhattan Regional",
          "Tri-Cities",
          "Joslin Field - Magic Valley",
          "Capital",
          "San Angelo Regional /Mathis ",
          "Stewart",
          "Yuma MCAS-Yuma International",
          "Great Falls Intl",
          "Arcata",
          "Newport News/Williamsburg International",
          "Flagstaff Pulliam",
          "Santa Fe Municipal",
          "Waco Regional",
          "Dothan ",
          "Tyler Pounds ",
          "Helena Regional",
          "Sioux Gateway ",
          "Barkley Regional",
          "Roswell Industrial Air Center",
          "Lawton-Ft Sill Regional",
          "Hays Municipal",
          "Marquette County Airport",
          "Central Nebraska Regional ",
          "Redding Municipal",
          "University Park",
          "Columbus Metropolitan",
          "Arnold Palmer Regional",
          "Pocatello Regional",
          "Worcester Regional",
          "Key ",
          "Mammoth Yosemite",
          "Sheppard AFB/Wichita Falls Municipal",
          "Dubuque Municipal",
          "Hilton Head",
          "Sitka",
          "Valdosta Regional",
          "Texarkana Regional-Webb ",
          "Southwest Georgia Regional",
          "Golden Triangle Regional",
          "Glynco Jetport",
          "Jamestown Municipal",
          "Deadhorse",
          "Tweed-New Haven",
          "Henry E. Rohlsen ",
          "Niagara Falls Intl",
          "Cape Girardeau Municipal",
          "Southeast Texas Regional",
          "Salina Municipal",
          "Erie Intl",
          "Pueblo Memorial",
          "Tompkins Cty ",
          "Pellston Regional  of Emmet County",
          "Scott AFB/MidAmerica ",
          "Guam International",
          "Bethel",
          "Benedum",
          "Binghamton Regional",
          "Lewiston-Nez Perce County",
          "Natrona County Intl",
          "Gregg County",
          "Greater Rockford",
          "Bemidji-Beltrami County",
          "Rock Springs-Sweetwater County",
          "Muskegon County",
          "Stillwater Regional",
          "Garden City Regional",
          "Ralph Wien Memorial",
          "James C. Johnson Petersburg",
          "Wiley Post Will Rogers Memorial",
          "Aberdeen Regional",
          "Rhinelander-Oneida County",
          "Nome",
          "Watertown Intl",
          "Ernest A. Love ",
          "Houghton County Memorial",
          "Joplin Regional",
          "Wrangell",
          "Chippewa Valley Regional",
          "Hattiesburg-Laurel Regional",
          "Del Rio International",
          "Mercedita",
          "Sloulin Field International",
          "Merle K (Mudhole) Smith",
          "Yakutat",
          "Gillette-Campbell County",
          "Stockton Metro",
          "Waterloo Municipal",
          "Chippewa County International",
          "Lea County Regional",
          "Elko Regional",
          "Bert Mooney",
          "Ford",
          "Shenandoah Valley Regional",
          "Rickenbacker International ",
          "Quincy Municipal-Baldwin ",
          "Lynchburg Municipal-Preston Glenn ",
          "Greenbrier Valley",
          "Kodiak ",
          "Devils Lake Municipal-Knoke ",
          "Falls International",
          "Canyonlands ",
          "Delta County",
          "Chisholm-Hibbing",
          "Brainerd-Crow Wing County Regional",
          "Cedar City Muni",
          "Alpena County Regional ",
          "Scotts Bluff County",
          "Laramie Regional",
          "Kearney Municipal",
          "Liberal Municipal",
          "Provo Muni",
          "Vernal",
          "North Platte Regional ",
          "Pease International Tradeport",
          "Yellowstone Regional",
          "Gunnison County",
          "Tri-State/Walker-Long ",
          "Tinian International Airport",
          "Elmira/Corning Regional",
          "Cheyenne",
          "North Bend Muni",
          "St Cloud Regional",
          "Ogdensburg Intl",
          "Santa Maria Pub/Capt G Allan Hancock ",
          "Hagerstown Regional-Richard Henson ",
          "Owensboro-Daviess County",
          "Pago Pago International",
          "Adak",
          "Ogden-Hinckley",
          "Snohomish County "
         ],
         "type": "scattergeo"
        }
       ],
       "layout": {
        "geo": {
         "scope": "usa"
        },
        "template": {
         "data": {
          "bar": [
           {
            "error_x": {
             "color": "#2a3f5f"
            },
            "error_y": {
             "color": "#2a3f5f"
            },
            "marker": {
             "line": {
              "color": "#E5ECF6",
              "width": 0.5
             }
            },
            "type": "bar"
           }
          ],
          "barpolar": [
           {
            "marker": {
             "line": {
              "color": "#E5ECF6",
              "width": 0.5
             }
            },
            "type": "barpolar"
           }
          ],
          "carpet": [
           {
            "aaxis": {
             "endlinecolor": "#2a3f5f",
             "gridcolor": "white",
             "linecolor": "white",
             "minorgridcolor": "white",
             "startlinecolor": "#2a3f5f"
            },
            "baxis": {
             "endlinecolor": "#2a3f5f",
             "gridcolor": "white",
             "linecolor": "white",
             "minorgridcolor": "white",
             "startlinecolor": "#2a3f5f"
            },
            "type": "carpet"
           }
          ],
          "choropleth": [
           {
            "colorbar": {
             "outlinewidth": 0,
             "ticks": ""
            },
            "type": "choropleth"
           }
          ],
          "contour": [
           {
            "colorbar": {
             "outlinewidth": 0,
             "ticks": ""
            },
            "colorscale": [
             [
              0,
              "#0d0887"
             ],
             [
              0.1111111111111111,
              "#46039f"
             ],
             [
              0.2222222222222222,
              "#7201a8"
             ],
             [
              0.3333333333333333,
              "#9c179e"
             ],
             [
              0.4444444444444444,
              "#bd3786"
             ],
             [
              0.5555555555555556,
              "#d8576b"
             ],
             [
              0.6666666666666666,
              "#ed7953"
             ],
             [
              0.7777777777777778,
              "#fb9f3a"
             ],
             [
              0.8888888888888888,
              "#fdca26"
             ],
             [
              1,
              "#f0f921"
             ]
            ],
            "type": "contour"
           }
          ],
          "contourcarpet": [
           {
            "colorbar": {
             "outlinewidth": 0,
             "ticks": ""
            },
            "type": "contourcarpet"
           }
          ],
          "heatmap": [
           {
            "colorbar": {
             "outlinewidth": 0,
             "ticks": ""
            },
            "colorscale": [
             [
              0,
              "#0d0887"
             ],
             [
              0.1111111111111111,
              "#46039f"
             ],
             [
              0.2222222222222222,
              "#7201a8"
             ],
             [
              0.3333333333333333,
              "#9c179e"
             ],
             [
              0.4444444444444444,
              "#bd3786"
             ],
             [
              0.5555555555555556,
              "#d8576b"
             ],
             [
              0.6666666666666666,
              "#ed7953"
             ],
             [
              0.7777777777777778,
              "#fb9f3a"
             ],
             [
              0.8888888888888888,
              "#fdca26"
             ],
             [
              1,
              "#f0f921"
             ]
            ],
            "type": "heatmap"
           }
          ],
          "heatmapgl": [
           {
            "colorbar": {
             "outlinewidth": 0,
             "ticks": ""
            },
            "colorscale": [
             [
              0,
              "#0d0887"
             ],
             [
              0.1111111111111111,
              "#46039f"
             ],
             [
              0.2222222222222222,
              "#7201a8"
             ],
             [
              0.3333333333333333,
              "#9c179e"
             ],
             [
              0.4444444444444444,
              "#bd3786"
             ],
             [
              0.5555555555555556,
              "#d8576b"
             ],
             [
              0.6666666666666666,
              "#ed7953"
             ],
             [
              0.7777777777777778,
              "#fb9f3a"
             ],
             [
              0.8888888888888888,
              "#fdca26"
             ],
             [
              1,
              "#f0f921"
             ]
            ],
            "type": "heatmapgl"
           }
          ],
          "histogram": [
           {
            "marker": {
             "colorbar": {
              "outlinewidth": 0,
              "ticks": ""
             }
            },
            "type": "histogram"
           }
          ],
          "histogram2d": [
           {
            "colorbar": {
             "outlinewidth": 0,
             "ticks": ""
            },
            "colorscale": [
             [
              0,
              "#0d0887"
             ],
             [
              0.1111111111111111,
              "#46039f"
             ],
             [
              0.2222222222222222,
              "#7201a8"
             ],
             [
              0.3333333333333333,
              "#9c179e"
             ],
             [
              0.4444444444444444,
              "#bd3786"
             ],
             [
              0.5555555555555556,
              "#d8576b"
             ],
             [
              0.6666666666666666,
              "#ed7953"
             ],
             [
              0.7777777777777778,
              "#fb9f3a"
             ],
             [
              0.8888888888888888,
              "#fdca26"
             ],
             [
              1,
              "#f0f921"
             ]
            ],
            "type": "histogram2d"
           }
          ],
          "histogram2dcontour": [
           {
            "colorbar": {
             "outlinewidth": 0,
             "ticks": ""
            },
            "colorscale": [
             [
              0,
              "#0d0887"
             ],
             [
              0.1111111111111111,
              "#46039f"
             ],
             [
              0.2222222222222222,
              "#7201a8"
             ],
             [
              0.3333333333333333,
              "#9c179e"
             ],
             [
              0.4444444444444444,
              "#bd3786"
             ],
             [
              0.5555555555555556,
              "#d8576b"
             ],
             [
              0.6666666666666666,
              "#ed7953"
             ],
             [
              0.7777777777777778,
              "#fb9f3a"
             ],
             [
              0.8888888888888888,
              "#fdca26"
             ],
             [
              1,
              "#f0f921"
             ]
            ],
            "type": "histogram2dcontour"
           }
          ],
          "mesh3d": [
           {
            "colorbar": {
             "outlinewidth": 0,
             "ticks": ""
            },
            "type": "mesh3d"
           }
          ],
          "parcoords": [
           {
            "line": {
             "colorbar": {
              "outlinewidth": 0,
              "ticks": ""
             }
            },
            "type": "parcoords"
           }
          ],
          "pie": [
           {
            "automargin": true,
            "type": "pie"
           }
          ],
          "scatter": [
           {
            "marker": {
             "colorbar": {
              "outlinewidth": 0,
              "ticks": ""
             }
            },
            "type": "scatter"
           }
          ],
          "scatter3d": [
           {
            "line": {
             "colorbar": {
              "outlinewidth": 0,
              "ticks": ""
             }
            },
            "marker": {
             "colorbar": {
              "outlinewidth": 0,
              "ticks": ""
             }
            },
            "type": "scatter3d"
           }
          ],
          "scattercarpet": [
           {
            "marker": {
             "colorbar": {
              "outlinewidth": 0,
              "ticks": ""
             }
            },
            "type": "scattercarpet"
           }
          ],
          "scattergeo": [
           {
            "marker": {
             "colorbar": {
              "outlinewidth": 0,
              "ticks": ""
             }
            },
            "type": "scattergeo"
           }
          ],
          "scattergl": [
           {
            "marker": {
             "colorbar": {
              "outlinewidth": 0,
              "ticks": ""
             }
            },
            "type": "scattergl"
           }
          ],
          "scattermapbox": [
           {
            "marker": {
             "colorbar": {
              "outlinewidth": 0,
              "ticks": ""
             }
            },
            "type": "scattermapbox"
           }
          ],
          "scatterpolar": [
           {
            "marker": {
             "colorbar": {
              "outlinewidth": 0,
              "ticks": ""
             }
            },
            "type": "scatterpolar"
           }
          ],
          "scatterpolargl": [
           {
            "marker": {
             "colorbar": {
              "outlinewidth": 0,
              "ticks": ""
             }
            },
            "type": "scatterpolargl"
           }
          ],
          "scatterternary": [
           {
            "marker": {
             "colorbar": {
              "outlinewidth": 0,
              "ticks": ""
             }
            },
            "type": "scatterternary"
           }
          ],
          "surface": [
           {
            "colorbar": {
             "outlinewidth": 0,
             "ticks": ""
            },
            "colorscale": [
             [
              0,
              "#0d0887"
             ],
             [
              0.1111111111111111,
              "#46039f"
             ],
             [
              0.2222222222222222,
              "#7201a8"
             ],
             [
              0.3333333333333333,
              "#9c179e"
             ],
             [
              0.4444444444444444,
              "#bd3786"
             ],
             [
              0.5555555555555556,
              "#d8576b"
             ],
             [
              0.6666666666666666,
              "#ed7953"
             ],
             [
              0.7777777777777778,
              "#fb9f3a"
             ],
             [
              0.8888888888888888,
              "#fdca26"
             ],
             [
              1,
              "#f0f921"
             ]
            ],
            "type": "surface"
           }
          ],
          "table": [
           {
            "cells": {
             "fill": {
              "color": "#EBF0F8"
             },
             "line": {
              "color": "white"
             }
            },
            "header": {
             "fill": {
              "color": "#C8D4E3"
             },
             "line": {
              "color": "white"
             }
            },
            "type": "table"
           }
          ]
         },
         "layout": {
          "annotationdefaults": {
           "arrowcolor": "#2a3f5f",
           "arrowhead": 0,
           "arrowwidth": 1
          },
          "autotypenumbers": "strict",
          "coloraxis": {
           "colorbar": {
            "outlinewidth": 0,
            "ticks": ""
           }
          },
          "colorscale": {
           "diverging": [
            [
             0,
             "#8e0152"
            ],
            [
             0.1,
             "#c51b7d"
            ],
            [
             0.2,
             "#de77ae"
            ],
            [
             0.3,
             "#f1b6da"
            ],
            [
             0.4,
             "#fde0ef"
            ],
            [
             0.5,
             "#f7f7f7"
            ],
            [
             0.6,
             "#e6f5d0"
            ],
            [
             0.7,
             "#b8e186"
            ],
            [
             0.8,
             "#7fbc41"
            ],
            [
             0.9,
             "#4d9221"
            ],
            [
             1,
             "#276419"
            ]
           ],
           "sequential": [
            [
             0,
             "#0d0887"
            ],
            [
             0.1111111111111111,
             "#46039f"
            ],
            [
             0.2222222222222222,
             "#7201a8"
            ],
            [
             0.3333333333333333,
             "#9c179e"
            ],
            [
             0.4444444444444444,
             "#bd3786"
            ],
            [
             0.5555555555555556,
             "#d8576b"
            ],
            [
             0.6666666666666666,
             "#ed7953"
            ],
            [
             0.7777777777777778,
             "#fb9f3a"
            ],
            [
             0.8888888888888888,
             "#fdca26"
            ],
            [
             1,
             "#f0f921"
            ]
           ],
           "sequentialminus": [
            [
             0,
             "#0d0887"
            ],
            [
             0.1111111111111111,
             "#46039f"
            ],
            [
             0.2222222222222222,
             "#7201a8"
            ],
            [
             0.3333333333333333,
             "#9c179e"
            ],
            [
             0.4444444444444444,
             "#bd3786"
            ],
            [
             0.5555555555555556,
             "#d8576b"
            ],
            [
             0.6666666666666666,
             "#ed7953"
            ],
            [
             0.7777777777777778,
             "#fb9f3a"
            ],
            [
             0.8888888888888888,
             "#fdca26"
            ],
            [
             1,
             "#f0f921"
            ]
           ]
          },
          "colorway": [
           "#636efa",
           "#EF553B",
           "#00cc96",
           "#ab63fa",
           "#FFA15A",
           "#19d3f3",
           "#FF6692",
           "#B6E880",
           "#FF97FF",
           "#FECB52"
          ],
          "font": {
           "color": "#2a3f5f"
          },
          "geo": {
           "bgcolor": "white",
           "lakecolor": "white",
           "landcolor": "#E5ECF6",
           "showlakes": true,
           "showland": true,
           "subunitcolor": "white"
          },
          "hoverlabel": {
           "align": "left"
          },
          "hovermode": "closest",
          "mapbox": {
           "style": "light"
          },
          "paper_bgcolor": "white",
          "plot_bgcolor": "#E5ECF6",
          "polar": {
           "angularaxis": {
            "gridcolor": "white",
            "linecolor": "white",
            "ticks": ""
           },
           "bgcolor": "#E5ECF6",
           "radialaxis": {
            "gridcolor": "white",
            "linecolor": "white",
            "ticks": ""
           }
          },
          "scene": {
           "xaxis": {
            "backgroundcolor": "#E5ECF6",
            "gridcolor": "white",
            "gridwidth": 2,
            "linecolor": "white",
            "showbackground": true,
            "ticks": "",
            "zerolinecolor": "white"
           },
           "yaxis": {
            "backgroundcolor": "#E5ECF6",
            "gridcolor": "white",
            "gridwidth": 2,
            "linecolor": "white",
            "showbackground": true,
            "ticks": "",
            "zerolinecolor": "white"
           },
           "zaxis": {
            "backgroundcolor": "#E5ECF6",
            "gridcolor": "white",
            "gridwidth": 2,
            "linecolor": "white",
            "showbackground": true,
            "ticks": "",
            "zerolinecolor": "white"
           }
          },
          "shapedefaults": {
           "line": {
            "color": "#2a3f5f"
           }
          },
          "ternary": {
           "aaxis": {
            "gridcolor": "white",
            "linecolor": "white",
            "ticks": ""
           },
           "baxis": {
            "gridcolor": "white",
            "linecolor": "white",
            "ticks": ""
           },
           "bgcolor": "#E5ECF6",
           "caxis": {
            "gridcolor": "white",
            "linecolor": "white",
            "ticks": ""
           }
          },
          "title": {
           "x": 0.05
          },
          "xaxis": {
           "automargin": true,
           "gridcolor": "white",
           "linecolor": "white",
           "ticks": "",
           "title": {
            "standoff": 15
           },
           "zerolinecolor": "white",
           "zerolinewidth": 2
          },
          "yaxis": {
           "automargin": true,
           "gridcolor": "white",
           "linecolor": "white",
           "ticks": "",
           "title": {
            "standoff": 15
           },
           "zerolinecolor": "white",
           "zerolinewidth": 2
          }
         }
        },
        "title": {
         "text": "Airports with most flights"
        }
       }
      },
      "text/html": [
       "<div>                            <div id=\"f06f0212-cf17-4565-bd58-766192a82fa6\" class=\"plotly-graph-div\" style=\"height:525px; width:100%;\"></div>            <script type=\"text/javascript\">                require([\"plotly\"], function(Plotly) {                    window.PLOTLYENV=window.PLOTLYENV || {};                                    if (document.getElementById(\"f06f0212-cf17-4565-bd58-766192a82fa6\")) {                    Plotly.newPlot(                        \"f06f0212-cf17-4565-bd58-766192a82fa6\",                        [{\"lat\": [33.64044444, 41.979595, 32.89595056, 35.21401111, 39.85840806, 33.94253611, 33.43416667, 29.98047222, 40.77724306, 37.61900194, 36.08036111, 44.88054694, 42.21205889, 28.42888889, 38.85208333, 42.3643475, 40.69249722, 40.63975111, 47.44898194, 40.78838778, 39.87195278, 26.07258333, 39.17540167, 25.79325, 32.73355611, 27.97547222, 41.7859825, 36.12447667, 32.84711389, 38.74768694, 38.94453194, 30.19453278, 29.64541861, 37.36186194, 35.87763889, 29.99338889, 45.58872222, 39.29760528, 37.72129083, 26.53616667, 40.49146583, 39.71732917, 41.41089417, 38.69542167, 21.31869111, 39.04614278, 39.99798528, 33.67565861, 29.53369444, 30.49405556, 26.68316194, 42.94722222, 41.93887417, 34.20061917, 18.43941667, 20.89864972, 41.30251861, 37.50516667, 35.04241667, 42.94052472, 36.89461111, 35.39308833, 32.89864639, 38.17438889, 32.11608333, 35.04022222, 34.056, 39.49857611, 43.56444444, 42.88081972, 33.56294306, 35.81248722, 41.72399917, 33.82921556, 41.53493306, 36.19837222, 31.80666667, 61.17432028, 32.12758333, 36.09774694, 34.89566722, 19.73876583, 33.81772222, 43.11886611, 43.11118694, 21.97598306, 36.28186944, 43.13985778, 34.72939611, 39.90237583, 42.74811944, 36.77619444, 41.06695778, 30.47330556, 39.22316, 47.61985556, 28.77764, 37.64995889, 38.03697222, 35.03526833, 31.94252778, 34.6404475, 38.80580556, 41.88458833, 43.64616667, 27.39533333, 44.47300361, 35.43619444, 37.24432611, 33.67975, 33.93884, 32.31116667, 27.91076333, 42.93451639, 30.53316083, 43.58135111, 45.77690139, 41.70895361, 24.55611111, 40.97846583, 33.66363889, 30.48325, 40.91631194, 26.92019444, 40.19349528, 34.27061111, 32.446627500000005, 34.42621194, 46.91934889, 30.39652778, 40.7952425, 38.13863889, 19.72026306, 39.64256778, 27.77036083, 43.60732417, 26.17583333, 30.69141667, 35.2193725, 30.20527972, 41.44852639, 35.23705806, 44.25740806, 29.69005556, 40.65236278, 40.66424333, 33.369955, 44.48507333, 18.33730556, 26.22850611, 30.40728028, 38.37315083, 64.8136775, 36.5869825, 38.03799139, 46.77411111, 58.35496194, 42.37422778, 37.09058333, 43.90882639, 44.123259999999995, 39.1224125, 32.30064417, 39.45758333, 29.17991667, 45.8076625, 42.7787, 42.96550333, 31.32737167, 44.25406722, 40.48118028, 34.82916444, 31.06489778, 44.04532139, 41.33814944, 34.99147222, 37.15151667, 32.51086556, 40.47798556, 44.80744444, 28.10275, 37.32546833, 43.53291472, 38.50886722, 25.90683333, 44.77761917, 48.79275, 46.91630556, 40.03925, 40.27669111, 27.54373861, 46.84209028, 44.74144472, 43.50484139, 38.81809306, 35.43359806, 18.49486111, 30.58858944, 35.07297222, 41.58680556, 36.47521417, 55.35556861, 47.949255, 35.33659028, 38.50897694, 32.41132, 30.126097499999997, 48.31140472, 43.87937972, 48.25937778, 43.51455556, 42.234875, 40.85097222, 39.14096722, 46.26468028, 42.48180389, 39.84395194, 31.35775, 41.50409361, 32.65658333, 47.48200194, 40.97811528, 37.13189556, 35.13845472, 35.61677778, 31.61128833, 31.32133917, 32.35413889, 46.60681806, 42.40260333, 37.06083333, 33.30155556, 34.56771444, 38.84494167, 46.353639, 40.96747222, 40.50898361, 40.851206, 32.51633333, 40.275940000000006, 42.91130556, 42.26733944, 32.33313333, 37.62404861, 33.98879611, 42.40295944, 32.224384, 57.04713806, 30.7825, 33.45370806, 31.535515000000004, 33.45033444, 31.25902778, 46.92971944, 70.19475583, 41.26389889, 17.70188889, 43.10725861, 37.22531694, 29.95083333, 38.7914825, 42.08202139, 38.28908722, 42.49102778, 45.5709275, 38.54517861, 13.48345, 60.77977639, 39.29663889, 42.20848278, 46.37449806, 42.90835556, 32.38486111, 42.19536389, 47.50942417, 41.5942175, 43.16948806, 36.16025194, 37.92751556, 66.88467694, 56.80165194, 71.2854475, 45.44905556, 45.63119306, 64.51220222, 43.99192222, 34.65447222, 47.16841722, 37.15181361, 56.48432583, 44.86525722, 31.46714944, 29.37181222, 18.00830278, 48.17793861, 60.49183389, 59.50336056, 44.34889806, 37.89426694, 42.55708139, 46.25075194, 32.68752778, 40.82492611, 45.95479528, 45.81835417, 38.26384333, 39.81375917, 39.94262417, 37.32668528, 37.85830556, 57.74996778, 48.11424528, 48.56618722, 38.75495611, 45.72266972, 47.38659917, 46.39785806, 37.70097028, 45.078067499999996, 41.87402778, 41.31205, 40.72702778, 37.04420944, 40.21919444, 40.44090167, 41.12621194, 43.07795889, 44.52019417, 38.53396333, 38.36666667, 14.996110999999999, 42.15991361, 41.155722499999996, 43.41713889, 45.54532417, 44.68185361, 34.89924833, 39.70794444, 37.74011111, 14.33102278, 51.87796389, 41.19594417, 47.90762861], \"lon\": [-84.42694444, -87.90446417, -97.0372, -80.94312583, -104.6670019, -118.40807439999999, -112.00805559999999, -95.33972222, -73.87260917, -122.3748433, -115.15233329999998, -93.2169225, -83.34883583, -81.31602778, -77.03772222, -71.00517917, -74.16866056, -73.77892556, -122.30931310000001, -111.9777731, -75.24114083, -80.15275, -76.66819833, -80.29055556, -117.1896567, -82.53325, -87.75242444, -86.67818222, -96.85177222, -90.35998972, -77.45580972, -97.66987194, -95.27888889, -121.92900890000001, -78.78747222, -90.25802778, -122.5975, -94.71390556, -122.22071670000001, -81.75516667, -80.23287083, -86.29438417, -81.84939667, -121.5907669, -157.92240719999998, -84.6621725, -82.89188278, -117.86822250000002, -98.46977778, -81.68786111, -80.09559417, -87.89658333, -72.68322833, -118.3584969, -66.00183333, -156.43045780000003, -95.89417306, -77.31966667, -89.97666667, -78.73216667, -76.20122222, -97.60073389, -80.04050583, -85.736, -110.94102779999999, -106.6091944, -117.60119440000001, -119.76806470000001, -116.22277779999999, -85.52276778, -86.75354972, -83.99285583, -71.42822111, -116.5062531, -93.66068222, -95.88824167, -106.37780559999999, -149.9961856, -81.20213889, -79.9372975, -82.21885833, -156.0456314, -118.1516111, -77.67238389, -76.10631056, -159.3389581, -94.30681111, -89.33751361, -92.22424556, -84.219375, -73.80297861, -119.7181389, -73.70757444, -87.18744444, -106.868845, -117.5338425, -81.23748944, -97.43304583, -84.60538889, -85.20378778, -102.20191390000001, -86.77310944, -104.70025, -91.71087222, -70.30875, -82.55411111, -73.1503125, -82.54180556, -93.38685806, -78.92833333, -81.11953944, -90.07588889, -82.68743944, -71.43705583, -91.14963444, -96.74170028, -111.15300719999999, -86.31847417, -81.75955556, -85.19514639, -101.8227778, -86.5254, -81.44246556, -81.99052778, -76.76340361, -77.90255556, -93.82559833, -119.8403733, -96.81498889, -84.35033333, -73.10021194, -78.45286111, -155.04847030000002, -106.91769529999999, -97.50121528, -110.7377389, -98.23861111, -88.24283333, -101.7059272, -91.987655, -90.50753917, -120.64239309999999, -88.51947556, -82.27177778, -75.44040167, -89.69330556, -81.96449611, -88.12959000000001, -64.97336111, -97.65439389, -89.07009278, -81.59318972, -147.8596694, -121.84294779999999, -87.53062667, -100.74672220000001, -134.57627639999998, -122.8734978, -113.59305559999999, -92.49798722, -123.21868559999999, -108.5267347, -86.39397611, -74.57716667, -81.05805556, -108.54286110000001, -84.58735806, -83.74345639, -92.54855611, -121.1499633, -107.21765970000001, -77.61213778, -97.82779778, -103.0573708, -75.72426750000001, -78.88, -107.75376920000001, -92.03768778, -88.91595278, -68.82813889, -80.64580556, -79.97542833, -84.07964722, -107.89383329999998, -97.42586111, -89.66677944, -122.53752779999999, -114.09055559999999, -88.27805556, -74.81346833, -99.46154361, -92.19364861, -85.582235, -114.29659029999999, -92.21962917, -119.05676809999999, -67.12944444, -96.36382417, -77.04294444, -83.80783333, -82.40742056, -131.71374, -97.17611111, -94.36744111, -122.8128803, -99.68189722, -93.22340361, -114.25506940000001, -91.25653778, -101.2803339, -112.07016670000002, -85.55205749999999, -96.75925, -96.67083278, -119.11902920000001, -114.4877356, -89.67761861, -100.4963056, -74.10483833, -114.60597220000001, -111.37068529999999, -124.1086189, -76.4929875, -111.67121829999999, -106.08813889999999, -97.23051917, -85.44962889, -95.40238611, -111.9827503, -96.38436694, -88.77375, -104.5305556, -98.41663667, -99.27403361, -87.395361, -98.30861111, -122.2934019, -77.84630200000001, -84.93886111, -79.40479722, -112.59586110000001, -71.87570944, -88.75120556, -118.8377722, -98.49189333, -90.70916722, -80.697629, -135.3615983, -83.27672222, -93.99101999999999, -84.19447333, -88.59136861, -81.46630556, -98.67819528, -148.4651608, -72.8871, -64.79855556, -78.94538139, -89.57075167, -94.02069444, -97.65060333, -80.17621556, -104.4965722, -76.45844444, -84.796715, -89.83518444, -144.7959825, -161.8379975, -80.22808333, -75.97961361, -117.01539440000002, -106.46446609999998, -94.71171, -89.09721111, -94.93372333, -109.0651928, -86.23822306, -97.08577028, -100.7244147, -162.5985497, -132.9452781, -156.76600190000002, -98.42183333, -89.46745361, -165.4452458, -76.02173861, -112.41958329999999, -88.48906083, -94.49826833, -132.3698242, -91.48507194, -89.33705778, -100.9232339, -66.56301194, -103.6423467, -145.4776503, -139.6602261, -105.5393614, -121.2386203, -92.40034361, -84.47238528, -103.2170278, -115.79169640000002, -112.49746, -88.1145425, -78.89643806, -82.92786472, -91.19445611, -79.20043056, -80.39947222, -152.4938553, -98.90877833, -93.40306667, -109.7548439, -87.09373139, -92.83899333, -94.13722750000001, -113.098575, -83.56028583, -103.59563890000001, -105.67498640000001, -99.00677778, -100.9598611, -111.7233611, -109.5099203, -100.6836542, -70.82327333, -109.02379609999998, -106.9331817, -82.55802778, 145.621384, -76.89144333, -104.81183809999999, -124.2460278, -94.05833667, -75.46549917, -120.4575825, -77.7295, -87.16683333, -170.71052580000003, -176.6460306, -112.012175, -122.2815892], \"marker\": {\"cmax\": 93418, \"cmin\": 0, \"color\": [93418, 77734, 68664, 56310, 55523, 53095, 44604, 43806, 41619, 40364, 38986, 37116, 36810, 36332, 35030, 34663, 32103, 31355, 30769, 27698, 27163, 26116, 23365, 23173, 22124, 20182, 19200, 18833, 18132, 16078, 15591, 15181, 14665, 14389, 14335, 14097, 13921, 13178, 12260, 12083, 11873, 11856, 11767, 11600, 11580, 11323, 11150, 9990, 9806, 8198, 7668, 7620, 7173, 7031, 6642, 6151, 6083, 5897, 5851, 5826, 5744, 5546, 5329, 5281, 5273, 5202, 4839, 4618, 4610, 4534, 4279, 4215, 4186, 4182, 4111, 4102, 3981, 3848, 3740, 3622, 3539, 3512, 3490, 3447, 3369, 3327, 3257, 3176, 3163, 3042, 3008, 2888, 2764, 2736, 2735, 2718, 2641, 2472, 2304, 2253, 2203, 2177, 2170, 2155, 2134, 2121, 2069, 1965, 1933, 1926, 1913, 1905, 1864, 1861, 1797, 1768, 1761, 1722, 1719, 1711, 1651, 1610, 1603, 1593, 1582, 1579, 1565, 1553, 1488, 1483, 1417, 1416, 1405, 1369, 1363, 1285, 1262, 1254, 1249, 1189, 1178, 1175, 1120, 1119, 1117, 1096, 1086, 1078, 1066, 1056, 1055, 1050, 1015, 980, 964, 952, 938, 936, 929, 917, 902, 887, 881, 870, 834, 807, 796, 788, 782, 777, 763, 760, 758, 753, 751, 746, 713, 677, 674, 667, 655, 637, 617, 609, 606, 605, 601, 601, 596, 592, 589, 566, 559, 558, 555, 552, 551, 548, 534, 521, 519, 514, 509, 506, 497, 490, 485, 484, 467, 465, 443, 442, 433, 420, 410, 403, 402, 393, 377, 375, 368, 365, 356, 349, 346, 341, 340, 335, 330, 326, 325, 324, 313, 307, 298, 292, 291, 281, 279, 277, 270, 270, 270, 268, 262, 258, 257, 255, 253, 252, 250, 249, 248, 244, 244, 242, 240, 239, 238, 233, 230, 230, 229, 218, 218, 217, 207, 204, 201, 200, 199, 198, 197, 189, 180, 180, 180, 180, 180, 180, 180, 180, 180, 180, 180, 180, 180, 180, 180, 180, 180, 180, 179, 179, 179, 178, 178, 171, 169, 168, 167, 167, 167, 167, 167, 167, 166, 158, 157, 154, 154, 154, 154, 154, 154, 154, 154, 154, 154, 153, 153, 153, 153, 153, 153, 153, 136, 126, 123, 116, 116, 93, 90, 90, 68, 50, 45, 31, 27, 27, 26, 25, 4], \"colorbar\": {\"title\": {\"text\": \"Number of flights\"}}, \"colorscale\": [[0.0, \"rgb(255,245,240)\"], [0.125, \"rgb(254,224,210)\"], [0.25, \"rgb(252,187,161)\"], [0.375, \"rgb(252,146,114)\"], [0.5, \"rgb(251,106,74)\"], [0.625, \"rgb(239,59,44)\"], [0.75, \"rgb(203,24,29)\"], [0.875, \"rgb(165,15,21)\"], [1.0, \"rgb(103,0,13)\"]], \"size\": 10}, \"mode\": \"markers\", \"text\": [\"William B Hartsfield-Atlanta Intl\", \"Chicago O'Hare International\", \"Dallas-Fort Worth International\", \"Charlotte/Douglas International\", \"Denver Intl\", \"Los Angeles International\", \"Phoenix Sky Harbor International\", \"George Bush Intercontinental\", \"LaGuardia\", \"San Francisco International\", \"McCarran International\", \"Minneapolis-St Paul Intl\", \"Detroit Metropolitan-Wayne County\", \"Orlando International\", \"Ronald Reagan Washington National\", \"Gen Edw L Logan Intl\", \"Newark Intl\", \"John F Kennedy Intl\", \"Seattle-Tacoma Intl\", \"Salt Lake City Intl\", \"Philadelphia Intl\", \"Fort Lauderdale-Hollywood Int'l\", \"Baltimore-Washington International\", \"Miami International\", \"San Diego International-Lindbergh \", \"Tampa International \", \"Chicago Midway\", \"Nashville International\", \"Dallas Love \", \"Lambert-St Louis International\", \"Washington Dulles International\", \"Austin-Bergstrom International\", \"William P Hobby\", \"San Jose International\", \"Raleigh-Durham International\", \"New Orleans International \", \"Portland Intl\", \"Kansas City International\", \"Metropolitan Oakland International\", \"Southwest Florida International\", \"Pittsburgh International\", \"Indianapolis International\", \"Cleveland-Hopkins Intl\", \"Sacramento International\", \"Honolulu International\", \"Cincinnati Northern Kentucky Intl\", \"Port Columbus Intl\", \"John Wayne /Orange Co\", \"San Antonio International\", \"Jacksonville International\", \"Palm Beach International\", \"General Mitchell International\", \"Bradley International\", \"Burbank-Glendale-Pasadena\", \"Luis Munoz Marin International\", \"Kahului\", \"Eppley Airfield\", \"Richmond International\", \"Memphis International\", \"Buffalo Niagara Intl\", \"Norfolk International\", \"Will Rogers World\", \"Charleston AFB/International\", \"Louisville International-Standiford \", \"Tucson International\", \"Albuquerque International\", \"Ontario International\", \"Reno/Tahoe International\", \"Boise Air Terminal\", \"Kent County International\", \"Birmingham International\", \"McGhee-Tyson\", \"Theodore F Green State\", \"Palm Springs International\", \"Des Moines International\", \"Tulsa International\", \"El Paso International\", \"Ted Stevens Anchorage International\", \"Savannah International\", \"Piedmont Triad International\", \"Greenville-Spartanburg\", \"Kona International At Keahole\", \"Long Beach (Daugherty )\", \"Greater Rochester Int'l\", \"Syracuse-Hancock Intl\", \"Lihue\", \"Northwest Arkansas Regional\", \"Dane County Regional\", \"Adams \", \"James M Cox Dayton Intl\", \"Albany Cty\", \"Fresno Yosemite International\", \"Westchester Cty\", \"Pensacola Regional\", \"Aspen-Pitkin Co/Sardy \", \"Spokane Intl\", \"Orlando Sanford\", \"Wichita Mid-Continent\", \"Blue Grass \", \"Lovell \", \"Midland International\", \"Huntsville International \", \"City of Colorado Springs Muni\", \"Eastern Iowa \", \"Portland International Jetport\", \"Sarasota Bradenton International\", \"Burlington International\", \"Asheville Regional\", \"Springfield-Branson Regional\", \"Myrtle Beach International\", \"Columbia Metropolitan\", \"Jackson International\", \"St. Petersburg-Clearwater International\", \"Manchester\", \"Baton Rouge Metropolitan, Ryan \", \"Joe Foss \", \"Gallatin \", \"South Bend Regional\", \"Key West International\", \"Fort Wayne International\", \"Lubbock International\", \"Eglin Air Force Base\", \"Akron-Canton Regional\", \"Charlotte County\", \"Harrisburg Intl\", \"Wilmington International\", \"Shreveport Regional\", \"Santa Barbara Municipal\", \"Hector International\", \"Tallahassee Regional\", \"Long Island - MacArthur\", \"Charlottesville-Albermarle\", \"Hilo International\", \"Eagle County Regional\", \"Corpus Christi International\", \"Jackson Hole\", \"McAllen Miller International\", \"Mobile Regional\", \"Amarillo International\", \"Lafayette Regional\", \"Quad City\", \"San Luis Obispo Co-McChesney \", \"Outagamie County Regional\", \"Gainesville Regional\", \"Lehigh Valley International\", \"Greater Peoria Regional\", \"Bush \", \"Austin Straubel International\", \"Cyril E. King\", \"Valley International\", \"Gulfport-Biloxi Regional\", \"Yeager\", \"Fairbanks International\", \"Monterey Peninsula\", \"Evansville Regional\", \"Bismarck Municipal\", \"Juneau International\", \"Rogue Valley International\", \"St George Muni\", \"Rochester International\", \"Mahlon Sweet \", \"Walker \", \"Montgomery Regional Apt\", \"Atlantic City International\", \"Daytona Beach International\", \"Billings Logan Intl\", \"Capital City\", \"Bishop\", \"Alexandria International\", \"Roberts \", \"Yampa Valley\", \"Albert J Ellis\", \"Robert Gray AAF\", \"Rapid City Regional\", \"Wilkes-Barre/Scranton Intl\", \"Fayetteville Municipal\", \"Durango-La Plata County\", \"Monroe Regional\", \"Central Illinois Regional\", \"Bangor International\", \"Melbourne International \", \"Roanoke Regional/ Woodrum \", \"Mbs International\", \"Montrose Regional\", \"Brownsville/S.Padre Island International\", \"Central Wisconsin\", \"Bellingham Intl\", \"Missoula International\", \"University of Illinois-Willard\", \"Trenton-Mercer County \", \"Laredo International\", \"Duluth International\", \"Cherry Capital\", \"Friedman Memorial\", \"Columbia Regional\", \"Meadows \", \"Rafael Hernandez\", \"Easterwood \", \"Craven County Regional\", \"Toledo Express\", \"Tri-Cities Regional\", \"Ketchikan International\", \"Grand Forks International\", \"Fort Smith Regional\", \"Sonoma Co\", \"Abilene Regional\", \"Lake Charles Regional\", \"Glacier Park Intl\", \"La Crosse Municipal\", \"Minot International\", \"Idaho Falls Regional\", \"Kalamazoo County\", \"Lincoln Municipal\", \"Manhattan Regional\", \"Tri-Cities\", \"Joslin Field - Magic Valley\", \"Capital\", \"San Angelo Regional /Mathis \", \"Stewart\", \"Yuma MCAS-Yuma International\", \"Great Falls Intl\", \"Arcata\", \"Newport News/Williamsburg International\", \"Flagstaff Pulliam\", \"Santa Fe Municipal\", \"Waco Regional\", \"Dothan \", \"Tyler Pounds \", \"Helena Regional\", \"Sioux Gateway \", \"Barkley Regional\", \"Roswell Industrial Air Center\", \"Lawton-Ft Sill Regional\", \"Hays Municipal\", \"Marquette County Airport\", \"Central Nebraska Regional \", \"Redding Municipal\", \"University Park\", \"Columbus Metropolitan\", \"Arnold Palmer Regional\", \"Pocatello Regional\", \"Worcester Regional\", \"Key \", \"Mammoth Yosemite\", \"Sheppard AFB/Wichita Falls Municipal\", \"Dubuque Municipal\", \"Hilton Head\", \"Sitka\", \"Valdosta Regional\", \"Texarkana Regional-Webb \", \"Southwest Georgia Regional\", \"Golden Triangle Regional\", \"Glynco Jetport\", \"Jamestown Municipal\", \"Deadhorse\", \"Tweed-New Haven\", \"Henry E. Rohlsen \", \"Niagara Falls Intl\", \"Cape Girardeau Municipal\", \"Southeast Texas Regional\", \"Salina Municipal\", \"Erie Intl\", \"Pueblo Memorial\", \"Tompkins Cty \", \"Pellston Regional  of Emmet County\", \"Scott AFB/MidAmerica \", \"Guam International\", \"Bethel\", \"Benedum\", \"Binghamton Regional\", \"Lewiston-Nez Perce County\", \"Natrona County Intl\", \"Gregg County\", \"Greater Rockford\", \"Bemidji-Beltrami County\", \"Rock Springs-Sweetwater County\", \"Muskegon County\", \"Stillwater Regional\", \"Garden City Regional\", \"Ralph Wien Memorial\", \"James C. Johnson Petersburg\", \"Wiley Post Will Rogers Memorial\", \"Aberdeen Regional\", \"Rhinelander-Oneida County\", \"Nome\", \"Watertown Intl\", \"Ernest A. Love \", \"Houghton County Memorial\", \"Joplin Regional\", \"Wrangell\", \"Chippewa Valley Regional\", \"Hattiesburg-Laurel Regional\", \"Del Rio International\", \"Mercedita\", \"Sloulin Field International\", \"Merle K (Mudhole) Smith\", \"Yakutat\", \"Gillette-Campbell County\", \"Stockton Metro\", \"Waterloo Municipal\", \"Chippewa County International\", \"Lea County Regional\", \"Elko Regional\", \"Bert Mooney\", \"Ford\", \"Shenandoah Valley Regional\", \"Rickenbacker International \", \"Quincy Municipal-Baldwin \", \"Lynchburg Municipal-Preston Glenn \", \"Greenbrier Valley\", \"Kodiak \", \"Devils Lake Municipal-Knoke \", \"Falls International\", \"Canyonlands \", \"Delta County\", \"Chisholm-Hibbing\", \"Brainerd-Crow Wing County Regional\", \"Cedar City Muni\", \"Alpena County Regional \", \"Scotts Bluff County\", \"Laramie Regional\", \"Kearney Municipal\", \"Liberal Municipal\", \"Provo Muni\", \"Vernal\", \"North Platte Regional \", \"Pease International Tradeport\", \"Yellowstone Regional\", \"Gunnison County\", \"Tri-State/Walker-Long \", \"Tinian International Airport\", \"Elmira/Corning Regional\", \"Cheyenne\", \"North Bend Muni\", \"St Cloud Regional\", \"Ogdensburg Intl\", \"Santa Maria Pub/Capt G Allan Hancock \", \"Hagerstown Regional-Richard Henson \", \"Owensboro-Daviess County\", \"Pago Pago International\", \"Adak\", \"Ogden-Hinckley\", \"Snohomish County \"], \"type\": \"scattergeo\"}],                        {\"geo\": {\"scope\": \"usa\"}, \"template\": {\"data\": {\"bar\": [{\"error_x\": {\"color\": \"#2a3f5f\"}, \"error_y\": {\"color\": \"#2a3f5f\"}, \"marker\": {\"line\": {\"color\": \"#E5ECF6\", \"width\": 0.5}}, \"type\": \"bar\"}], \"barpolar\": [{\"marker\": {\"line\": {\"color\": \"#E5ECF6\", \"width\": 0.5}}, \"type\": \"barpolar\"}], \"carpet\": [{\"aaxis\": {\"endlinecolor\": \"#2a3f5f\", \"gridcolor\": \"white\", \"linecolor\": \"white\", \"minorgridcolor\": \"white\", \"startlinecolor\": \"#2a3f5f\"}, \"baxis\": {\"endlinecolor\": \"#2a3f5f\", \"gridcolor\": \"white\", \"linecolor\": \"white\", \"minorgridcolor\": \"white\", \"startlinecolor\": \"#2a3f5f\"}, \"type\": \"carpet\"}], \"choropleth\": [{\"colorbar\": {\"outlinewidth\": 0, \"ticks\": \"\"}, \"type\": \"choropleth\"}], \"contour\": [{\"colorbar\": {\"outlinewidth\": 0, \"ticks\": \"\"}, \"colorscale\": [[0.0, \"#0d0887\"], [0.1111111111111111, \"#46039f\"], [0.2222222222222222, \"#7201a8\"], [0.3333333333333333, \"#9c179e\"], [0.4444444444444444, \"#bd3786\"], [0.5555555555555556, \"#d8576b\"], [0.6666666666666666, \"#ed7953\"], [0.7777777777777778, \"#fb9f3a\"], [0.8888888888888888, \"#fdca26\"], [1.0, \"#f0f921\"]], \"type\": \"contour\"}], \"contourcarpet\": [{\"colorbar\": {\"outlinewidth\": 0, \"ticks\": \"\"}, \"type\": \"contourcarpet\"}], \"heatmap\": [{\"colorbar\": {\"outlinewidth\": 0, \"ticks\": \"\"}, \"colorscale\": [[0.0, \"#0d0887\"], [0.1111111111111111, \"#46039f\"], [0.2222222222222222, \"#7201a8\"], [0.3333333333333333, \"#9c179e\"], [0.4444444444444444, \"#bd3786\"], [0.5555555555555556, \"#d8576b\"], [0.6666666666666666, \"#ed7953\"], [0.7777777777777778, \"#fb9f3a\"], [0.8888888888888888, \"#fdca26\"], [1.0, \"#f0f921\"]], \"type\": \"heatmap\"}], \"heatmapgl\": [{\"colorbar\": {\"outlinewidth\": 0, \"ticks\": \"\"}, \"colorscale\": [[0.0, \"#0d0887\"], [0.1111111111111111, \"#46039f\"], [0.2222222222222222, \"#7201a8\"], [0.3333333333333333, \"#9c179e\"], [0.4444444444444444, \"#bd3786\"], [0.5555555555555556, \"#d8576b\"], [0.6666666666666666, \"#ed7953\"], [0.7777777777777778, \"#fb9f3a\"], [0.8888888888888888, \"#fdca26\"], [1.0, \"#f0f921\"]], \"type\": \"heatmapgl\"}], \"histogram\": [{\"marker\": {\"colorbar\": {\"outlinewidth\": 0, \"ticks\": \"\"}}, \"type\": \"histogram\"}], \"histogram2d\": [{\"colorbar\": {\"outlinewidth\": 0, \"ticks\": \"\"}, \"colorscale\": [[0.0, \"#0d0887\"], [0.1111111111111111, \"#46039f\"], [0.2222222222222222, \"#7201a8\"], [0.3333333333333333, \"#9c179e\"], [0.4444444444444444, \"#bd3786\"], [0.5555555555555556, \"#d8576b\"], [0.6666666666666666, \"#ed7953\"], [0.7777777777777778, \"#fb9f3a\"], [0.8888888888888888, \"#fdca26\"], [1.0, \"#f0f921\"]], \"type\": \"histogram2d\"}], \"histogram2dcontour\": [{\"colorbar\": {\"outlinewidth\": 0, \"ticks\": \"\"}, \"colorscale\": [[0.0, \"#0d0887\"], [0.1111111111111111, \"#46039f\"], [0.2222222222222222, \"#7201a8\"], [0.3333333333333333, \"#9c179e\"], [0.4444444444444444, \"#bd3786\"], [0.5555555555555556, \"#d8576b\"], [0.6666666666666666, \"#ed7953\"], [0.7777777777777778, \"#fb9f3a\"], [0.8888888888888888, \"#fdca26\"], [1.0, \"#f0f921\"]], \"type\": \"histogram2dcontour\"}], \"mesh3d\": [{\"colorbar\": {\"outlinewidth\": 0, \"ticks\": \"\"}, \"type\": \"mesh3d\"}], \"parcoords\": [{\"line\": {\"colorbar\": {\"outlinewidth\": 0, \"ticks\": \"\"}}, \"type\": \"parcoords\"}], \"pie\": [{\"automargin\": true, \"type\": \"pie\"}], \"scatter\": [{\"marker\": {\"colorbar\": {\"outlinewidth\": 0, \"ticks\": \"\"}}, \"type\": \"scatter\"}], \"scatter3d\": [{\"line\": {\"colorbar\": {\"outlinewidth\": 0, \"ticks\": \"\"}}, \"marker\": {\"colorbar\": {\"outlinewidth\": 0, \"ticks\": \"\"}}, \"type\": \"scatter3d\"}], \"scattercarpet\": [{\"marker\": {\"colorbar\": {\"outlinewidth\": 0, \"ticks\": \"\"}}, \"type\": \"scattercarpet\"}], \"scattergeo\": [{\"marker\": {\"colorbar\": {\"outlinewidth\": 0, \"ticks\": \"\"}}, \"type\": \"scattergeo\"}], \"scattergl\": [{\"marker\": {\"colorbar\": {\"outlinewidth\": 0, \"ticks\": \"\"}}, \"type\": \"scattergl\"}], \"scattermapbox\": [{\"marker\": {\"colorbar\": {\"outlinewidth\": 0, \"ticks\": \"\"}}, \"type\": \"scattermapbox\"}], \"scatterpolar\": [{\"marker\": {\"colorbar\": {\"outlinewidth\": 0, \"ticks\": \"\"}}, \"type\": \"scatterpolar\"}], \"scatterpolargl\": [{\"marker\": {\"colorbar\": {\"outlinewidth\": 0, \"ticks\": \"\"}}, \"type\": \"scatterpolargl\"}], \"scatterternary\": [{\"marker\": {\"colorbar\": {\"outlinewidth\": 0, \"ticks\": \"\"}}, \"type\": \"scatterternary\"}], \"surface\": [{\"colorbar\": {\"outlinewidth\": 0, \"ticks\": \"\"}, \"colorscale\": [[0.0, \"#0d0887\"], [0.1111111111111111, \"#46039f\"], [0.2222222222222222, \"#7201a8\"], [0.3333333333333333, \"#9c179e\"], [0.4444444444444444, \"#bd3786\"], [0.5555555555555556, \"#d8576b\"], [0.6666666666666666, \"#ed7953\"], [0.7777777777777778, \"#fb9f3a\"], [0.8888888888888888, \"#fdca26\"], [1.0, \"#f0f921\"]], \"type\": \"surface\"}], \"table\": [{\"cells\": {\"fill\": {\"color\": \"#EBF0F8\"}, \"line\": {\"color\": \"white\"}}, \"header\": {\"fill\": {\"color\": \"#C8D4E3\"}, \"line\": {\"color\": \"white\"}}, \"type\": \"table\"}]}, \"layout\": {\"annotationdefaults\": {\"arrowcolor\": \"#2a3f5f\", \"arrowhead\": 0, \"arrowwidth\": 1}, \"autotypenumbers\": \"strict\", \"coloraxis\": {\"colorbar\": {\"outlinewidth\": 0, \"ticks\": \"\"}}, \"colorscale\": {\"diverging\": [[0, \"#8e0152\"], [0.1, \"#c51b7d\"], [0.2, \"#de77ae\"], [0.3, \"#f1b6da\"], [0.4, \"#fde0ef\"], [0.5, \"#f7f7f7\"], [0.6, \"#e6f5d0\"], [0.7, \"#b8e186\"], [0.8, \"#7fbc41\"], [0.9, \"#4d9221\"], [1, \"#276419\"]], \"sequential\": [[0.0, \"#0d0887\"], [0.1111111111111111, \"#46039f\"], [0.2222222222222222, \"#7201a8\"], [0.3333333333333333, \"#9c179e\"], [0.4444444444444444, \"#bd3786\"], [0.5555555555555556, \"#d8576b\"], [0.6666666666666666, \"#ed7953\"], [0.7777777777777778, \"#fb9f3a\"], [0.8888888888888888, \"#fdca26\"], [1.0, \"#f0f921\"]], \"sequentialminus\": [[0.0, \"#0d0887\"], [0.1111111111111111, \"#46039f\"], [0.2222222222222222, \"#7201a8\"], [0.3333333333333333, \"#9c179e\"], [0.4444444444444444, \"#bd3786\"], [0.5555555555555556, \"#d8576b\"], [0.6666666666666666, \"#ed7953\"], [0.7777777777777778, \"#fb9f3a\"], [0.8888888888888888, \"#fdca26\"], [1.0, \"#f0f921\"]]}, \"colorway\": [\"#636efa\", \"#EF553B\", \"#00cc96\", \"#ab63fa\", \"#FFA15A\", \"#19d3f3\", \"#FF6692\", \"#B6E880\", \"#FF97FF\", \"#FECB52\"], \"font\": {\"color\": \"#2a3f5f\"}, \"geo\": {\"bgcolor\": \"white\", \"lakecolor\": \"white\", \"landcolor\": \"#E5ECF6\", \"showlakes\": true, \"showland\": true, \"subunitcolor\": \"white\"}, \"hoverlabel\": {\"align\": \"left\"}, \"hovermode\": \"closest\", \"mapbox\": {\"style\": \"light\"}, \"paper_bgcolor\": \"white\", \"plot_bgcolor\": \"#E5ECF6\", \"polar\": {\"angularaxis\": {\"gridcolor\": \"white\", \"linecolor\": \"white\", \"ticks\": \"\"}, \"bgcolor\": \"#E5ECF6\", \"radialaxis\": {\"gridcolor\": \"white\", \"linecolor\": \"white\", \"ticks\": \"\"}}, \"scene\": {\"xaxis\": {\"backgroundcolor\": \"#E5ECF6\", \"gridcolor\": \"white\", \"gridwidth\": 2, \"linecolor\": \"white\", \"showbackground\": true, \"ticks\": \"\", \"zerolinecolor\": \"white\"}, \"yaxis\": {\"backgroundcolor\": \"#E5ECF6\", \"gridcolor\": \"white\", \"gridwidth\": 2, \"linecolor\": \"white\", \"showbackground\": true, \"ticks\": \"\", \"zerolinecolor\": \"white\"}, \"zaxis\": {\"backgroundcolor\": \"#E5ECF6\", \"gridcolor\": \"white\", \"gridwidth\": 2, \"linecolor\": \"white\", \"showbackground\": true, \"ticks\": \"\", \"zerolinecolor\": \"white\"}}, \"shapedefaults\": {\"line\": {\"color\": \"#2a3f5f\"}}, \"ternary\": {\"aaxis\": {\"gridcolor\": \"white\", \"linecolor\": \"white\", \"ticks\": \"\"}, \"baxis\": {\"gridcolor\": \"white\", \"linecolor\": \"white\", \"ticks\": \"\"}, \"bgcolor\": \"#E5ECF6\", \"caxis\": {\"gridcolor\": \"white\", \"linecolor\": \"white\", \"ticks\": \"\"}}, \"title\": {\"x\": 0.05}, \"xaxis\": {\"automargin\": true, \"gridcolor\": \"white\", \"linecolor\": \"white\", \"ticks\": \"\", \"title\": {\"standoff\": 15}, \"zerolinecolor\": \"white\", \"zerolinewidth\": 2}, \"yaxis\": {\"automargin\": true, \"gridcolor\": \"white\", \"linecolor\": \"white\", \"ticks\": \"\", \"title\": {\"standoff\": 15}, \"zerolinecolor\": \"white\", \"zerolinewidth\": 2}}}, \"title\": {\"text\": \"Airports with most flights\"}},                        {\"responsive\": true}                    ).then(function(){\n",
       "                            \n",
       "var gd = document.getElementById('f06f0212-cf17-4565-bd58-766192a82fa6');\n",
       "var x = new MutationObserver(function (mutations, observer) {{\n",
       "        var display = window.getComputedStyle(gd).display;\n",
       "        if (!display || display === 'none') {{\n",
       "            console.log([gd, 'removed!']);\n",
       "            Plotly.purge(gd);\n",
       "            observer.disconnect();\n",
       "        }}\n",
       "}});\n",
       "\n",
       "// Listen for the removal of the full notebook cells\n",
       "var notebookContainer = gd.closest('#notebook-container');\n",
       "if (notebookContainer) {{\n",
       "    x.observe(notebookContainer, {childList: true});\n",
       "}}\n",
       "\n",
       "// Listen for the clearing of the current output cell\n",
       "var outputEl = gd.closest('.output');\n",
       "if (outputEl) {{\n",
       "    x.observe(outputEl, {childList: true});\n",
       "}}\n",
       "\n",
       "                        })                };                });            </script>        </div>"
      ]
     },
     "metadata": {},
     "output_type": "display_data"
    }
   ],
   "source": [
    "df = pd.read_csv('airportDelay.csv')\n",
    "\n",
    "fig = go.Figure(data=go.Scattergeo(\n",
    "        lon = df['long'],\n",
    "        lat = df['lat'],\n",
    "        text = df['airport'],\n",
    "        mode = 'markers',\n",
    "        marker = dict( size=10, colorscale = 'Reds', cmin = 0, color = df['num_flights'], cmax = df['num_flights'].max(),\n",
    "                       colorbar_title=\"Number of flights\")\n",
    "        ))\n",
    "fig.update_layout(title = 'Airports with most flights', geo_scope='usa')\n",
    "\n",
    "fig.show()"
   ]
  },
  {
   "cell_type": "code",
   "execution_count": 72,
   "metadata": {},
   "outputs": [
    {
     "data": {
      "application/vnd.plotly.v1+json": {
       "config": {
        "plotlyServerURL": "https://plot.ly"
       },
       "data": [
        {
         "hovertemplate": "num_flights=%{x}<br>avg_delay=%{y}<extra></extra>",
         "legendgroup": "",
         "marker": {
          "color": "#636efa",
          "symbol": "circle"
         },
         "mode": "markers",
         "name": "",
         "orientation": "v",
         "showlegend": false,
         "type": "scatter",
         "x": [
          93418,
          77734,
          68664,
          56310,
          55523,
          53095,
          44604,
          43806,
          41619,
          40364,
          38986,
          37116,
          36810,
          36332,
          35030,
          34663,
          32103,
          31355,
          30769,
          27698,
          27163,
          26116,
          23365,
          23173,
          22124,
          20182,
          19200,
          18833,
          18132,
          16078,
          15591,
          15181,
          14665,
          14389,
          14335,
          14097,
          13921,
          13178,
          12260,
          12083,
          11873,
          11856,
          11767,
          11600,
          11580,
          11323,
          11150,
          9990,
          9806,
          8198,
          7668,
          7620,
          7173,
          7031,
          6642,
          6151,
          6083,
          5897,
          5851,
          5826,
          5744,
          5546,
          5329,
          5281,
          5273,
          5202,
          4839,
          4618,
          4610,
          4534,
          4279,
          4215,
          4186,
          4182,
          4111,
          4102,
          3981,
          3848,
          3740,
          3622,
          3539,
          3512,
          3490,
          3447,
          3369,
          3327,
          3257,
          3176,
          3163,
          3042,
          3008,
          2888,
          2764,
          2736,
          2735,
          2718,
          2641,
          2472,
          2304,
          2253,
          2203,
          2177,
          2170,
          2155,
          2134,
          2121,
          2069,
          1965,
          1933,
          1926,
          1913,
          1905,
          1864,
          1861,
          1797,
          1768,
          1761,
          1722,
          1719,
          1711,
          1651,
          1610,
          1603,
          1593,
          1582,
          1579,
          1565,
          1553,
          1488,
          1483,
          1417,
          1416,
          1405,
          1369,
          1363,
          1285,
          1262,
          1254,
          1249,
          1189,
          1178,
          1175,
          1120,
          1119,
          1117,
          1096,
          1086,
          1078,
          1066,
          1056,
          1055,
          1050,
          1015,
          980,
          964,
          952,
          938,
          936,
          929,
          917,
          902,
          887,
          881,
          870,
          834,
          807,
          796,
          788,
          782,
          777,
          763,
          760,
          758,
          753,
          751,
          746,
          713,
          677,
          674,
          667,
          655,
          637,
          617,
          609,
          606,
          605,
          601,
          601,
          596,
          592,
          589,
          566,
          559,
          558,
          555,
          552,
          551,
          548,
          534,
          521,
          519,
          514,
          509,
          506,
          497,
          490,
          485,
          484,
          467,
          465,
          443,
          442,
          433,
          420,
          410,
          403,
          402,
          393,
          377,
          375,
          368,
          365,
          356,
          349,
          346,
          341,
          340,
          335,
          330,
          326,
          325,
          324,
          313,
          307,
          298,
          292,
          291,
          281,
          279,
          277,
          270,
          270,
          270,
          268,
          262,
          258,
          257,
          255,
          253,
          252,
          250,
          249,
          248,
          244,
          244,
          242,
          240,
          239,
          238,
          233,
          230,
          230,
          229,
          218,
          218,
          217,
          207,
          204,
          201,
          200,
          199,
          198,
          197,
          189,
          180,
          180,
          180,
          180,
          180,
          180,
          180,
          180,
          180,
          180,
          180,
          180,
          180,
          180,
          180,
          180,
          180,
          180,
          179,
          179,
          179,
          178,
          178,
          171,
          169,
          168,
          167,
          167,
          167,
          167,
          167,
          167,
          166,
          158,
          157,
          154,
          154,
          154,
          154,
          154,
          154,
          154,
          154,
          154,
          154,
          153,
          153,
          153,
          153,
          153,
          153,
          153,
          136,
          126,
          123,
          116,
          116,
          93,
          90,
          90,
          68,
          50,
          45,
          31,
          27,
          27,
          26,
          25,
          4
         ],
         "xaxis": "x",
         "y": [
          9.283872781736978,
          29.889992747376056,
          20.04091930754231,
          11.818852340763184,
          19.370646719767205,
          13.168526570977795,
          12.154268962990106,
          14.172923461244887,
          22.227746471849603,
          29.5436597152234,
          15.094061483579898,
          16.49694585075941,
          14.372334213818991,
          16.69540149458423,
          15.792916666666667,
          25.702189824994733,
          25.829125467985026,
          13.037215668382974,
          13.463865825307208,
          10.433753885536662,
          8.591755068141493,
          17.96123519129928,
          12.180569229392285,
          15.802778141790068,
          11.031225351459193,
          13.998383756755393,
          24.515469204033963,
          15.579782881457641,
          12.348677036101707,
          16.763434579439252,
          16.000197005516153,
          10.121139028475712,
          13.654783841247342,
          7.968620443173695,
          15.353125222214322,
          10.618437162405474,
          7.972864541542052,
          11.787740667976424,
          12.520819285232635,
          15.313416484072143,
          11.388133391078386,
          12.406516814776097,
          14.852210674652104,
          7.884438955539872,
          3.1615417929839755,
          16.921123960968558,
          13.381370014771047,
          8.928294968425341,
          4.929930346189833,
          10.317803453845196,
          19.771701619325725,
          18.39393521709166,
          8.252744078567302,
          15.599939795304033,
          19.97585788035226,
          7.2602090819993474,
          16.745044429254957,
          15.194667131404671,
          11.054789740010472,
          15.948998178506374,
          14.288028802880287,
          16.507906976744184,
          7.128896538535093,
          16.330433101314767,
          13.376573088092933,
          10.312758010615292,
          10.816641964852849,
          21.448160535117054,
          8.173932188463231,
          23.439397450753194,
          12.894648829431436,
          10.170212765957444,
          10.095652173913043,
          20.446032528339078,
          19.786128625472887,
          8.49664596273292,
          6.690464048954616,
          -5.504246284501061,
          15.069285324604476,
          8.549363507779349,
          9.302620213072274,
          -1.5217765042979945,
          7.103607503607504,
          18.37147239263804,
          16.347961406784936,
          1.4018691588785046,
          15.11229946524064,
          25.90657894736842,
          10.609536082474227,
          10.700752393980848,
          13.132538569424966,
          19.853262786596122,
          25.548179059180576,
          12.769402985074628,
          66.65186426476751,
          13.446107784431137,
          8.184351145038168,
          14.735714285714286,
          21.935339021104628,
          11.66209419295839,
          8.20808174640037,
          6.462658525129169,
          27.4361549497848,
          28.13247011952191,
          9.896501457725947,
          18.455762792922044,
          34.57801418439716,
          18.87826541274817,
          22.63976483164083,
          2.6834645669291337,
          5.533509234828496,
          10.368364611260054,
          -5.9556277056277045,
          8.557876905702992,
          9.20169971671388,
          29.04234724742892,
          28.97983870967742,
          14.762165450121655,
          22.46858485026424,
          21.51842900302115,
          8.107567229518446,
          12.805573147561748,
          17.61972744970798,
          4.9525316455696204,
          19.557291666666668,
          7.570317563188594,
          22.92682926829268,
          22.2234823215477,
          50.664265129682995,
          3.547375596455351,
          10.401301518438178,
          20.542709867452132,
          0.4419101924447612,
          68.69086651053864,
          3.3363567649281936,
          55.08259109311741,
          9.629421221864954,
          16.647875816993466,
          10.724422442244224,
          12.437768240343347,
          35.4249547920434,
          27.713652482269502,
          31.598298676748577,
          12.81785392245266,
          16.50321987120515,
          21.0827718960539,
          11.963720930232556,
          21.201970443349754,
          11.108262108262107,
          4.944284341978866,
          16.351724137931033,
          32.74628344895937,
          -13.73873873873874,
          17.229473684210525,
          7.473347547974414,
          29.52877307274701,
          -0.2539325842696629,
          44.699551569506724,
          14.19042437431991,
          46.03410475030451,
          35.610328638497656,
          3.5777525539160044,
          20.987414187643022,
          -4.377011494252874,
          5.445246690734057,
          4.010012515644556,
          28.640479360852197,
          15.269692923898532,
          8.390967741935484,
          62.14583333333334,
          37.73342354533153,
          1.936254980079681,
          17.234270414993308,
          47.676753782668506,
          8.892757660167131,
          19.728629579375852,
          16.731743666169894,
          8.388639760837071,
          30.342229199372053,
          17.736593059936908,
          -0.5369230769230771,
          16.8256,
          7.020618556701031,
          20.77574750830565,
          10.135506003430534,
          15.786096256684491,
          0.935483870967742,
          -0.7262103505843072,
          35.38086642599278,
          21.67747440273037,
          7.00513698630137,
          34.80633147113594,
          28.685658153241647,
          9.513994910941477,
          34.701960784313734,
          20.448339483394832,
          21.153564899451553,
          5.824626865671643,
          0.8988549618320609,
          23.543388429752067,
          9.390291262135925,
          -3.5,
          32.17043121149897,
          2.261569416498994,
          3.7448132780082983,
          12.3305954825462,
          -2.4131355932203387,
          3.4737945492662474,
          21.575471698113212,
          32.412280701754376,
          3.7090909090909085,
          30.582524271844658,
          27.163507109004737,
          13.697201017811706,
          25.058080808080806,
          26.684079601990053,
          20.265957446808514,
          -5.518041237113402,
          38.25205479452055,
          0.21600000000000003,
          39.00550964187328,
          62.96716417910448,
          -0.9410112359550562,
          13.50920245398773,
          39.488023952095816,
          -1.90990990990991,
          14.207100591715975,
          13.658536585365852,
          8.240853658536585,
          46.73063973063972,
          34.59139784946237,
          13.157728706624606,
          11.458193979933109,
          45.820788530465954,
          49.63537906137184,
          21.067857142857143,
          38.53488372093023,
          29.806083650190114,
          9.187725631768952,
          1.1132075471698113,
          -3.651851851851852,
          30.660231660231663,
          77.86590038314176,
          93.26530612244898,
          9.684,
          16.582959641255606,
          16.705645161290324,
          -14.262096774193546,
          9.146825396825397,
          -1.669322709163347,
          6.622489959839357,
          -2.7096774193548385,
          2.6666666666666665,
          101.68036529680367,
          -20.726086956521737,
          15.625,
          -5.575630252100839,
          13.17094017094017,
          37.55140186915888,
          12.013215859030836,
          72.97619047619048,
          8.960352422907489,
          -5.084905660377358,
          56.530232558139545,
          69.87692307692308,
          24.92592592592593,
          -7.768472906403941,
          -2.453608247422681,
          51.548387096774185,
          62.03664921465968,
          -12.570707070707073,
          -9.456410256410255,
          6.719387755102041,
          17.489247311827956,
          25.51136363636364,
          15.339080459770114,
          15.183544303797467,
          -1.4464285714285714,
          13.371951219512196,
          -2.888888888888889,
          -0.6369047619047619,
          -19.761627906976745,
          33.35294117647059,
          50.32558139534883,
          -15.422360248447205,
          28.12244897959184,
          2.9710982658959537,
          35.99346405228758,
          32.52601156069364,
          6.705202312138728,
          33.85093167701864,
          24.36,
          5.804469273743018,
          11.293785310734465,
          43.38636363636363,
          -14.790697674418604,
          -21.134146341463413,
          42.41916167664671,
          32.958333333333336,
          20.328859060402685,
          51.49677419354839,
          -2.748466257668712,
          7.037037037037037,
          19.856287425149702,
          54.42207792207793,
          36.2,
          23.180722891566266,
          42.412213740458014,
          -8.294117647058824,
          52.074074074074076,
          -12.144736842105265,
          66.76428571428572,
          6.190789473684211,
          26.079136690647477,
          43.85507246376812,
          8.473333333333333,
          23.02054794520548,
          16.428571428571427,
          65.23880597014926,
          3.8285714285714287,
          23.95833333333333,
          11.55944055944056,
          0.7588652482269503,
          22.58169934640523,
          38.07086614173228,
          16.82638888888889,
          -3.649253731343284,
          5.557377049180328,
          31.442622950819672,
          21.47826086956522,
          0.6956521739130435,
          35.82608695652174,
          60.22988505747128,
          87.9625,
          29.564516129032263,
          32.38297872340426,
          21.511111111111113,
          53.806451612903224,
          26.592592592592588,
          11.851851851851851,
          1.9130434782608696,
          29.48,
          -13.25
         ],
         "yaxis": "y"
        },
        {
         "hovertemplate": "<b>OLS trendline</b><br>avg_delay = -7.9941e-05 * num_flights + 18.502<br>R<sup>2</sup>=0.002747<br><br>num_flights=%{x}<br>avg_delay=%{y} <b>(trend)</b><extra></extra>",
         "legendgroup": "",
         "marker": {
          "color": "#636efa",
          "symbol": "circle"
         },
         "mode": "lines",
         "name": "",
         "showlegend": false,
         "type": "scatter",
         "x": [
          4,
          25,
          26,
          27,
          27,
          31,
          45,
          50,
          68,
          90,
          90,
          93,
          116,
          116,
          123,
          126,
          136,
          153,
          153,
          153,
          153,
          153,
          153,
          153,
          154,
          154,
          154,
          154,
          154,
          154,
          154,
          154,
          154,
          154,
          157,
          158,
          166,
          167,
          167,
          167,
          167,
          167,
          167,
          168,
          169,
          171,
          178,
          178,
          179,
          179,
          179,
          180,
          180,
          180,
          180,
          180,
          180,
          180,
          180,
          180,
          180,
          180,
          180,
          180,
          180,
          180,
          180,
          180,
          180,
          189,
          197,
          198,
          199,
          200,
          201,
          204,
          207,
          217,
          218,
          218,
          229,
          230,
          230,
          233,
          238,
          239,
          240,
          242,
          244,
          244,
          248,
          249,
          250,
          252,
          253,
          255,
          257,
          258,
          262,
          268,
          270,
          270,
          270,
          277,
          279,
          281,
          291,
          292,
          298,
          307,
          313,
          324,
          325,
          326,
          330,
          335,
          340,
          341,
          346,
          349,
          356,
          365,
          368,
          375,
          377,
          393,
          402,
          403,
          410,
          420,
          433,
          442,
          443,
          465,
          467,
          484,
          485,
          490,
          497,
          506,
          509,
          514,
          519,
          521,
          534,
          548,
          551,
          552,
          555,
          558,
          559,
          566,
          589,
          592,
          596,
          601,
          601,
          605,
          606,
          609,
          617,
          637,
          655,
          667,
          674,
          677,
          713,
          746,
          751,
          753,
          758,
          760,
          763,
          777,
          782,
          788,
          796,
          807,
          834,
          870,
          881,
          887,
          902,
          917,
          929,
          936,
          938,
          952,
          964,
          980,
          1015,
          1050,
          1055,
          1056,
          1066,
          1078,
          1086,
          1096,
          1117,
          1119,
          1120,
          1175,
          1178,
          1189,
          1249,
          1254,
          1262,
          1285,
          1363,
          1369,
          1405,
          1416,
          1417,
          1483,
          1488,
          1553,
          1565,
          1579,
          1582,
          1593,
          1603,
          1610,
          1651,
          1711,
          1719,
          1722,
          1761,
          1768,
          1797,
          1861,
          1864,
          1905,
          1913,
          1926,
          1933,
          1965,
          2069,
          2121,
          2134,
          2155,
          2170,
          2177,
          2203,
          2253,
          2304,
          2472,
          2641,
          2718,
          2735,
          2736,
          2764,
          2888,
          3008,
          3042,
          3163,
          3176,
          3257,
          3327,
          3369,
          3447,
          3490,
          3512,
          3539,
          3622,
          3740,
          3848,
          3981,
          4102,
          4111,
          4182,
          4186,
          4215,
          4279,
          4534,
          4610,
          4618,
          4839,
          5202,
          5273,
          5281,
          5329,
          5546,
          5744,
          5826,
          5851,
          5897,
          6083,
          6151,
          6642,
          7031,
          7173,
          7620,
          7668,
          8198,
          9806,
          9990,
          11150,
          11323,
          11580,
          11600,
          11767,
          11856,
          11873,
          12083,
          12260,
          13178,
          13921,
          14097,
          14335,
          14389,
          14665,
          15181,
          15591,
          16078,
          18132,
          18833,
          19200,
          20182,
          22124,
          23173,
          23365,
          26116,
          27163,
          27698,
          30769,
          31355,
          32103,
          34663,
          35030,
          36332,
          36810,
          37116,
          38986,
          40364,
          41619,
          43806,
          44604,
          53095,
          55523,
          56310,
          68664,
          77734,
          93418
         ],
         "xaxis": "x",
         "y": [
          18.50169825116491,
          18.50001949063937,
          18.499939549661967,
          18.49985960868456,
          18.49985960868456,
          18.499539844774933,
          18.498420671091242,
          18.49802096620421,
          18.496582028610888,
          18.494823327107945,
          18.494823327107945,
          18.494583504175726,
          18.492744861695375,
          18.492744861695375,
          18.49218527485353,
          18.491945451921307,
          18.491146042147243,
          18.48978704553133,
          18.48978704553133,
          18.48978704553133,
          18.48978704553133,
          18.48978704553133,
          18.48978704553133,
          18.48978704553133,
          18.489707104553926,
          18.489707104553926,
          18.489707104553926,
          18.489707104553926,
          18.489707104553926,
          18.489707104553926,
          18.489707104553926,
          18.489707104553926,
          18.489707104553926,
          18.489707104553926,
          18.489467281621703,
          18.4893873406443,
          18.488747812825046,
          18.48866787184764,
          18.48866787184764,
          18.48866787184764,
          18.48866787184764,
          18.48866787184764,
          18.48866787184764,
          18.48858793087023,
          18.488507989892824,
          18.488348107938013,
          18.487788521096167,
          18.487788521096167,
          18.48770858011876,
          18.48770858011876,
          18.48770858011876,
          18.487628639141352,
          18.487628639141352,
          18.487628639141352,
          18.487628639141352,
          18.487628639141352,
          18.487628639141352,
          18.487628639141352,
          18.487628639141352,
          18.487628639141352,
          18.487628639141352,
          18.487628639141352,
          18.487628639141352,
          18.487628639141352,
          18.487628639141352,
          18.487628639141352,
          18.487628639141352,
          18.487628639141352,
          18.487628639141352,
          18.486909170344695,
          18.486269642525443,
          18.486189701548035,
          18.486109760570628,
          18.48602981959322,
          18.485949878615816,
          18.485710055683594,
          18.485470232751375,
          18.48467082297731,
          18.484590881999903,
          18.484590881999903,
          18.48371153124843,
          18.483631590271024,
          18.483631590271024,
          18.483391767338805,
          18.48299206245177,
          18.482912121474364,
          18.48283218049696,
          18.482672298542145,
          18.482512416587333,
          18.482512416587333,
          18.482192652677707,
          18.4821127117003,
          18.482032770722892,
          18.48187288876808,
          18.481792947790673,
          18.48163306583586,
          18.481473183881047,
          18.48139324290364,
          18.481073478994013,
          18.480593833129575,
          18.48043395117476,
          18.48043395117476,
          18.48043395117476,
          18.479874364332915,
          18.479714482378103,
          18.47955460042329,
          18.478755190649224,
          18.478675249671817,
          18.47819560380738,
          18.47747613501072,
          18.476996489146277,
          18.476117138394805,
          18.4760371974174,
          18.475957256439994,
          18.475637492530367,
          18.475237787643334,
          18.4748380827563,
          18.474758141778896,
          18.474358436891862,
          18.474118613959643,
          18.473559027117794,
          18.472839558321137,
          18.47259973538892,
          18.47204014854707,
          18.471880266592258,
          18.470601210953753,
          18.469881742157092,
          18.46980180117969,
          18.46924221433784,
          18.468442804563775,
          18.46740357185749,
          18.46668410306083,
          18.466604162083424,
          18.464845460580477,
          18.464685578625666,
          18.463326582009753,
          18.46324664103235,
          18.462846936145315,
          18.46228734930347,
          18.46156788050681,
          18.46132805757459,
          18.460928352687556,
          18.460528647800523,
          18.46036876584571,
          18.459329533139424,
          18.458210359455734,
          18.457970536523515,
          18.457890595546107,
          18.45765077261389,
          18.457410949681666,
          18.457331008704262,
          18.456771421862413,
          18.454932779382062,
          18.454692956449843,
          18.454373192540217,
          18.453973487653183,
          18.453973487653183,
          18.453653723743557,
          18.453573782766153,
          18.45333395983393,
          18.45269443201468,
          18.45109561246655,
          18.44965667487323,
          18.44869738314435,
          18.448137796302504,
          18.447897973370285,
          18.445020098183647,
          18.442382045929232,
          18.4419823410422,
          18.441822459087383,
          18.441422754200353,
          18.441262872245538,
          18.44102304931332,
          18.43990387562963,
          18.439504170742595,
          18.439024524878153,
          18.438384997058904,
          18.43750564630743,
          18.43534723991745,
          18.432469364730817,
          18.431590013979342,
          18.431110368114904,
          18.429911253453806,
          18.428712138792708,
          18.42775284706383,
          18.42719326022198,
          18.42703337826717,
          18.425914204583478,
          18.4249549128546,
          18.423675857216093,
          18.420877923006863,
          18.418079988797633,
          18.4176802839106,
          18.41760034293319,
          18.416800933159127,
          18.415841641430248,
          18.415202113610995,
          18.41440270383693,
          18.41272394331139,
          18.41256406135658,
          18.412484120379172,
          18.40808736662181,
          18.40784754368959,
          18.406968192938116,
          18.402171734293724,
          18.40177202940669,
          18.401132501587437,
          18.399293859107086,
          18.393058462869373,
          18.392578817004935,
          18.389700941818298,
          18.388821591066826,
          18.38874165008942,
          18.383465545580584,
          18.38306584069355,
          18.377869677162124,
          18.376910385433245,
          18.375791211749554,
          18.375551388817332,
          18.37467203806586,
          18.373872628291796,
          18.37331304144995,
          18.37003546137628,
          18.365239002731887,
          18.364599474912634,
          18.36435965198041,
          18.361241953861555,
          18.36068236701971,
          18.35836407867492,
          18.3532478561209,
          18.35300803318868,
          18.349730453115008,
          18.34909092529576,
          18.348051692589472,
          18.347492105747627,
          18.344933994470615,
          18.336620132820332,
          18.33246320199519,
          18.331423969288902,
          18.329745208763367,
          18.32854609410227,
          18.32798650726042,
          18.32590804184785,
          18.32191099297752,
          18.317834003129786,
          18.30440391892548,
          18.29089389374377,
          18.284738438483462,
          18.283379441867552,
          18.283299500890145,
          18.28106115352276,
          18.271148472324345,
          18.261555555035557,
          18.258837561803734,
          18.249164703537538,
          18.24812547083125,
          18.24165025166132,
          18.23605438324286,
          18.232696862191784,
          18.22646146595407,
          18.223024003925588,
          18.22126530242264,
          18.219106896032663,
          18.21247179490792,
          18.203038759573943,
          18.194405134014033,
          18.183772984018958,
          18.174100125752762,
          18.173380656956102,
          18.167704847560238,
          18.16738508365061,
          18.16506679530582,
          18.159950572751796,
          18.13956562351312,
          18.13349010923022,
          18.13285058141097,
          18.115183625404114,
          18.08616505060553,
          18.080489241209662,
          18.07984971339041,
          18.076012546474892,
          18.058665354377666,
          18.042837040851165,
          18.036281880703825,
          18.03428335626866,
          18.030606071307957,
          18.015737049510335,
          18.010301063046686,
          17.97105004314006,
          17.939953002928902,
          17.928601384137167,
          17.892867767236428,
          17.88903060032091,
          17.846661882295425,
          17.71811679062565,
          17.703407650782843,
          17.610676116991215,
          17.596846327899875,
          17.576301496706385,
          17.574702677158253,
          17.561352533931355,
          17.55423778694217,
          17.55287879032626,
          17.53609118507088,
          17.521941632069915,
          17.44855581481068,
          17.389159668597593,
          17.375090056574034,
          17.35606410395127,
          17.351747291171314,
          17.3296835814071,
          17.288434037065308,
          17.25565823632861,
          17.216726980331607,
          17.0525282127385,
          16.99648958757649,
          16.967151248868277,
          16.888649209055018,
          16.733403830931447,
          16.64954574563195,
          16.634197077969887,
          16.414279449124397,
          16.33058124577971,
          16.287812822867195,
          16.0423140812516,
          15.995468668491345,
          15.935672817391227,
          15.731023915230391,
          15.701685576522179,
          15.597602423938817,
          15.559390636738474,
          15.534928697652061,
          15.385439069901764,
          15.275280403035502,
          15.17495447639025,
          15.000123558802066,
          14.93633065883162,
          14.257551819672383,
          14.063455126529217,
          14.00054157731024,
          13.0129507424294,
          12.287886077351756,
          11.034091787707016
         ],
         "yaxis": "y"
        }
       ],
       "layout": {
        "legend": {
         "tracegroupgap": 0
        },
        "margin": {
         "t": 60
        },
        "template": {
         "data": {
          "bar": [
           {
            "error_x": {
             "color": "#2a3f5f"
            },
            "error_y": {
             "color": "#2a3f5f"
            },
            "marker": {
             "line": {
              "color": "#E5ECF6",
              "width": 0.5
             }
            },
            "type": "bar"
           }
          ],
          "barpolar": [
           {
            "marker": {
             "line": {
              "color": "#E5ECF6",
              "width": 0.5
             }
            },
            "type": "barpolar"
           }
          ],
          "carpet": [
           {
            "aaxis": {
             "endlinecolor": "#2a3f5f",
             "gridcolor": "white",
             "linecolor": "white",
             "minorgridcolor": "white",
             "startlinecolor": "#2a3f5f"
            },
            "baxis": {
             "endlinecolor": "#2a3f5f",
             "gridcolor": "white",
             "linecolor": "white",
             "minorgridcolor": "white",
             "startlinecolor": "#2a3f5f"
            },
            "type": "carpet"
           }
          ],
          "choropleth": [
           {
            "colorbar": {
             "outlinewidth": 0,
             "ticks": ""
            },
            "type": "choropleth"
           }
          ],
          "contour": [
           {
            "colorbar": {
             "outlinewidth": 0,
             "ticks": ""
            },
            "colorscale": [
             [
              0,
              "#0d0887"
             ],
             [
              0.1111111111111111,
              "#46039f"
             ],
             [
              0.2222222222222222,
              "#7201a8"
             ],
             [
              0.3333333333333333,
              "#9c179e"
             ],
             [
              0.4444444444444444,
              "#bd3786"
             ],
             [
              0.5555555555555556,
              "#d8576b"
             ],
             [
              0.6666666666666666,
              "#ed7953"
             ],
             [
              0.7777777777777778,
              "#fb9f3a"
             ],
             [
              0.8888888888888888,
              "#fdca26"
             ],
             [
              1,
              "#f0f921"
             ]
            ],
            "type": "contour"
           }
          ],
          "contourcarpet": [
           {
            "colorbar": {
             "outlinewidth": 0,
             "ticks": ""
            },
            "type": "contourcarpet"
           }
          ],
          "heatmap": [
           {
            "colorbar": {
             "outlinewidth": 0,
             "ticks": ""
            },
            "colorscale": [
             [
              0,
              "#0d0887"
             ],
             [
              0.1111111111111111,
              "#46039f"
             ],
             [
              0.2222222222222222,
              "#7201a8"
             ],
             [
              0.3333333333333333,
              "#9c179e"
             ],
             [
              0.4444444444444444,
              "#bd3786"
             ],
             [
              0.5555555555555556,
              "#d8576b"
             ],
             [
              0.6666666666666666,
              "#ed7953"
             ],
             [
              0.7777777777777778,
              "#fb9f3a"
             ],
             [
              0.8888888888888888,
              "#fdca26"
             ],
             [
              1,
              "#f0f921"
             ]
            ],
            "type": "heatmap"
           }
          ],
          "heatmapgl": [
           {
            "colorbar": {
             "outlinewidth": 0,
             "ticks": ""
            },
            "colorscale": [
             [
              0,
              "#0d0887"
             ],
             [
              0.1111111111111111,
              "#46039f"
             ],
             [
              0.2222222222222222,
              "#7201a8"
             ],
             [
              0.3333333333333333,
              "#9c179e"
             ],
             [
              0.4444444444444444,
              "#bd3786"
             ],
             [
              0.5555555555555556,
              "#d8576b"
             ],
             [
              0.6666666666666666,
              "#ed7953"
             ],
             [
              0.7777777777777778,
              "#fb9f3a"
             ],
             [
              0.8888888888888888,
              "#fdca26"
             ],
             [
              1,
              "#f0f921"
             ]
            ],
            "type": "heatmapgl"
           }
          ],
          "histogram": [
           {
            "marker": {
             "colorbar": {
              "outlinewidth": 0,
              "ticks": ""
             }
            },
            "type": "histogram"
           }
          ],
          "histogram2d": [
           {
            "colorbar": {
             "outlinewidth": 0,
             "ticks": ""
            },
            "colorscale": [
             [
              0,
              "#0d0887"
             ],
             [
              0.1111111111111111,
              "#46039f"
             ],
             [
              0.2222222222222222,
              "#7201a8"
             ],
             [
              0.3333333333333333,
              "#9c179e"
             ],
             [
              0.4444444444444444,
              "#bd3786"
             ],
             [
              0.5555555555555556,
              "#d8576b"
             ],
             [
              0.6666666666666666,
              "#ed7953"
             ],
             [
              0.7777777777777778,
              "#fb9f3a"
             ],
             [
              0.8888888888888888,
              "#fdca26"
             ],
             [
              1,
              "#f0f921"
             ]
            ],
            "type": "histogram2d"
           }
          ],
          "histogram2dcontour": [
           {
            "colorbar": {
             "outlinewidth": 0,
             "ticks": ""
            },
            "colorscale": [
             [
              0,
              "#0d0887"
             ],
             [
              0.1111111111111111,
              "#46039f"
             ],
             [
              0.2222222222222222,
              "#7201a8"
             ],
             [
              0.3333333333333333,
              "#9c179e"
             ],
             [
              0.4444444444444444,
              "#bd3786"
             ],
             [
              0.5555555555555556,
              "#d8576b"
             ],
             [
              0.6666666666666666,
              "#ed7953"
             ],
             [
              0.7777777777777778,
              "#fb9f3a"
             ],
             [
              0.8888888888888888,
              "#fdca26"
             ],
             [
              1,
              "#f0f921"
             ]
            ],
            "type": "histogram2dcontour"
           }
          ],
          "mesh3d": [
           {
            "colorbar": {
             "outlinewidth": 0,
             "ticks": ""
            },
            "type": "mesh3d"
           }
          ],
          "parcoords": [
           {
            "line": {
             "colorbar": {
              "outlinewidth": 0,
              "ticks": ""
             }
            },
            "type": "parcoords"
           }
          ],
          "pie": [
           {
            "automargin": true,
            "type": "pie"
           }
          ],
          "scatter": [
           {
            "marker": {
             "colorbar": {
              "outlinewidth": 0,
              "ticks": ""
             }
            },
            "type": "scatter"
           }
          ],
          "scatter3d": [
           {
            "line": {
             "colorbar": {
              "outlinewidth": 0,
              "ticks": ""
             }
            },
            "marker": {
             "colorbar": {
              "outlinewidth": 0,
              "ticks": ""
             }
            },
            "type": "scatter3d"
           }
          ],
          "scattercarpet": [
           {
            "marker": {
             "colorbar": {
              "outlinewidth": 0,
              "ticks": ""
             }
            },
            "type": "scattercarpet"
           }
          ],
          "scattergeo": [
           {
            "marker": {
             "colorbar": {
              "outlinewidth": 0,
              "ticks": ""
             }
            },
            "type": "scattergeo"
           }
          ],
          "scattergl": [
           {
            "marker": {
             "colorbar": {
              "outlinewidth": 0,
              "ticks": ""
             }
            },
            "type": "scattergl"
           }
          ],
          "scattermapbox": [
           {
            "marker": {
             "colorbar": {
              "outlinewidth": 0,
              "ticks": ""
             }
            },
            "type": "scattermapbox"
           }
          ],
          "scatterpolar": [
           {
            "marker": {
             "colorbar": {
              "outlinewidth": 0,
              "ticks": ""
             }
            },
            "type": "scatterpolar"
           }
          ],
          "scatterpolargl": [
           {
            "marker": {
             "colorbar": {
              "outlinewidth": 0,
              "ticks": ""
             }
            },
            "type": "scatterpolargl"
           }
          ],
          "scatterternary": [
           {
            "marker": {
             "colorbar": {
              "outlinewidth": 0,
              "ticks": ""
             }
            },
            "type": "scatterternary"
           }
          ],
          "surface": [
           {
            "colorbar": {
             "outlinewidth": 0,
             "ticks": ""
            },
            "colorscale": [
             [
              0,
              "#0d0887"
             ],
             [
              0.1111111111111111,
              "#46039f"
             ],
             [
              0.2222222222222222,
              "#7201a8"
             ],
             [
              0.3333333333333333,
              "#9c179e"
             ],
             [
              0.4444444444444444,
              "#bd3786"
             ],
             [
              0.5555555555555556,
              "#d8576b"
             ],
             [
              0.6666666666666666,
              "#ed7953"
             ],
             [
              0.7777777777777778,
              "#fb9f3a"
             ],
             [
              0.8888888888888888,
              "#fdca26"
             ],
             [
              1,
              "#f0f921"
             ]
            ],
            "type": "surface"
           }
          ],
          "table": [
           {
            "cells": {
             "fill": {
              "color": "#EBF0F8"
             },
             "line": {
              "color": "white"
             }
            },
            "header": {
             "fill": {
              "color": "#C8D4E3"
             },
             "line": {
              "color": "white"
             }
            },
            "type": "table"
           }
          ]
         },
         "layout": {
          "annotationdefaults": {
           "arrowcolor": "#2a3f5f",
           "arrowhead": 0,
           "arrowwidth": 1
          },
          "autotypenumbers": "strict",
          "coloraxis": {
           "colorbar": {
            "outlinewidth": 0,
            "ticks": ""
           }
          },
          "colorscale": {
           "diverging": [
            [
             0,
             "#8e0152"
            ],
            [
             0.1,
             "#c51b7d"
            ],
            [
             0.2,
             "#de77ae"
            ],
            [
             0.3,
             "#f1b6da"
            ],
            [
             0.4,
             "#fde0ef"
            ],
            [
             0.5,
             "#f7f7f7"
            ],
            [
             0.6,
             "#e6f5d0"
            ],
            [
             0.7,
             "#b8e186"
            ],
            [
             0.8,
             "#7fbc41"
            ],
            [
             0.9,
             "#4d9221"
            ],
            [
             1,
             "#276419"
            ]
           ],
           "sequential": [
            [
             0,
             "#0d0887"
            ],
            [
             0.1111111111111111,
             "#46039f"
            ],
            [
             0.2222222222222222,
             "#7201a8"
            ],
            [
             0.3333333333333333,
             "#9c179e"
            ],
            [
             0.4444444444444444,
             "#bd3786"
            ],
            [
             0.5555555555555556,
             "#d8576b"
            ],
            [
             0.6666666666666666,
             "#ed7953"
            ],
            [
             0.7777777777777778,
             "#fb9f3a"
            ],
            [
             0.8888888888888888,
             "#fdca26"
            ],
            [
             1,
             "#f0f921"
            ]
           ],
           "sequentialminus": [
            [
             0,
             "#0d0887"
            ],
            [
             0.1111111111111111,
             "#46039f"
            ],
            [
             0.2222222222222222,
             "#7201a8"
            ],
            [
             0.3333333333333333,
             "#9c179e"
            ],
            [
             0.4444444444444444,
             "#bd3786"
            ],
            [
             0.5555555555555556,
             "#d8576b"
            ],
            [
             0.6666666666666666,
             "#ed7953"
            ],
            [
             0.7777777777777778,
             "#fb9f3a"
            ],
            [
             0.8888888888888888,
             "#fdca26"
            ],
            [
             1,
             "#f0f921"
            ]
           ]
          },
          "colorway": [
           "#636efa",
           "#EF553B",
           "#00cc96",
           "#ab63fa",
           "#FFA15A",
           "#19d3f3",
           "#FF6692",
           "#B6E880",
           "#FF97FF",
           "#FECB52"
          ],
          "font": {
           "color": "#2a3f5f"
          },
          "geo": {
           "bgcolor": "white",
           "lakecolor": "white",
           "landcolor": "#E5ECF6",
           "showlakes": true,
           "showland": true,
           "subunitcolor": "white"
          },
          "hoverlabel": {
           "align": "left"
          },
          "hovermode": "closest",
          "mapbox": {
           "style": "light"
          },
          "paper_bgcolor": "white",
          "plot_bgcolor": "#E5ECF6",
          "polar": {
           "angularaxis": {
            "gridcolor": "white",
            "linecolor": "white",
            "ticks": ""
           },
           "bgcolor": "#E5ECF6",
           "radialaxis": {
            "gridcolor": "white",
            "linecolor": "white",
            "ticks": ""
           }
          },
          "scene": {
           "xaxis": {
            "backgroundcolor": "#E5ECF6",
            "gridcolor": "white",
            "gridwidth": 2,
            "linecolor": "white",
            "showbackground": true,
            "ticks": "",
            "zerolinecolor": "white"
           },
           "yaxis": {
            "backgroundcolor": "#E5ECF6",
            "gridcolor": "white",
            "gridwidth": 2,
            "linecolor": "white",
            "showbackground": true,
            "ticks": "",
            "zerolinecolor": "white"
           },
           "zaxis": {
            "backgroundcolor": "#E5ECF6",
            "gridcolor": "white",
            "gridwidth": 2,
            "linecolor": "white",
            "showbackground": true,
            "ticks": "",
            "zerolinecolor": "white"
           }
          },
          "shapedefaults": {
           "line": {
            "color": "#2a3f5f"
           }
          },
          "ternary": {
           "aaxis": {
            "gridcolor": "white",
            "linecolor": "white",
            "ticks": ""
           },
           "baxis": {
            "gridcolor": "white",
            "linecolor": "white",
            "ticks": ""
           },
           "bgcolor": "#E5ECF6",
           "caxis": {
            "gridcolor": "white",
            "linecolor": "white",
            "ticks": ""
           }
          },
          "title": {
           "x": 0.05
          },
          "xaxis": {
           "automargin": true,
           "gridcolor": "white",
           "linecolor": "white",
           "ticks": "",
           "title": {
            "standoff": 15
           },
           "zerolinecolor": "white",
           "zerolinewidth": 2
          },
          "yaxis": {
           "automargin": true,
           "gridcolor": "white",
           "linecolor": "white",
           "ticks": "",
           "title": {
            "standoff": 15
           },
           "zerolinecolor": "white",
           "zerolinewidth": 2
          }
         }
        },
        "xaxis": {
         "anchor": "y",
         "domain": [
          0,
          1
         ],
         "title": {
          "text": "num_flights"
         }
        },
        "yaxis": {
         "anchor": "x",
         "domain": [
          0,
          1
         ],
         "title": {
          "text": "avg_delay"
         }
        }
       }
      },
      "text/html": [
       "<div>                            <div id=\"32e972ff-0180-45a2-b27d-e38cee9d2de2\" class=\"plotly-graph-div\" style=\"height:525px; width:100%;\"></div>            <script type=\"text/javascript\">                require([\"plotly\"], function(Plotly) {                    window.PLOTLYENV=window.PLOTLYENV || {};                                    if (document.getElementById(\"32e972ff-0180-45a2-b27d-e38cee9d2de2\")) {                    Plotly.newPlot(                        \"32e972ff-0180-45a2-b27d-e38cee9d2de2\",                        [{\"hovertemplate\": \"num_flights=%{x}<br>avg_delay=%{y}<extra></extra>\", \"legendgroup\": \"\", \"marker\": {\"color\": \"#636efa\", \"symbol\": \"circle\"}, \"mode\": \"markers\", \"name\": \"\", \"orientation\": \"v\", \"showlegend\": false, \"type\": \"scatter\", \"x\": [93418, 77734, 68664, 56310, 55523, 53095, 44604, 43806, 41619, 40364, 38986, 37116, 36810, 36332, 35030, 34663, 32103, 31355, 30769, 27698, 27163, 26116, 23365, 23173, 22124, 20182, 19200, 18833, 18132, 16078, 15591, 15181, 14665, 14389, 14335, 14097, 13921, 13178, 12260, 12083, 11873, 11856, 11767, 11600, 11580, 11323, 11150, 9990, 9806, 8198, 7668, 7620, 7173, 7031, 6642, 6151, 6083, 5897, 5851, 5826, 5744, 5546, 5329, 5281, 5273, 5202, 4839, 4618, 4610, 4534, 4279, 4215, 4186, 4182, 4111, 4102, 3981, 3848, 3740, 3622, 3539, 3512, 3490, 3447, 3369, 3327, 3257, 3176, 3163, 3042, 3008, 2888, 2764, 2736, 2735, 2718, 2641, 2472, 2304, 2253, 2203, 2177, 2170, 2155, 2134, 2121, 2069, 1965, 1933, 1926, 1913, 1905, 1864, 1861, 1797, 1768, 1761, 1722, 1719, 1711, 1651, 1610, 1603, 1593, 1582, 1579, 1565, 1553, 1488, 1483, 1417, 1416, 1405, 1369, 1363, 1285, 1262, 1254, 1249, 1189, 1178, 1175, 1120, 1119, 1117, 1096, 1086, 1078, 1066, 1056, 1055, 1050, 1015, 980, 964, 952, 938, 936, 929, 917, 902, 887, 881, 870, 834, 807, 796, 788, 782, 777, 763, 760, 758, 753, 751, 746, 713, 677, 674, 667, 655, 637, 617, 609, 606, 605, 601, 601, 596, 592, 589, 566, 559, 558, 555, 552, 551, 548, 534, 521, 519, 514, 509, 506, 497, 490, 485, 484, 467, 465, 443, 442, 433, 420, 410, 403, 402, 393, 377, 375, 368, 365, 356, 349, 346, 341, 340, 335, 330, 326, 325, 324, 313, 307, 298, 292, 291, 281, 279, 277, 270, 270, 270, 268, 262, 258, 257, 255, 253, 252, 250, 249, 248, 244, 244, 242, 240, 239, 238, 233, 230, 230, 229, 218, 218, 217, 207, 204, 201, 200, 199, 198, 197, 189, 180, 180, 180, 180, 180, 180, 180, 180, 180, 180, 180, 180, 180, 180, 180, 180, 180, 180, 179, 179, 179, 178, 178, 171, 169, 168, 167, 167, 167, 167, 167, 167, 166, 158, 157, 154, 154, 154, 154, 154, 154, 154, 154, 154, 154, 153, 153, 153, 153, 153, 153, 153, 136, 126, 123, 116, 116, 93, 90, 90, 68, 50, 45, 31, 27, 27, 26, 25, 4], \"xaxis\": \"x\", \"y\": [9.283872781736978, 29.889992747376056, 20.04091930754231, 11.818852340763184, 19.370646719767205, 13.168526570977795, 12.154268962990106, 14.172923461244887, 22.227746471849603, 29.5436597152234, 15.094061483579898, 16.49694585075941, 14.372334213818991, 16.69540149458423, 15.792916666666667, 25.702189824994733, 25.829125467985026, 13.037215668382974, 13.463865825307208, 10.433753885536662, 8.591755068141493, 17.96123519129928, 12.180569229392285, 15.802778141790068, 11.031225351459193, 13.998383756755393, 24.515469204033963, 15.579782881457641, 12.348677036101707, 16.763434579439252, 16.000197005516153, 10.121139028475712, 13.654783841247342, 7.968620443173695, 15.353125222214322, 10.618437162405474, 7.972864541542052, 11.787740667976424, 12.520819285232635, 15.313416484072143, 11.388133391078386, 12.406516814776097, 14.852210674652104, 7.884438955539872, 3.1615417929839755, 16.921123960968558, 13.381370014771047, 8.928294968425341, 4.929930346189833, 10.317803453845196, 19.771701619325725, 18.39393521709166, 8.252744078567302, 15.599939795304033, 19.97585788035226, 7.2602090819993474, 16.745044429254957, 15.194667131404671, 11.054789740010472, 15.948998178506374, 14.288028802880287, 16.507906976744184, 7.128896538535093, 16.330433101314767, 13.376573088092933, 10.312758010615292, 10.816641964852849, 21.448160535117054, 8.173932188463231, 23.439397450753194, 12.894648829431436, 10.170212765957444, 10.095652173913043, 20.446032528339078, 19.786128625472887, 8.49664596273292, 6.690464048954616, -5.504246284501061, 15.069285324604476, 8.549363507779349, 9.302620213072274, -1.5217765042979945, 7.103607503607504, 18.37147239263804, 16.347961406784936, 1.4018691588785046, 15.11229946524064, 25.90657894736842, 10.609536082474227, 10.700752393980848, 13.132538569424966, 19.853262786596122, 25.548179059180576, 12.769402985074628, 66.65186426476751, 13.446107784431137, 8.184351145038168, 14.735714285714286, 21.935339021104628, 11.66209419295839, 8.20808174640037, 6.462658525129169, 27.4361549497848, 28.13247011952191, 9.896501457725947, 18.455762792922044, 34.57801418439716, 18.87826541274817, 22.63976483164083, 2.6834645669291337, 5.533509234828496, 10.368364611260054, -5.9556277056277045, 8.557876905702992, 9.20169971671388, 29.04234724742892, 28.97983870967742, 14.762165450121655, 22.46858485026424, 21.51842900302115, 8.107567229518446, 12.805573147561748, 17.61972744970798, 4.9525316455696204, 19.557291666666668, 7.570317563188594, 22.92682926829268, 22.2234823215477, 50.664265129682995, 3.547375596455351, 10.401301518438178, 20.542709867452132, 0.4419101924447612, 68.69086651053864, 3.3363567649281936, 55.08259109311741, 9.629421221864954, 16.647875816993466, 10.724422442244224, 12.437768240343347, 35.4249547920434, 27.713652482269502, 31.598298676748577, 12.81785392245266, 16.50321987120515, 21.0827718960539, 11.963720930232556, 21.201970443349754, 11.108262108262107, 4.944284341978866, 16.351724137931033, 32.74628344895937, -13.73873873873874, 17.229473684210525, 7.473347547974414, 29.52877307274701, -0.2539325842696629, 44.699551569506724, 14.19042437431991, 46.03410475030451, 35.610328638497656, 3.5777525539160044, 20.987414187643022, -4.377011494252874, 5.445246690734057, 4.010012515644556, 28.640479360852197, 15.269692923898532, 8.390967741935484, 62.14583333333334, 37.73342354533153, 1.936254980079681, 17.234270414993308, 47.676753782668506, 8.892757660167131, 19.728629579375852, 16.731743666169894, 8.388639760837071, 30.342229199372053, 17.736593059936908, -0.5369230769230771, 16.8256, 7.020618556701031, 20.77574750830565, 10.135506003430534, 15.786096256684491, 0.935483870967742, -0.7262103505843072, 35.38086642599278, 21.67747440273037, 7.00513698630137, 34.80633147113594, 28.685658153241647, 9.513994910941477, 34.701960784313734, 20.448339483394832, 21.153564899451553, 5.824626865671643, 0.8988549618320609, 23.543388429752067, 9.390291262135925, -3.5, 32.17043121149897, 2.261569416498994, 3.7448132780082983, 12.3305954825462, -2.4131355932203387, 3.4737945492662474, 21.575471698113212, 32.412280701754376, 3.7090909090909085, 30.582524271844658, 27.163507109004737, 13.697201017811706, 25.058080808080806, 26.684079601990053, 20.265957446808514, -5.518041237113402, 38.25205479452055, 0.21600000000000003, 39.00550964187328, 62.96716417910448, -0.9410112359550562, 13.50920245398773, 39.488023952095816, -1.90990990990991, 14.207100591715975, 13.658536585365852, 8.240853658536585, 46.73063973063972, 34.59139784946237, 13.157728706624606, 11.458193979933109, 45.820788530465954, 49.63537906137184, 21.067857142857143, 38.53488372093023, 29.806083650190114, 9.187725631768952, 1.1132075471698113, -3.651851851851852, 30.660231660231663, 77.86590038314176, 93.26530612244898, 9.684, 16.582959641255606, 16.705645161290324, -14.262096774193546, 9.146825396825397, -1.669322709163347, 6.622489959839357, -2.7096774193548385, 2.6666666666666665, 101.68036529680367, -20.726086956521737, 15.625, -5.575630252100839, 13.17094017094017, 37.55140186915888, 12.013215859030836, 72.97619047619048, 8.960352422907489, -5.084905660377358, 56.530232558139545, 69.87692307692308, 24.92592592592593, -7.768472906403941, -2.453608247422681, 51.548387096774185, 62.03664921465968, -12.570707070707073, -9.456410256410255, 6.719387755102041, 17.489247311827956, 25.51136363636364, 15.339080459770114, 15.183544303797467, -1.4464285714285714, 13.371951219512196, -2.888888888888889, -0.6369047619047619, -19.761627906976745, 33.35294117647059, 50.32558139534883, -15.422360248447205, 28.12244897959184, 2.9710982658959537, 35.99346405228758, 32.52601156069364, 6.705202312138728, 33.85093167701864, 24.36, 5.804469273743018, 11.293785310734465, 43.38636363636363, -14.790697674418604, -21.134146341463413, 42.41916167664671, 32.958333333333336, 20.328859060402685, 51.49677419354839, -2.748466257668712, 7.037037037037037, 19.856287425149702, 54.42207792207793, 36.2, 23.180722891566266, 42.412213740458014, -8.294117647058824, 52.074074074074076, -12.144736842105265, 66.76428571428572, 6.190789473684211, 26.079136690647477, 43.85507246376812, 8.473333333333333, 23.02054794520548, 16.428571428571427, 65.23880597014926, 3.8285714285714287, 23.95833333333333, 11.55944055944056, 0.7588652482269503, 22.58169934640523, 38.07086614173228, 16.82638888888889, -3.649253731343284, 5.557377049180328, 31.442622950819672, 21.47826086956522, 0.6956521739130435, 35.82608695652174, 60.22988505747128, 87.9625, 29.564516129032263, 32.38297872340426, 21.511111111111113, 53.806451612903224, 26.592592592592588, 11.851851851851851, 1.9130434782608696, 29.48, -13.25], \"yaxis\": \"y\"}, {\"hovertemplate\": \"<b>OLS trendline</b><br>avg_delay = -7.9941e-05 * num_flights + 18.502<br>R<sup>2</sup>=0.002747<br><br>num_flights=%{x}<br>avg_delay=%{y} <b>(trend)</b><extra></extra>\", \"legendgroup\": \"\", \"marker\": {\"color\": \"#636efa\", \"symbol\": \"circle\"}, \"mode\": \"lines\", \"name\": \"\", \"showlegend\": false, \"type\": \"scatter\", \"x\": [4, 25, 26, 27, 27, 31, 45, 50, 68, 90, 90, 93, 116, 116, 123, 126, 136, 153, 153, 153, 153, 153, 153, 153, 154, 154, 154, 154, 154, 154, 154, 154, 154, 154, 157, 158, 166, 167, 167, 167, 167, 167, 167, 168, 169, 171, 178, 178, 179, 179, 179, 180, 180, 180, 180, 180, 180, 180, 180, 180, 180, 180, 180, 180, 180, 180, 180, 180, 180, 189, 197, 198, 199, 200, 201, 204, 207, 217, 218, 218, 229, 230, 230, 233, 238, 239, 240, 242, 244, 244, 248, 249, 250, 252, 253, 255, 257, 258, 262, 268, 270, 270, 270, 277, 279, 281, 291, 292, 298, 307, 313, 324, 325, 326, 330, 335, 340, 341, 346, 349, 356, 365, 368, 375, 377, 393, 402, 403, 410, 420, 433, 442, 443, 465, 467, 484, 485, 490, 497, 506, 509, 514, 519, 521, 534, 548, 551, 552, 555, 558, 559, 566, 589, 592, 596, 601, 601, 605, 606, 609, 617, 637, 655, 667, 674, 677, 713, 746, 751, 753, 758, 760, 763, 777, 782, 788, 796, 807, 834, 870, 881, 887, 902, 917, 929, 936, 938, 952, 964, 980, 1015, 1050, 1055, 1056, 1066, 1078, 1086, 1096, 1117, 1119, 1120, 1175, 1178, 1189, 1249, 1254, 1262, 1285, 1363, 1369, 1405, 1416, 1417, 1483, 1488, 1553, 1565, 1579, 1582, 1593, 1603, 1610, 1651, 1711, 1719, 1722, 1761, 1768, 1797, 1861, 1864, 1905, 1913, 1926, 1933, 1965, 2069, 2121, 2134, 2155, 2170, 2177, 2203, 2253, 2304, 2472, 2641, 2718, 2735, 2736, 2764, 2888, 3008, 3042, 3163, 3176, 3257, 3327, 3369, 3447, 3490, 3512, 3539, 3622, 3740, 3848, 3981, 4102, 4111, 4182, 4186, 4215, 4279, 4534, 4610, 4618, 4839, 5202, 5273, 5281, 5329, 5546, 5744, 5826, 5851, 5897, 6083, 6151, 6642, 7031, 7173, 7620, 7668, 8198, 9806, 9990, 11150, 11323, 11580, 11600, 11767, 11856, 11873, 12083, 12260, 13178, 13921, 14097, 14335, 14389, 14665, 15181, 15591, 16078, 18132, 18833, 19200, 20182, 22124, 23173, 23365, 26116, 27163, 27698, 30769, 31355, 32103, 34663, 35030, 36332, 36810, 37116, 38986, 40364, 41619, 43806, 44604, 53095, 55523, 56310, 68664, 77734, 93418], \"xaxis\": \"x\", \"y\": [18.50169825116491, 18.50001949063937, 18.499939549661967, 18.49985960868456, 18.49985960868456, 18.499539844774933, 18.498420671091242, 18.49802096620421, 18.496582028610888, 18.494823327107945, 18.494823327107945, 18.494583504175726, 18.492744861695375, 18.492744861695375, 18.49218527485353, 18.491945451921307, 18.491146042147243, 18.48978704553133, 18.48978704553133, 18.48978704553133, 18.48978704553133, 18.48978704553133, 18.48978704553133, 18.48978704553133, 18.489707104553926, 18.489707104553926, 18.489707104553926, 18.489707104553926, 18.489707104553926, 18.489707104553926, 18.489707104553926, 18.489707104553926, 18.489707104553926, 18.489707104553926, 18.489467281621703, 18.4893873406443, 18.488747812825046, 18.48866787184764, 18.48866787184764, 18.48866787184764, 18.48866787184764, 18.48866787184764, 18.48866787184764, 18.48858793087023, 18.488507989892824, 18.488348107938013, 18.487788521096167, 18.487788521096167, 18.48770858011876, 18.48770858011876, 18.48770858011876, 18.487628639141352, 18.487628639141352, 18.487628639141352, 18.487628639141352, 18.487628639141352, 18.487628639141352, 18.487628639141352, 18.487628639141352, 18.487628639141352, 18.487628639141352, 18.487628639141352, 18.487628639141352, 18.487628639141352, 18.487628639141352, 18.487628639141352, 18.487628639141352, 18.487628639141352, 18.487628639141352, 18.486909170344695, 18.486269642525443, 18.486189701548035, 18.486109760570628, 18.48602981959322, 18.485949878615816, 18.485710055683594, 18.485470232751375, 18.48467082297731, 18.484590881999903, 18.484590881999903, 18.48371153124843, 18.483631590271024, 18.483631590271024, 18.483391767338805, 18.48299206245177, 18.482912121474364, 18.48283218049696, 18.482672298542145, 18.482512416587333, 18.482512416587333, 18.482192652677707, 18.4821127117003, 18.482032770722892, 18.48187288876808, 18.481792947790673, 18.48163306583586, 18.481473183881047, 18.48139324290364, 18.481073478994013, 18.480593833129575, 18.48043395117476, 18.48043395117476, 18.48043395117476, 18.479874364332915, 18.479714482378103, 18.47955460042329, 18.478755190649224, 18.478675249671817, 18.47819560380738, 18.47747613501072, 18.476996489146277, 18.476117138394805, 18.4760371974174, 18.475957256439994, 18.475637492530367, 18.475237787643334, 18.4748380827563, 18.474758141778896, 18.474358436891862, 18.474118613959643, 18.473559027117794, 18.472839558321137, 18.47259973538892, 18.47204014854707, 18.471880266592258, 18.470601210953753, 18.469881742157092, 18.46980180117969, 18.46924221433784, 18.468442804563775, 18.46740357185749, 18.46668410306083, 18.466604162083424, 18.464845460580477, 18.464685578625666, 18.463326582009753, 18.46324664103235, 18.462846936145315, 18.46228734930347, 18.46156788050681, 18.46132805757459, 18.460928352687556, 18.460528647800523, 18.46036876584571, 18.459329533139424, 18.458210359455734, 18.457970536523515, 18.457890595546107, 18.45765077261389, 18.457410949681666, 18.457331008704262, 18.456771421862413, 18.454932779382062, 18.454692956449843, 18.454373192540217, 18.453973487653183, 18.453973487653183, 18.453653723743557, 18.453573782766153, 18.45333395983393, 18.45269443201468, 18.45109561246655, 18.44965667487323, 18.44869738314435, 18.448137796302504, 18.447897973370285, 18.445020098183647, 18.442382045929232, 18.4419823410422, 18.441822459087383, 18.441422754200353, 18.441262872245538, 18.44102304931332, 18.43990387562963, 18.439504170742595, 18.439024524878153, 18.438384997058904, 18.43750564630743, 18.43534723991745, 18.432469364730817, 18.431590013979342, 18.431110368114904, 18.429911253453806, 18.428712138792708, 18.42775284706383, 18.42719326022198, 18.42703337826717, 18.425914204583478, 18.4249549128546, 18.423675857216093, 18.420877923006863, 18.418079988797633, 18.4176802839106, 18.41760034293319, 18.416800933159127, 18.415841641430248, 18.415202113610995, 18.41440270383693, 18.41272394331139, 18.41256406135658, 18.412484120379172, 18.40808736662181, 18.40784754368959, 18.406968192938116, 18.402171734293724, 18.40177202940669, 18.401132501587437, 18.399293859107086, 18.393058462869373, 18.392578817004935, 18.389700941818298, 18.388821591066826, 18.38874165008942, 18.383465545580584, 18.38306584069355, 18.377869677162124, 18.376910385433245, 18.375791211749554, 18.375551388817332, 18.37467203806586, 18.373872628291796, 18.37331304144995, 18.37003546137628, 18.365239002731887, 18.364599474912634, 18.36435965198041, 18.361241953861555, 18.36068236701971, 18.35836407867492, 18.3532478561209, 18.35300803318868, 18.349730453115008, 18.34909092529576, 18.348051692589472, 18.347492105747627, 18.344933994470615, 18.336620132820332, 18.33246320199519, 18.331423969288902, 18.329745208763367, 18.32854609410227, 18.32798650726042, 18.32590804184785, 18.32191099297752, 18.317834003129786, 18.30440391892548, 18.29089389374377, 18.284738438483462, 18.283379441867552, 18.283299500890145, 18.28106115352276, 18.271148472324345, 18.261555555035557, 18.258837561803734, 18.249164703537538, 18.24812547083125, 18.24165025166132, 18.23605438324286, 18.232696862191784, 18.22646146595407, 18.223024003925588, 18.22126530242264, 18.219106896032663, 18.21247179490792, 18.203038759573943, 18.194405134014033, 18.183772984018958, 18.174100125752762, 18.173380656956102, 18.167704847560238, 18.16738508365061, 18.16506679530582, 18.159950572751796, 18.13956562351312, 18.13349010923022, 18.13285058141097, 18.115183625404114, 18.08616505060553, 18.080489241209662, 18.07984971339041, 18.076012546474892, 18.058665354377666, 18.042837040851165, 18.036281880703825, 18.03428335626866, 18.030606071307957, 18.015737049510335, 18.010301063046686, 17.97105004314006, 17.939953002928902, 17.928601384137167, 17.892867767236428, 17.88903060032091, 17.846661882295425, 17.71811679062565, 17.703407650782843, 17.610676116991215, 17.596846327899875, 17.576301496706385, 17.574702677158253, 17.561352533931355, 17.55423778694217, 17.55287879032626, 17.53609118507088, 17.521941632069915, 17.44855581481068, 17.389159668597593, 17.375090056574034, 17.35606410395127, 17.351747291171314, 17.3296835814071, 17.288434037065308, 17.25565823632861, 17.216726980331607, 17.0525282127385, 16.99648958757649, 16.967151248868277, 16.888649209055018, 16.733403830931447, 16.64954574563195, 16.634197077969887, 16.414279449124397, 16.33058124577971, 16.287812822867195, 16.0423140812516, 15.995468668491345, 15.935672817391227, 15.731023915230391, 15.701685576522179, 15.597602423938817, 15.559390636738474, 15.534928697652061, 15.385439069901764, 15.275280403035502, 15.17495447639025, 15.000123558802066, 14.93633065883162, 14.257551819672383, 14.063455126529217, 14.00054157731024, 13.0129507424294, 12.287886077351756, 11.034091787707016], \"yaxis\": \"y\"}],                        {\"legend\": {\"tracegroupgap\": 0}, \"margin\": {\"t\": 60}, \"template\": {\"data\": {\"bar\": [{\"error_x\": {\"color\": \"#2a3f5f\"}, \"error_y\": {\"color\": \"#2a3f5f\"}, \"marker\": {\"line\": {\"color\": \"#E5ECF6\", \"width\": 0.5}}, \"type\": \"bar\"}], \"barpolar\": [{\"marker\": {\"line\": {\"color\": \"#E5ECF6\", \"width\": 0.5}}, \"type\": \"barpolar\"}], \"carpet\": [{\"aaxis\": {\"endlinecolor\": \"#2a3f5f\", \"gridcolor\": \"white\", \"linecolor\": \"white\", \"minorgridcolor\": \"white\", \"startlinecolor\": \"#2a3f5f\"}, \"baxis\": {\"endlinecolor\": \"#2a3f5f\", \"gridcolor\": \"white\", \"linecolor\": \"white\", \"minorgridcolor\": \"white\", \"startlinecolor\": \"#2a3f5f\"}, \"type\": \"carpet\"}], \"choropleth\": [{\"colorbar\": {\"outlinewidth\": 0, \"ticks\": \"\"}, \"type\": \"choropleth\"}], \"contour\": [{\"colorbar\": {\"outlinewidth\": 0, \"ticks\": \"\"}, \"colorscale\": [[0.0, \"#0d0887\"], [0.1111111111111111, \"#46039f\"], [0.2222222222222222, \"#7201a8\"], [0.3333333333333333, \"#9c179e\"], [0.4444444444444444, \"#bd3786\"], [0.5555555555555556, \"#d8576b\"], [0.6666666666666666, \"#ed7953\"], [0.7777777777777778, \"#fb9f3a\"], [0.8888888888888888, \"#fdca26\"], [1.0, \"#f0f921\"]], \"type\": \"contour\"}], \"contourcarpet\": [{\"colorbar\": {\"outlinewidth\": 0, \"ticks\": \"\"}, \"type\": \"contourcarpet\"}], \"heatmap\": [{\"colorbar\": {\"outlinewidth\": 0, \"ticks\": \"\"}, \"colorscale\": [[0.0, \"#0d0887\"], [0.1111111111111111, \"#46039f\"], [0.2222222222222222, \"#7201a8\"], [0.3333333333333333, \"#9c179e\"], [0.4444444444444444, \"#bd3786\"], [0.5555555555555556, \"#d8576b\"], [0.6666666666666666, \"#ed7953\"], [0.7777777777777778, \"#fb9f3a\"], [0.8888888888888888, \"#fdca26\"], [1.0, \"#f0f921\"]], \"type\": \"heatmap\"}], \"heatmapgl\": [{\"colorbar\": {\"outlinewidth\": 0, \"ticks\": \"\"}, \"colorscale\": [[0.0, \"#0d0887\"], [0.1111111111111111, \"#46039f\"], [0.2222222222222222, \"#7201a8\"], [0.3333333333333333, \"#9c179e\"], [0.4444444444444444, \"#bd3786\"], [0.5555555555555556, \"#d8576b\"], [0.6666666666666666, \"#ed7953\"], [0.7777777777777778, \"#fb9f3a\"], [0.8888888888888888, \"#fdca26\"], [1.0, \"#f0f921\"]], \"type\": \"heatmapgl\"}], \"histogram\": [{\"marker\": {\"colorbar\": {\"outlinewidth\": 0, \"ticks\": \"\"}}, \"type\": \"histogram\"}], \"histogram2d\": [{\"colorbar\": {\"outlinewidth\": 0, \"ticks\": \"\"}, \"colorscale\": [[0.0, \"#0d0887\"], [0.1111111111111111, \"#46039f\"], [0.2222222222222222, \"#7201a8\"], [0.3333333333333333, \"#9c179e\"], [0.4444444444444444, \"#bd3786\"], [0.5555555555555556, \"#d8576b\"], [0.6666666666666666, \"#ed7953\"], [0.7777777777777778, \"#fb9f3a\"], [0.8888888888888888, \"#fdca26\"], [1.0, \"#f0f921\"]], \"type\": \"histogram2d\"}], \"histogram2dcontour\": [{\"colorbar\": {\"outlinewidth\": 0, \"ticks\": \"\"}, \"colorscale\": [[0.0, \"#0d0887\"], [0.1111111111111111, \"#46039f\"], [0.2222222222222222, \"#7201a8\"], [0.3333333333333333, \"#9c179e\"], [0.4444444444444444, \"#bd3786\"], [0.5555555555555556, \"#d8576b\"], [0.6666666666666666, \"#ed7953\"], [0.7777777777777778, \"#fb9f3a\"], [0.8888888888888888, \"#fdca26\"], [1.0, \"#f0f921\"]], \"type\": \"histogram2dcontour\"}], \"mesh3d\": [{\"colorbar\": {\"outlinewidth\": 0, \"ticks\": \"\"}, \"type\": \"mesh3d\"}], \"parcoords\": [{\"line\": {\"colorbar\": {\"outlinewidth\": 0, \"ticks\": \"\"}}, \"type\": \"parcoords\"}], \"pie\": [{\"automargin\": true, \"type\": \"pie\"}], \"scatter\": [{\"marker\": {\"colorbar\": {\"outlinewidth\": 0, \"ticks\": \"\"}}, \"type\": \"scatter\"}], \"scatter3d\": [{\"line\": {\"colorbar\": {\"outlinewidth\": 0, \"ticks\": \"\"}}, \"marker\": {\"colorbar\": {\"outlinewidth\": 0, \"ticks\": \"\"}}, \"type\": \"scatter3d\"}], \"scattercarpet\": [{\"marker\": {\"colorbar\": {\"outlinewidth\": 0, \"ticks\": \"\"}}, \"type\": \"scattercarpet\"}], \"scattergeo\": [{\"marker\": {\"colorbar\": {\"outlinewidth\": 0, \"ticks\": \"\"}}, \"type\": \"scattergeo\"}], \"scattergl\": [{\"marker\": {\"colorbar\": {\"outlinewidth\": 0, \"ticks\": \"\"}}, \"type\": \"scattergl\"}], \"scattermapbox\": [{\"marker\": {\"colorbar\": {\"outlinewidth\": 0, \"ticks\": \"\"}}, \"type\": \"scattermapbox\"}], \"scatterpolar\": [{\"marker\": {\"colorbar\": {\"outlinewidth\": 0, \"ticks\": \"\"}}, \"type\": \"scatterpolar\"}], \"scatterpolargl\": [{\"marker\": {\"colorbar\": {\"outlinewidth\": 0, \"ticks\": \"\"}}, \"type\": \"scatterpolargl\"}], \"scatterternary\": [{\"marker\": {\"colorbar\": {\"outlinewidth\": 0, \"ticks\": \"\"}}, \"type\": \"scatterternary\"}], \"surface\": [{\"colorbar\": {\"outlinewidth\": 0, \"ticks\": \"\"}, \"colorscale\": [[0.0, \"#0d0887\"], [0.1111111111111111, \"#46039f\"], [0.2222222222222222, \"#7201a8\"], [0.3333333333333333, \"#9c179e\"], [0.4444444444444444, \"#bd3786\"], [0.5555555555555556, \"#d8576b\"], [0.6666666666666666, \"#ed7953\"], [0.7777777777777778, \"#fb9f3a\"], [0.8888888888888888, \"#fdca26\"], [1.0, \"#f0f921\"]], \"type\": \"surface\"}], \"table\": [{\"cells\": {\"fill\": {\"color\": \"#EBF0F8\"}, \"line\": {\"color\": \"white\"}}, \"header\": {\"fill\": {\"color\": \"#C8D4E3\"}, \"line\": {\"color\": \"white\"}}, \"type\": \"table\"}]}, \"layout\": {\"annotationdefaults\": {\"arrowcolor\": \"#2a3f5f\", \"arrowhead\": 0, \"arrowwidth\": 1}, \"autotypenumbers\": \"strict\", \"coloraxis\": {\"colorbar\": {\"outlinewidth\": 0, \"ticks\": \"\"}}, \"colorscale\": {\"diverging\": [[0, \"#8e0152\"], [0.1, \"#c51b7d\"], [0.2, \"#de77ae\"], [0.3, \"#f1b6da\"], [0.4, \"#fde0ef\"], [0.5, \"#f7f7f7\"], [0.6, \"#e6f5d0\"], [0.7, \"#b8e186\"], [0.8, \"#7fbc41\"], [0.9, \"#4d9221\"], [1, \"#276419\"]], \"sequential\": [[0.0, \"#0d0887\"], [0.1111111111111111, \"#46039f\"], [0.2222222222222222, \"#7201a8\"], [0.3333333333333333, \"#9c179e\"], [0.4444444444444444, \"#bd3786\"], [0.5555555555555556, \"#d8576b\"], [0.6666666666666666, \"#ed7953\"], [0.7777777777777778, \"#fb9f3a\"], [0.8888888888888888, \"#fdca26\"], [1.0, \"#f0f921\"]], \"sequentialminus\": [[0.0, \"#0d0887\"], [0.1111111111111111, \"#46039f\"], [0.2222222222222222, \"#7201a8\"], [0.3333333333333333, \"#9c179e\"], [0.4444444444444444, \"#bd3786\"], [0.5555555555555556, \"#d8576b\"], [0.6666666666666666, \"#ed7953\"], [0.7777777777777778, \"#fb9f3a\"], [0.8888888888888888, \"#fdca26\"], [1.0, \"#f0f921\"]]}, \"colorway\": [\"#636efa\", \"#EF553B\", \"#00cc96\", \"#ab63fa\", \"#FFA15A\", \"#19d3f3\", \"#FF6692\", \"#B6E880\", \"#FF97FF\", \"#FECB52\"], \"font\": {\"color\": \"#2a3f5f\"}, \"geo\": {\"bgcolor\": \"white\", \"lakecolor\": \"white\", \"landcolor\": \"#E5ECF6\", \"showlakes\": true, \"showland\": true, \"subunitcolor\": \"white\"}, \"hoverlabel\": {\"align\": \"left\"}, \"hovermode\": \"closest\", \"mapbox\": {\"style\": \"light\"}, \"paper_bgcolor\": \"white\", \"plot_bgcolor\": \"#E5ECF6\", \"polar\": {\"angularaxis\": {\"gridcolor\": \"white\", \"linecolor\": \"white\", \"ticks\": \"\"}, \"bgcolor\": \"#E5ECF6\", \"radialaxis\": {\"gridcolor\": \"white\", \"linecolor\": \"white\", \"ticks\": \"\"}}, \"scene\": {\"xaxis\": {\"backgroundcolor\": \"#E5ECF6\", \"gridcolor\": \"white\", \"gridwidth\": 2, \"linecolor\": \"white\", \"showbackground\": true, \"ticks\": \"\", \"zerolinecolor\": \"white\"}, \"yaxis\": {\"backgroundcolor\": \"#E5ECF6\", \"gridcolor\": \"white\", \"gridwidth\": 2, \"linecolor\": \"white\", \"showbackground\": true, \"ticks\": \"\", \"zerolinecolor\": \"white\"}, \"zaxis\": {\"backgroundcolor\": \"#E5ECF6\", \"gridcolor\": \"white\", \"gridwidth\": 2, \"linecolor\": \"white\", \"showbackground\": true, \"ticks\": \"\", \"zerolinecolor\": \"white\"}}, \"shapedefaults\": {\"line\": {\"color\": \"#2a3f5f\"}}, \"ternary\": {\"aaxis\": {\"gridcolor\": \"white\", \"linecolor\": \"white\", \"ticks\": \"\"}, \"baxis\": {\"gridcolor\": \"white\", \"linecolor\": \"white\", \"ticks\": \"\"}, \"bgcolor\": \"#E5ECF6\", \"caxis\": {\"gridcolor\": \"white\", \"linecolor\": \"white\", \"ticks\": \"\"}}, \"title\": {\"x\": 0.05}, \"xaxis\": {\"automargin\": true, \"gridcolor\": \"white\", \"linecolor\": \"white\", \"ticks\": \"\", \"title\": {\"standoff\": 15}, \"zerolinecolor\": \"white\", \"zerolinewidth\": 2}, \"yaxis\": {\"automargin\": true, \"gridcolor\": \"white\", \"linecolor\": \"white\", \"ticks\": \"\", \"title\": {\"standoff\": 15}, \"zerolinecolor\": \"white\", \"zerolinewidth\": 2}}}, \"xaxis\": {\"anchor\": \"y\", \"domain\": [0.0, 1.0], \"title\": {\"text\": \"num_flights\"}}, \"yaxis\": {\"anchor\": \"x\", \"domain\": [0.0, 1.0], \"title\": {\"text\": \"avg_delay\"}}},                        {\"responsive\": true}                    ).then(function(){\n",
       "                            \n",
       "var gd = document.getElementById('32e972ff-0180-45a2-b27d-e38cee9d2de2');\n",
       "var x = new MutationObserver(function (mutations, observer) {{\n",
       "        var display = window.getComputedStyle(gd).display;\n",
       "        if (!display || display === 'none') {{\n",
       "            console.log([gd, 'removed!']);\n",
       "            Plotly.purge(gd);\n",
       "            observer.disconnect();\n",
       "        }}\n",
       "}});\n",
       "\n",
       "// Listen for the removal of the full notebook cells\n",
       "var notebookContainer = gd.closest('#notebook-container');\n",
       "if (notebookContainer) {{\n",
       "    x.observe(notebookContainer, {childList: true});\n",
       "}}\n",
       "\n",
       "// Listen for the clearing of the current output cell\n",
       "var outputEl = gd.closest('.output');\n",
       "if (outputEl) {{\n",
       "    x.observe(outputEl, {childList: true});\n",
       "}}\n",
       "\n",
       "                        })                };                });            </script>        </div>"
      ]
     },
     "metadata": {},
     "output_type": "display_data"
    }
   ],
   "source": [
    "df = pd.read_csv('airportDelay.csv')\n",
    "\n",
    "fig = px.scatter(df, x=\"num_flights\", y=\"avg_delay\", trendline='ols')\n",
    "fig.show()"
   ]
  },
  {
   "cell_type": "markdown",
   "metadata": {},
   "source": [
    "## Efficiency of the top 10 airports"
   ]
  },
  {
   "cell_type": "code",
   "execution_count": 140,
   "metadata": {},
   "outputs": [
    {
     "data": {
      "application/vnd.plotly.v1+json": {
       "config": {
        "plotlyServerURL": "https://plot.ly"
       },
       "data": [
        {
         "marker": {
          "color": [
           "green",
           "green",
           "lightslategray",
           "lightslategray",
           "green",
           "chartreuse",
           "chartreuse",
           "lightslategray",
           "lightslategray",
           "chartreuse"
          ],
          "size": [
           37.3672,
           22.524,
           22.2092,
           27.4656,
           12.542,
           15.5944,
           21.238,
           16.6476,
           31.0936,
           17.8416
          ]
         },
         "mode": "markers",
         "text": [
          93418,
          56310,
          55523,
          68664,
          31355,
          38986,
          53095,
          41619,
          77734,
          44604
         ],
         "type": "scatter",
         "x": [
          "ATL",
          "CLT",
          "DEN",
          "DFW",
          "JFK",
          "LAS",
          "LAX",
          "LGA",
          "ORD",
          "PHX"
         ],
         "y": [
          9.283872781736978,
          11.818852340763184,
          19.370646719767205,
          20.04091930754231,
          13.037215668382974,
          15.094061483579898,
          13.168526570977795,
          22.227746471849603,
          29.889992747376056,
          12.154268962990106
         ]
        }
       ],
       "layout": {
        "annotations": [
         {
          "font": {
           "color": "red",
           "size": 15
          },
          "showarrow": false,
          "text": "Average delay across the U.S",
          "x": 1,
          "xanchor": "right",
          "xref": "x domain",
          "y": 15.81180950880242,
          "yanchor": "bottom",
          "yref": "y"
         }
        ],
        "shapes": [
         {
          "line": {
           "color": "red",
           "dash": "dot"
          },
          "type": "line",
          "x0": 0,
          "x1": 1,
          "xref": "x domain",
          "y0": 15.81180950880242,
          "y1": 15.81180950880242,
          "yref": "y"
         }
        ],
        "template": {
         "data": {
          "bar": [
           {
            "error_x": {
             "color": "#2a3f5f"
            },
            "error_y": {
             "color": "#2a3f5f"
            },
            "marker": {
             "line": {
              "color": "#E5ECF6",
              "width": 0.5
             }
            },
            "type": "bar"
           }
          ],
          "barpolar": [
           {
            "marker": {
             "line": {
              "color": "#E5ECF6",
              "width": 0.5
             }
            },
            "type": "barpolar"
           }
          ],
          "carpet": [
           {
            "aaxis": {
             "endlinecolor": "#2a3f5f",
             "gridcolor": "white",
             "linecolor": "white",
             "minorgridcolor": "white",
             "startlinecolor": "#2a3f5f"
            },
            "baxis": {
             "endlinecolor": "#2a3f5f",
             "gridcolor": "white",
             "linecolor": "white",
             "minorgridcolor": "white",
             "startlinecolor": "#2a3f5f"
            },
            "type": "carpet"
           }
          ],
          "choropleth": [
           {
            "colorbar": {
             "outlinewidth": 0,
             "ticks": ""
            },
            "type": "choropleth"
           }
          ],
          "contour": [
           {
            "colorbar": {
             "outlinewidth": 0,
             "ticks": ""
            },
            "colorscale": [
             [
              0,
              "#0d0887"
             ],
             [
              0.1111111111111111,
              "#46039f"
             ],
             [
              0.2222222222222222,
              "#7201a8"
             ],
             [
              0.3333333333333333,
              "#9c179e"
             ],
             [
              0.4444444444444444,
              "#bd3786"
             ],
             [
              0.5555555555555556,
              "#d8576b"
             ],
             [
              0.6666666666666666,
              "#ed7953"
             ],
             [
              0.7777777777777778,
              "#fb9f3a"
             ],
             [
              0.8888888888888888,
              "#fdca26"
             ],
             [
              1,
              "#f0f921"
             ]
            ],
            "type": "contour"
           }
          ],
          "contourcarpet": [
           {
            "colorbar": {
             "outlinewidth": 0,
             "ticks": ""
            },
            "type": "contourcarpet"
           }
          ],
          "heatmap": [
           {
            "colorbar": {
             "outlinewidth": 0,
             "ticks": ""
            },
            "colorscale": [
             [
              0,
              "#0d0887"
             ],
             [
              0.1111111111111111,
              "#46039f"
             ],
             [
              0.2222222222222222,
              "#7201a8"
             ],
             [
              0.3333333333333333,
              "#9c179e"
             ],
             [
              0.4444444444444444,
              "#bd3786"
             ],
             [
              0.5555555555555556,
              "#d8576b"
             ],
             [
              0.6666666666666666,
              "#ed7953"
             ],
             [
              0.7777777777777778,
              "#fb9f3a"
             ],
             [
              0.8888888888888888,
              "#fdca26"
             ],
             [
              1,
              "#f0f921"
             ]
            ],
            "type": "heatmap"
           }
          ],
          "heatmapgl": [
           {
            "colorbar": {
             "outlinewidth": 0,
             "ticks": ""
            },
            "colorscale": [
             [
              0,
              "#0d0887"
             ],
             [
              0.1111111111111111,
              "#46039f"
             ],
             [
              0.2222222222222222,
              "#7201a8"
             ],
             [
              0.3333333333333333,
              "#9c179e"
             ],
             [
              0.4444444444444444,
              "#bd3786"
             ],
             [
              0.5555555555555556,
              "#d8576b"
             ],
             [
              0.6666666666666666,
              "#ed7953"
             ],
             [
              0.7777777777777778,
              "#fb9f3a"
             ],
             [
              0.8888888888888888,
              "#fdca26"
             ],
             [
              1,
              "#f0f921"
             ]
            ],
            "type": "heatmapgl"
           }
          ],
          "histogram": [
           {
            "marker": {
             "colorbar": {
              "outlinewidth": 0,
              "ticks": ""
             }
            },
            "type": "histogram"
           }
          ],
          "histogram2d": [
           {
            "colorbar": {
             "outlinewidth": 0,
             "ticks": ""
            },
            "colorscale": [
             [
              0,
              "#0d0887"
             ],
             [
              0.1111111111111111,
              "#46039f"
             ],
             [
              0.2222222222222222,
              "#7201a8"
             ],
             [
              0.3333333333333333,
              "#9c179e"
             ],
             [
              0.4444444444444444,
              "#bd3786"
             ],
             [
              0.5555555555555556,
              "#d8576b"
             ],
             [
              0.6666666666666666,
              "#ed7953"
             ],
             [
              0.7777777777777778,
              "#fb9f3a"
             ],
             [
              0.8888888888888888,
              "#fdca26"
             ],
             [
              1,
              "#f0f921"
             ]
            ],
            "type": "histogram2d"
           }
          ],
          "histogram2dcontour": [
           {
            "colorbar": {
             "outlinewidth": 0,
             "ticks": ""
            },
            "colorscale": [
             [
              0,
              "#0d0887"
             ],
             [
              0.1111111111111111,
              "#46039f"
             ],
             [
              0.2222222222222222,
              "#7201a8"
             ],
             [
              0.3333333333333333,
              "#9c179e"
             ],
             [
              0.4444444444444444,
              "#bd3786"
             ],
             [
              0.5555555555555556,
              "#d8576b"
             ],
             [
              0.6666666666666666,
              "#ed7953"
             ],
             [
              0.7777777777777778,
              "#fb9f3a"
             ],
             [
              0.8888888888888888,
              "#fdca26"
             ],
             [
              1,
              "#f0f921"
             ]
            ],
            "type": "histogram2dcontour"
           }
          ],
          "mesh3d": [
           {
            "colorbar": {
             "outlinewidth": 0,
             "ticks": ""
            },
            "type": "mesh3d"
           }
          ],
          "parcoords": [
           {
            "line": {
             "colorbar": {
              "outlinewidth": 0,
              "ticks": ""
             }
            },
            "type": "parcoords"
           }
          ],
          "pie": [
           {
            "automargin": true,
            "type": "pie"
           }
          ],
          "scatter": [
           {
            "marker": {
             "colorbar": {
              "outlinewidth": 0,
              "ticks": ""
             }
            },
            "type": "scatter"
           }
          ],
          "scatter3d": [
           {
            "line": {
             "colorbar": {
              "outlinewidth": 0,
              "ticks": ""
             }
            },
            "marker": {
             "colorbar": {
              "outlinewidth": 0,
              "ticks": ""
             }
            },
            "type": "scatter3d"
           }
          ],
          "scattercarpet": [
           {
            "marker": {
             "colorbar": {
              "outlinewidth": 0,
              "ticks": ""
             }
            },
            "type": "scattercarpet"
           }
          ],
          "scattergeo": [
           {
            "marker": {
             "colorbar": {
              "outlinewidth": 0,
              "ticks": ""
             }
            },
            "type": "scattergeo"
           }
          ],
          "scattergl": [
           {
            "marker": {
             "colorbar": {
              "outlinewidth": 0,
              "ticks": ""
             }
            },
            "type": "scattergl"
           }
          ],
          "scattermapbox": [
           {
            "marker": {
             "colorbar": {
              "outlinewidth": 0,
              "ticks": ""
             }
            },
            "type": "scattermapbox"
           }
          ],
          "scatterpolar": [
           {
            "marker": {
             "colorbar": {
              "outlinewidth": 0,
              "ticks": ""
             }
            },
            "type": "scatterpolar"
           }
          ],
          "scatterpolargl": [
           {
            "marker": {
             "colorbar": {
              "outlinewidth": 0,
              "ticks": ""
             }
            },
            "type": "scatterpolargl"
           }
          ],
          "scatterternary": [
           {
            "marker": {
             "colorbar": {
              "outlinewidth": 0,
              "ticks": ""
             }
            },
            "type": "scatterternary"
           }
          ],
          "surface": [
           {
            "colorbar": {
             "outlinewidth": 0,
             "ticks": ""
            },
            "colorscale": [
             [
              0,
              "#0d0887"
             ],
             [
              0.1111111111111111,
              "#46039f"
             ],
             [
              0.2222222222222222,
              "#7201a8"
             ],
             [
              0.3333333333333333,
              "#9c179e"
             ],
             [
              0.4444444444444444,
              "#bd3786"
             ],
             [
              0.5555555555555556,
              "#d8576b"
             ],
             [
              0.6666666666666666,
              "#ed7953"
             ],
             [
              0.7777777777777778,
              "#fb9f3a"
             ],
             [
              0.8888888888888888,
              "#fdca26"
             ],
             [
              1,
              "#f0f921"
             ]
            ],
            "type": "surface"
           }
          ],
          "table": [
           {
            "cells": {
             "fill": {
              "color": "#EBF0F8"
             },
             "line": {
              "color": "white"
             }
            },
            "header": {
             "fill": {
              "color": "#C8D4E3"
             },
             "line": {
              "color": "white"
             }
            },
            "type": "table"
           }
          ]
         },
         "layout": {
          "annotationdefaults": {
           "arrowcolor": "#2a3f5f",
           "arrowhead": 0,
           "arrowwidth": 1
          },
          "autotypenumbers": "strict",
          "coloraxis": {
           "colorbar": {
            "outlinewidth": 0,
            "ticks": ""
           }
          },
          "colorscale": {
           "diverging": [
            [
             0,
             "#8e0152"
            ],
            [
             0.1,
             "#c51b7d"
            ],
            [
             0.2,
             "#de77ae"
            ],
            [
             0.3,
             "#f1b6da"
            ],
            [
             0.4,
             "#fde0ef"
            ],
            [
             0.5,
             "#f7f7f7"
            ],
            [
             0.6,
             "#e6f5d0"
            ],
            [
             0.7,
             "#b8e186"
            ],
            [
             0.8,
             "#7fbc41"
            ],
            [
             0.9,
             "#4d9221"
            ],
            [
             1,
             "#276419"
            ]
           ],
           "sequential": [
            [
             0,
             "#0d0887"
            ],
            [
             0.1111111111111111,
             "#46039f"
            ],
            [
             0.2222222222222222,
             "#7201a8"
            ],
            [
             0.3333333333333333,
             "#9c179e"
            ],
            [
             0.4444444444444444,
             "#bd3786"
            ],
            [
             0.5555555555555556,
             "#d8576b"
            ],
            [
             0.6666666666666666,
             "#ed7953"
            ],
            [
             0.7777777777777778,
             "#fb9f3a"
            ],
            [
             0.8888888888888888,
             "#fdca26"
            ],
            [
             1,
             "#f0f921"
            ]
           ],
           "sequentialminus": [
            [
             0,
             "#0d0887"
            ],
            [
             0.1111111111111111,
             "#46039f"
            ],
            [
             0.2222222222222222,
             "#7201a8"
            ],
            [
             0.3333333333333333,
             "#9c179e"
            ],
            [
             0.4444444444444444,
             "#bd3786"
            ],
            [
             0.5555555555555556,
             "#d8576b"
            ],
            [
             0.6666666666666666,
             "#ed7953"
            ],
            [
             0.7777777777777778,
             "#fb9f3a"
            ],
            [
             0.8888888888888888,
             "#fdca26"
            ],
            [
             1,
             "#f0f921"
            ]
           ]
          },
          "colorway": [
           "#636efa",
           "#EF553B",
           "#00cc96",
           "#ab63fa",
           "#FFA15A",
           "#19d3f3",
           "#FF6692",
           "#B6E880",
           "#FF97FF",
           "#FECB52"
          ],
          "font": {
           "color": "#2a3f5f"
          },
          "geo": {
           "bgcolor": "white",
           "lakecolor": "white",
           "landcolor": "#E5ECF6",
           "showlakes": true,
           "showland": true,
           "subunitcolor": "white"
          },
          "hoverlabel": {
           "align": "left"
          },
          "hovermode": "closest",
          "mapbox": {
           "style": "light"
          },
          "paper_bgcolor": "white",
          "plot_bgcolor": "#E5ECF6",
          "polar": {
           "angularaxis": {
            "gridcolor": "white",
            "linecolor": "white",
            "ticks": ""
           },
           "bgcolor": "#E5ECF6",
           "radialaxis": {
            "gridcolor": "white",
            "linecolor": "white",
            "ticks": ""
           }
          },
          "scene": {
           "xaxis": {
            "backgroundcolor": "#E5ECF6",
            "gridcolor": "white",
            "gridwidth": 2,
            "linecolor": "white",
            "showbackground": true,
            "ticks": "",
            "zerolinecolor": "white"
           },
           "yaxis": {
            "backgroundcolor": "#E5ECF6",
            "gridcolor": "white",
            "gridwidth": 2,
            "linecolor": "white",
            "showbackground": true,
            "ticks": "",
            "zerolinecolor": "white"
           },
           "zaxis": {
            "backgroundcolor": "#E5ECF6",
            "gridcolor": "white",
            "gridwidth": 2,
            "linecolor": "white",
            "showbackground": true,
            "ticks": "",
            "zerolinecolor": "white"
           }
          },
          "shapedefaults": {
           "line": {
            "color": "#2a3f5f"
           }
          },
          "ternary": {
           "aaxis": {
            "gridcolor": "white",
            "linecolor": "white",
            "ticks": ""
           },
           "baxis": {
            "gridcolor": "white",
            "linecolor": "white",
            "ticks": ""
           },
           "bgcolor": "#E5ECF6",
           "caxis": {
            "gridcolor": "white",
            "linecolor": "white",
            "ticks": ""
           }
          },
          "title": {
           "x": 0.05
          },
          "xaxis": {
           "automargin": true,
           "gridcolor": "white",
           "linecolor": "white",
           "ticks": "",
           "title": {
            "standoff": 15
           },
           "zerolinecolor": "white",
           "zerolinewidth": 2
          },
          "yaxis": {
           "automargin": true,
           "gridcolor": "white",
           "linecolor": "white",
           "ticks": "",
           "title": {
            "standoff": 15
           },
           "zerolinecolor": "white",
           "zerolinewidth": 2
          }
         }
        }
       }
      },
      "text/html": [
       "<div>                            <div id=\"ad9d5fc0-f962-4447-9e59-fc071a1c9491\" class=\"plotly-graph-div\" style=\"height:525px; width:100%;\"></div>            <script type=\"text/javascript\">                require([\"plotly\"], function(Plotly) {                    window.PLOTLYENV=window.PLOTLYENV || {};                                    if (document.getElementById(\"ad9d5fc0-f962-4447-9e59-fc071a1c9491\")) {                    Plotly.newPlot(                        \"ad9d5fc0-f962-4447-9e59-fc071a1c9491\",                        [{\"marker\": {\"color\": [\"green\", \"green\", \"lightslategray\", \"lightslategray\", \"green\", \"chartreuse\", \"chartreuse\", \"lightslategray\", \"lightslategray\", \"chartreuse\"], \"size\": [37.3672, 22.524, 22.2092, 27.4656, 12.542, 15.5944, 21.238, 16.6476, 31.0936, 17.8416]}, \"mode\": \"markers\", \"text\": [93418.0, 56310.0, 55523.0, 68664.0, 31355.0, 38986.0, 53095.0, 41619.0, 77734.0, 44604.0], \"type\": \"scatter\", \"x\": [\"ATL\", \"CLT\", \"DEN\", \"DFW\", \"JFK\", \"LAS\", \"LAX\", \"LGA\", \"ORD\", \"PHX\"], \"y\": [9.283872781736978, 11.818852340763184, 19.370646719767205, 20.04091930754231, 13.037215668382974, 15.094061483579898, 13.168526570977795, 22.227746471849603, 29.889992747376056, 12.154268962990106]}],                        {\"annotations\": [{\"font\": {\"color\": \"red\", \"size\": 15}, \"showarrow\": false, \"text\": \"Average delay across the U.S\", \"x\": 1, \"xanchor\": \"right\", \"xref\": \"x domain\", \"y\": 15.81180950880242, \"yanchor\": \"bottom\", \"yref\": \"y\"}], \"shapes\": [{\"line\": {\"color\": \"red\", \"dash\": \"dot\"}, \"type\": \"line\", \"x0\": 0, \"x1\": 1, \"xref\": \"x domain\", \"y0\": 15.81180950880242, \"y1\": 15.81180950880242, \"yref\": \"y\"}], \"template\": {\"data\": {\"bar\": [{\"error_x\": {\"color\": \"#2a3f5f\"}, \"error_y\": {\"color\": \"#2a3f5f\"}, \"marker\": {\"line\": {\"color\": \"#E5ECF6\", \"width\": 0.5}}, \"type\": \"bar\"}], \"barpolar\": [{\"marker\": {\"line\": {\"color\": \"#E5ECF6\", \"width\": 0.5}}, \"type\": \"barpolar\"}], \"carpet\": [{\"aaxis\": {\"endlinecolor\": \"#2a3f5f\", \"gridcolor\": \"white\", \"linecolor\": \"white\", \"minorgridcolor\": \"white\", \"startlinecolor\": \"#2a3f5f\"}, \"baxis\": {\"endlinecolor\": \"#2a3f5f\", \"gridcolor\": \"white\", \"linecolor\": \"white\", \"minorgridcolor\": \"white\", \"startlinecolor\": \"#2a3f5f\"}, \"type\": \"carpet\"}], \"choropleth\": [{\"colorbar\": {\"outlinewidth\": 0, \"ticks\": \"\"}, \"type\": \"choropleth\"}], \"contour\": [{\"colorbar\": {\"outlinewidth\": 0, \"ticks\": \"\"}, \"colorscale\": [[0.0, \"#0d0887\"], [0.1111111111111111, \"#46039f\"], [0.2222222222222222, \"#7201a8\"], [0.3333333333333333, \"#9c179e\"], [0.4444444444444444, \"#bd3786\"], [0.5555555555555556, \"#d8576b\"], [0.6666666666666666, \"#ed7953\"], [0.7777777777777778, \"#fb9f3a\"], [0.8888888888888888, \"#fdca26\"], [1.0, \"#f0f921\"]], \"type\": \"contour\"}], \"contourcarpet\": [{\"colorbar\": {\"outlinewidth\": 0, \"ticks\": \"\"}, \"type\": \"contourcarpet\"}], \"heatmap\": [{\"colorbar\": {\"outlinewidth\": 0, \"ticks\": \"\"}, \"colorscale\": [[0.0, \"#0d0887\"], [0.1111111111111111, \"#46039f\"], [0.2222222222222222, \"#7201a8\"], [0.3333333333333333, \"#9c179e\"], [0.4444444444444444, \"#bd3786\"], [0.5555555555555556, \"#d8576b\"], [0.6666666666666666, \"#ed7953\"], [0.7777777777777778, \"#fb9f3a\"], [0.8888888888888888, \"#fdca26\"], [1.0, \"#f0f921\"]], \"type\": \"heatmap\"}], \"heatmapgl\": [{\"colorbar\": {\"outlinewidth\": 0, \"ticks\": \"\"}, \"colorscale\": [[0.0, \"#0d0887\"], [0.1111111111111111, \"#46039f\"], [0.2222222222222222, \"#7201a8\"], [0.3333333333333333, \"#9c179e\"], [0.4444444444444444, \"#bd3786\"], [0.5555555555555556, \"#d8576b\"], [0.6666666666666666, \"#ed7953\"], [0.7777777777777778, \"#fb9f3a\"], [0.8888888888888888, \"#fdca26\"], [1.0, \"#f0f921\"]], \"type\": \"heatmapgl\"}], \"histogram\": [{\"marker\": {\"colorbar\": {\"outlinewidth\": 0, \"ticks\": \"\"}}, \"type\": \"histogram\"}], \"histogram2d\": [{\"colorbar\": {\"outlinewidth\": 0, \"ticks\": \"\"}, \"colorscale\": [[0.0, \"#0d0887\"], [0.1111111111111111, \"#46039f\"], [0.2222222222222222, \"#7201a8\"], [0.3333333333333333, \"#9c179e\"], [0.4444444444444444, \"#bd3786\"], [0.5555555555555556, \"#d8576b\"], [0.6666666666666666, \"#ed7953\"], [0.7777777777777778, \"#fb9f3a\"], [0.8888888888888888, \"#fdca26\"], [1.0, \"#f0f921\"]], \"type\": \"histogram2d\"}], \"histogram2dcontour\": [{\"colorbar\": {\"outlinewidth\": 0, \"ticks\": \"\"}, \"colorscale\": [[0.0, \"#0d0887\"], [0.1111111111111111, \"#46039f\"], [0.2222222222222222, \"#7201a8\"], [0.3333333333333333, \"#9c179e\"], [0.4444444444444444, \"#bd3786\"], [0.5555555555555556, \"#d8576b\"], [0.6666666666666666, \"#ed7953\"], [0.7777777777777778, \"#fb9f3a\"], [0.8888888888888888, \"#fdca26\"], [1.0, \"#f0f921\"]], \"type\": \"histogram2dcontour\"}], \"mesh3d\": [{\"colorbar\": {\"outlinewidth\": 0, \"ticks\": \"\"}, \"type\": \"mesh3d\"}], \"parcoords\": [{\"line\": {\"colorbar\": {\"outlinewidth\": 0, \"ticks\": \"\"}}, \"type\": \"parcoords\"}], \"pie\": [{\"automargin\": true, \"type\": \"pie\"}], \"scatter\": [{\"marker\": {\"colorbar\": {\"outlinewidth\": 0, \"ticks\": \"\"}}, \"type\": \"scatter\"}], \"scatter3d\": [{\"line\": {\"colorbar\": {\"outlinewidth\": 0, \"ticks\": \"\"}}, \"marker\": {\"colorbar\": {\"outlinewidth\": 0, \"ticks\": \"\"}}, \"type\": \"scatter3d\"}], \"scattercarpet\": [{\"marker\": {\"colorbar\": {\"outlinewidth\": 0, \"ticks\": \"\"}}, \"type\": \"scattercarpet\"}], \"scattergeo\": [{\"marker\": {\"colorbar\": {\"outlinewidth\": 0, \"ticks\": \"\"}}, \"type\": \"scattergeo\"}], \"scattergl\": [{\"marker\": {\"colorbar\": {\"outlinewidth\": 0, \"ticks\": \"\"}}, \"type\": \"scattergl\"}], \"scattermapbox\": [{\"marker\": {\"colorbar\": {\"outlinewidth\": 0, \"ticks\": \"\"}}, \"type\": \"scattermapbox\"}], \"scatterpolar\": [{\"marker\": {\"colorbar\": {\"outlinewidth\": 0, \"ticks\": \"\"}}, \"type\": \"scatterpolar\"}], \"scatterpolargl\": [{\"marker\": {\"colorbar\": {\"outlinewidth\": 0, \"ticks\": \"\"}}, \"type\": \"scatterpolargl\"}], \"scatterternary\": [{\"marker\": {\"colorbar\": {\"outlinewidth\": 0, \"ticks\": \"\"}}, \"type\": \"scatterternary\"}], \"surface\": [{\"colorbar\": {\"outlinewidth\": 0, \"ticks\": \"\"}, \"colorscale\": [[0.0, \"#0d0887\"], [0.1111111111111111, \"#46039f\"], [0.2222222222222222, \"#7201a8\"], [0.3333333333333333, \"#9c179e\"], [0.4444444444444444, \"#bd3786\"], [0.5555555555555556, \"#d8576b\"], [0.6666666666666666, \"#ed7953\"], [0.7777777777777778, \"#fb9f3a\"], [0.8888888888888888, \"#fdca26\"], [1.0, \"#f0f921\"]], \"type\": \"surface\"}], \"table\": [{\"cells\": {\"fill\": {\"color\": \"#EBF0F8\"}, \"line\": {\"color\": \"white\"}}, \"header\": {\"fill\": {\"color\": \"#C8D4E3\"}, \"line\": {\"color\": \"white\"}}, \"type\": \"table\"}]}, \"layout\": {\"annotationdefaults\": {\"arrowcolor\": \"#2a3f5f\", \"arrowhead\": 0, \"arrowwidth\": 1}, \"autotypenumbers\": \"strict\", \"coloraxis\": {\"colorbar\": {\"outlinewidth\": 0, \"ticks\": \"\"}}, \"colorscale\": {\"diverging\": [[0, \"#8e0152\"], [0.1, \"#c51b7d\"], [0.2, \"#de77ae\"], [0.3, \"#f1b6da\"], [0.4, \"#fde0ef\"], [0.5, \"#f7f7f7\"], [0.6, \"#e6f5d0\"], [0.7, \"#b8e186\"], [0.8, \"#7fbc41\"], [0.9, \"#4d9221\"], [1, \"#276419\"]], \"sequential\": [[0.0, \"#0d0887\"], [0.1111111111111111, \"#46039f\"], [0.2222222222222222, \"#7201a8\"], [0.3333333333333333, \"#9c179e\"], [0.4444444444444444, \"#bd3786\"], [0.5555555555555556, \"#d8576b\"], [0.6666666666666666, \"#ed7953\"], [0.7777777777777778, \"#fb9f3a\"], [0.8888888888888888, \"#fdca26\"], [1.0, \"#f0f921\"]], \"sequentialminus\": [[0.0, \"#0d0887\"], [0.1111111111111111, \"#46039f\"], [0.2222222222222222, \"#7201a8\"], [0.3333333333333333, \"#9c179e\"], [0.4444444444444444, \"#bd3786\"], [0.5555555555555556, \"#d8576b\"], [0.6666666666666666, \"#ed7953\"], [0.7777777777777778, \"#fb9f3a\"], [0.8888888888888888, \"#fdca26\"], [1.0, \"#f0f921\"]]}, \"colorway\": [\"#636efa\", \"#EF553B\", \"#00cc96\", \"#ab63fa\", \"#FFA15A\", \"#19d3f3\", \"#FF6692\", \"#B6E880\", \"#FF97FF\", \"#FECB52\"], \"font\": {\"color\": \"#2a3f5f\"}, \"geo\": {\"bgcolor\": \"white\", \"lakecolor\": \"white\", \"landcolor\": \"#E5ECF6\", \"showlakes\": true, \"showland\": true, \"subunitcolor\": \"white\"}, \"hoverlabel\": {\"align\": \"left\"}, \"hovermode\": \"closest\", \"mapbox\": {\"style\": \"light\"}, \"paper_bgcolor\": \"white\", \"plot_bgcolor\": \"#E5ECF6\", \"polar\": {\"angularaxis\": {\"gridcolor\": \"white\", \"linecolor\": \"white\", \"ticks\": \"\"}, \"bgcolor\": \"#E5ECF6\", \"radialaxis\": {\"gridcolor\": \"white\", \"linecolor\": \"white\", \"ticks\": \"\"}}, \"scene\": {\"xaxis\": {\"backgroundcolor\": \"#E5ECF6\", \"gridcolor\": \"white\", \"gridwidth\": 2, \"linecolor\": \"white\", \"showbackground\": true, \"ticks\": \"\", \"zerolinecolor\": \"white\"}, \"yaxis\": {\"backgroundcolor\": \"#E5ECF6\", \"gridcolor\": \"white\", \"gridwidth\": 2, \"linecolor\": \"white\", \"showbackground\": true, \"ticks\": \"\", \"zerolinecolor\": \"white\"}, \"zaxis\": {\"backgroundcolor\": \"#E5ECF6\", \"gridcolor\": \"white\", \"gridwidth\": 2, \"linecolor\": \"white\", \"showbackground\": true, \"ticks\": \"\", \"zerolinecolor\": \"white\"}}, \"shapedefaults\": {\"line\": {\"color\": \"#2a3f5f\"}}, \"ternary\": {\"aaxis\": {\"gridcolor\": \"white\", \"linecolor\": \"white\", \"ticks\": \"\"}, \"baxis\": {\"gridcolor\": \"white\", \"linecolor\": \"white\", \"ticks\": \"\"}, \"bgcolor\": \"#E5ECF6\", \"caxis\": {\"gridcolor\": \"white\", \"linecolor\": \"white\", \"ticks\": \"\"}}, \"title\": {\"x\": 0.05}, \"xaxis\": {\"automargin\": true, \"gridcolor\": \"white\", \"linecolor\": \"white\", \"ticks\": \"\", \"title\": {\"standoff\": 15}, \"zerolinecolor\": \"white\", \"zerolinewidth\": 2}, \"yaxis\": {\"automargin\": true, \"gridcolor\": \"white\", \"linecolor\": \"white\", \"ticks\": \"\", \"title\": {\"standoff\": 15}, \"zerolinecolor\": \"white\", \"zerolinewidth\": 2}}}},                        {\"responsive\": true}                    ).then(function(){\n",
       "                            \n",
       "var gd = document.getElementById('ad9d5fc0-f962-4447-9e59-fc071a1c9491');\n",
       "var x = new MutationObserver(function (mutations, observer) {{\n",
       "        var display = window.getComputedStyle(gd).display;\n",
       "        if (!display || display === 'none') {{\n",
       "            console.log([gd, 'removed!']);\n",
       "            Plotly.purge(gd);\n",
       "            observer.disconnect();\n",
       "        }}\n",
       "}});\n",
       "\n",
       "// Listen for the removal of the full notebook cells\n",
       "var notebookContainer = gd.closest('#notebook-container');\n",
       "if (notebookContainer) {{\n",
       "    x.observe(notebookContainer, {childList: true});\n",
       "}}\n",
       "\n",
       "// Listen for the clearing of the current output cell\n",
       "var outputEl = gd.closest('.output');\n",
       "if (outputEl) {{\n",
       "    x.observe(outputEl, {childList: true});\n",
       "}}\n",
       "\n",
       "                        })                };                });            </script>        </div>"
      ]
     },
     "metadata": {},
     "output_type": "display_data"
    }
   ],
   "source": [
    "df = pd.read_csv('top10_airport_delay.csv')\n",
    "df2 = pd.read_csv('avg_delay.csv')\n",
    "\n",
    "colors = ['lightslategray',] * df.shape[0]\n",
    "colors[0] = 'green'\n",
    "colors[1] = 'green'\n",
    "colors[4] = 'green'\n",
    "colors[5] = 'chartreuse'\n",
    "colors[6] = 'chartreuse'\n",
    "colors[9] = 'chartreuse'\n",
    "\n",
    "fig = go.Figure(data=go.Scatter(\n",
    "    x = df['origin'],\n",
    "    y = df['avg_delay'],\n",
    "    mode = 'markers',\n",
    "    text = df['num_flights'],\n",
    "    marker = dict(\n",
    "        size = df['num_flights']/2500,\n",
    "        color=colors\n",
    "    )\n",
    "))\n",
    "\n",
    "fig.add_hline(y=df2.iloc[0][0], line_dash='dot', line_color='red',\n",
    "              annotation_text=\"Average delay across the U.S\", \n",
    "              annotation_position=\"top right\",\n",
    "              annotation_font_size=15,\n",
    "              annotation_font_color=\"red\"\n",
    "             )\n",
    "\n",
    "\n",
    "fig.show()"
   ]
  },
  {
   "cell_type": "markdown",
   "metadata": {},
   "source": [
    "## The longest and shortest flight"
   ]
  },
  {
   "cell_type": "code",
   "execution_count": 73,
   "metadata": {},
   "outputs": [
    {
     "data": {
      "application/vnd.plotly.v1+json": {
       "config": {
        "plotlyServerURL": "https://plot.ly"
       },
       "data": [
        {
         "lat": [
          21.31869111,
          40.63975111
         ],
         "line": {
          "color": "blue",
          "width": 2
         },
         "lon": [
          -157.92240719999998,
          -73.77892556
         ],
         "mode": "lines",
         "type": "scattergeo"
        },
        {
         "lat": [
          56.80165194,
          56.48432583
         ],
         "line": {
          "color": "red",
          "width": 2
         },
         "lon": [
          -132.9452781,
          -132.3698242
         ],
         "mode": "lines",
         "type": "scattergeo"
        }
       ],
       "layout": {
        "geo": {
         "coastlinewidth": 2,
         "countrycolor": "rgb(204, 204, 204)",
         "lakecolor": "rgb(255, 255, 255)",
         "landcolor": "rgb(204, 204, 204)",
         "lataxis": {
          "dtick": 10,
          "range": [
           48,
           16
          ],
          "showgrid": true
         },
         "lonaxis": {
          "dtick": 20,
          "range": [
           -160,
           -60
          ],
          "showgrid": true
         },
         "projection": {
          "type": "equirectangular"
         },
         "resolution": 50,
         "showlakes": false
        },
        "showlegend": false,
        "template": {
         "data": {
          "bar": [
           {
            "error_x": {
             "color": "#2a3f5f"
            },
            "error_y": {
             "color": "#2a3f5f"
            },
            "marker": {
             "line": {
              "color": "#E5ECF6",
              "width": 0.5
             }
            },
            "type": "bar"
           }
          ],
          "barpolar": [
           {
            "marker": {
             "line": {
              "color": "#E5ECF6",
              "width": 0.5
             }
            },
            "type": "barpolar"
           }
          ],
          "carpet": [
           {
            "aaxis": {
             "endlinecolor": "#2a3f5f",
             "gridcolor": "white",
             "linecolor": "white",
             "minorgridcolor": "white",
             "startlinecolor": "#2a3f5f"
            },
            "baxis": {
             "endlinecolor": "#2a3f5f",
             "gridcolor": "white",
             "linecolor": "white",
             "minorgridcolor": "white",
             "startlinecolor": "#2a3f5f"
            },
            "type": "carpet"
           }
          ],
          "choropleth": [
           {
            "colorbar": {
             "outlinewidth": 0,
             "ticks": ""
            },
            "type": "choropleth"
           }
          ],
          "contour": [
           {
            "colorbar": {
             "outlinewidth": 0,
             "ticks": ""
            },
            "colorscale": [
             [
              0,
              "#0d0887"
             ],
             [
              0.1111111111111111,
              "#46039f"
             ],
             [
              0.2222222222222222,
              "#7201a8"
             ],
             [
              0.3333333333333333,
              "#9c179e"
             ],
             [
              0.4444444444444444,
              "#bd3786"
             ],
             [
              0.5555555555555556,
              "#d8576b"
             ],
             [
              0.6666666666666666,
              "#ed7953"
             ],
             [
              0.7777777777777778,
              "#fb9f3a"
             ],
             [
              0.8888888888888888,
              "#fdca26"
             ],
             [
              1,
              "#f0f921"
             ]
            ],
            "type": "contour"
           }
          ],
          "contourcarpet": [
           {
            "colorbar": {
             "outlinewidth": 0,
             "ticks": ""
            },
            "type": "contourcarpet"
           }
          ],
          "heatmap": [
           {
            "colorbar": {
             "outlinewidth": 0,
             "ticks": ""
            },
            "colorscale": [
             [
              0,
              "#0d0887"
             ],
             [
              0.1111111111111111,
              "#46039f"
             ],
             [
              0.2222222222222222,
              "#7201a8"
             ],
             [
              0.3333333333333333,
              "#9c179e"
             ],
             [
              0.4444444444444444,
              "#bd3786"
             ],
             [
              0.5555555555555556,
              "#d8576b"
             ],
             [
              0.6666666666666666,
              "#ed7953"
             ],
             [
              0.7777777777777778,
              "#fb9f3a"
             ],
             [
              0.8888888888888888,
              "#fdca26"
             ],
             [
              1,
              "#f0f921"
             ]
            ],
            "type": "heatmap"
           }
          ],
          "heatmapgl": [
           {
            "colorbar": {
             "outlinewidth": 0,
             "ticks": ""
            },
            "colorscale": [
             [
              0,
              "#0d0887"
             ],
             [
              0.1111111111111111,
              "#46039f"
             ],
             [
              0.2222222222222222,
              "#7201a8"
             ],
             [
              0.3333333333333333,
              "#9c179e"
             ],
             [
              0.4444444444444444,
              "#bd3786"
             ],
             [
              0.5555555555555556,
              "#d8576b"
             ],
             [
              0.6666666666666666,
              "#ed7953"
             ],
             [
              0.7777777777777778,
              "#fb9f3a"
             ],
             [
              0.8888888888888888,
              "#fdca26"
             ],
             [
              1,
              "#f0f921"
             ]
            ],
            "type": "heatmapgl"
           }
          ],
          "histogram": [
           {
            "marker": {
             "colorbar": {
              "outlinewidth": 0,
              "ticks": ""
             }
            },
            "type": "histogram"
           }
          ],
          "histogram2d": [
           {
            "colorbar": {
             "outlinewidth": 0,
             "ticks": ""
            },
            "colorscale": [
             [
              0,
              "#0d0887"
             ],
             [
              0.1111111111111111,
              "#46039f"
             ],
             [
              0.2222222222222222,
              "#7201a8"
             ],
             [
              0.3333333333333333,
              "#9c179e"
             ],
             [
              0.4444444444444444,
              "#bd3786"
             ],
             [
              0.5555555555555556,
              "#d8576b"
             ],
             [
              0.6666666666666666,
              "#ed7953"
             ],
             [
              0.7777777777777778,
              "#fb9f3a"
             ],
             [
              0.8888888888888888,
              "#fdca26"
             ],
             [
              1,
              "#f0f921"
             ]
            ],
            "type": "histogram2d"
           }
          ],
          "histogram2dcontour": [
           {
            "colorbar": {
             "outlinewidth": 0,
             "ticks": ""
            },
            "colorscale": [
             [
              0,
              "#0d0887"
             ],
             [
              0.1111111111111111,
              "#46039f"
             ],
             [
              0.2222222222222222,
              "#7201a8"
             ],
             [
              0.3333333333333333,
              "#9c179e"
             ],
             [
              0.4444444444444444,
              "#bd3786"
             ],
             [
              0.5555555555555556,
              "#d8576b"
             ],
             [
              0.6666666666666666,
              "#ed7953"
             ],
             [
              0.7777777777777778,
              "#fb9f3a"
             ],
             [
              0.8888888888888888,
              "#fdca26"
             ],
             [
              1,
              "#f0f921"
             ]
            ],
            "type": "histogram2dcontour"
           }
          ],
          "mesh3d": [
           {
            "colorbar": {
             "outlinewidth": 0,
             "ticks": ""
            },
            "type": "mesh3d"
           }
          ],
          "parcoords": [
           {
            "line": {
             "colorbar": {
              "outlinewidth": 0,
              "ticks": ""
             }
            },
            "type": "parcoords"
           }
          ],
          "pie": [
           {
            "automargin": true,
            "type": "pie"
           }
          ],
          "scatter": [
           {
            "marker": {
             "colorbar": {
              "outlinewidth": 0,
              "ticks": ""
             }
            },
            "type": "scatter"
           }
          ],
          "scatter3d": [
           {
            "line": {
             "colorbar": {
              "outlinewidth": 0,
              "ticks": ""
             }
            },
            "marker": {
             "colorbar": {
              "outlinewidth": 0,
              "ticks": ""
             }
            },
            "type": "scatter3d"
           }
          ],
          "scattercarpet": [
           {
            "marker": {
             "colorbar": {
              "outlinewidth": 0,
              "ticks": ""
             }
            },
            "type": "scattercarpet"
           }
          ],
          "scattergeo": [
           {
            "marker": {
             "colorbar": {
              "outlinewidth": 0,
              "ticks": ""
             }
            },
            "type": "scattergeo"
           }
          ],
          "scattergl": [
           {
            "marker": {
             "colorbar": {
              "outlinewidth": 0,
              "ticks": ""
             }
            },
            "type": "scattergl"
           }
          ],
          "scattermapbox": [
           {
            "marker": {
             "colorbar": {
              "outlinewidth": 0,
              "ticks": ""
             }
            },
            "type": "scattermapbox"
           }
          ],
          "scatterpolar": [
           {
            "marker": {
             "colorbar": {
              "outlinewidth": 0,
              "ticks": ""
             }
            },
            "type": "scatterpolar"
           }
          ],
          "scatterpolargl": [
           {
            "marker": {
             "colorbar": {
              "outlinewidth": 0,
              "ticks": ""
             }
            },
            "type": "scatterpolargl"
           }
          ],
          "scatterternary": [
           {
            "marker": {
             "colorbar": {
              "outlinewidth": 0,
              "ticks": ""
             }
            },
            "type": "scatterternary"
           }
          ],
          "surface": [
           {
            "colorbar": {
             "outlinewidth": 0,
             "ticks": ""
            },
            "colorscale": [
             [
              0,
              "#0d0887"
             ],
             [
              0.1111111111111111,
              "#46039f"
             ],
             [
              0.2222222222222222,
              "#7201a8"
             ],
             [
              0.3333333333333333,
              "#9c179e"
             ],
             [
              0.4444444444444444,
              "#bd3786"
             ],
             [
              0.5555555555555556,
              "#d8576b"
             ],
             [
              0.6666666666666666,
              "#ed7953"
             ],
             [
              0.7777777777777778,
              "#fb9f3a"
             ],
             [
              0.8888888888888888,
              "#fdca26"
             ],
             [
              1,
              "#f0f921"
             ]
            ],
            "type": "surface"
           }
          ],
          "table": [
           {
            "cells": {
             "fill": {
              "color": "#EBF0F8"
             },
             "line": {
              "color": "white"
             }
            },
            "header": {
             "fill": {
              "color": "#C8D4E3"
             },
             "line": {
              "color": "white"
             }
            },
            "type": "table"
           }
          ]
         },
         "layout": {
          "annotationdefaults": {
           "arrowcolor": "#2a3f5f",
           "arrowhead": 0,
           "arrowwidth": 1
          },
          "autotypenumbers": "strict",
          "coloraxis": {
           "colorbar": {
            "outlinewidth": 0,
            "ticks": ""
           }
          },
          "colorscale": {
           "diverging": [
            [
             0,
             "#8e0152"
            ],
            [
             0.1,
             "#c51b7d"
            ],
            [
             0.2,
             "#de77ae"
            ],
            [
             0.3,
             "#f1b6da"
            ],
            [
             0.4,
             "#fde0ef"
            ],
            [
             0.5,
             "#f7f7f7"
            ],
            [
             0.6,
             "#e6f5d0"
            ],
            [
             0.7,
             "#b8e186"
            ],
            [
             0.8,
             "#7fbc41"
            ],
            [
             0.9,
             "#4d9221"
            ],
            [
             1,
             "#276419"
            ]
           ],
           "sequential": [
            [
             0,
             "#0d0887"
            ],
            [
             0.1111111111111111,
             "#46039f"
            ],
            [
             0.2222222222222222,
             "#7201a8"
            ],
            [
             0.3333333333333333,
             "#9c179e"
            ],
            [
             0.4444444444444444,
             "#bd3786"
            ],
            [
             0.5555555555555556,
             "#d8576b"
            ],
            [
             0.6666666666666666,
             "#ed7953"
            ],
            [
             0.7777777777777778,
             "#fb9f3a"
            ],
            [
             0.8888888888888888,
             "#fdca26"
            ],
            [
             1,
             "#f0f921"
            ]
           ],
           "sequentialminus": [
            [
             0,
             "#0d0887"
            ],
            [
             0.1111111111111111,
             "#46039f"
            ],
            [
             0.2222222222222222,
             "#7201a8"
            ],
            [
             0.3333333333333333,
             "#9c179e"
            ],
            [
             0.4444444444444444,
             "#bd3786"
            ],
            [
             0.5555555555555556,
             "#d8576b"
            ],
            [
             0.6666666666666666,
             "#ed7953"
            ],
            [
             0.7777777777777778,
             "#fb9f3a"
            ],
            [
             0.8888888888888888,
             "#fdca26"
            ],
            [
             1,
             "#f0f921"
            ]
           ]
          },
          "colorway": [
           "#636efa",
           "#EF553B",
           "#00cc96",
           "#ab63fa",
           "#FFA15A",
           "#19d3f3",
           "#FF6692",
           "#B6E880",
           "#FF97FF",
           "#FECB52"
          ],
          "font": {
           "color": "#2a3f5f"
          },
          "geo": {
           "bgcolor": "white",
           "lakecolor": "white",
           "landcolor": "#E5ECF6",
           "showlakes": true,
           "showland": true,
           "subunitcolor": "white"
          },
          "hoverlabel": {
           "align": "left"
          },
          "hovermode": "closest",
          "mapbox": {
           "style": "light"
          },
          "paper_bgcolor": "white",
          "plot_bgcolor": "#E5ECF6",
          "polar": {
           "angularaxis": {
            "gridcolor": "white",
            "linecolor": "white",
            "ticks": ""
           },
           "bgcolor": "#E5ECF6",
           "radialaxis": {
            "gridcolor": "white",
            "linecolor": "white",
            "ticks": ""
           }
          },
          "scene": {
           "xaxis": {
            "backgroundcolor": "#E5ECF6",
            "gridcolor": "white",
            "gridwidth": 2,
            "linecolor": "white",
            "showbackground": true,
            "ticks": "",
            "zerolinecolor": "white"
           },
           "yaxis": {
            "backgroundcolor": "#E5ECF6",
            "gridcolor": "white",
            "gridwidth": 2,
            "linecolor": "white",
            "showbackground": true,
            "ticks": "",
            "zerolinecolor": "white"
           },
           "zaxis": {
            "backgroundcolor": "#E5ECF6",
            "gridcolor": "white",
            "gridwidth": 2,
            "linecolor": "white",
            "showbackground": true,
            "ticks": "",
            "zerolinecolor": "white"
           }
          },
          "shapedefaults": {
           "line": {
            "color": "#2a3f5f"
           }
          },
          "ternary": {
           "aaxis": {
            "gridcolor": "white",
            "linecolor": "white",
            "ticks": ""
           },
           "baxis": {
            "gridcolor": "white",
            "linecolor": "white",
            "ticks": ""
           },
           "bgcolor": "#E5ECF6",
           "caxis": {
            "gridcolor": "white",
            "linecolor": "white",
            "ticks": ""
           }
          },
          "title": {
           "x": 0.05
          },
          "xaxis": {
           "automargin": true,
           "gridcolor": "white",
           "linecolor": "white",
           "ticks": "",
           "title": {
            "standoff": 15
           },
           "zerolinecolor": "white",
           "zerolinewidth": 2
          },
          "yaxis": {
           "automargin": true,
           "gridcolor": "white",
           "linecolor": "white",
           "ticks": "",
           "title": {
            "standoff": 15
           },
           "zerolinecolor": "white",
           "zerolinewidth": 2
          }
         }
        },
        "title": {
         "text": "Longest and shortest flight path within the USA"
        }
       }
      },
      "text/html": [
       "<div>                            <div id=\"9b4a73e0-7a84-40d5-ae9d-a14f2d647a98\" class=\"plotly-graph-div\" style=\"height:525px; width:100%;\"></div>            <script type=\"text/javascript\">                require([\"plotly\"], function(Plotly) {                    window.PLOTLYENV=window.PLOTLYENV || {};                                    if (document.getElementById(\"9b4a73e0-7a84-40d5-ae9d-a14f2d647a98\")) {                    Plotly.newPlot(                        \"9b4a73e0-7a84-40d5-ae9d-a14f2d647a98\",                        [{\"lat\": [21.31869111, 40.63975111], \"line\": {\"color\": \"blue\", \"width\": 2}, \"lon\": [-157.92240719999998, -73.77892556], \"mode\": \"lines\", \"type\": \"scattergeo\"}, {\"lat\": [56.80165194, 56.48432583], \"line\": {\"color\": \"red\", \"width\": 2}, \"lon\": [-132.9452781, -132.3698242], \"mode\": \"lines\", \"type\": \"scattergeo\"}],                        {\"geo\": {\"coastlinewidth\": 2, \"countrycolor\": \"rgb(204, 204, 204)\", \"lakecolor\": \"rgb(255, 255, 255)\", \"landcolor\": \"rgb(204, 204, 204)\", \"lataxis\": {\"dtick\": 10, \"range\": [48, 16], \"showgrid\": true}, \"lonaxis\": {\"dtick\": 20, \"range\": [-160, -60], \"showgrid\": true}, \"projection\": {\"type\": \"equirectangular\"}, \"resolution\": 50, \"showlakes\": false}, \"showlegend\": false, \"template\": {\"data\": {\"bar\": [{\"error_x\": {\"color\": \"#2a3f5f\"}, \"error_y\": {\"color\": \"#2a3f5f\"}, \"marker\": {\"line\": {\"color\": \"#E5ECF6\", \"width\": 0.5}}, \"type\": \"bar\"}], \"barpolar\": [{\"marker\": {\"line\": {\"color\": \"#E5ECF6\", \"width\": 0.5}}, \"type\": \"barpolar\"}], \"carpet\": [{\"aaxis\": {\"endlinecolor\": \"#2a3f5f\", \"gridcolor\": \"white\", \"linecolor\": \"white\", \"minorgridcolor\": \"white\", \"startlinecolor\": \"#2a3f5f\"}, \"baxis\": {\"endlinecolor\": \"#2a3f5f\", \"gridcolor\": \"white\", \"linecolor\": \"white\", \"minorgridcolor\": \"white\", \"startlinecolor\": \"#2a3f5f\"}, \"type\": \"carpet\"}], \"choropleth\": [{\"colorbar\": {\"outlinewidth\": 0, \"ticks\": \"\"}, \"type\": \"choropleth\"}], \"contour\": [{\"colorbar\": {\"outlinewidth\": 0, \"ticks\": \"\"}, \"colorscale\": [[0.0, \"#0d0887\"], [0.1111111111111111, \"#46039f\"], [0.2222222222222222, \"#7201a8\"], [0.3333333333333333, \"#9c179e\"], [0.4444444444444444, \"#bd3786\"], [0.5555555555555556, \"#d8576b\"], [0.6666666666666666, \"#ed7953\"], [0.7777777777777778, \"#fb9f3a\"], [0.8888888888888888, \"#fdca26\"], [1.0, \"#f0f921\"]], \"type\": \"contour\"}], \"contourcarpet\": [{\"colorbar\": {\"outlinewidth\": 0, \"ticks\": \"\"}, \"type\": \"contourcarpet\"}], \"heatmap\": [{\"colorbar\": {\"outlinewidth\": 0, \"ticks\": \"\"}, \"colorscale\": [[0.0, \"#0d0887\"], [0.1111111111111111, \"#46039f\"], [0.2222222222222222, \"#7201a8\"], [0.3333333333333333, \"#9c179e\"], [0.4444444444444444, \"#bd3786\"], [0.5555555555555556, \"#d8576b\"], [0.6666666666666666, \"#ed7953\"], [0.7777777777777778, \"#fb9f3a\"], [0.8888888888888888, \"#fdca26\"], [1.0, \"#f0f921\"]], \"type\": \"heatmap\"}], \"heatmapgl\": [{\"colorbar\": {\"outlinewidth\": 0, \"ticks\": \"\"}, \"colorscale\": [[0.0, \"#0d0887\"], [0.1111111111111111, \"#46039f\"], [0.2222222222222222, \"#7201a8\"], [0.3333333333333333, \"#9c179e\"], [0.4444444444444444, \"#bd3786\"], [0.5555555555555556, \"#d8576b\"], [0.6666666666666666, \"#ed7953\"], [0.7777777777777778, \"#fb9f3a\"], [0.8888888888888888, \"#fdca26\"], [1.0, \"#f0f921\"]], \"type\": \"heatmapgl\"}], \"histogram\": [{\"marker\": {\"colorbar\": {\"outlinewidth\": 0, \"ticks\": \"\"}}, \"type\": \"histogram\"}], \"histogram2d\": [{\"colorbar\": {\"outlinewidth\": 0, \"ticks\": \"\"}, \"colorscale\": [[0.0, \"#0d0887\"], [0.1111111111111111, \"#46039f\"], [0.2222222222222222, \"#7201a8\"], [0.3333333333333333, \"#9c179e\"], [0.4444444444444444, \"#bd3786\"], [0.5555555555555556, \"#d8576b\"], [0.6666666666666666, \"#ed7953\"], [0.7777777777777778, \"#fb9f3a\"], [0.8888888888888888, \"#fdca26\"], [1.0, \"#f0f921\"]], \"type\": \"histogram2d\"}], \"histogram2dcontour\": [{\"colorbar\": {\"outlinewidth\": 0, \"ticks\": \"\"}, \"colorscale\": [[0.0, \"#0d0887\"], [0.1111111111111111, \"#46039f\"], [0.2222222222222222, \"#7201a8\"], [0.3333333333333333, \"#9c179e\"], [0.4444444444444444, \"#bd3786\"], [0.5555555555555556, \"#d8576b\"], [0.6666666666666666, \"#ed7953\"], [0.7777777777777778, \"#fb9f3a\"], [0.8888888888888888, \"#fdca26\"], [1.0, \"#f0f921\"]], \"type\": \"histogram2dcontour\"}], \"mesh3d\": [{\"colorbar\": {\"outlinewidth\": 0, \"ticks\": \"\"}, \"type\": \"mesh3d\"}], \"parcoords\": [{\"line\": {\"colorbar\": {\"outlinewidth\": 0, \"ticks\": \"\"}}, \"type\": \"parcoords\"}], \"pie\": [{\"automargin\": true, \"type\": \"pie\"}], \"scatter\": [{\"marker\": {\"colorbar\": {\"outlinewidth\": 0, \"ticks\": \"\"}}, \"type\": \"scatter\"}], \"scatter3d\": [{\"line\": {\"colorbar\": {\"outlinewidth\": 0, \"ticks\": \"\"}}, \"marker\": {\"colorbar\": {\"outlinewidth\": 0, \"ticks\": \"\"}}, \"type\": \"scatter3d\"}], \"scattercarpet\": [{\"marker\": {\"colorbar\": {\"outlinewidth\": 0, \"ticks\": \"\"}}, \"type\": \"scattercarpet\"}], \"scattergeo\": [{\"marker\": {\"colorbar\": {\"outlinewidth\": 0, \"ticks\": \"\"}}, \"type\": \"scattergeo\"}], \"scattergl\": [{\"marker\": {\"colorbar\": {\"outlinewidth\": 0, \"ticks\": \"\"}}, \"type\": \"scattergl\"}], \"scattermapbox\": [{\"marker\": {\"colorbar\": {\"outlinewidth\": 0, \"ticks\": \"\"}}, \"type\": \"scattermapbox\"}], \"scatterpolar\": [{\"marker\": {\"colorbar\": {\"outlinewidth\": 0, \"ticks\": \"\"}}, \"type\": \"scatterpolar\"}], \"scatterpolargl\": [{\"marker\": {\"colorbar\": {\"outlinewidth\": 0, \"ticks\": \"\"}}, \"type\": \"scatterpolargl\"}], \"scatterternary\": [{\"marker\": {\"colorbar\": {\"outlinewidth\": 0, \"ticks\": \"\"}}, \"type\": \"scatterternary\"}], \"surface\": [{\"colorbar\": {\"outlinewidth\": 0, \"ticks\": \"\"}, \"colorscale\": [[0.0, \"#0d0887\"], [0.1111111111111111, \"#46039f\"], [0.2222222222222222, \"#7201a8\"], [0.3333333333333333, \"#9c179e\"], [0.4444444444444444, \"#bd3786\"], [0.5555555555555556, \"#d8576b\"], [0.6666666666666666, \"#ed7953\"], [0.7777777777777778, \"#fb9f3a\"], [0.8888888888888888, \"#fdca26\"], [1.0, \"#f0f921\"]], \"type\": \"surface\"}], \"table\": [{\"cells\": {\"fill\": {\"color\": \"#EBF0F8\"}, \"line\": {\"color\": \"white\"}}, \"header\": {\"fill\": {\"color\": \"#C8D4E3\"}, \"line\": {\"color\": \"white\"}}, \"type\": \"table\"}]}, \"layout\": {\"annotationdefaults\": {\"arrowcolor\": \"#2a3f5f\", \"arrowhead\": 0, \"arrowwidth\": 1}, \"autotypenumbers\": \"strict\", \"coloraxis\": {\"colorbar\": {\"outlinewidth\": 0, \"ticks\": \"\"}}, \"colorscale\": {\"diverging\": [[0, \"#8e0152\"], [0.1, \"#c51b7d\"], [0.2, \"#de77ae\"], [0.3, \"#f1b6da\"], [0.4, \"#fde0ef\"], [0.5, \"#f7f7f7\"], [0.6, \"#e6f5d0\"], [0.7, \"#b8e186\"], [0.8, \"#7fbc41\"], [0.9, \"#4d9221\"], [1, \"#276419\"]], \"sequential\": [[0.0, \"#0d0887\"], [0.1111111111111111, \"#46039f\"], [0.2222222222222222, \"#7201a8\"], [0.3333333333333333, \"#9c179e\"], [0.4444444444444444, \"#bd3786\"], [0.5555555555555556, \"#d8576b\"], [0.6666666666666666, \"#ed7953\"], [0.7777777777777778, \"#fb9f3a\"], [0.8888888888888888, \"#fdca26\"], [1.0, \"#f0f921\"]], \"sequentialminus\": [[0.0, \"#0d0887\"], [0.1111111111111111, \"#46039f\"], [0.2222222222222222, \"#7201a8\"], [0.3333333333333333, \"#9c179e\"], [0.4444444444444444, \"#bd3786\"], [0.5555555555555556, \"#d8576b\"], [0.6666666666666666, \"#ed7953\"], [0.7777777777777778, \"#fb9f3a\"], [0.8888888888888888, \"#fdca26\"], [1.0, \"#f0f921\"]]}, \"colorway\": [\"#636efa\", \"#EF553B\", \"#00cc96\", \"#ab63fa\", \"#FFA15A\", \"#19d3f3\", \"#FF6692\", \"#B6E880\", \"#FF97FF\", \"#FECB52\"], \"font\": {\"color\": \"#2a3f5f\"}, \"geo\": {\"bgcolor\": \"white\", \"lakecolor\": \"white\", \"landcolor\": \"#E5ECF6\", \"showlakes\": true, \"showland\": true, \"subunitcolor\": \"white\"}, \"hoverlabel\": {\"align\": \"left\"}, \"hovermode\": \"closest\", \"mapbox\": {\"style\": \"light\"}, \"paper_bgcolor\": \"white\", \"plot_bgcolor\": \"#E5ECF6\", \"polar\": {\"angularaxis\": {\"gridcolor\": \"white\", \"linecolor\": \"white\", \"ticks\": \"\"}, \"bgcolor\": \"#E5ECF6\", \"radialaxis\": {\"gridcolor\": \"white\", \"linecolor\": \"white\", \"ticks\": \"\"}}, \"scene\": {\"xaxis\": {\"backgroundcolor\": \"#E5ECF6\", \"gridcolor\": \"white\", \"gridwidth\": 2, \"linecolor\": \"white\", \"showbackground\": true, \"ticks\": \"\", \"zerolinecolor\": \"white\"}, \"yaxis\": {\"backgroundcolor\": \"#E5ECF6\", \"gridcolor\": \"white\", \"gridwidth\": 2, \"linecolor\": \"white\", \"showbackground\": true, \"ticks\": \"\", \"zerolinecolor\": \"white\"}, \"zaxis\": {\"backgroundcolor\": \"#E5ECF6\", \"gridcolor\": \"white\", \"gridwidth\": 2, \"linecolor\": \"white\", \"showbackground\": true, \"ticks\": \"\", \"zerolinecolor\": \"white\"}}, \"shapedefaults\": {\"line\": {\"color\": \"#2a3f5f\"}}, \"ternary\": {\"aaxis\": {\"gridcolor\": \"white\", \"linecolor\": \"white\", \"ticks\": \"\"}, \"baxis\": {\"gridcolor\": \"white\", \"linecolor\": \"white\", \"ticks\": \"\"}, \"bgcolor\": \"#E5ECF6\", \"caxis\": {\"gridcolor\": \"white\", \"linecolor\": \"white\", \"ticks\": \"\"}}, \"title\": {\"x\": 0.05}, \"xaxis\": {\"automargin\": true, \"gridcolor\": \"white\", \"linecolor\": \"white\", \"ticks\": \"\", \"title\": {\"standoff\": 15}, \"zerolinecolor\": \"white\", \"zerolinewidth\": 2}, \"yaxis\": {\"automargin\": true, \"gridcolor\": \"white\", \"linecolor\": \"white\", \"ticks\": \"\", \"title\": {\"standoff\": 15}, \"zerolinecolor\": \"white\", \"zerolinewidth\": 2}}}, \"title\": {\"text\": \"Longest and shortest flight path within the USA\"}},                        {\"responsive\": true}                    ).then(function(){\n",
       "                            \n",
       "var gd = document.getElementById('9b4a73e0-7a84-40d5-ae9d-a14f2d647a98');\n",
       "var x = new MutationObserver(function (mutations, observer) {{\n",
       "        var display = window.getComputedStyle(gd).display;\n",
       "        if (!display || display === 'none') {{\n",
       "            console.log([gd, 'removed!']);\n",
       "            Plotly.purge(gd);\n",
       "            observer.disconnect();\n",
       "        }}\n",
       "}});\n",
       "\n",
       "// Listen for the removal of the full notebook cells\n",
       "var notebookContainer = gd.closest('#notebook-container');\n",
       "if (notebookContainer) {{\n",
       "    x.observe(notebookContainer, {childList: true});\n",
       "}}\n",
       "\n",
       "// Listen for the clearing of the current output cell\n",
       "var outputEl = gd.closest('.output');\n",
       "if (outputEl) {{\n",
       "    x.observe(outputEl, {childList: true});\n",
       "}}\n",
       "\n",
       "                        })                };                });            </script>        </div>"
      ]
     },
     "metadata": {},
     "output_type": "display_data"
    }
   ],
   "source": [
    "df = pd.read_csv('longestFlight.csv')\n",
    "df2 = pd.read_csv('shortestFlight.csv')\n",
    "\n",
    "fig = go.Figure()\n",
    "\n",
    "fig.add_trace(go.Scattergeo(\n",
    "    lat = df['lat'],\n",
    "    lon = df['long'],\n",
    "    mode = 'lines',\n",
    "    line = dict(width = 2, color = 'blue'),\n",
    "))\n",
    "\n",
    "fig.add_trace(go.Scattergeo(\n",
    "    lat = df2['lat'],\n",
    "    lon = df2['long'],\n",
    "    mode = 'lines',\n",
    "    line = dict(width = 2, color = 'red'),\n",
    "))\n",
    "\n",
    "fig.update_layout(\n",
    "    title_text = 'Longest and shortest flight path within the USA',\n",
    "    showlegend = False,\n",
    "    geo = dict(\n",
    "        resolution = 50,\n",
    "        showlakes = False,\n",
    "        landcolor = 'rgb(204, 204, 204)',\n",
    "        countrycolor = 'rgb(204, 204, 204)',\n",
    "        lakecolor = 'rgb(255, 255, 255)',\n",
    "        projection_type = \"equirectangular\",\n",
    "        coastlinewidth = 2,\n",
    "        lataxis = dict(\n",
    "            range = [48, 16],\n",
    "            showgrid = True,\n",
    "            dtick = 10\n",
    "        ),\n",
    "        lonaxis = dict(\n",
    "            range = [-160, -60],\n",
    "            showgrid = True,\n",
    "            dtick = 20\n",
    "        ),\n",
    "   )\n",
    ")\n",
    "\n",
    "fig.show()"
   ]
  },
  {
   "cell_type": "code",
   "execution_count": null,
   "metadata": {},
   "outputs": [],
   "source": []
  }
 ],
 "metadata": {
  "kernelspec": {
   "display_name": "Python 3",
   "language": "python",
   "name": "python3"
  },
  "language_info": {
   "codemirror_mode": {
    "name": "ipython",
    "version": 3
   },
   "file_extension": ".py",
   "mimetype": "text/x-python",
   "name": "python",
   "nbconvert_exporter": "python",
   "pygments_lexer": "ipython3",
   "version": "3.7.4"
  }
 },
 "nbformat": 4,
 "nbformat_minor": 2
}
